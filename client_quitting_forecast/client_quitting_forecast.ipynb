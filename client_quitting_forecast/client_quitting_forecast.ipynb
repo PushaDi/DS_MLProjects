{
 "cells": [
  {
   "cell_type": "markdown",
   "metadata": {
    "toc": true
   },
   "source": [
    "<h1>Содержание<span class=\"tocSkip\"></span></h1>\n",
    "<div class=\"toc\"><ul class=\"toc-item\"><li><span><a href=\"#Подготовка-данных\" data-toc-modified-id=\"Подготовка-данных-1\"><span class=\"toc-item-num\">1&nbsp;&nbsp;</span>Подготовка данных</a></span><ul class=\"toc-item\"><li><span><a href=\"#Обработка-пропусков\" data-toc-modified-id=\"Обработка-пропусков-1.1\"><span class=\"toc-item-num\">1.1&nbsp;&nbsp;</span>Обработка пропусков</a></span></li><li><span><a href=\"#Изменение-типа-данных\" data-toc-modified-id=\"Изменение-типа-данных-1.2\"><span class=\"toc-item-num\">1.2&nbsp;&nbsp;</span>Изменение типа данных</a></span></li><li><span><a href=\"#Разбиение-на-выборки.\" data-toc-modified-id=\"Разбиение-на-выборки.-1.3\"><span class=\"toc-item-num\">1.3&nbsp;&nbsp;</span>Разбиение на выборки.</a></span></li><li><span><a href=\"#Подготовка-признаков\" data-toc-modified-id=\"Подготовка-признаков-1.4\"><span class=\"toc-item-num\">1.4&nbsp;&nbsp;</span>Подготовка признаков</a></span></li><li><span><a href=\"#Масштабирование-количественных-признаков\" data-toc-modified-id=\"Масштабирование-количественных-признаков-1.5\"><span class=\"toc-item-num\">1.5&nbsp;&nbsp;</span>Масштабирование количественных признаков</a></span></li></ul></li><li><span><a href=\"#Исследование-задачи\" data-toc-modified-id=\"Исследование-задачи-2\"><span class=\"toc-item-num\">2&nbsp;&nbsp;</span>Исследование задачи</a></span><ul class=\"toc-item\"><li><span><a href=\"#Исследование-баланса-классов\" data-toc-modified-id=\"Исследование-баланса-классов-2.1\"><span class=\"toc-item-num\">2.1&nbsp;&nbsp;</span>Исследование баланса классов</a></span></li><li><span><a href=\"#Изучение-моделей-без-учета-дисбаланса\" data-toc-modified-id=\"Изучение-моделей-без-учета-дисбаланса-2.2\"><span class=\"toc-item-num\">2.2&nbsp;&nbsp;</span>Изучение моделей без учета дисбаланса</a></span><ul class=\"toc-item\"><li><span><a href=\"#Логистическая-регрессия\" data-toc-modified-id=\"Логистическая-регрессия-2.2.1\"><span class=\"toc-item-num\">2.2.1&nbsp;&nbsp;</span>Логистическая регрессия</a></span></li><li><span><a href=\"#Модель-решающего-дерева\" data-toc-modified-id=\"Модель-решающего-дерева-2.2.2\"><span class=\"toc-item-num\">2.2.2&nbsp;&nbsp;</span>Модель решающего дерева</a></span></li><li><span><a href=\"#Модель-случайного-леса\" data-toc-modified-id=\"Модель-случайного-леса-2.2.3\"><span class=\"toc-item-num\">2.2.3&nbsp;&nbsp;</span>Модель случайного леса</a></span></li></ul></li><li><span><a href=\"#Итоги-исследования\" data-toc-modified-id=\"Итоги-исследования-2.3\"><span class=\"toc-item-num\">2.3&nbsp;&nbsp;</span>Итоги исследования</a></span></li></ul></li><li><span><a href=\"#Борьба-с-дисбалансом\" data-toc-modified-id=\"Борьба-с-дисбалансом-3\"><span class=\"toc-item-num\">3&nbsp;&nbsp;</span>Борьба с дисбалансом</a></span><ul class=\"toc-item\"><li><span><a href=\"#Придание-веса-редкому-классу\" data-toc-modified-id=\"Придание-веса-редкому-классу-3.1\"><span class=\"toc-item-num\">3.1&nbsp;&nbsp;</span>Придание веса редкому классу</a></span><ul class=\"toc-item\"><li><span><a href=\"#Логистическая-регрессия\" data-toc-modified-id=\"Логистическая-регрессия-3.1.1\"><span class=\"toc-item-num\">3.1.1&nbsp;&nbsp;</span>Логистическая регрессия</a></span></li><li><span><a href=\"#Решающее-дерево\" data-toc-modified-id=\"Решающее-дерево-3.1.2\"><span class=\"toc-item-num\">3.1.2&nbsp;&nbsp;</span>Решающее дерево</a></span></li><li><span><a href=\"#Случайный-лес\" data-toc-modified-id=\"Случайный-лес-3.1.3\"><span class=\"toc-item-num\">3.1.3&nbsp;&nbsp;</span>Случайный лес</a></span></li><li><span><a href=\"#Промежуточный-вывод\" data-toc-modified-id=\"Промежуточный-вывод-3.1.4\"><span class=\"toc-item-num\">3.1.4&nbsp;&nbsp;</span>Промежуточный вывод</a></span></li></ul></li><li><span><a href=\"#Увеличение-выборки\" data-toc-modified-id=\"Увеличение-выборки-3.2\"><span class=\"toc-item-num\">3.2&nbsp;&nbsp;</span>Увеличение выборки</a></span><ul class=\"toc-item\"><li><span><a href=\"#Логистическая-регрессия\" data-toc-modified-id=\"Логистическая-регрессия-3.2.1\"><span class=\"toc-item-num\">3.2.1&nbsp;&nbsp;</span>Логистическая регрессия</a></span></li><li><span><a href=\"#Решающее-дерево\" data-toc-modified-id=\"Решающее-дерево-3.2.2\"><span class=\"toc-item-num\">3.2.2&nbsp;&nbsp;</span>Решающее дерево</a></span></li><li><span><a href=\"#Случайный-лес\" data-toc-modified-id=\"Случайный-лес-3.2.3\"><span class=\"toc-item-num\">3.2.3&nbsp;&nbsp;</span>Случайный лес</a></span></li><li><span><a href=\"#Промежуточный-вывод\" data-toc-modified-id=\"Промежуточный-вывод-3.2.4\"><span class=\"toc-item-num\">3.2.4&nbsp;&nbsp;</span>Промежуточный вывод</a></span></li></ul></li><li><span><a href=\"#Уменьшение-выборки\" data-toc-modified-id=\"Уменьшение-выборки-3.3\"><span class=\"toc-item-num\">3.3&nbsp;&nbsp;</span>Уменьшение выборки</a></span><ul class=\"toc-item\"><li><span><a href=\"#Логистическая-регрессия\" data-toc-modified-id=\"Логистическая-регрессия-3.3.1\"><span class=\"toc-item-num\">3.3.1&nbsp;&nbsp;</span>Логистическая регрессия</a></span></li><li><span><a href=\"#Решающее-дерево\" data-toc-modified-id=\"Решающее-дерево-3.3.2\"><span class=\"toc-item-num\">3.3.2&nbsp;&nbsp;</span>Решающее дерево</a></span></li><li><span><a href=\"#Случайный-лес\" data-toc-modified-id=\"Случайный-лес-3.3.3\"><span class=\"toc-item-num\">3.3.3&nbsp;&nbsp;</span>Случайный лес</a></span></li><li><span><a href=\"#Промежуточный-вывод\" data-toc-modified-id=\"Промежуточный-вывод-3.3.4\"><span class=\"toc-item-num\">3.3.4&nbsp;&nbsp;</span>Промежуточный вывод</a></span></li></ul></li><li><span><a href=\"#Вывод\" data-toc-modified-id=\"Вывод-3.4\"><span class=\"toc-item-num\">3.4&nbsp;&nbsp;</span>Вывод</a></span></li></ul></li><li><span><a href=\"#Тестирование-модели\" data-toc-modified-id=\"Тестирование-модели-4\"><span class=\"toc-item-num\">4&nbsp;&nbsp;</span>Тестирование модели</a></span></li><li><span><a href=\"#Выводы-по-проекту\" data-toc-modified-id=\"Выводы-по-проекту-5\"><span class=\"toc-item-num\">5&nbsp;&nbsp;</span>Выводы по проекту</a></span></li><li><span><a href=\"#Чек-лист-готовности-проекта\" data-toc-modified-id=\"Чек-лист-готовности-проекта-6\"><span class=\"toc-item-num\">6&nbsp;&nbsp;</span>Чек-лист готовности проекта</a></span></li><li><span><a href=\"#Общий-вывод-по-проекту\" data-toc-modified-id=\"Общий-вывод-по-проекту-7\"><span class=\"toc-item-num\">7&nbsp;&nbsp;</span><b>Общий вывод по проекту</b></a></span></li><li><span><a href=\"#Общий-вывод-по-проекту-В2\" data-toc-modified-id=\"Общий-вывод-по-проекту-В2-8\"><span class=\"toc-item-num\">8&nbsp;&nbsp;</span><b>Общий вывод по проекту В2</b></a></span></li></ul></div>"
   ]
  },
  {
   "cell_type": "markdown",
   "metadata": {},
   "source": [
    "# Отток клиентов"
   ]
  },
  {
   "cell_type": "markdown",
   "metadata": {},
   "source": [
    "# План работы"
   ]
  },
  {
   "cell_type": "markdown",
   "metadata": {},
   "source": [
    "Для выполнения данной работы необходимо выполнить следующие шаги:\n",
    "- импортировать данные и выполнить первичный анализ:\n",
    "  - проверить данные на пропуски, при возможности заполнить имеющиеся\n",
    "  - проверить тип данных, при необходимости изменить тип\n",
    "- подготовить признаки:\n",
    "  - обработать качественные признаки:\n",
    "    1. применить прямое кодирование (One-hot-encoding, OHE) и получить dummy-признаки\n",
    "    2. применить порядковое кодирование (Ordinal Encoding), если есть необходимость\n",
    "  - стандартизировать количественные признаки\n",
    "- обучить модели на несбалансированных данных, оценить точность\n",
    "- изучить дисбаланс классов\n",
    "- избавиться от дисбаланса одним из способов:\n",
    "  1. увеличение выборки (upsampling)\n",
    "  2. уменьшение выборки (downsampling)\n",
    "- обучить модели на сбалансированных данных, подобрать наилучшую модель\n",
    "- подобрать оптимальные гиперпараметры модели с помощью валидационной выборки\n",
    "- протестировать модель на тестовой выборке"
   ]
  },
  {
   "cell_type": "code",
   "execution_count": 1,
   "metadata": {},
   "outputs": [],
   "source": [
    "import pandas as pd\n",
    "import numpy as np\n",
    "\n",
    "from sklearn.preprocessing import StandardScaler, LabelEncoder, OneHotEncoder\n",
    "from sklearn.model_selection import train_test_split, RandomizedSearchCV\n",
    "from sklearn.utils import compute_class_weight, shuffle\n",
    "\n",
    "from sklearn.linear_model import LogisticRegression\n",
    "from sklearn.tree import DecisionTreeClassifier\n",
    "from sklearn.ensemble import RandomForestClassifier\n",
    "\n",
    "from sklearn.metrics import roc_auc_score, f1_score\n"
   ]
  },
  {
   "cell_type": "markdown",
   "metadata": {},
   "source": [
    "## Подготовка данных"
   ]
  },
  {
   "cell_type": "markdown",
   "metadata": {},
   "source": [
    "Загрузим исходные данные и рассмотрим их."
   ]
  },
  {
   "cell_type": "code",
   "execution_count": 2,
   "metadata": {},
   "outputs": [
    {
     "name": "stdout",
     "output_type": "stream",
     "text": [
      "<class 'pandas.core.frame.DataFrame'>\n",
      "RangeIndex: 10000 entries, 0 to 9999\n",
      "Data columns (total 14 columns):\n",
      " #   Column           Non-Null Count  Dtype  \n",
      "---  ------           --------------  -----  \n",
      " 0   RowNumber        10000 non-null  int64  \n",
      " 1   CustomerId       10000 non-null  int64  \n",
      " 2   Surname          10000 non-null  object \n",
      " 3   CreditScore      10000 non-null  int64  \n",
      " 4   Geography        10000 non-null  object \n",
      " 5   Gender           10000 non-null  object \n",
      " 6   Age              10000 non-null  int64  \n",
      " 7   Tenure           9091 non-null   float64\n",
      " 8   Balance          10000 non-null  float64\n",
      " 9   NumOfProducts    10000 non-null  int64  \n",
      " 10  HasCrCard        10000 non-null  int64  \n",
      " 11  IsActiveMember   10000 non-null  int64  \n",
      " 12  EstimatedSalary  10000 non-null  float64\n",
      " 13  Exited           10000 non-null  int64  \n",
      "dtypes: float64(3), int64(8), object(3)\n",
      "memory usage: 1.1+ MB\n",
      "None\n",
      "(10000, 14)\n"
     ]
    }
   ],
   "source": [
    "data = pd.read_csv('/datasets/Churn.csv')\n",
    "print(data.info())\n",
    "print(data.shape)"
   ]
  },
  {
   "cell_type": "code",
   "execution_count": 3,
   "metadata": {},
   "outputs": [
    {
     "data": {
      "text/html": [
       "<div>\n",
       "<style scoped>\n",
       "    .dataframe tbody tr th:only-of-type {\n",
       "        vertical-align: middle;\n",
       "    }\n",
       "\n",
       "    .dataframe tbody tr th {\n",
       "        vertical-align: top;\n",
       "    }\n",
       "\n",
       "    .dataframe thead th {\n",
       "        text-align: right;\n",
       "    }\n",
       "</style>\n",
       "<table border=\"1\" class=\"dataframe\">\n",
       "  <thead>\n",
       "    <tr style=\"text-align: right;\">\n",
       "      <th></th>\n",
       "      <th>RowNumber</th>\n",
       "      <th>CustomerId</th>\n",
       "      <th>Surname</th>\n",
       "      <th>CreditScore</th>\n",
       "      <th>Geography</th>\n",
       "      <th>Gender</th>\n",
       "      <th>Age</th>\n",
       "      <th>Tenure</th>\n",
       "      <th>Balance</th>\n",
       "      <th>NumOfProducts</th>\n",
       "      <th>HasCrCard</th>\n",
       "      <th>IsActiveMember</th>\n",
       "      <th>EstimatedSalary</th>\n",
       "      <th>Exited</th>\n",
       "    </tr>\n",
       "  </thead>\n",
       "  <tbody>\n",
       "    <tr>\n",
       "      <th>0</th>\n",
       "      <td>1</td>\n",
       "      <td>15634602</td>\n",
       "      <td>Hargrave</td>\n",
       "      <td>619</td>\n",
       "      <td>France</td>\n",
       "      <td>Female</td>\n",
       "      <td>42</td>\n",
       "      <td>2.0</td>\n",
       "      <td>0.00</td>\n",
       "      <td>1</td>\n",
       "      <td>1</td>\n",
       "      <td>1</td>\n",
       "      <td>101348.88</td>\n",
       "      <td>1</td>\n",
       "    </tr>\n",
       "    <tr>\n",
       "      <th>1</th>\n",
       "      <td>2</td>\n",
       "      <td>15647311</td>\n",
       "      <td>Hill</td>\n",
       "      <td>608</td>\n",
       "      <td>Spain</td>\n",
       "      <td>Female</td>\n",
       "      <td>41</td>\n",
       "      <td>1.0</td>\n",
       "      <td>83807.86</td>\n",
       "      <td>1</td>\n",
       "      <td>0</td>\n",
       "      <td>1</td>\n",
       "      <td>112542.58</td>\n",
       "      <td>0</td>\n",
       "    </tr>\n",
       "    <tr>\n",
       "      <th>2</th>\n",
       "      <td>3</td>\n",
       "      <td>15619304</td>\n",
       "      <td>Onio</td>\n",
       "      <td>502</td>\n",
       "      <td>France</td>\n",
       "      <td>Female</td>\n",
       "      <td>42</td>\n",
       "      <td>8.0</td>\n",
       "      <td>159660.80</td>\n",
       "      <td>3</td>\n",
       "      <td>1</td>\n",
       "      <td>0</td>\n",
       "      <td>113931.57</td>\n",
       "      <td>1</td>\n",
       "    </tr>\n",
       "    <tr>\n",
       "      <th>3</th>\n",
       "      <td>4</td>\n",
       "      <td>15701354</td>\n",
       "      <td>Boni</td>\n",
       "      <td>699</td>\n",
       "      <td>France</td>\n",
       "      <td>Female</td>\n",
       "      <td>39</td>\n",
       "      <td>1.0</td>\n",
       "      <td>0.00</td>\n",
       "      <td>2</td>\n",
       "      <td>0</td>\n",
       "      <td>0</td>\n",
       "      <td>93826.63</td>\n",
       "      <td>0</td>\n",
       "    </tr>\n",
       "    <tr>\n",
       "      <th>4</th>\n",
       "      <td>5</td>\n",
       "      <td>15737888</td>\n",
       "      <td>Mitchell</td>\n",
       "      <td>850</td>\n",
       "      <td>Spain</td>\n",
       "      <td>Female</td>\n",
       "      <td>43</td>\n",
       "      <td>2.0</td>\n",
       "      <td>125510.82</td>\n",
       "      <td>1</td>\n",
       "      <td>1</td>\n",
       "      <td>1</td>\n",
       "      <td>79084.10</td>\n",
       "      <td>0</td>\n",
       "    </tr>\n",
       "    <tr>\n",
       "      <th>5</th>\n",
       "      <td>6</td>\n",
       "      <td>15574012</td>\n",
       "      <td>Chu</td>\n",
       "      <td>645</td>\n",
       "      <td>Spain</td>\n",
       "      <td>Male</td>\n",
       "      <td>44</td>\n",
       "      <td>8.0</td>\n",
       "      <td>113755.78</td>\n",
       "      <td>2</td>\n",
       "      <td>1</td>\n",
       "      <td>0</td>\n",
       "      <td>149756.71</td>\n",
       "      <td>1</td>\n",
       "    </tr>\n",
       "    <tr>\n",
       "      <th>6</th>\n",
       "      <td>7</td>\n",
       "      <td>15592531</td>\n",
       "      <td>Bartlett</td>\n",
       "      <td>822</td>\n",
       "      <td>France</td>\n",
       "      <td>Male</td>\n",
       "      <td>50</td>\n",
       "      <td>7.0</td>\n",
       "      <td>0.00</td>\n",
       "      <td>2</td>\n",
       "      <td>1</td>\n",
       "      <td>1</td>\n",
       "      <td>10062.80</td>\n",
       "      <td>0</td>\n",
       "    </tr>\n",
       "    <tr>\n",
       "      <th>7</th>\n",
       "      <td>8</td>\n",
       "      <td>15656148</td>\n",
       "      <td>Obinna</td>\n",
       "      <td>376</td>\n",
       "      <td>Germany</td>\n",
       "      <td>Female</td>\n",
       "      <td>29</td>\n",
       "      <td>4.0</td>\n",
       "      <td>115046.74</td>\n",
       "      <td>4</td>\n",
       "      <td>1</td>\n",
       "      <td>0</td>\n",
       "      <td>119346.88</td>\n",
       "      <td>1</td>\n",
       "    </tr>\n",
       "    <tr>\n",
       "      <th>8</th>\n",
       "      <td>9</td>\n",
       "      <td>15792365</td>\n",
       "      <td>He</td>\n",
       "      <td>501</td>\n",
       "      <td>France</td>\n",
       "      <td>Male</td>\n",
       "      <td>44</td>\n",
       "      <td>4.0</td>\n",
       "      <td>142051.07</td>\n",
       "      <td>2</td>\n",
       "      <td>0</td>\n",
       "      <td>1</td>\n",
       "      <td>74940.50</td>\n",
       "      <td>0</td>\n",
       "    </tr>\n",
       "    <tr>\n",
       "      <th>9</th>\n",
       "      <td>10</td>\n",
       "      <td>15592389</td>\n",
       "      <td>H?</td>\n",
       "      <td>684</td>\n",
       "      <td>France</td>\n",
       "      <td>Male</td>\n",
       "      <td>27</td>\n",
       "      <td>2.0</td>\n",
       "      <td>134603.88</td>\n",
       "      <td>1</td>\n",
       "      <td>1</td>\n",
       "      <td>1</td>\n",
       "      <td>71725.73</td>\n",
       "      <td>0</td>\n",
       "    </tr>\n",
       "  </tbody>\n",
       "</table>\n",
       "</div>"
      ],
      "text/plain": [
       "   RowNumber  CustomerId   Surname  CreditScore Geography  Gender  Age  \\\n",
       "0          1    15634602  Hargrave          619    France  Female   42   \n",
       "1          2    15647311      Hill          608     Spain  Female   41   \n",
       "2          3    15619304      Onio          502    France  Female   42   \n",
       "3          4    15701354      Boni          699    France  Female   39   \n",
       "4          5    15737888  Mitchell          850     Spain  Female   43   \n",
       "5          6    15574012       Chu          645     Spain    Male   44   \n",
       "6          7    15592531  Bartlett          822    France    Male   50   \n",
       "7          8    15656148    Obinna          376   Germany  Female   29   \n",
       "8          9    15792365        He          501    France    Male   44   \n",
       "9         10    15592389        H?          684    France    Male   27   \n",
       "\n",
       "   Tenure    Balance  NumOfProducts  HasCrCard  IsActiveMember  \\\n",
       "0     2.0       0.00              1          1               1   \n",
       "1     1.0   83807.86              1          0               1   \n",
       "2     8.0  159660.80              3          1               0   \n",
       "3     1.0       0.00              2          0               0   \n",
       "4     2.0  125510.82              1          1               1   \n",
       "5     8.0  113755.78              2          1               0   \n",
       "6     7.0       0.00              2          1               1   \n",
       "7     4.0  115046.74              4          1               0   \n",
       "8     4.0  142051.07              2          0               1   \n",
       "9     2.0  134603.88              1          1               1   \n",
       "\n",
       "   EstimatedSalary  Exited  \n",
       "0        101348.88       1  \n",
       "1        112542.58       0  \n",
       "2        113931.57       1  \n",
       "3         93826.63       0  \n",
       "4         79084.10       0  \n",
       "5        149756.71       1  \n",
       "6         10062.80       0  \n",
       "7        119346.88       1  \n",
       "8         74940.50       0  \n",
       "9         71725.73       0  "
      ]
     },
     "execution_count": 3,
     "metadata": {},
     "output_type": "execute_result"
    }
   ],
   "source": [
    "data.head(10)"
   ]
  },
  {
   "cell_type": "markdown",
   "metadata": {},
   "source": [
    "Имеется таблица с 10000 тысячами строк и 14 столбцами.\n",
    "Из них только 13 столбцов описывают клиента банка, первый столбец  `RowNumber` представляет из себя порядковый номер строки.\n",
    "В данной задаче целевым признаком является столбец `Exited`, отображающий уход клиента из банка, остальные столбцы будут использованы для прогноза целевого. "
   ]
  },
  {
   "cell_type": "markdown",
   "metadata": {},
   "source": [
    "### Обработка пропусков"
   ]
  },
  {
   "cell_type": "markdown",
   "metadata": {},
   "source": [
    "Рассмотрим информацию о имеющихся данных."
   ]
  },
  {
   "cell_type": "code",
   "execution_count": 4,
   "metadata": {},
   "outputs": [
    {
     "name": "stdout",
     "output_type": "stream",
     "text": [
      "<class 'pandas.core.frame.DataFrame'>\n",
      "RangeIndex: 10000 entries, 0 to 9999\n",
      "Data columns (total 14 columns):\n",
      " #   Column           Non-Null Count  Dtype  \n",
      "---  ------           --------------  -----  \n",
      " 0   RowNumber        10000 non-null  int64  \n",
      " 1   CustomerId       10000 non-null  int64  \n",
      " 2   Surname          10000 non-null  object \n",
      " 3   CreditScore      10000 non-null  int64  \n",
      " 4   Geography        10000 non-null  object \n",
      " 5   Gender           10000 non-null  object \n",
      " 6   Age              10000 non-null  int64  \n",
      " 7   Tenure           9091 non-null   float64\n",
      " 8   Balance          10000 non-null  float64\n",
      " 9   NumOfProducts    10000 non-null  int64  \n",
      " 10  HasCrCard        10000 non-null  int64  \n",
      " 11  IsActiveMember   10000 non-null  int64  \n",
      " 12  EstimatedSalary  10000 non-null  float64\n",
      " 13  Exited           10000 non-null  int64  \n",
      "dtypes: float64(3), int64(8), object(3)\n",
      "memory usage: 1.1+ MB\n"
     ]
    }
   ],
   "source": [
    "data.info()"
   ]
  },
  {
   "cell_type": "markdown",
   "metadata": {},
   "source": [
    "Пропуски присутствуют только в столбце `Tenure`. В данном столбце находится информация о сроке, в течение которого человек является клиентом банка. Эти пропуски составляют практически 10% от общего чилса строк, поэтому удалить такие объекты нецелесообразно.\n",
    "\n",
    "Рассмотрим, какие значения содержатся в данном столбце."
   ]
  },
  {
   "cell_type": "code",
   "execution_count": 5,
   "metadata": {
    "scrolled": false
   },
   "outputs": [
    {
     "data": {
      "text/plain": [
       "count    9091.000000\n",
       "mean        4.997690\n",
       "std         2.894723\n",
       "min         0.000000\n",
       "25%         2.000000\n",
       "50%         5.000000\n",
       "75%         7.000000\n",
       "max        10.000000\n",
       "Name: Tenure, dtype: float64"
      ]
     },
     "execution_count": 5,
     "metadata": {},
     "output_type": "execute_result"
    }
   ],
   "source": [
    "data['Tenure'].describe()"
   ]
  },
  {
   "cell_type": "markdown",
   "metadata": {},
   "source": [
    "Значения в данном столбце находятся в пределах от 0 до 10. При этом, можно заметить, что большинство значений имеет схожее количество появлений в данных. Таким образом, если заполнить пропуски медианным или средним значением, мы сильно увеличим представленность этого значения в таблице.\n",
    "\n",
    "В связи с этим, заполним пропуски с помощью генерации псевдо случайных чисел из промежутка, представленного в данных."
   ]
  },
  {
   "cell_type": "code",
   "execution_count": 6,
   "metadata": {
    "scrolled": true
   },
   "outputs": [
    {
     "data": {
      "text/plain": [
       "count    10000.00000\n",
       "mean         4.98740\n",
       "std          2.91357\n",
       "min          0.00000\n",
       "25%          2.00000\n",
       "50%          5.00000\n",
       "75%          7.00000\n",
       "max         10.00000\n",
       "Name: Tenure, dtype: float64"
      ]
     },
     "execution_count": 6,
     "metadata": {},
     "output_type": "execute_result"
    }
   ],
   "source": [
    "rng = np.random.default_rng(12345)\n",
    "\n",
    "for index, value in data[data['Tenure'].isna()]['Tenure'].iteritems():\n",
    "    random_value = rng.integers(\n",
    "        low=data['Tenure'].min(),\n",
    "        high=data['Tenure'].max(),\n",
    "        endpoint=True\n",
    "    )\n",
    "    data.loc[index, 'Tenure'] = random_value\n",
    "\n",
    "data['Tenure'].describe()"
   ]
  },
  {
   "cell_type": "markdown",
   "metadata": {},
   "source": [
    "Пропусков в данных больше нет, а распределение в столбце с пропусками осталось таким же."
   ]
  },
  {
   "cell_type": "markdown",
   "metadata": {},
   "source": [
    "### Изменение типа данных"
   ]
  },
  {
   "cell_type": "markdown",
   "metadata": {},
   "source": [
    "Рассмотрим типы данных в столбцах."
   ]
  },
  {
   "cell_type": "code",
   "execution_count": 7,
   "metadata": {},
   "outputs": [
    {
     "data": {
      "text/plain": [
       "RowNumber            int64\n",
       "CustomerId           int64\n",
       "Surname             object\n",
       "CreditScore          int64\n",
       "Geography           object\n",
       "Gender              object\n",
       "Age                  int64\n",
       "Tenure             float64\n",
       "Balance            float64\n",
       "NumOfProducts        int64\n",
       "HasCrCard            int64\n",
       "IsActiveMember       int64\n",
       "EstimatedSalary    float64\n",
       "Exited               int64\n",
       "dtype: object"
      ]
     },
     "execution_count": 7,
     "metadata": {},
     "output_type": "execute_result"
    }
   ],
   "source": [
    "data.dtypes"
   ]
  },
  {
   "cell_type": "code",
   "execution_count": 8,
   "metadata": {},
   "outputs": [
    {
     "data": {
      "text/html": [
       "<div>\n",
       "<style scoped>\n",
       "    .dataframe tbody tr th:only-of-type {\n",
       "        vertical-align: middle;\n",
       "    }\n",
       "\n",
       "    .dataframe tbody tr th {\n",
       "        vertical-align: top;\n",
       "    }\n",
       "\n",
       "    .dataframe thead th {\n",
       "        text-align: right;\n",
       "    }\n",
       "</style>\n",
       "<table border=\"1\" class=\"dataframe\">\n",
       "  <thead>\n",
       "    <tr style=\"text-align: right;\">\n",
       "      <th></th>\n",
       "      <th>RowNumber</th>\n",
       "      <th>CustomerId</th>\n",
       "      <th>Surname</th>\n",
       "      <th>CreditScore</th>\n",
       "      <th>Geography</th>\n",
       "      <th>Gender</th>\n",
       "      <th>Age</th>\n",
       "      <th>Tenure</th>\n",
       "      <th>Balance</th>\n",
       "      <th>NumOfProducts</th>\n",
       "      <th>HasCrCard</th>\n",
       "      <th>IsActiveMember</th>\n",
       "      <th>EstimatedSalary</th>\n",
       "      <th>Exited</th>\n",
       "    </tr>\n",
       "  </thead>\n",
       "  <tbody>\n",
       "    <tr>\n",
       "      <th>0</th>\n",
       "      <td>1</td>\n",
       "      <td>15634602</td>\n",
       "      <td>Hargrave</td>\n",
       "      <td>619</td>\n",
       "      <td>France</td>\n",
       "      <td>Female</td>\n",
       "      <td>42</td>\n",
       "      <td>2.0</td>\n",
       "      <td>0.00</td>\n",
       "      <td>1</td>\n",
       "      <td>1</td>\n",
       "      <td>1</td>\n",
       "      <td>101348.88</td>\n",
       "      <td>1</td>\n",
       "    </tr>\n",
       "    <tr>\n",
       "      <th>1</th>\n",
       "      <td>2</td>\n",
       "      <td>15647311</td>\n",
       "      <td>Hill</td>\n",
       "      <td>608</td>\n",
       "      <td>Spain</td>\n",
       "      <td>Female</td>\n",
       "      <td>41</td>\n",
       "      <td>1.0</td>\n",
       "      <td>83807.86</td>\n",
       "      <td>1</td>\n",
       "      <td>0</td>\n",
       "      <td>1</td>\n",
       "      <td>112542.58</td>\n",
       "      <td>0</td>\n",
       "    </tr>\n",
       "    <tr>\n",
       "      <th>2</th>\n",
       "      <td>3</td>\n",
       "      <td>15619304</td>\n",
       "      <td>Onio</td>\n",
       "      <td>502</td>\n",
       "      <td>France</td>\n",
       "      <td>Female</td>\n",
       "      <td>42</td>\n",
       "      <td>8.0</td>\n",
       "      <td>159660.80</td>\n",
       "      <td>3</td>\n",
       "      <td>1</td>\n",
       "      <td>0</td>\n",
       "      <td>113931.57</td>\n",
       "      <td>1</td>\n",
       "    </tr>\n",
       "    <tr>\n",
       "      <th>3</th>\n",
       "      <td>4</td>\n",
       "      <td>15701354</td>\n",
       "      <td>Boni</td>\n",
       "      <td>699</td>\n",
       "      <td>France</td>\n",
       "      <td>Female</td>\n",
       "      <td>39</td>\n",
       "      <td>1.0</td>\n",
       "      <td>0.00</td>\n",
       "      <td>2</td>\n",
       "      <td>0</td>\n",
       "      <td>0</td>\n",
       "      <td>93826.63</td>\n",
       "      <td>0</td>\n",
       "    </tr>\n",
       "    <tr>\n",
       "      <th>4</th>\n",
       "      <td>5</td>\n",
       "      <td>15737888</td>\n",
       "      <td>Mitchell</td>\n",
       "      <td>850</td>\n",
       "      <td>Spain</td>\n",
       "      <td>Female</td>\n",
       "      <td>43</td>\n",
       "      <td>2.0</td>\n",
       "      <td>125510.82</td>\n",
       "      <td>1</td>\n",
       "      <td>1</td>\n",
       "      <td>1</td>\n",
       "      <td>79084.10</td>\n",
       "      <td>0</td>\n",
       "    </tr>\n",
       "    <tr>\n",
       "      <th>5</th>\n",
       "      <td>6</td>\n",
       "      <td>15574012</td>\n",
       "      <td>Chu</td>\n",
       "      <td>645</td>\n",
       "      <td>Spain</td>\n",
       "      <td>Male</td>\n",
       "      <td>44</td>\n",
       "      <td>8.0</td>\n",
       "      <td>113755.78</td>\n",
       "      <td>2</td>\n",
       "      <td>1</td>\n",
       "      <td>0</td>\n",
       "      <td>149756.71</td>\n",
       "      <td>1</td>\n",
       "    </tr>\n",
       "    <tr>\n",
       "      <th>6</th>\n",
       "      <td>7</td>\n",
       "      <td>15592531</td>\n",
       "      <td>Bartlett</td>\n",
       "      <td>822</td>\n",
       "      <td>France</td>\n",
       "      <td>Male</td>\n",
       "      <td>50</td>\n",
       "      <td>7.0</td>\n",
       "      <td>0.00</td>\n",
       "      <td>2</td>\n",
       "      <td>1</td>\n",
       "      <td>1</td>\n",
       "      <td>10062.80</td>\n",
       "      <td>0</td>\n",
       "    </tr>\n",
       "    <tr>\n",
       "      <th>7</th>\n",
       "      <td>8</td>\n",
       "      <td>15656148</td>\n",
       "      <td>Obinna</td>\n",
       "      <td>376</td>\n",
       "      <td>Germany</td>\n",
       "      <td>Female</td>\n",
       "      <td>29</td>\n",
       "      <td>4.0</td>\n",
       "      <td>115046.74</td>\n",
       "      <td>4</td>\n",
       "      <td>1</td>\n",
       "      <td>0</td>\n",
       "      <td>119346.88</td>\n",
       "      <td>1</td>\n",
       "    </tr>\n",
       "    <tr>\n",
       "      <th>8</th>\n",
       "      <td>9</td>\n",
       "      <td>15792365</td>\n",
       "      <td>He</td>\n",
       "      <td>501</td>\n",
       "      <td>France</td>\n",
       "      <td>Male</td>\n",
       "      <td>44</td>\n",
       "      <td>4.0</td>\n",
       "      <td>142051.07</td>\n",
       "      <td>2</td>\n",
       "      <td>0</td>\n",
       "      <td>1</td>\n",
       "      <td>74940.50</td>\n",
       "      <td>0</td>\n",
       "    </tr>\n",
       "    <tr>\n",
       "      <th>9</th>\n",
       "      <td>10</td>\n",
       "      <td>15592389</td>\n",
       "      <td>H?</td>\n",
       "      <td>684</td>\n",
       "      <td>France</td>\n",
       "      <td>Male</td>\n",
       "      <td>27</td>\n",
       "      <td>2.0</td>\n",
       "      <td>134603.88</td>\n",
       "      <td>1</td>\n",
       "      <td>1</td>\n",
       "      <td>1</td>\n",
       "      <td>71725.73</td>\n",
       "      <td>0</td>\n",
       "    </tr>\n",
       "  </tbody>\n",
       "</table>\n",
       "</div>"
      ],
      "text/plain": [
       "   RowNumber  CustomerId   Surname  CreditScore Geography  Gender  Age  \\\n",
       "0          1    15634602  Hargrave          619    France  Female   42   \n",
       "1          2    15647311      Hill          608     Spain  Female   41   \n",
       "2          3    15619304      Onio          502    France  Female   42   \n",
       "3          4    15701354      Boni          699    France  Female   39   \n",
       "4          5    15737888  Mitchell          850     Spain  Female   43   \n",
       "5          6    15574012       Chu          645     Spain    Male   44   \n",
       "6          7    15592531  Bartlett          822    France    Male   50   \n",
       "7          8    15656148    Obinna          376   Germany  Female   29   \n",
       "8          9    15792365        He          501    France    Male   44   \n",
       "9         10    15592389        H?          684    France    Male   27   \n",
       "\n",
       "   Tenure    Balance  NumOfProducts  HasCrCard  IsActiveMember  \\\n",
       "0     2.0       0.00              1          1               1   \n",
       "1     1.0   83807.86              1          0               1   \n",
       "2     8.0  159660.80              3          1               0   \n",
       "3     1.0       0.00              2          0               0   \n",
       "4     2.0  125510.82              1          1               1   \n",
       "5     8.0  113755.78              2          1               0   \n",
       "6     7.0       0.00              2          1               1   \n",
       "7     4.0  115046.74              4          1               0   \n",
       "8     4.0  142051.07              2          0               1   \n",
       "9     2.0  134603.88              1          1               1   \n",
       "\n",
       "   EstimatedSalary  Exited  \n",
       "0        101348.88       1  \n",
       "1        112542.58       0  \n",
       "2        113931.57       1  \n",
       "3         93826.63       0  \n",
       "4         79084.10       0  \n",
       "5        149756.71       1  \n",
       "6         10062.80       0  \n",
       "7        119346.88       1  \n",
       "8         74940.50       0  \n",
       "9         71725.73       0  "
      ]
     },
     "execution_count": 8,
     "metadata": {},
     "output_type": "execute_result"
    }
   ],
   "source": [
    "data.head(10)"
   ]
  },
  {
   "cell_type": "markdown",
   "metadata": {},
   "source": [
    "Из всех типов, можно заменить тип в строке `Tenure` (срок, в течение которого клиент является или являлся клиентом банка) на `int64`."
   ]
  },
  {
   "cell_type": "code",
   "execution_count": 9,
   "metadata": {},
   "outputs": [
    {
     "data": {
      "text/plain": [
       "RowNumber            int64\n",
       "CustomerId           int64\n",
       "Surname             object\n",
       "CreditScore          int64\n",
       "Geography           object\n",
       "Gender              object\n",
       "Age                  int64\n",
       "Tenure               int64\n",
       "Balance            float64\n",
       "NumOfProducts        int64\n",
       "HasCrCard            int64\n",
       "IsActiveMember       int64\n",
       "EstimatedSalary    float64\n",
       "Exited               int64\n",
       "dtype: object"
      ]
     },
     "execution_count": 9,
     "metadata": {},
     "output_type": "execute_result"
    }
   ],
   "source": [
    "data['Tenure'] = data['Tenure'].astype('int64')\n",
    "data.dtypes"
   ]
  },
  {
   "cell_type": "markdown",
   "metadata": {},
   "source": [
    "### Разбиение на выборки."
   ]
  },
  {
   "cell_type": "markdown",
   "metadata": {},
   "source": [
    "Имеющиеся данные мы разделим на 3 выборки:\n",
    "- тренировочную\n",
    "- валидационную\n",
    "- тестовую\n",
    "\n",
    "Разбиение будет происходить в соотношении 3:1:1.\n",
    "\n",
    "Целевым признаком является столбец `Exited`, то есть показатель того, что клиент ушел из банка."
   ]
  },
  {
   "cell_type": "code",
   "execution_count": 10,
   "metadata": {},
   "outputs": [
    {
     "name": "stdout",
     "output_type": "stream",
     "text": [
      "6000\n",
      "2000\n",
      "2000\n"
     ]
    }
   ],
   "source": [
    "target = data['Exited']\n",
    "feature = data.drop('Exited', axis=1)\n",
    "\n",
    "feature_train, feature_test, target_train, target_test = train_test_split(\n",
    "    feature, target, test_size=0.4, random_state=12345\n",
    ")\n",
    "\n",
    "feature_valid, feature_test, target_valid, target_test = train_test_split(\n",
    "    feature_test, target_test, test_size=0.5, random_state=12345\n",
    ")\n",
    "\n",
    "print(feature_train.shape[0])\n",
    "print(feature_valid.shape[0])\n",
    "print(feature_test.shape[0])"
   ]
  },
  {
   "cell_type": "markdown",
   "metadata": {},
   "source": [
    "### Подготовка признаков"
   ]
  },
  {
   "cell_type": "markdown",
   "metadata": {},
   "source": [
    "В данных есть несколько качественных признаков:\n",
    "- Фамилия\n",
    "- Страна\n",
    "- Пол\n",
    "\n",
    "Фамилия не является признаком, по которому можно составить прогноз о уходе клиента из банка, следовательно, его в дальнейших исследованиях использовать не будем, так что данный признак можно не обрабатывать, а удалить. Кроме того, удалим порядковый номер и id клиента, поскольку они ни на что не влияют."
   ]
  },
  {
   "cell_type": "code",
   "execution_count": 11,
   "metadata": {},
   "outputs": [
    {
     "data": {
      "text/html": [
       "<div>\n",
       "<style scoped>\n",
       "    .dataframe tbody tr th:only-of-type {\n",
       "        vertical-align: middle;\n",
       "    }\n",
       "\n",
       "    .dataframe tbody tr th {\n",
       "        vertical-align: top;\n",
       "    }\n",
       "\n",
       "    .dataframe thead th {\n",
       "        text-align: right;\n",
       "    }\n",
       "</style>\n",
       "<table border=\"1\" class=\"dataframe\">\n",
       "  <thead>\n",
       "    <tr style=\"text-align: right;\">\n",
       "      <th></th>\n",
       "      <th>RowNumber</th>\n",
       "      <th>CustomerId</th>\n",
       "      <th>Surname</th>\n",
       "      <th>CreditScore</th>\n",
       "      <th>Geography</th>\n",
       "      <th>Gender</th>\n",
       "      <th>Age</th>\n",
       "      <th>Tenure</th>\n",
       "      <th>Balance</th>\n",
       "      <th>NumOfProducts</th>\n",
       "      <th>HasCrCard</th>\n",
       "      <th>IsActiveMember</th>\n",
       "      <th>EstimatedSalary</th>\n",
       "    </tr>\n",
       "  </thead>\n",
       "  <tbody>\n",
       "    <tr>\n",
       "      <th>7479</th>\n",
       "      <td>7480</td>\n",
       "      <td>15671987</td>\n",
       "      <td>Meagher</td>\n",
       "      <td>567</td>\n",
       "      <td>Spain</td>\n",
       "      <td>Male</td>\n",
       "      <td>35</td>\n",
       "      <td>8</td>\n",
       "      <td>153137.74</td>\n",
       "      <td>1</td>\n",
       "      <td>1</td>\n",
       "      <td>0</td>\n",
       "      <td>88659.07</td>\n",
       "    </tr>\n",
       "    <tr>\n",
       "      <th>3411</th>\n",
       "      <td>3412</td>\n",
       "      <td>15815628</td>\n",
       "      <td>Moysey</td>\n",
       "      <td>711</td>\n",
       "      <td>France</td>\n",
       "      <td>Female</td>\n",
       "      <td>37</td>\n",
       "      <td>8</td>\n",
       "      <td>113899.92</td>\n",
       "      <td>1</td>\n",
       "      <td>0</td>\n",
       "      <td>0</td>\n",
       "      <td>80215.20</td>\n",
       "    </tr>\n",
       "    <tr>\n",
       "      <th>6027</th>\n",
       "      <td>6028</td>\n",
       "      <td>15799494</td>\n",
       "      <td>Forster</td>\n",
       "      <td>850</td>\n",
       "      <td>Germany</td>\n",
       "      <td>Male</td>\n",
       "      <td>44</td>\n",
       "      <td>3</td>\n",
       "      <td>140393.65</td>\n",
       "      <td>2</td>\n",
       "      <td>0</td>\n",
       "      <td>1</td>\n",
       "      <td>186285.52</td>\n",
       "    </tr>\n",
       "    <tr>\n",
       "      <th>1247</th>\n",
       "      <td>1248</td>\n",
       "      <td>15711288</td>\n",
       "      <td>Hay</td>\n",
       "      <td>512</td>\n",
       "      <td>France</td>\n",
       "      <td>Male</td>\n",
       "      <td>24</td>\n",
       "      <td>6</td>\n",
       "      <td>0.00</td>\n",
       "      <td>2</td>\n",
       "      <td>1</td>\n",
       "      <td>0</td>\n",
       "      <td>37654.31</td>\n",
       "    </tr>\n",
       "    <tr>\n",
       "      <th>3716</th>\n",
       "      <td>3717</td>\n",
       "      <td>15699492</td>\n",
       "      <td>Lorenzo</td>\n",
       "      <td>665</td>\n",
       "      <td>Germany</td>\n",
       "      <td>Female</td>\n",
       "      <td>27</td>\n",
       "      <td>2</td>\n",
       "      <td>147435.96</td>\n",
       "      <td>1</td>\n",
       "      <td>0</td>\n",
       "      <td>0</td>\n",
       "      <td>187508.06</td>\n",
       "    </tr>\n",
       "    <tr>\n",
       "      <th>...</th>\n",
       "      <td>...</td>\n",
       "      <td>...</td>\n",
       "      <td>...</td>\n",
       "      <td>...</td>\n",
       "      <td>...</td>\n",
       "      <td>...</td>\n",
       "      <td>...</td>\n",
       "      <td>...</td>\n",
       "      <td>...</td>\n",
       "      <td>...</td>\n",
       "      <td>...</td>\n",
       "      <td>...</td>\n",
       "      <td>...</td>\n",
       "    </tr>\n",
       "    <tr>\n",
       "      <th>4478</th>\n",
       "      <td>4479</td>\n",
       "      <td>15622443</td>\n",
       "      <td>Marshall</td>\n",
       "      <td>549</td>\n",
       "      <td>France</td>\n",
       "      <td>Male</td>\n",
       "      <td>31</td>\n",
       "      <td>4</td>\n",
       "      <td>0.00</td>\n",
       "      <td>2</td>\n",
       "      <td>0</td>\n",
       "      <td>1</td>\n",
       "      <td>25684.85</td>\n",
       "    </tr>\n",
       "    <tr>\n",
       "      <th>4094</th>\n",
       "      <td>4095</td>\n",
       "      <td>15760880</td>\n",
       "      <td>Edman</td>\n",
       "      <td>513</td>\n",
       "      <td>France</td>\n",
       "      <td>Male</td>\n",
       "      <td>29</td>\n",
       "      <td>10</td>\n",
       "      <td>0.00</td>\n",
       "      <td>2</td>\n",
       "      <td>0</td>\n",
       "      <td>1</td>\n",
       "      <td>25514.77</td>\n",
       "    </tr>\n",
       "    <tr>\n",
       "      <th>3492</th>\n",
       "      <td>3493</td>\n",
       "      <td>15626491</td>\n",
       "      <td>Hughes</td>\n",
       "      <td>655</td>\n",
       "      <td>France</td>\n",
       "      <td>Female</td>\n",
       "      <td>45</td>\n",
       "      <td>1</td>\n",
       "      <td>57327.04</td>\n",
       "      <td>1</td>\n",
       "      <td>0</td>\n",
       "      <td>1</td>\n",
       "      <td>47349.00</td>\n",
       "    </tr>\n",
       "    <tr>\n",
       "      <th>2177</th>\n",
       "      <td>2178</td>\n",
       "      <td>15637644</td>\n",
       "      <td>Hanson</td>\n",
       "      <td>667</td>\n",
       "      <td>France</td>\n",
       "      <td>Female</td>\n",
       "      <td>24</td>\n",
       "      <td>4</td>\n",
       "      <td>0.00</td>\n",
       "      <td>2</td>\n",
       "      <td>0</td>\n",
       "      <td>1</td>\n",
       "      <td>34335.55</td>\n",
       "    </tr>\n",
       "    <tr>\n",
       "      <th>4578</th>\n",
       "      <td>4579</td>\n",
       "      <td>15801821</td>\n",
       "      <td>Cookson</td>\n",
       "      <td>691</td>\n",
       "      <td>France</td>\n",
       "      <td>Male</td>\n",
       "      <td>38</td>\n",
       "      <td>1</td>\n",
       "      <td>0.00</td>\n",
       "      <td>2</td>\n",
       "      <td>0</td>\n",
       "      <td>0</td>\n",
       "      <td>44653.50</td>\n",
       "    </tr>\n",
       "  </tbody>\n",
       "</table>\n",
       "<p>6000 rows × 13 columns</p>\n",
       "</div>"
      ],
      "text/plain": [
       "      RowNumber  CustomerId   Surname  CreditScore Geography  Gender  Age  \\\n",
       "7479       7480    15671987   Meagher          567     Spain    Male   35   \n",
       "3411       3412    15815628    Moysey          711    France  Female   37   \n",
       "6027       6028    15799494   Forster          850   Germany    Male   44   \n",
       "1247       1248    15711288       Hay          512    France    Male   24   \n",
       "3716       3717    15699492   Lorenzo          665   Germany  Female   27   \n",
       "...         ...         ...       ...          ...       ...     ...  ...   \n",
       "4478       4479    15622443  Marshall          549    France    Male   31   \n",
       "4094       4095    15760880     Edman          513    France    Male   29   \n",
       "3492       3493    15626491    Hughes          655    France  Female   45   \n",
       "2177       2178    15637644    Hanson          667    France  Female   24   \n",
       "4578       4579    15801821   Cookson          691    France    Male   38   \n",
       "\n",
       "      Tenure    Balance  NumOfProducts  HasCrCard  IsActiveMember  \\\n",
       "7479       8  153137.74              1          1               0   \n",
       "3411       8  113899.92              1          0               0   \n",
       "6027       3  140393.65              2          0               1   \n",
       "1247       6       0.00              2          1               0   \n",
       "3716       2  147435.96              1          0               0   \n",
       "...      ...        ...            ...        ...             ...   \n",
       "4478       4       0.00              2          0               1   \n",
       "4094      10       0.00              2          0               1   \n",
       "3492       1   57327.04              1          0               1   \n",
       "2177       4       0.00              2          0               1   \n",
       "4578       1       0.00              2          0               0   \n",
       "\n",
       "      EstimatedSalary  \n",
       "7479         88659.07  \n",
       "3411         80215.20  \n",
       "6027        186285.52  \n",
       "1247         37654.31  \n",
       "3716        187508.06  \n",
       "...               ...  \n",
       "4478         25684.85  \n",
       "4094         25514.77  \n",
       "3492         47349.00  \n",
       "2177         34335.55  \n",
       "4578         44653.50  \n",
       "\n",
       "[6000 rows x 13 columns]"
      ]
     },
     "execution_count": 11,
     "metadata": {},
     "output_type": "execute_result"
    }
   ],
   "source": [
    "feature_train"
   ]
  },
  {
   "cell_type": "code",
   "execution_count": 12,
   "metadata": {},
   "outputs": [],
   "source": [
    "feature_train = feature_train.drop(['RowNumber', 'CustomerId','Surname'], axis=1)\n",
    "feature_valid = feature_valid.drop(['RowNumber', 'CustomerId','Surname'], axis=1)\n",
    "feature_test = feature_test.drop(['RowNumber', 'CustomerId','Surname'], axis=1)"
   ]
  },
  {
   "cell_type": "code",
   "execution_count": 13,
   "metadata": {},
   "outputs": [
    {
     "data": {
      "text/html": [
       "<div>\n",
       "<style scoped>\n",
       "    .dataframe tbody tr th:only-of-type {\n",
       "        vertical-align: middle;\n",
       "    }\n",
       "\n",
       "    .dataframe tbody tr th {\n",
       "        vertical-align: top;\n",
       "    }\n",
       "\n",
       "    .dataframe thead th {\n",
       "        text-align: right;\n",
       "    }\n",
       "</style>\n",
       "<table border=\"1\" class=\"dataframe\">\n",
       "  <thead>\n",
       "    <tr style=\"text-align: right;\">\n",
       "      <th></th>\n",
       "      <th>CreditScore</th>\n",
       "      <th>Geography</th>\n",
       "      <th>Gender</th>\n",
       "      <th>Age</th>\n",
       "      <th>Tenure</th>\n",
       "      <th>Balance</th>\n",
       "      <th>NumOfProducts</th>\n",
       "      <th>HasCrCard</th>\n",
       "      <th>IsActiveMember</th>\n",
       "      <th>EstimatedSalary</th>\n",
       "    </tr>\n",
       "  </thead>\n",
       "  <tbody>\n",
       "    <tr>\n",
       "      <th>7479</th>\n",
       "      <td>567</td>\n",
       "      <td>Spain</td>\n",
       "      <td>Male</td>\n",
       "      <td>35</td>\n",
       "      <td>8</td>\n",
       "      <td>153137.74</td>\n",
       "      <td>1</td>\n",
       "      <td>1</td>\n",
       "      <td>0</td>\n",
       "      <td>88659.07</td>\n",
       "    </tr>\n",
       "    <tr>\n",
       "      <th>3411</th>\n",
       "      <td>711</td>\n",
       "      <td>France</td>\n",
       "      <td>Female</td>\n",
       "      <td>37</td>\n",
       "      <td>8</td>\n",
       "      <td>113899.92</td>\n",
       "      <td>1</td>\n",
       "      <td>0</td>\n",
       "      <td>0</td>\n",
       "      <td>80215.20</td>\n",
       "    </tr>\n",
       "    <tr>\n",
       "      <th>6027</th>\n",
       "      <td>850</td>\n",
       "      <td>Germany</td>\n",
       "      <td>Male</td>\n",
       "      <td>44</td>\n",
       "      <td>3</td>\n",
       "      <td>140393.65</td>\n",
       "      <td>2</td>\n",
       "      <td>0</td>\n",
       "      <td>1</td>\n",
       "      <td>186285.52</td>\n",
       "    </tr>\n",
       "    <tr>\n",
       "      <th>1247</th>\n",
       "      <td>512</td>\n",
       "      <td>France</td>\n",
       "      <td>Male</td>\n",
       "      <td>24</td>\n",
       "      <td>6</td>\n",
       "      <td>0.00</td>\n",
       "      <td>2</td>\n",
       "      <td>1</td>\n",
       "      <td>0</td>\n",
       "      <td>37654.31</td>\n",
       "    </tr>\n",
       "    <tr>\n",
       "      <th>3716</th>\n",
       "      <td>665</td>\n",
       "      <td>Germany</td>\n",
       "      <td>Female</td>\n",
       "      <td>27</td>\n",
       "      <td>2</td>\n",
       "      <td>147435.96</td>\n",
       "      <td>1</td>\n",
       "      <td>0</td>\n",
       "      <td>0</td>\n",
       "      <td>187508.06</td>\n",
       "    </tr>\n",
       "    <tr>\n",
       "      <th>...</th>\n",
       "      <td>...</td>\n",
       "      <td>...</td>\n",
       "      <td>...</td>\n",
       "      <td>...</td>\n",
       "      <td>...</td>\n",
       "      <td>...</td>\n",
       "      <td>...</td>\n",
       "      <td>...</td>\n",
       "      <td>...</td>\n",
       "      <td>...</td>\n",
       "    </tr>\n",
       "    <tr>\n",
       "      <th>4478</th>\n",
       "      <td>549</td>\n",
       "      <td>France</td>\n",
       "      <td>Male</td>\n",
       "      <td>31</td>\n",
       "      <td>4</td>\n",
       "      <td>0.00</td>\n",
       "      <td>2</td>\n",
       "      <td>0</td>\n",
       "      <td>1</td>\n",
       "      <td>25684.85</td>\n",
       "    </tr>\n",
       "    <tr>\n",
       "      <th>4094</th>\n",
       "      <td>513</td>\n",
       "      <td>France</td>\n",
       "      <td>Male</td>\n",
       "      <td>29</td>\n",
       "      <td>10</td>\n",
       "      <td>0.00</td>\n",
       "      <td>2</td>\n",
       "      <td>0</td>\n",
       "      <td>1</td>\n",
       "      <td>25514.77</td>\n",
       "    </tr>\n",
       "    <tr>\n",
       "      <th>3492</th>\n",
       "      <td>655</td>\n",
       "      <td>France</td>\n",
       "      <td>Female</td>\n",
       "      <td>45</td>\n",
       "      <td>1</td>\n",
       "      <td>57327.04</td>\n",
       "      <td>1</td>\n",
       "      <td>0</td>\n",
       "      <td>1</td>\n",
       "      <td>47349.00</td>\n",
       "    </tr>\n",
       "    <tr>\n",
       "      <th>2177</th>\n",
       "      <td>667</td>\n",
       "      <td>France</td>\n",
       "      <td>Female</td>\n",
       "      <td>24</td>\n",
       "      <td>4</td>\n",
       "      <td>0.00</td>\n",
       "      <td>2</td>\n",
       "      <td>0</td>\n",
       "      <td>1</td>\n",
       "      <td>34335.55</td>\n",
       "    </tr>\n",
       "    <tr>\n",
       "      <th>4578</th>\n",
       "      <td>691</td>\n",
       "      <td>France</td>\n",
       "      <td>Male</td>\n",
       "      <td>38</td>\n",
       "      <td>1</td>\n",
       "      <td>0.00</td>\n",
       "      <td>2</td>\n",
       "      <td>0</td>\n",
       "      <td>0</td>\n",
       "      <td>44653.50</td>\n",
       "    </tr>\n",
       "  </tbody>\n",
       "</table>\n",
       "<p>6000 rows × 10 columns</p>\n",
       "</div>"
      ],
      "text/plain": [
       "      CreditScore Geography  Gender  Age  Tenure    Balance  NumOfProducts  \\\n",
       "7479          567     Spain    Male   35       8  153137.74              1   \n",
       "3411          711    France  Female   37       8  113899.92              1   \n",
       "6027          850   Germany    Male   44       3  140393.65              2   \n",
       "1247          512    France    Male   24       6       0.00              2   \n",
       "3716          665   Germany  Female   27       2  147435.96              1   \n",
       "...           ...       ...     ...  ...     ...        ...            ...   \n",
       "4478          549    France    Male   31       4       0.00              2   \n",
       "4094          513    France    Male   29      10       0.00              2   \n",
       "3492          655    France  Female   45       1   57327.04              1   \n",
       "2177          667    France  Female   24       4       0.00              2   \n",
       "4578          691    France    Male   38       1       0.00              2   \n",
       "\n",
       "      HasCrCard  IsActiveMember  EstimatedSalary  \n",
       "7479          1               0         88659.07  \n",
       "3411          0               0         80215.20  \n",
       "6027          0               1        186285.52  \n",
       "1247          1               0         37654.31  \n",
       "3716          0               0        187508.06  \n",
       "...         ...             ...              ...  \n",
       "4478          0               1         25684.85  \n",
       "4094          0               1         25514.77  \n",
       "3492          0               1         47349.00  \n",
       "2177          0               1         34335.55  \n",
       "4578          0               0         44653.50  \n",
       "\n",
       "[6000 rows x 10 columns]"
      ]
     },
     "execution_count": 13,
     "metadata": {},
     "output_type": "execute_result"
    }
   ],
   "source": [
    "feature_train"
   ]
  },
  {
   "cell_type": "markdown",
   "metadata": {},
   "source": [
    "Признаки `Страна` и `Пол` обработаем с помощью приема прямого кодирования, поскольку они являются номинальными.\n",
    "Для начала обучим кодировщик на тренировочных данных."
   ]
  },
  {
   "cell_type": "code",
   "execution_count": 14,
   "metadata": {
    "scrolled": true
   },
   "outputs": [],
   "source": [
    "columns_to_encode = ['Geography', 'Gender']\n",
    "\n",
    "encoder = OneHotEncoder(sparse=False, drop='first')\n",
    "encoder.fit(feature_train[columns_to_encode])\n",
    "\n",
    "def ohe_feature(features):\n",
    "\n",
    "    features_encoded = pd.DataFrame(encoder.transform(features[columns_to_encode]))\n",
    "    features_encoded.columns = encoder.get_feature_names(columns_to_encode)\n",
    "    features_encoded.index = features.index\n",
    "\n",
    "    ohe_features = pd.concat([features, features_encoded], axis=1).drop(columns_to_encode, axis=1)\n",
    "    \n",
    "    return ohe_features"
   ]
  },
  {
   "cell_type": "code",
   "execution_count": 15,
   "metadata": {
    "scrolled": true
   },
   "outputs": [],
   "source": [
    "feature_train = ohe_feature(feature_train)\n",
    "feature_valid = ohe_feature(feature_valid)\n",
    "feature_test = ohe_feature(feature_test)"
   ]
  },
  {
   "cell_type": "markdown",
   "metadata": {},
   "source": [
    "### Масштабирование количественных признаков "
   ]
  },
  {
   "cell_type": "markdown",
   "metadata": {},
   "source": [
    "В данных есть признаки с сильно различающимся масштабом, например, баланс и предполагаемая зарплата гораздо больше, чем количество лет обслуживания в банке, возраст или кредитный рейтинг.\n",
    "В связи с этим, необходимо масштабировать эти признаки.\n",
    "Подготовим `scaler` на тренировочной выборке, а затем трансформируем валидационную и тестовую выборки."
   ]
  },
  {
   "cell_type": "code",
   "execution_count": 16,
   "metadata": {
    "scrolled": false
   },
   "outputs": [],
   "source": [
    "pd.options.mode.chained_assignment = None\n",
    "\n",
    "numeric = ['CreditScore', 'Age', 'Tenure', 'Balance', 'NumOfProducts', 'EstimatedSalary']\n",
    "scaler = StandardScaler()\n",
    "\n",
    "scaler.fit(feature_train[numeric])\n",
    "\n",
    "feature_train[numeric] = scaler.transform(feature_train[numeric])\n",
    "feature_valid[numeric] = scaler.transform(feature_valid[numeric])\n",
    "feature_test[numeric] = scaler.transform(feature_test[numeric])"
   ]
  },
  {
   "cell_type": "markdown",
   "metadata": {},
   "source": [
    "## Исследование задачи"
   ]
  },
  {
   "cell_type": "markdown",
   "metadata": {},
   "source": [
    "### Исследование баланса классов"
   ]
  },
  {
   "cell_type": "markdown",
   "metadata": {},
   "source": [
    "Для начала рассмотрим, насколько большой дисбаланс присутствует в данных."
   ]
  },
  {
   "cell_type": "code",
   "execution_count": 17,
   "metadata": {},
   "outputs": [
    {
     "name": "stdout",
     "output_type": "stream",
     "text": [
      "Общая выборка\n",
      "Данные с положительным исходом: 2037\n",
      "Данные с отрицательным исходом: 7963\n",
      "Тренировочная выборка\n",
      "Данные с положительным исходом: 1196\n",
      "Данные с отрицательным исходом: 4804\n",
      "Валидационная выборка\n",
      "Данные с положительным исходом: 418\n",
      "Данные с отрицательным исходом: 1582\n",
      "Тестовая выборка\n",
      "Данные с положительным исходом: 423\n",
      "Данные с отрицательным исходом: 1577\n"
     ]
    }
   ],
   "source": [
    "print('Общая выборка')\n",
    "print(f'Данные с положительным исходом: {data[data[\"Exited\"] == 1][\"Exited\"].count()}')\n",
    "print(f'Данные с отрицательным исходом: {data[data[\"Exited\"] == 0][\"Exited\"].count()}')\n",
    "\n",
    "print('Тренировочная выборка')\n",
    "print(f'Данные с положительным исходом: {target_train[target_train == 1].count()}')\n",
    "print(f'Данные с отрицательным исходом: {target_train[target_train == 0].count()}')\n",
    "\n",
    "\n",
    "print('Валидационная выборка')\n",
    "print(f'Данные с положительным исходом: {target_valid[target_valid == 1].count()}')\n",
    "print(f'Данные с отрицательным исходом: {target_valid[target_valid == 0].count()}')\n",
    "\n",
    "\n",
    "print('Тестовая выборка')\n",
    "print(f'Данные с положительным исходом: {target_test[target_test == 1].count()}')\n",
    "print(f'Данные с отрицательным исходом: {target_test[target_test == 0].count()}')"
   ]
  },
  {
   "cell_type": "markdown",
   "metadata": {},
   "source": [
    "Как мы видим, соотношение ушедших из банка клиентов к оставшимся составляет примерно 1:4 во всех выборках."
   ]
  },
  {
   "cell_type": "markdown",
   "metadata": {},
   "source": [
    "### Изучение моделей без учета дисбаланса"
   ]
  },
  {
   "cell_type": "markdown",
   "metadata": {},
   "source": [
    "Для начала, обучим модели на несбалансированных данных. Целью проекта является довести F1 метрику до значения не менее 0.59.\n",
    "Полученные значения метрик F1 и AUC-ROC будем сохранять в отдельный датафрейм для дальнейшего сравнения."
   ]
  },
  {
   "cell_type": "code",
   "execution_count": 18,
   "metadata": {},
   "outputs": [],
   "source": [
    "columns = ['model_type', 'balance', 'f1_score', 'roc_auc_score', 'model']\n",
    "best_models = pd.DataFrame(columns=columns)\n",
    "\n",
    "def add_new_model(model_type, balance, f1, roc_auc, model):\n",
    "    global best_models\n",
    "    new_row = {'model_type': model_type, 'balance': balance, 'f1_score': f1, 'roc_auc_score': roc_auc, 'model' : model}\n",
    "    best_models = best_models.append(new_row, ignore_index=True)"
   ]
  },
  {
   "cell_type": "markdown",
   "metadata": {},
   "source": [
    "#### Логистическая регрессия"
   ]
  },
  {
   "cell_type": "markdown",
   "metadata": {},
   "source": [
    "Первой рассмотрим модель логистической регрессии.\n",
    "В ходе обучения будем подбирать наиболее оптимальные гиперпараметры модели, для получения наибольшего значения F1."
   ]
  },
  {
   "cell_type": "code",
   "execution_count": 19,
   "metadata": {},
   "outputs": [],
   "source": [
    "def get_best_log_reg(feature_train, target_train, class_weight):\n",
    "    best_f1 = 0\n",
    "    roc_auc = 0\n",
    "    best_model = 0\n",
    "    \n",
    "    params = {\n",
    "        'penalty' : ['l1', 'l2'],\n",
    "        'tol' : np.arange(0.00001, 0.00011, 0.00001),\n",
    "        'C' : np.arange(0.3, 1.1, 0.1),\n",
    "        'fit_intercept' : [True, False]\n",
    "    }\n",
    "    \n",
    "    for penalty in params['penalty']:\n",
    "        for tol in params['tol']:\n",
    "            for c in params['C']:\n",
    "                for fit_intercept in params['fit_intercept']:\n",
    "                    model = LogisticRegression(\n",
    "                        random_state=12345,\n",
    "                        class_weight=class_weight,\n",
    "                        solver='liblinear',\n",
    "                        penalty=penalty,\n",
    "                        tol=tol,\n",
    "                        C=c,\n",
    "                        fit_intercept=fit_intercept\n",
    "                    )\n",
    "                    \n",
    "                    model.fit(feature_train, target_train)\n",
    "                    prediction_valid = model.predict(feature_valid)\n",
    "                    predicted_proba = model.predict_proba(feature_valid)\n",
    "\n",
    "                    f1 = f1_score(target_valid, prediction_valid)\n",
    "                    roc_auc = roc_auc_score(target_valid, predicted_proba[:, 1])\n",
    "\n",
    "                    if f1 > best_f1:\n",
    "                        best_f1 = f1\n",
    "                        roc_auc = roc_auc\n",
    "                        best_model = model\n",
    "\n",
    "    print('Лучшая модель:', best_model)\n",
    "    print('Наибольшая метрика F1:', best_f1)\n",
    "    print('Метрика ROC-AUC:', roc_auc)\n",
    "    \n",
    "    return best_f1, roc_auc, best_model"
   ]
  },
  {
   "cell_type": "code",
   "execution_count": 20,
   "metadata": {
    "scrolled": true
   },
   "outputs": [
    {
     "name": "stdout",
     "output_type": "stream",
     "text": [
      "Лучшая модель: LogisticRegression(C=0.3, fit_intercept=False, penalty='l1', random_state=12345,\n",
      "                   solver='liblinear', tol=1e-05)\n",
      "Наибольшая метрика F1: 0.36671802773497686\n",
      "Метрика ROC-AUC: 0.7397108015412627\n"
     ]
    }
   ],
   "source": [
    "best_f1, roc_auc, best_model = get_best_log_reg(feature_train, target_train, None)\n",
    "\n",
    "add_new_model(\n",
    "    model_type='Logistic Regression',\n",
    "    balance='unbalanced',\n",
    "    f1=best_f1,\n",
    "    roc_auc=roc_auc,\n",
    "    model=best_model\n",
    ") "
   ]
  },
  {
   "cell_type": "markdown",
   "metadata": {},
   "source": [
    "При несбалансированных классах значение метрики F1 не достигает заданной величины в 0.59 и равно всего 0.37 для лучших гиперпараметров модели на валидационной выборке. Метрика ROC-AUC достигает значения 0.74, что гораздо лучше, чем для полностью случайного прогнозирования, но все еще довольно низко."
   ]
  },
  {
   "cell_type": "markdown",
   "metadata": {},
   "source": [
    "#### Модель решающего дерева "
   ]
  },
  {
   "cell_type": "code",
   "execution_count": 21,
   "metadata": {
    "scrolled": true
   },
   "outputs": [],
   "source": [
    "def get_best_decision_tree(feature_train, target_train, class_weight):\n",
    "    best_f1 = 0\n",
    "    roc_auc = 0\n",
    "    best_model = 0\n",
    "\n",
    "    params = {\n",
    "        'criterion' : ['gini', 'entropy'],\n",
    "        'splitter' : ['best', 'random'], \n",
    "        'max_depth' : range(3, 21, 1),\n",
    "        'min_samples_leaf' : range(1, 5, 1),\n",
    "        'max_features':[ 'sqrt', 'log2'],\n",
    "        'max_leaf_nodes' : [None, 5, 7, 9]\n",
    "    }\n",
    "\n",
    "    for criterion in params['criterion']:\n",
    "        for splitter in params['splitter']:\n",
    "            for max_depth in params['max_depth']:\n",
    "                for min_samples_leaf in params['min_samples_leaf']:\n",
    "                    for max_features in params['max_features']:\n",
    "                        for max_leaf_nodes in params['max_leaf_nodes']:\n",
    "                            model = DecisionTreeClassifier(\n",
    "                                random_state=12345,\n",
    "                                class_weight=class_weight,\n",
    "                                splitter=splitter,\n",
    "                                max_depth=max_depth,\n",
    "                                min_samples_leaf=min_samples_leaf,\n",
    "                                max_features=max_features,\n",
    "                                max_leaf_nodes=max_leaf_nodes\n",
    "                            )\n",
    "\n",
    "                            model.fit(feature_train, target_train)\n",
    "                            prediction_valid = model.predict(feature_valid)\n",
    "                            predicted_proba = model.predict_proba(feature_valid)\n",
    "\n",
    "                            f1 = f1_score(target_valid, prediction_valid)\n",
    "                            roc_auc = roc_auc_score(target_valid, predicted_proba[:, 1])\n",
    "\n",
    "                            if f1 > best_f1:\n",
    "                                best_f1 = f1\n",
    "                                roc_auc = roc_auc\n",
    "                                best_model = model\n",
    "\n",
    "    print('Лучшая модель:', best_model)\n",
    "    print('Наибольшая метрика F1:', best_f1)\n",
    "    print('Метрика ROC-AUC:', roc_auc)\n",
    "    \n",
    "    return best_f1, roc_auc, best_model"
   ]
  },
  {
   "cell_type": "code",
   "execution_count": 22,
   "metadata": {},
   "outputs": [
    {
     "name": "stdout",
     "output_type": "stream",
     "text": [
      "Лучшая модель: DecisionTreeClassifier(max_depth=5, max_features='sqrt', min_samples_leaf=3,\n",
      "                       random_state=12345)\n",
      "Наибольшая метрика F1: 0.5553869499241275\n",
      "Метрика ROC-AUC: 0.7238785318082012\n"
     ]
    }
   ],
   "source": [
    "best_f1, roc_auc, best_model = get_best_decision_tree(feature_train, target_train, None)\n",
    "\n",
    "add_new_model(\n",
    "        model_type='Decision Tree',\n",
    "        balance='unbalanced',\n",
    "        f1=best_f1,\n",
    "        roc_auc=roc_auc,\n",
    "        model=best_model\n",
    "    )"
   ]
  },
  {
   "cell_type": "markdown",
   "metadata": {},
   "source": [
    "При несбалансированных классах значение метрики F1 не достигает заданной величины в 0.59, но уже гораздо ближе и  равно всего 0.55 для лучших гиперпараметров модели на валидационной выборке. Метрика ROC-AUC достигает значения 0.72, что меньше, чем модель логистической регрессии."
   ]
  },
  {
   "cell_type": "markdown",
   "metadata": {},
   "source": [
    "#### Модель случайного леса"
   ]
  },
  {
   "cell_type": "code",
   "execution_count": 23,
   "metadata": {},
   "outputs": [],
   "source": [
    "def get_best_random_forest(feature_train, target_train, class_weight):\n",
    "    best_f1 = 0\n",
    "    roc_auc = 0\n",
    "    best_model = 0\n",
    "\n",
    "    params = {\n",
    "        'n_estimators' : range(5, 51, 5),\n",
    "        'max_depth' : range(3, 11, 1),\n",
    "        'criterion' : ['gini', 'entropy'],\n",
    "        'max_features' : ['sqrt', 'log2', None],\n",
    "        'min_samples_leaf' : range(1, 5, 1),\n",
    "        'max_leaf_nodes' : [None, 5, 7, 9],\n",
    "        'bootstrap' : [True, False]\n",
    "    }\n",
    "\n",
    "    for n_estimators in params['n_estimators']:\n",
    "        for max_depth in params['max_depth']:\n",
    "            for criterion in params['criterion']:\n",
    "                for max_features in params['max_features']:\n",
    "                    for min_samples_leaf in params['min_samples_leaf']:\n",
    "                        for max_leaf_nodes in params['max_leaf_nodes']:\n",
    "                            for bootstrap in params['bootstrap']:\n",
    "                                model = RandomForestClassifier(\n",
    "                                    n_jobs=-1, \n",
    "                                    random_state=12345,\n",
    "                                    class_weight=class_weight,\n",
    "                                    n_estimators=n_estimators,\n",
    "                                    max_depth=max_depth,\n",
    "                                    criterion=criterion,\n",
    "                                    max_features=max_features,\n",
    "                                    min_samples_leaf=min_samples_leaf,\n",
    "                                    max_leaf_nodes=max_leaf_nodes,\n",
    "                                    bootstrap=bootstrap\n",
    "                                )\n",
    "\n",
    "                                model.fit(feature_train, target_train)\n",
    "                                prediction_valid = model.predict(feature_valid)\n",
    "                                predicted_proba = model.predict_proba(feature_valid)\n",
    "\n",
    "                                f1 = f1_score(target_valid, prediction_valid)\n",
    "                                roc_auc = roc_auc_score(target_valid, predicted_proba[:, 1])\n",
    "\n",
    "                                if f1 > best_f1:\n",
    "                                    best_f1 = f1\n",
    "                                    roc_auc = roc_auc\n",
    "                                    best_model = model\n",
    "\n",
    "    print('Лучшая модель:', best_model)\n",
    "    print('Наибольшая метрика F1:', best_f1)\n",
    "    print('Метрика ROC-AUC:', roc_auc)\n",
    "\n",
    "    return best_f1, roc_auc, best_model"
   ]
  },
  {
   "cell_type": "code",
   "execution_count": 24,
   "metadata": {},
   "outputs": [
    {
     "name": "stdout",
     "output_type": "stream",
     "text": [
      "Лучшая модель: RandomForestClassifier(max_depth=9, max_features=None, min_samples_leaf=4,\n",
      "                       n_estimators=20, n_jobs=-1, random_state=12345)\n",
      "Наибольшая метрика F1: 0.5991058122205664\n",
      "Метрика ROC-AUC: 0.8029037799647953\n"
     ]
    }
   ],
   "source": [
    "best_f1, roc_auc, best_model = get_best_random_forest(feature_train, target_train, None)\n",
    "\n",
    "add_new_model(\n",
    "    model_type='Random Forest',\n",
    "    balance='unbalanced',\n",
    "    f1=best_f1,\n",
    "    roc_auc=roc_auc,\n",
    "    model=best_model\n",
    ")"
   ]
  },
  {
   "cell_type": "markdown",
   "metadata": {},
   "source": [
    "При несбалансированных классах значение метрики F1 достигает 0.60, что уже укладывается в необходимый интервал. Несмотря на это, нельзя сказать о том, что модель предельно идеальна, поскольку метрика ROC-AUC слишком низкая и достигает всего 0.65."
   ]
  },
  {
   "cell_type": "markdown",
   "metadata": {},
   "source": [
    "### Итоги исследования "
   ]
  },
  {
   "cell_type": "code",
   "execution_count": 25,
   "metadata": {},
   "outputs": [
    {
     "data": {
      "text/html": [
       "<div>\n",
       "<style scoped>\n",
       "    .dataframe tbody tr th:only-of-type {\n",
       "        vertical-align: middle;\n",
       "    }\n",
       "\n",
       "    .dataframe tbody tr th {\n",
       "        vertical-align: top;\n",
       "    }\n",
       "\n",
       "    .dataframe thead th {\n",
       "        text-align: right;\n",
       "    }\n",
       "</style>\n",
       "<table border=\"1\" class=\"dataframe\">\n",
       "  <thead>\n",
       "    <tr style=\"text-align: right;\">\n",
       "      <th></th>\n",
       "      <th>model_type</th>\n",
       "      <th>balance</th>\n",
       "      <th>f1_score</th>\n",
       "      <th>roc_auc_score</th>\n",
       "      <th>model</th>\n",
       "    </tr>\n",
       "  </thead>\n",
       "  <tbody>\n",
       "    <tr>\n",
       "      <th>2</th>\n",
       "      <td>Random Forest</td>\n",
       "      <td>unbalanced</td>\n",
       "      <td>0.599106</td>\n",
       "      <td>0.802904</td>\n",
       "      <td>(DecisionTreeClassifier(max_depth=9, min_sampl...</td>\n",
       "    </tr>\n",
       "    <tr>\n",
       "      <th>1</th>\n",
       "      <td>Decision Tree</td>\n",
       "      <td>unbalanced</td>\n",
       "      <td>0.555387</td>\n",
       "      <td>0.723879</td>\n",
       "      <td>DecisionTreeClassifier(max_depth=5, max_featur...</td>\n",
       "    </tr>\n",
       "    <tr>\n",
       "      <th>0</th>\n",
       "      <td>Logistic Regression</td>\n",
       "      <td>unbalanced</td>\n",
       "      <td>0.366718</td>\n",
       "      <td>0.739711</td>\n",
       "      <td>LogisticRegression(C=0.3, fit_intercept=False,...</td>\n",
       "    </tr>\n",
       "  </tbody>\n",
       "</table>\n",
       "</div>"
      ],
      "text/plain": [
       "            model_type     balance  f1_score  roc_auc_score  \\\n",
       "2        Random Forest  unbalanced  0.599106       0.802904   \n",
       "1        Decision Tree  unbalanced  0.555387       0.723879   \n",
       "0  Logistic Regression  unbalanced  0.366718       0.739711   \n",
       "\n",
       "                                               model  \n",
       "2  (DecisionTreeClassifier(max_depth=9, min_sampl...  \n",
       "1  DecisionTreeClassifier(max_depth=5, max_featur...  \n",
       "0  LogisticRegression(C=0.3, fit_intercept=False,...  "
      ]
     },
     "execution_count": 25,
     "metadata": {},
     "output_type": "execute_result"
    }
   ],
   "source": [
    "best_models.sort_values(by='f1_score', ascending=False)"
   ]
  },
  {
   "cell_type": "markdown",
   "metadata": {},
   "source": [
    "На основании проведенного исследования можно сделать вывод, что после перебора гиперпараметров модели, модель случайного леса имеет достаточное значение метрики F1 (0.6). Однако, показатель ROC-AUC для всех моделей достаточно низкий, что позволяет считать качество этих моделей низким. \n",
    "\n",
    "В связи с этим, рассмотрим варианты борьбы с дисбалансом классов, чтобы улучшить качество модели."
   ]
  },
  {
   "cell_type": "markdown",
   "metadata": {},
   "source": [
    "## Борьба с дисбалансом"
   ]
  },
  {
   "cell_type": "markdown",
   "metadata": {},
   "source": [
    "Рассмотрим всем три способа устранения дисбаланса:\n",
    "- придание веса редкому классу\n",
    "- добавление данных редкого класса\n",
    "- удаление данных частого класса"
   ]
  },
  {
   "cell_type": "markdown",
   "metadata": {},
   "source": [
    "### Придание веса редкому классу"
   ]
  },
  {
   "cell_type": "markdown",
   "metadata": {},
   "source": [
    "Проведем обучение всех трех моделей с перебором основных гиперпараметров, но теперь укажем, чтобы классы были сбалансированы. Таким образом, более редкому классу будет присвоен больший вес."
   ]
  },
  {
   "cell_type": "markdown",
   "metadata": {},
   "source": [
    "#### Логистическая регрессия"
   ]
  },
  {
   "cell_type": "code",
   "execution_count": 26,
   "metadata": {
    "scrolled": false
   },
   "outputs": [
    {
     "name": "stdout",
     "output_type": "stream",
     "text": [
      "Лучшая модель: LogisticRegression(C=0.3, class_weight='balanced', fit_intercept=False,\n",
      "                   penalty='l1', random_state=12345, solver='liblinear',\n",
      "                   tol=1e-05)\n",
      "Наибольшая метрика F1: 0.4959713518352731\n",
      "Метрика ROC-AUC: 0.7660764945348085\n"
     ]
    }
   ],
   "source": [
    "best_f1, roc_auc, best_model = get_best_log_reg(feature_train, target_train, 'balanced')\n",
    "\n",
    "add_new_model(\n",
    "    model_type='Logistic Regression',\n",
    "    balance='balanced class weight',\n",
    "    f1=best_f1,\n",
    "    roc_auc=roc_auc,\n",
    "    model=best_model\n",
    ") "
   ]
  },
  {
   "cell_type": "code",
   "execution_count": 27,
   "metadata": {},
   "outputs": [
    {
     "data": {
      "text/html": [
       "<div>\n",
       "<style scoped>\n",
       "    .dataframe tbody tr th:only-of-type {\n",
       "        vertical-align: middle;\n",
       "    }\n",
       "\n",
       "    .dataframe tbody tr th {\n",
       "        vertical-align: top;\n",
       "    }\n",
       "\n",
       "    .dataframe thead th {\n",
       "        text-align: right;\n",
       "    }\n",
       "</style>\n",
       "<table border=\"1\" class=\"dataframe\">\n",
       "  <thead>\n",
       "    <tr style=\"text-align: right;\">\n",
       "      <th></th>\n",
       "      <th>model_type</th>\n",
       "      <th>balance</th>\n",
       "      <th>f1_score</th>\n",
       "      <th>roc_auc_score</th>\n",
       "      <th>model</th>\n",
       "    </tr>\n",
       "  </thead>\n",
       "  <tbody>\n",
       "    <tr>\n",
       "      <th>3</th>\n",
       "      <td>Logistic Regression</td>\n",
       "      <td>balanced class weight</td>\n",
       "      <td>0.495971</td>\n",
       "      <td>0.766076</td>\n",
       "      <td>LogisticRegression(C=0.3, class_weight='balanc...</td>\n",
       "    </tr>\n",
       "    <tr>\n",
       "      <th>0</th>\n",
       "      <td>Logistic Regression</td>\n",
       "      <td>unbalanced</td>\n",
       "      <td>0.366718</td>\n",
       "      <td>0.739711</td>\n",
       "      <td>LogisticRegression(C=0.3, fit_intercept=False,...</td>\n",
       "    </tr>\n",
       "  </tbody>\n",
       "</table>\n",
       "</div>"
      ],
      "text/plain": [
       "            model_type                balance  f1_score  roc_auc_score  \\\n",
       "3  Logistic Regression  balanced class weight  0.495971       0.766076   \n",
       "0  Logistic Regression             unbalanced  0.366718       0.739711   \n",
       "\n",
       "                                               model  \n",
       "3  LogisticRegression(C=0.3, class_weight='balanc...  \n",
       "0  LogisticRegression(C=0.3, fit_intercept=False,...  "
      ]
     },
     "execution_count": 27,
     "metadata": {},
     "output_type": "execute_result"
    }
   ],
   "source": [
    "best_models[best_models['model_type'] == 'Logistic Regression'].sort_values(\n",
    "    by='f1_score', ascending=False\n",
    ")"
   ]
  },
  {
   "cell_type": "markdown",
   "metadata": {},
   "source": [
    "По сравнению с несбалансированными классами, данный вид борьбы с дисбалансом дал значительный прирост в метрике F1, метрика ROC-AUC увеличилась до 0.77. Тем не менее, данная модель все равно не позволяет предсказать результат с достаточным для проекта значением F1."
   ]
  },
  {
   "cell_type": "markdown",
   "metadata": {},
   "source": [
    "#### Решающее дерево "
   ]
  },
  {
   "cell_type": "code",
   "execution_count": 28,
   "metadata": {},
   "outputs": [
    {
     "name": "stdout",
     "output_type": "stream",
     "text": [
      "Лучшая модель: DecisionTreeClassifier(class_weight='balanced', max_depth=5,\n",
      "                       max_features='sqrt', min_samples_leaf=2,\n",
      "                       random_state=12345)\n",
      "Наибольшая метрика F1: 0.569550930996714\n",
      "Метрика ROC-AUC: 0.7130993715180953\n"
     ]
    }
   ],
   "source": [
    "best_f1, roc_auc, best_model = get_best_decision_tree(feature_train, target_train, 'balanced')\n",
    "\n",
    "add_new_model(\n",
    "    model_type='Decision Tree',\n",
    "    balance='balanced class weight',\n",
    "    f1=best_f1,\n",
    "    roc_auc=roc_auc,\n",
    "    model=best_model\n",
    ")"
   ]
  },
  {
   "cell_type": "code",
   "execution_count": 29,
   "metadata": {},
   "outputs": [
    {
     "data": {
      "text/html": [
       "<div>\n",
       "<style scoped>\n",
       "    .dataframe tbody tr th:only-of-type {\n",
       "        vertical-align: middle;\n",
       "    }\n",
       "\n",
       "    .dataframe tbody tr th {\n",
       "        vertical-align: top;\n",
       "    }\n",
       "\n",
       "    .dataframe thead th {\n",
       "        text-align: right;\n",
       "    }\n",
       "</style>\n",
       "<table border=\"1\" class=\"dataframe\">\n",
       "  <thead>\n",
       "    <tr style=\"text-align: right;\">\n",
       "      <th></th>\n",
       "      <th>model_type</th>\n",
       "      <th>balance</th>\n",
       "      <th>f1_score</th>\n",
       "      <th>roc_auc_score</th>\n",
       "      <th>model</th>\n",
       "    </tr>\n",
       "  </thead>\n",
       "  <tbody>\n",
       "    <tr>\n",
       "      <th>4</th>\n",
       "      <td>Decision Tree</td>\n",
       "      <td>balanced class weight</td>\n",
       "      <td>0.569551</td>\n",
       "      <td>0.713099</td>\n",
       "      <td>DecisionTreeClassifier(class_weight='balanced'...</td>\n",
       "    </tr>\n",
       "    <tr>\n",
       "      <th>1</th>\n",
       "      <td>Decision Tree</td>\n",
       "      <td>unbalanced</td>\n",
       "      <td>0.555387</td>\n",
       "      <td>0.723879</td>\n",
       "      <td>DecisionTreeClassifier(max_depth=5, max_featur...</td>\n",
       "    </tr>\n",
       "  </tbody>\n",
       "</table>\n",
       "</div>"
      ],
      "text/plain": [
       "      model_type                balance  f1_score  roc_auc_score  \\\n",
       "4  Decision Tree  balanced class weight  0.569551       0.713099   \n",
       "1  Decision Tree             unbalanced  0.555387       0.723879   \n",
       "\n",
       "                                               model  \n",
       "4  DecisionTreeClassifier(class_weight='balanced'...  \n",
       "1  DecisionTreeClassifier(max_depth=5, max_featur...  "
      ]
     },
     "execution_count": 29,
     "metadata": {},
     "output_type": "execute_result"
    }
   ],
   "source": [
    "best_models[best_models['model_type'] == 'Decision Tree'].sort_values(\n",
    "    by='f1_score', ascending=False\n",
    ")"
   ]
  },
  {
   "cell_type": "markdown",
   "metadata": {},
   "source": [
    "В случае с моделью типа Решающее дерево прирост значения метрики F1 минимален, и все еще меньше порогового значения. Метрика ROC-AUC увеличилась, но всего на 0.01."
   ]
  },
  {
   "cell_type": "markdown",
   "metadata": {},
   "source": [
    "#### Случайный лес "
   ]
  },
  {
   "cell_type": "code",
   "execution_count": 30,
   "metadata": {
    "scrolled": false
   },
   "outputs": [
    {
     "name": "stdout",
     "output_type": "stream",
     "text": [
      "Лучшая модель: RandomForestClassifier(class_weight='balanced', criterion='entropy',\n",
      "                       max_depth=10, max_features='sqrt', min_samples_leaf=3,\n",
      "                       n_estimators=40, n_jobs=-1, random_state=12345)\n",
      "Наибольшая метрика F1: 0.6358511837655018\n",
      "Метрика ROC-AUC: 0.807256727901814\n"
     ]
    }
   ],
   "source": [
    "best_f1, roc_auc, best_model = get_best_random_forest(feature_train, target_train, 'balanced')\n",
    "\n",
    "add_new_model(\n",
    "    model_type='Random Forest',\n",
    "    balance='balanced class weight',\n",
    "    f1=best_f1,\n",
    "    roc_auc=roc_auc,\n",
    "    model=best_model\n",
    ")"
   ]
  },
  {
   "cell_type": "code",
   "execution_count": 31,
   "metadata": {},
   "outputs": [
    {
     "data": {
      "text/html": [
       "<div>\n",
       "<style scoped>\n",
       "    .dataframe tbody tr th:only-of-type {\n",
       "        vertical-align: middle;\n",
       "    }\n",
       "\n",
       "    .dataframe tbody tr th {\n",
       "        vertical-align: top;\n",
       "    }\n",
       "\n",
       "    .dataframe thead th {\n",
       "        text-align: right;\n",
       "    }\n",
       "</style>\n",
       "<table border=\"1\" class=\"dataframe\">\n",
       "  <thead>\n",
       "    <tr style=\"text-align: right;\">\n",
       "      <th></th>\n",
       "      <th>model_type</th>\n",
       "      <th>balance</th>\n",
       "      <th>f1_score</th>\n",
       "      <th>roc_auc_score</th>\n",
       "      <th>model</th>\n",
       "    </tr>\n",
       "  </thead>\n",
       "  <tbody>\n",
       "    <tr>\n",
       "      <th>5</th>\n",
       "      <td>Random Forest</td>\n",
       "      <td>balanced class weight</td>\n",
       "      <td>0.635851</td>\n",
       "      <td>0.807257</td>\n",
       "      <td>(DecisionTreeClassifier(criterion='entropy', m...</td>\n",
       "    </tr>\n",
       "    <tr>\n",
       "      <th>2</th>\n",
       "      <td>Random Forest</td>\n",
       "      <td>unbalanced</td>\n",
       "      <td>0.599106</td>\n",
       "      <td>0.802904</td>\n",
       "      <td>(DecisionTreeClassifier(max_depth=9, min_sampl...</td>\n",
       "    </tr>\n",
       "  </tbody>\n",
       "</table>\n",
       "</div>"
      ],
      "text/plain": [
       "      model_type                balance  f1_score  roc_auc_score  \\\n",
       "5  Random Forest  balanced class weight  0.635851       0.807257   \n",
       "2  Random Forest             unbalanced  0.599106       0.802904   \n",
       "\n",
       "                                               model  \n",
       "5  (DecisionTreeClassifier(criterion='entropy', m...  \n",
       "2  (DecisionTreeClassifier(max_depth=9, min_sampl...  "
      ]
     },
     "execution_count": 31,
     "metadata": {},
     "output_type": "execute_result"
    }
   ],
   "source": [
    "best_models[best_models['model_type'] == 'Random Forest'].sort_values(\n",
    "    by='f1_score', ascending=False\n",
    ")"
   ]
  },
  {
   "cell_type": "markdown",
   "metadata": {},
   "source": [
    "Можно заметить, что данный вид борьбы с дисбалансом позволил улучшить значение метрики F1 для модели типа Случаный лес, модель обученная на таких данных гораздо точнее. Значение метрики ROC-AUC улучшилось незначительно."
   ]
  },
  {
   "cell_type": "markdown",
   "metadata": {},
   "source": [
    "#### Промежуточный вывод"
   ]
  },
  {
   "cell_type": "code",
   "execution_count": 32,
   "metadata": {},
   "outputs": [
    {
     "data": {
      "text/html": [
       "<div>\n",
       "<style scoped>\n",
       "    .dataframe tbody tr th:only-of-type {\n",
       "        vertical-align: middle;\n",
       "    }\n",
       "\n",
       "    .dataframe tbody tr th {\n",
       "        vertical-align: top;\n",
       "    }\n",
       "\n",
       "    .dataframe thead th {\n",
       "        text-align: right;\n",
       "    }\n",
       "</style>\n",
       "<table border=\"1\" class=\"dataframe\">\n",
       "  <thead>\n",
       "    <tr style=\"text-align: right;\">\n",
       "      <th></th>\n",
       "      <th>model_type</th>\n",
       "      <th>balance</th>\n",
       "      <th>f1_score</th>\n",
       "      <th>roc_auc_score</th>\n",
       "      <th>model</th>\n",
       "    </tr>\n",
       "  </thead>\n",
       "  <tbody>\n",
       "    <tr>\n",
       "      <th>5</th>\n",
       "      <td>Random Forest</td>\n",
       "      <td>balanced class weight</td>\n",
       "      <td>0.635851</td>\n",
       "      <td>0.807257</td>\n",
       "      <td>(DecisionTreeClassifier(criterion='entropy', m...</td>\n",
       "    </tr>\n",
       "    <tr>\n",
       "      <th>4</th>\n",
       "      <td>Decision Tree</td>\n",
       "      <td>balanced class weight</td>\n",
       "      <td>0.569551</td>\n",
       "      <td>0.713099</td>\n",
       "      <td>DecisionTreeClassifier(class_weight='balanced'...</td>\n",
       "    </tr>\n",
       "    <tr>\n",
       "      <th>3</th>\n",
       "      <td>Logistic Regression</td>\n",
       "      <td>balanced class weight</td>\n",
       "      <td>0.495971</td>\n",
       "      <td>0.766076</td>\n",
       "      <td>LogisticRegression(C=0.3, class_weight='balanc...</td>\n",
       "    </tr>\n",
       "  </tbody>\n",
       "</table>\n",
       "</div>"
      ],
      "text/plain": [
       "            model_type                balance  f1_score  roc_auc_score  \\\n",
       "5        Random Forest  balanced class weight  0.635851       0.807257   \n",
       "4        Decision Tree  balanced class weight  0.569551       0.713099   \n",
       "3  Logistic Regression  balanced class weight  0.495971       0.766076   \n",
       "\n",
       "                                               model  \n",
       "5  (DecisionTreeClassifier(criterion='entropy', m...  \n",
       "4  DecisionTreeClassifier(class_weight='balanced'...  \n",
       "3  LogisticRegression(C=0.3, class_weight='balanc...  "
      ]
     },
     "execution_count": 32,
     "metadata": {},
     "output_type": "execute_result"
    }
   ],
   "source": [
    "best_models[best_models['balance'] == 'balanced class weight'].sort_values(by='f1_score', ascending=False)"
   ]
  },
  {
   "cell_type": "markdown",
   "metadata": {},
   "source": [
    "При таком методе учета дисбаланса классов лучше всего себя снова показала модель Случаного леса. Помимо метрики F1, которая, как и при несбалансированных данных выше минимального порогового значения, значение метрики ROC-AUC тоже сильно возросло, а значит возросло и качество модели."
   ]
  },
  {
   "cell_type": "markdown",
   "metadata": {},
   "source": [
    "### Увеличение выборки "
   ]
  },
  {
   "cell_type": "markdown",
   "metadata": {},
   "source": [
    "Как уже было описано выше, количество строк со значением `1` примерно в 4 раза меньше, чем со значение `0`.\n",
    "Поэтому, увеличим количество таких объектов в тренировочной выборке в четыре раза."
   ]
  },
  {
   "cell_type": "code",
   "execution_count": 33,
   "metadata": {
    "scrolled": true
   },
   "outputs": [],
   "source": [
    "features_zeros = feature_train[target_train == 0] \n",
    "features_ones = feature_train[target_train == 1] \n",
    "target_zeros = target_train[target_train == 0] \n",
    "target_ones = target_train[target_train == 1]\n",
    "features_upsampled = pd.concat([features_zeros] + [features_ones] * 4)\n",
    "target_upsampled = pd.concat([target_zeros] + [target_ones] * 4)\n",
    "features_upsampled, target_upsampled = shuffle( features_upsampled, target_upsampled, random_state=12345)"
   ]
  },
  {
   "cell_type": "markdown",
   "metadata": {},
   "source": [
    "Проверим, как теперь выглядит баланс классов."
   ]
  },
  {
   "cell_type": "code",
   "execution_count": 34,
   "metadata": {},
   "outputs": [
    {
     "data": {
      "text/plain": [
       "<AxesSubplot:>"
      ]
     },
     "execution_count": 34,
     "metadata": {},
     "output_type": "execute_result"
    },
    {
     "data": {
      "image/png": "[encoded data removed]",
      "text/plain": [
       "<Figure size 432x288 with 1 Axes>"
      ]
     },
     "metadata": {
      "needs_background": "light"
     },
     "output_type": "display_data"
    }
   ],
   "source": [
    "target_upsampled.value_counts().hist()"
   ]
  },
  {
   "cell_type": "markdown",
   "metadata": {},
   "source": [
    "Убедившись, что теперь количество объектов разных классов одинаково, будем обучать каждую из моделей на новой тренировочной выборке, а затем проверим на валидационной выборке, насколько улучшится результат."
   ]
  },
  {
   "cell_type": "markdown",
   "metadata": {},
   "source": [
    "#### Логистическая регрессия"
   ]
  },
  {
   "cell_type": "code",
   "execution_count": 35,
   "metadata": {
    "scrolled": true
   },
   "outputs": [
    {
     "name": "stdout",
     "output_type": "stream",
     "text": [
      "Лучшая модель: LogisticRegression(C=0.3, fit_intercept=False, random_state=12345,\n",
      "                   solver='liblinear', tol=1e-05)\n",
      "Наибольшая метрика F1: 0.4964157706093189\n",
      "Метрика ROC-AUC: 0.7660054198247025\n"
     ]
    }
   ],
   "source": [
    "best_f1, roc_auc, best_model = get_best_log_reg(features_upsampled, target_upsampled, None)\n",
    "\n",
    "add_new_model(\n",
    "    model_type='Logistic Regression',\n",
    "    balance='upsampled',\n",
    "    f1=best_f1,\n",
    "    roc_auc=roc_auc,\n",
    "    model=best_model\n",
    ") "
   ]
  },
  {
   "cell_type": "code",
   "execution_count": 36,
   "metadata": {},
   "outputs": [
    {
     "data": {
      "text/html": [
       "<div>\n",
       "<style scoped>\n",
       "    .dataframe tbody tr th:only-of-type {\n",
       "        vertical-align: middle;\n",
       "    }\n",
       "\n",
       "    .dataframe tbody tr th {\n",
       "        vertical-align: top;\n",
       "    }\n",
       "\n",
       "    .dataframe thead th {\n",
       "        text-align: right;\n",
       "    }\n",
       "</style>\n",
       "<table border=\"1\" class=\"dataframe\">\n",
       "  <thead>\n",
       "    <tr style=\"text-align: right;\">\n",
       "      <th></th>\n",
       "      <th>model_type</th>\n",
       "      <th>balance</th>\n",
       "      <th>f1_score</th>\n",
       "      <th>roc_auc_score</th>\n",
       "      <th>model</th>\n",
       "    </tr>\n",
       "  </thead>\n",
       "  <tbody>\n",
       "    <tr>\n",
       "      <th>6</th>\n",
       "      <td>Logistic Regression</td>\n",
       "      <td>upsampled</td>\n",
       "      <td>0.496416</td>\n",
       "      <td>0.766005</td>\n",
       "      <td>LogisticRegression(C=0.3, fit_intercept=False,...</td>\n",
       "    </tr>\n",
       "    <tr>\n",
       "      <th>3</th>\n",
       "      <td>Logistic Regression</td>\n",
       "      <td>balanced class weight</td>\n",
       "      <td>0.495971</td>\n",
       "      <td>0.766076</td>\n",
       "      <td>LogisticRegression(C=0.3, class_weight='balanc...</td>\n",
       "    </tr>\n",
       "    <tr>\n",
       "      <th>0</th>\n",
       "      <td>Logistic Regression</td>\n",
       "      <td>unbalanced</td>\n",
       "      <td>0.366718</td>\n",
       "      <td>0.739711</td>\n",
       "      <td>LogisticRegression(C=0.3, fit_intercept=False,...</td>\n",
       "    </tr>\n",
       "  </tbody>\n",
       "</table>\n",
       "</div>"
      ],
      "text/plain": [
       "            model_type                balance  f1_score  roc_auc_score  \\\n",
       "6  Logistic Regression              upsampled  0.496416       0.766005   \n",
       "3  Logistic Regression  balanced class weight  0.495971       0.766076   \n",
       "0  Logistic Regression             unbalanced  0.366718       0.739711   \n",
       "\n",
       "                                               model  \n",
       "6  LogisticRegression(C=0.3, fit_intercept=False,...  \n",
       "3  LogisticRegression(C=0.3, class_weight='balanc...  \n",
       "0  LogisticRegression(C=0.3, fit_intercept=False,...  "
      ]
     },
     "execution_count": 36,
     "metadata": {},
     "output_type": "execute_result"
    }
   ],
   "source": [
    "best_models[best_models['model_type'] == 'Logistic Regression'].sort_values(\n",
    "    by='f1_score', ascending=False\n",
    ")"
   ]
  },
  {
   "cell_type": "markdown",
   "metadata": {},
   "source": [
    "Как мы видим, увеличение выборки не дало значительных изменений в обеих метриках. Разность значений в пределах тысячных (в случае F1) и десятитысячных долей (в случае AUC-ROC)."
   ]
  },
  {
   "cell_type": "markdown",
   "metadata": {},
   "source": [
    "#### Решающее дерево "
   ]
  },
  {
   "cell_type": "code",
   "execution_count": 37,
   "metadata": {
    "scrolled": true
   },
   "outputs": [
    {
     "name": "stdout",
     "output_type": "stream",
     "text": [
      "Лучшая модель: DecisionTreeClassifier(max_depth=5, max_features='sqrt', min_samples_leaf=2,\n",
      "                       random_state=12345)\n",
      "Наибольшая метрика F1: 0.569550930996714\n",
      "Метрика ROC-AUC: 0.7130993715180953\n"
     ]
    }
   ],
   "source": [
    "best_f1, roc_auc, best_model = get_best_decision_tree(features_upsampled, target_upsampled, None)\n",
    "\n",
    "\n",
    "add_new_model(\n",
    "    model_type='Decision Tree',\n",
    "    balance='upsampled',\n",
    "    f1=best_f1,\n",
    "    roc_auc=roc_auc,\n",
    "    model=best_model\n",
    ")"
   ]
  },
  {
   "cell_type": "code",
   "execution_count": 38,
   "metadata": {},
   "outputs": [
    {
     "data": {
      "text/html": [
       "<div>\n",
       "<style scoped>\n",
       "    .dataframe tbody tr th:only-of-type {\n",
       "        vertical-align: middle;\n",
       "    }\n",
       "\n",
       "    .dataframe tbody tr th {\n",
       "        vertical-align: top;\n",
       "    }\n",
       "\n",
       "    .dataframe thead th {\n",
       "        text-align: right;\n",
       "    }\n",
       "</style>\n",
       "<table border=\"1\" class=\"dataframe\">\n",
       "  <thead>\n",
       "    <tr style=\"text-align: right;\">\n",
       "      <th></th>\n",
       "      <th>model_type</th>\n",
       "      <th>balance</th>\n",
       "      <th>f1_score</th>\n",
       "      <th>roc_auc_score</th>\n",
       "      <th>model</th>\n",
       "    </tr>\n",
       "  </thead>\n",
       "  <tbody>\n",
       "    <tr>\n",
       "      <th>4</th>\n",
       "      <td>Decision Tree</td>\n",
       "      <td>balanced class weight</td>\n",
       "      <td>0.569551</td>\n",
       "      <td>0.713099</td>\n",
       "      <td>DecisionTreeClassifier(class_weight='balanced'...</td>\n",
       "    </tr>\n",
       "    <tr>\n",
       "      <th>7</th>\n",
       "      <td>Decision Tree</td>\n",
       "      <td>upsampled</td>\n",
       "      <td>0.569551</td>\n",
       "      <td>0.713099</td>\n",
       "      <td>DecisionTreeClassifier(max_depth=5, max_featur...</td>\n",
       "    </tr>\n",
       "    <tr>\n",
       "      <th>1</th>\n",
       "      <td>Decision Tree</td>\n",
       "      <td>unbalanced</td>\n",
       "      <td>0.555387</td>\n",
       "      <td>0.723879</td>\n",
       "      <td>DecisionTreeClassifier(max_depth=5, max_featur...</td>\n",
       "    </tr>\n",
       "  </tbody>\n",
       "</table>\n",
       "</div>"
      ],
      "text/plain": [
       "      model_type                balance  f1_score  roc_auc_score  \\\n",
       "4  Decision Tree  balanced class weight  0.569551       0.713099   \n",
       "7  Decision Tree              upsampled  0.569551       0.713099   \n",
       "1  Decision Tree             unbalanced  0.555387       0.723879   \n",
       "\n",
       "                                               model  \n",
       "4  DecisionTreeClassifier(class_weight='balanced'...  \n",
       "7  DecisionTreeClassifier(max_depth=5, max_featur...  \n",
       "1  DecisionTreeClassifier(max_depth=5, max_featur...  "
      ]
     },
     "execution_count": 38,
     "metadata": {},
     "output_type": "execute_result"
    }
   ],
   "source": [
    "best_models[best_models['model_type'] == 'Decision Tree'].sort_values(\n",
    "    by='f1_score', ascending=False\n",
    ")"
   ]
  },
  {
   "cell_type": "markdown",
   "metadata": {},
   "source": [
    "Такой же вывод можно сделать и по модели типа \"Решающее дерево\". Значение метрик для модели, обученной на увеличенной тренировочной выборке не дало прироста в качестве модели."
   ]
  },
  {
   "cell_type": "markdown",
   "metadata": {},
   "source": [
    "#### Случайный лес"
   ]
  },
  {
   "cell_type": "code",
   "execution_count": 39,
   "metadata": {
    "scrolled": true
   },
   "outputs": [
    {
     "name": "stdout",
     "output_type": "stream",
     "text": [
      "Лучшая модель: RandomForestClassifier(criterion='entropy', max_depth=10, max_features='sqrt',\n",
      "                       min_samples_leaf=4, n_estimators=10, n_jobs=-1,\n",
      "                       random_state=12345)\n",
      "Наибольшая метрика F1: 0.6330178759200842\n",
      "Метрика ROC-AUC: 0.807256727901814\n"
     ]
    }
   ],
   "source": [
    "best_f1, roc_auc, best_model = get_best_random_forest(features_upsampled, target_upsampled, None)\n",
    "\n",
    "add_new_model(\n",
    "    model_type='Random Forest',\n",
    "    balance='upsampled',\n",
    "    f1=best_f1,\n",
    "    roc_auc=roc_auc,\n",
    "    model=best_model\n",
    ")"
   ]
  },
  {
   "cell_type": "code",
   "execution_count": 40,
   "metadata": {},
   "outputs": [
    {
     "data": {
      "text/html": [
       "<div>\n",
       "<style scoped>\n",
       "    .dataframe tbody tr th:only-of-type {\n",
       "        vertical-align: middle;\n",
       "    }\n",
       "\n",
       "    .dataframe tbody tr th {\n",
       "        vertical-align: top;\n",
       "    }\n",
       "\n",
       "    .dataframe thead th {\n",
       "        text-align: right;\n",
       "    }\n",
       "</style>\n",
       "<table border=\"1\" class=\"dataframe\">\n",
       "  <thead>\n",
       "    <tr style=\"text-align: right;\">\n",
       "      <th></th>\n",
       "      <th>model_type</th>\n",
       "      <th>balance</th>\n",
       "      <th>f1_score</th>\n",
       "      <th>roc_auc_score</th>\n",
       "      <th>model</th>\n",
       "    </tr>\n",
       "  </thead>\n",
       "  <tbody>\n",
       "    <tr>\n",
       "      <th>5</th>\n",
       "      <td>Random Forest</td>\n",
       "      <td>balanced class weight</td>\n",
       "      <td>0.635851</td>\n",
       "      <td>0.807257</td>\n",
       "      <td>(DecisionTreeClassifier(criterion='entropy', m...</td>\n",
       "    </tr>\n",
       "    <tr>\n",
       "      <th>8</th>\n",
       "      <td>Random Forest</td>\n",
       "      <td>upsampled</td>\n",
       "      <td>0.633018</td>\n",
       "      <td>0.807257</td>\n",
       "      <td>(DecisionTreeClassifier(criterion='entropy', m...</td>\n",
       "    </tr>\n",
       "    <tr>\n",
       "      <th>2</th>\n",
       "      <td>Random Forest</td>\n",
       "      <td>unbalanced</td>\n",
       "      <td>0.599106</td>\n",
       "      <td>0.802904</td>\n",
       "      <td>(DecisionTreeClassifier(max_depth=9, min_sampl...</td>\n",
       "    </tr>\n",
       "  </tbody>\n",
       "</table>\n",
       "</div>"
      ],
      "text/plain": [
       "      model_type                balance  f1_score  roc_auc_score  \\\n",
       "5  Random Forest  balanced class weight  0.635851       0.807257   \n",
       "8  Random Forest              upsampled  0.633018       0.807257   \n",
       "2  Random Forest             unbalanced  0.599106       0.802904   \n",
       "\n",
       "                                               model  \n",
       "5  (DecisionTreeClassifier(criterion='entropy', m...  \n",
       "8  (DecisionTreeClassifier(criterion='entropy', m...  \n",
       "2  (DecisionTreeClassifier(max_depth=9, min_sampl...  "
      ]
     },
     "execution_count": 40,
     "metadata": {},
     "output_type": "execute_result"
    }
   ],
   "source": [
    "best_models[best_models['model_type'] == 'Random Forest'].sort_values(\n",
    "    by='f1_score', ascending=False\n",
    ")"
   ]
  },
  {
   "cell_type": "markdown",
   "metadata": {},
   "source": [
    "В случае модели случайного леса, увеличение тренировочной выборки не дало явного прироста значений рассматриваемых метрик. При этом значение метрики ROC-AUC осталось неизменным."
   ]
  },
  {
   "cell_type": "markdown",
   "metadata": {},
   "source": [
    "#### Промежуточный вывод"
   ]
  },
  {
   "cell_type": "code",
   "execution_count": 41,
   "metadata": {},
   "outputs": [
    {
     "data": {
      "text/html": [
       "<div>\n",
       "<style scoped>\n",
       "    .dataframe tbody tr th:only-of-type {\n",
       "        vertical-align: middle;\n",
       "    }\n",
       "\n",
       "    .dataframe tbody tr th {\n",
       "        vertical-align: top;\n",
       "    }\n",
       "\n",
       "    .dataframe thead th {\n",
       "        text-align: right;\n",
       "    }\n",
       "</style>\n",
       "<table border=\"1\" class=\"dataframe\">\n",
       "  <thead>\n",
       "    <tr style=\"text-align: right;\">\n",
       "      <th></th>\n",
       "      <th>model_type</th>\n",
       "      <th>balance</th>\n",
       "      <th>f1_score</th>\n",
       "      <th>roc_auc_score</th>\n",
       "      <th>model</th>\n",
       "    </tr>\n",
       "  </thead>\n",
       "  <tbody>\n",
       "    <tr>\n",
       "      <th>8</th>\n",
       "      <td>Random Forest</td>\n",
       "      <td>upsampled</td>\n",
       "      <td>0.633018</td>\n",
       "      <td>0.807257</td>\n",
       "      <td>(DecisionTreeClassifier(criterion='entropy', m...</td>\n",
       "    </tr>\n",
       "    <tr>\n",
       "      <th>7</th>\n",
       "      <td>Decision Tree</td>\n",
       "      <td>upsampled</td>\n",
       "      <td>0.569551</td>\n",
       "      <td>0.713099</td>\n",
       "      <td>DecisionTreeClassifier(max_depth=5, max_featur...</td>\n",
       "    </tr>\n",
       "    <tr>\n",
       "      <th>6</th>\n",
       "      <td>Logistic Regression</td>\n",
       "      <td>upsampled</td>\n",
       "      <td>0.496416</td>\n",
       "      <td>0.766005</td>\n",
       "      <td>LogisticRegression(C=0.3, fit_intercept=False,...</td>\n",
       "    </tr>\n",
       "  </tbody>\n",
       "</table>\n",
       "</div>"
      ],
      "text/plain": [
       "            model_type    balance  f1_score  roc_auc_score  \\\n",
       "8        Random Forest  upsampled  0.633018       0.807257   \n",
       "7        Decision Tree  upsampled  0.569551       0.713099   \n",
       "6  Logistic Regression  upsampled  0.496416       0.766005   \n",
       "\n",
       "                                               model  \n",
       "8  (DecisionTreeClassifier(criterion='entropy', m...  \n",
       "7  DecisionTreeClassifier(max_depth=5, max_featur...  \n",
       "6  LogisticRegression(C=0.3, fit_intercept=False,...  "
      ]
     },
     "execution_count": 41,
     "metadata": {},
     "output_type": "execute_result"
    }
   ],
   "source": [
    "best_models[best_models['balance'] == 'upsampled'].sort_values(by='f1_score', ascending=False)"
   ]
  },
  {
   "cell_type": "markdown",
   "metadata": {},
   "source": [
    "При использовании увеличенной выборки для обучения моделей лучше всего себя снова показала модель случайного леса. При этом, по сравнению с моделью, обученной на выборке, в которой у редкого класса увеличен вес, она не дала прироста в метриках."
   ]
  },
  {
   "cell_type": "markdown",
   "metadata": {},
   "source": [
    "### Уменьшение выборки"
   ]
  },
  {
   "cell_type": "markdown",
   "metadata": {},
   "source": [
    "Применим другую стратегию изменения тренировочной выборки. На этот раз, уменьшим долю большего класса."
   ]
  },
  {
   "cell_type": "code",
   "execution_count": 42,
   "metadata": {},
   "outputs": [],
   "source": [
    "features_zeros = feature_train[target_train == 0] \n",
    "features_ones = feature_train[target_train == 1] \n",
    "target_zeros = target_train[target_train == 0] \n",
    "target_ones = target_train[target_train == 1]\n",
    "features_downsampled = pd.concat(\n",
    "[features_zeros.sample(frac=0.25, random_state=12345)] + [features_ones])\n",
    "target_downsampled = pd.concat(\n",
    "[target_zeros.sample(frac=0.25, random_state=12345)] + [target_ones])\n",
    "feature_downsampled, target_downsampled = shuffle(features_downsampled, target_downsampled, random_state=12345)"
   ]
  },
  {
   "cell_type": "code",
   "execution_count": 43,
   "metadata": {
    "scrolled": true
   },
   "outputs": [
    {
     "data": {
      "text/plain": [
       "<AxesSubplot:>"
      ]
     },
     "execution_count": 43,
     "metadata": {},
     "output_type": "execute_result"
    },
    {
     "data": {
      "image/png": "[encoded data removed]",
      "text/plain": [
       "<Figure size 432x288 with 1 Axes>"
      ]
     },
     "metadata": {
      "needs_background": "light"
     },
     "output_type": "display_data"
    }
   ],
   "source": [
    "target_downsampled.value_counts().hist()"
   ]
  },
  {
   "cell_type": "markdown",
   "metadata": {},
   "source": [
    "Убедившись, что теперь количество объектов разных классов одинаково, будем обучать каждую из моделей на новой тренировочной выборке, а затем проверим на валидационной выборке, насколько улучшится результат."
   ]
  },
  {
   "cell_type": "markdown",
   "metadata": {},
   "source": [
    "#### Логистическая регрессия "
   ]
  },
  {
   "cell_type": "code",
   "execution_count": 44,
   "metadata": {
    "scrolled": true
   },
   "outputs": [
    {
     "name": "stdout",
     "output_type": "stream",
     "text": [
      "Лучшая модель: LogisticRegression(C=0.7000000000000002, fit_intercept=False,\n",
      "                   random_state=12345, solver='liblinear', tol=1e-05)\n",
      "Наибольшая метрика F1: 0.4977618621307072\n",
      "Метрика ROC-AUC: 0.7640531336386017\n"
     ]
    }
   ],
   "source": [
    "best_f1, roc_auc, best_model = get_best_log_reg(feature_downsampled, target_downsampled, None)\n",
    "\n",
    "\n",
    "add_new_model(\n",
    "    model_type='Logistic Regression',\n",
    "    balance='downsampled',\n",
    "    f1=best_f1,\n",
    "    roc_auc=roc_auc,\n",
    "    model=best_model\n",
    ") "
   ]
  },
  {
   "cell_type": "code",
   "execution_count": 45,
   "metadata": {},
   "outputs": [
    {
     "data": {
      "text/html": [
       "<div>\n",
       "<style scoped>\n",
       "    .dataframe tbody tr th:only-of-type {\n",
       "        vertical-align: middle;\n",
       "    }\n",
       "\n",
       "    .dataframe tbody tr th {\n",
       "        vertical-align: top;\n",
       "    }\n",
       "\n",
       "    .dataframe thead th {\n",
       "        text-align: right;\n",
       "    }\n",
       "</style>\n",
       "<table border=\"1\" class=\"dataframe\">\n",
       "  <thead>\n",
       "    <tr style=\"text-align: right;\">\n",
       "      <th></th>\n",
       "      <th>model_type</th>\n",
       "      <th>balance</th>\n",
       "      <th>f1_score</th>\n",
       "      <th>roc_auc_score</th>\n",
       "      <th>model</th>\n",
       "    </tr>\n",
       "  </thead>\n",
       "  <tbody>\n",
       "    <tr>\n",
       "      <th>9</th>\n",
       "      <td>Logistic Regression</td>\n",
       "      <td>downsampled</td>\n",
       "      <td>0.497762</td>\n",
       "      <td>0.764053</td>\n",
       "      <td>LogisticRegression(C=0.7000000000000002, fit_i...</td>\n",
       "    </tr>\n",
       "    <tr>\n",
       "      <th>6</th>\n",
       "      <td>Logistic Regression</td>\n",
       "      <td>upsampled</td>\n",
       "      <td>0.496416</td>\n",
       "      <td>0.766005</td>\n",
       "      <td>LogisticRegression(C=0.3, fit_intercept=False,...</td>\n",
       "    </tr>\n",
       "    <tr>\n",
       "      <th>3</th>\n",
       "      <td>Logistic Regression</td>\n",
       "      <td>balanced class weight</td>\n",
       "      <td>0.495971</td>\n",
       "      <td>0.766076</td>\n",
       "      <td>LogisticRegression(C=0.3, class_weight='balanc...</td>\n",
       "    </tr>\n",
       "    <tr>\n",
       "      <th>0</th>\n",
       "      <td>Logistic Regression</td>\n",
       "      <td>unbalanced</td>\n",
       "      <td>0.366718</td>\n",
       "      <td>0.739711</td>\n",
       "      <td>LogisticRegression(C=0.3, fit_intercept=False,...</td>\n",
       "    </tr>\n",
       "  </tbody>\n",
       "</table>\n",
       "</div>"
      ],
      "text/plain": [
       "            model_type                balance  f1_score  roc_auc_score  \\\n",
       "9  Logistic Regression            downsampled  0.497762       0.764053   \n",
       "6  Logistic Regression              upsampled  0.496416       0.766005   \n",
       "3  Logistic Regression  balanced class weight  0.495971       0.766076   \n",
       "0  Logistic Regression             unbalanced  0.366718       0.739711   \n",
       "\n",
       "                                               model  \n",
       "9  LogisticRegression(C=0.7000000000000002, fit_i...  \n",
       "6  LogisticRegression(C=0.3, fit_intercept=False,...  \n",
       "3  LogisticRegression(C=0.3, class_weight='balanc...  \n",
       "0  LogisticRegression(C=0.3, fit_intercept=False,...  "
      ]
     },
     "execution_count": 45,
     "metadata": {},
     "output_type": "execute_result"
    }
   ],
   "source": [
    "best_models[best_models['model_type'] == 'Logistic Regression'].sort_values(\n",
    "    by='f1_score', ascending=False\n",
    ")"
   ]
  },
  {
   "cell_type": "markdown",
   "metadata": {},
   "source": [
    "Уменьшение выборки улучшило показатели модели, но совсем незначительное. Данная модель все еще не позволила повысить метрику F1 до необходимых значений."
   ]
  },
  {
   "cell_type": "markdown",
   "metadata": {},
   "source": [
    "#### Решающее дерево"
   ]
  },
  {
   "cell_type": "code",
   "execution_count": 46,
   "metadata": {
    "scrolled": true
   },
   "outputs": [
    {
     "name": "stdout",
     "output_type": "stream",
     "text": [
      "Лучшая модель: DecisionTreeClassifier(max_depth=5, max_features='sqrt', min_samples_leaf=4,\n",
      "                       random_state=12345)\n",
      "Наибольшая метрика F1: 0.5742574257425742\n",
      "Метрика ROC-AUC: 0.6976413781839957\n"
     ]
    }
   ],
   "source": [
    "best_f1, roc_auc, best_model = get_best_decision_tree(feature_downsampled, target_downsampled, None)\n",
    "\n",
    "add_new_model(\n",
    "    model_type='Decision Tree',\n",
    "    balance='downsampled',\n",
    "    f1=best_f1,\n",
    "    roc_auc=roc_auc,\n",
    "    model=best_model\n",
    ")"
   ]
  },
  {
   "cell_type": "code",
   "execution_count": 47,
   "metadata": {},
   "outputs": [
    {
     "data": {
      "text/html": [
       "<div>\n",
       "<style scoped>\n",
       "    .dataframe tbody tr th:only-of-type {\n",
       "        vertical-align: middle;\n",
       "    }\n",
       "\n",
       "    .dataframe tbody tr th {\n",
       "        vertical-align: top;\n",
       "    }\n",
       "\n",
       "    .dataframe thead th {\n",
       "        text-align: right;\n",
       "    }\n",
       "</style>\n",
       "<table border=\"1\" class=\"dataframe\">\n",
       "  <thead>\n",
       "    <tr style=\"text-align: right;\">\n",
       "      <th></th>\n",
       "      <th>model_type</th>\n",
       "      <th>balance</th>\n",
       "      <th>f1_score</th>\n",
       "      <th>roc_auc_score</th>\n",
       "      <th>model</th>\n",
       "    </tr>\n",
       "  </thead>\n",
       "  <tbody>\n",
       "    <tr>\n",
       "      <th>10</th>\n",
       "      <td>Decision Tree</td>\n",
       "      <td>downsampled</td>\n",
       "      <td>0.574257</td>\n",
       "      <td>0.697641</td>\n",
       "      <td>DecisionTreeClassifier(max_depth=5, max_featur...</td>\n",
       "    </tr>\n",
       "    <tr>\n",
       "      <th>4</th>\n",
       "      <td>Decision Tree</td>\n",
       "      <td>balanced class weight</td>\n",
       "      <td>0.569551</td>\n",
       "      <td>0.713099</td>\n",
       "      <td>DecisionTreeClassifier(class_weight='balanced'...</td>\n",
       "    </tr>\n",
       "    <tr>\n",
       "      <th>7</th>\n",
       "      <td>Decision Tree</td>\n",
       "      <td>upsampled</td>\n",
       "      <td>0.569551</td>\n",
       "      <td>0.713099</td>\n",
       "      <td>DecisionTreeClassifier(max_depth=5, max_featur...</td>\n",
       "    </tr>\n",
       "    <tr>\n",
       "      <th>1</th>\n",
       "      <td>Decision Tree</td>\n",
       "      <td>unbalanced</td>\n",
       "      <td>0.555387</td>\n",
       "      <td>0.723879</td>\n",
       "      <td>DecisionTreeClassifier(max_depth=5, max_featur...</td>\n",
       "    </tr>\n",
       "  </tbody>\n",
       "</table>\n",
       "</div>"
      ],
      "text/plain": [
       "       model_type                balance  f1_score  roc_auc_score  \\\n",
       "10  Decision Tree            downsampled  0.574257       0.697641   \n",
       "4   Decision Tree  balanced class weight  0.569551       0.713099   \n",
       "7   Decision Tree              upsampled  0.569551       0.713099   \n",
       "1   Decision Tree             unbalanced  0.555387       0.723879   \n",
       "\n",
       "                                                model  \n",
       "10  DecisionTreeClassifier(max_depth=5, max_featur...  \n",
       "4   DecisionTreeClassifier(class_weight='balanced'...  \n",
       "7   DecisionTreeClassifier(max_depth=5, max_featur...  \n",
       "1   DecisionTreeClassifier(max_depth=5, max_featur...  "
      ]
     },
     "execution_count": 47,
     "metadata": {},
     "output_type": "execute_result"
    }
   ],
   "source": [
    "best_models[best_models['model_type'] == 'Decision Tree'].sort_values(\n",
    "    by='f1_score', ascending=False\n",
    ")"
   ]
  },
  {
   "cell_type": "markdown",
   "metadata": {},
   "source": [
    "Модель решающего дерева, обученная на уменьшенной выборке показала лучший результат среди всех моделей, обученных на выборках с учетом дисбаланса классов, но значение F1 все еще не превышает порогового, а метрика ROC-AUC не превышает значения модели, обученной на несбалансированных данных."
   ]
  },
  {
   "cell_type": "markdown",
   "metadata": {},
   "source": [
    "#### Случайный лес"
   ]
  },
  {
   "cell_type": "code",
   "execution_count": 48,
   "metadata": {
    "scrolled": true
   },
   "outputs": [
    {
     "name": "stdout",
     "output_type": "stream",
     "text": [
      "Лучшая модель: RandomForestClassifier(max_depth=6, max_features='sqrt', n_estimators=10,\n",
      "                       n_jobs=-1, random_state=12345)\n",
      "Наибольшая метрика F1: 0.6125954198473281\n",
      "Метрика ROC-AUC: 0.8199904427198326\n"
     ]
    }
   ],
   "source": [
    "best_f1, roc_auc, best_model = get_best_random_forest(feature_downsampled, target_downsampled, None)\n",
    "\n",
    "add_new_model(\n",
    "    model_type='Random Forest',\n",
    "    balance='downsampled',\n",
    "    f1=best_f1,\n",
    "    roc_auc=roc_auc,\n",
    "    model=best_model\n",
    ")"
   ]
  },
  {
   "cell_type": "code",
   "execution_count": 49,
   "metadata": {},
   "outputs": [
    {
     "data": {
      "text/html": [
       "<div>\n",
       "<style scoped>\n",
       "    .dataframe tbody tr th:only-of-type {\n",
       "        vertical-align: middle;\n",
       "    }\n",
       "\n",
       "    .dataframe tbody tr th {\n",
       "        vertical-align: top;\n",
       "    }\n",
       "\n",
       "    .dataframe thead th {\n",
       "        text-align: right;\n",
       "    }\n",
       "</style>\n",
       "<table border=\"1\" class=\"dataframe\">\n",
       "  <thead>\n",
       "    <tr style=\"text-align: right;\">\n",
       "      <th></th>\n",
       "      <th>model_type</th>\n",
       "      <th>balance</th>\n",
       "      <th>f1_score</th>\n",
       "      <th>roc_auc_score</th>\n",
       "      <th>model</th>\n",
       "    </tr>\n",
       "  </thead>\n",
       "  <tbody>\n",
       "    <tr>\n",
       "      <th>5</th>\n",
       "      <td>Random Forest</td>\n",
       "      <td>balanced class weight</td>\n",
       "      <td>0.635851</td>\n",
       "      <td>0.807257</td>\n",
       "      <td>(DecisionTreeClassifier(criterion='entropy', m...</td>\n",
       "    </tr>\n",
       "    <tr>\n",
       "      <th>8</th>\n",
       "      <td>Random Forest</td>\n",
       "      <td>upsampled</td>\n",
       "      <td>0.633018</td>\n",
       "      <td>0.807257</td>\n",
       "      <td>(DecisionTreeClassifier(criterion='entropy', m...</td>\n",
       "    </tr>\n",
       "    <tr>\n",
       "      <th>11</th>\n",
       "      <td>Random Forest</td>\n",
       "      <td>downsampled</td>\n",
       "      <td>0.612595</td>\n",
       "      <td>0.819990</td>\n",
       "      <td>(DecisionTreeClassifier(max_depth=6, max_featu...</td>\n",
       "    </tr>\n",
       "    <tr>\n",
       "      <th>2</th>\n",
       "      <td>Random Forest</td>\n",
       "      <td>unbalanced</td>\n",
       "      <td>0.599106</td>\n",
       "      <td>0.802904</td>\n",
       "      <td>(DecisionTreeClassifier(max_depth=9, min_sampl...</td>\n",
       "    </tr>\n",
       "  </tbody>\n",
       "</table>\n",
       "</div>"
      ],
      "text/plain": [
       "       model_type                balance  f1_score  roc_auc_score  \\\n",
       "5   Random Forest  balanced class weight  0.635851       0.807257   \n",
       "8   Random Forest              upsampled  0.633018       0.807257   \n",
       "11  Random Forest            downsampled  0.612595       0.819990   \n",
       "2   Random Forest             unbalanced  0.599106       0.802904   \n",
       "\n",
       "                                                model  \n",
       "5   (DecisionTreeClassifier(criterion='entropy', m...  \n",
       "8   (DecisionTreeClassifier(criterion='entropy', m...  \n",
       "11  (DecisionTreeClassifier(max_depth=6, max_featu...  \n",
       "2   (DecisionTreeClassifier(max_depth=9, min_sampl...  "
      ]
     },
     "execution_count": 49,
     "metadata": {},
     "output_type": "execute_result"
    }
   ],
   "source": [
    "best_models[best_models['model_type'] == 'Random Forest'].sort_values(\n",
    "    by='f1_score', ascending=False\n",
    ")"
   ]
  },
  {
   "cell_type": "markdown",
   "metadata": {},
   "source": [
    "Как и в случае с решающим деревом, модель случайного леса не смогла увеличить значения метрик при обучении на уменьшенной выборке и, несмотря на более высокое значение метрики ROC-AUC, оказалась хуже, чем все остальные модели, обученные на сбалансированных данных."
   ]
  },
  {
   "cell_type": "markdown",
   "metadata": {},
   "source": [
    "#### Промежуточный вывод"
   ]
  },
  {
   "cell_type": "code",
   "execution_count": 50,
   "metadata": {},
   "outputs": [
    {
     "data": {
      "text/html": [
       "<div>\n",
       "<style scoped>\n",
       "    .dataframe tbody tr th:only-of-type {\n",
       "        vertical-align: middle;\n",
       "    }\n",
       "\n",
       "    .dataframe tbody tr th {\n",
       "        vertical-align: top;\n",
       "    }\n",
       "\n",
       "    .dataframe thead th {\n",
       "        text-align: right;\n",
       "    }\n",
       "</style>\n",
       "<table border=\"1\" class=\"dataframe\">\n",
       "  <thead>\n",
       "    <tr style=\"text-align: right;\">\n",
       "      <th></th>\n",
       "      <th>model_type</th>\n",
       "      <th>balance</th>\n",
       "      <th>f1_score</th>\n",
       "      <th>roc_auc_score</th>\n",
       "      <th>model</th>\n",
       "    </tr>\n",
       "  </thead>\n",
       "  <tbody>\n",
       "    <tr>\n",
       "      <th>11</th>\n",
       "      <td>Random Forest</td>\n",
       "      <td>downsampled</td>\n",
       "      <td>0.612595</td>\n",
       "      <td>0.819990</td>\n",
       "      <td>(DecisionTreeClassifier(max_depth=6, max_featu...</td>\n",
       "    </tr>\n",
       "    <tr>\n",
       "      <th>10</th>\n",
       "      <td>Decision Tree</td>\n",
       "      <td>downsampled</td>\n",
       "      <td>0.574257</td>\n",
       "      <td>0.697641</td>\n",
       "      <td>DecisionTreeClassifier(max_depth=5, max_featur...</td>\n",
       "    </tr>\n",
       "    <tr>\n",
       "      <th>9</th>\n",
       "      <td>Logistic Regression</td>\n",
       "      <td>downsampled</td>\n",
       "      <td>0.497762</td>\n",
       "      <td>0.764053</td>\n",
       "      <td>LogisticRegression(C=0.7000000000000002, fit_i...</td>\n",
       "    </tr>\n",
       "  </tbody>\n",
       "</table>\n",
       "</div>"
      ],
      "text/plain": [
       "             model_type      balance  f1_score  roc_auc_score  \\\n",
       "11        Random Forest  downsampled  0.612595       0.819990   \n",
       "10        Decision Tree  downsampled  0.574257       0.697641   \n",
       "9   Logistic Regression  downsampled  0.497762       0.764053   \n",
       "\n",
       "                                                model  \n",
       "11  (DecisionTreeClassifier(max_depth=6, max_featu...  \n",
       "10  DecisionTreeClassifier(max_depth=5, max_featur...  \n",
       "9   LogisticRegression(C=0.7000000000000002, fit_i...  "
      ]
     },
     "execution_count": 50,
     "metadata": {},
     "output_type": "execute_result"
    }
   ],
   "source": [
    "best_models[best_models['balance'] == 'downsampled'].sort_values(by='f1_score', ascending=False)"
   ]
  },
  {
   "cell_type": "markdown",
   "metadata": {},
   "source": [
    "Среди моделей, обученных на уменьшенной выборке, как и во всех других случаях, самой лучшей оказалась модель случайного леса. При этом, данный метод не позволил увеличить метрики моделей."
   ]
  },
  {
   "cell_type": "markdown",
   "metadata": {},
   "source": [
    "### Вывод"
   ]
  },
  {
   "cell_type": "code",
   "execution_count": 51,
   "metadata": {},
   "outputs": [
    {
     "data": {
      "text/html": [
       "<div>\n",
       "<style scoped>\n",
       "    .dataframe tbody tr th:only-of-type {\n",
       "        vertical-align: middle;\n",
       "    }\n",
       "\n",
       "    .dataframe tbody tr th {\n",
       "        vertical-align: top;\n",
       "    }\n",
       "\n",
       "    .dataframe thead th {\n",
       "        text-align: right;\n",
       "    }\n",
       "</style>\n",
       "<table border=\"1\" class=\"dataframe\">\n",
       "  <thead>\n",
       "    <tr style=\"text-align: right;\">\n",
       "      <th></th>\n",
       "      <th>model_type</th>\n",
       "      <th>balance</th>\n",
       "      <th>f1_score</th>\n",
       "      <th>roc_auc_score</th>\n",
       "      <th>model</th>\n",
       "    </tr>\n",
       "  </thead>\n",
       "  <tbody>\n",
       "    <tr>\n",
       "      <th>5</th>\n",
       "      <td>Random Forest</td>\n",
       "      <td>balanced class weight</td>\n",
       "      <td>0.635851</td>\n",
       "      <td>0.807257</td>\n",
       "      <td>(DecisionTreeClassifier(criterion='entropy', m...</td>\n",
       "    </tr>\n",
       "    <tr>\n",
       "      <th>8</th>\n",
       "      <td>Random Forest</td>\n",
       "      <td>upsampled</td>\n",
       "      <td>0.633018</td>\n",
       "      <td>0.807257</td>\n",
       "      <td>(DecisionTreeClassifier(criterion='entropy', m...</td>\n",
       "    </tr>\n",
       "    <tr>\n",
       "      <th>11</th>\n",
       "      <td>Random Forest</td>\n",
       "      <td>downsampled</td>\n",
       "      <td>0.612595</td>\n",
       "      <td>0.819990</td>\n",
       "      <td>(DecisionTreeClassifier(max_depth=6, max_featu...</td>\n",
       "    </tr>\n",
       "    <tr>\n",
       "      <th>2</th>\n",
       "      <td>Random Forest</td>\n",
       "      <td>unbalanced</td>\n",
       "      <td>0.599106</td>\n",
       "      <td>0.802904</td>\n",
       "      <td>(DecisionTreeClassifier(max_depth=9, min_sampl...</td>\n",
       "    </tr>\n",
       "    <tr>\n",
       "      <th>10</th>\n",
       "      <td>Decision Tree</td>\n",
       "      <td>downsampled</td>\n",
       "      <td>0.574257</td>\n",
       "      <td>0.697641</td>\n",
       "      <td>DecisionTreeClassifier(max_depth=5, max_featur...</td>\n",
       "    </tr>\n",
       "    <tr>\n",
       "      <th>4</th>\n",
       "      <td>Decision Tree</td>\n",
       "      <td>balanced class weight</td>\n",
       "      <td>0.569551</td>\n",
       "      <td>0.713099</td>\n",
       "      <td>DecisionTreeClassifier(class_weight='balanced'...</td>\n",
       "    </tr>\n",
       "    <tr>\n",
       "      <th>7</th>\n",
       "      <td>Decision Tree</td>\n",
       "      <td>upsampled</td>\n",
       "      <td>0.569551</td>\n",
       "      <td>0.713099</td>\n",
       "      <td>DecisionTreeClassifier(max_depth=5, max_featur...</td>\n",
       "    </tr>\n",
       "    <tr>\n",
       "      <th>1</th>\n",
       "      <td>Decision Tree</td>\n",
       "      <td>unbalanced</td>\n",
       "      <td>0.555387</td>\n",
       "      <td>0.723879</td>\n",
       "      <td>DecisionTreeClassifier(max_depth=5, max_featur...</td>\n",
       "    </tr>\n",
       "    <tr>\n",
       "      <th>9</th>\n",
       "      <td>Logistic Regression</td>\n",
       "      <td>downsampled</td>\n",
       "      <td>0.497762</td>\n",
       "      <td>0.764053</td>\n",
       "      <td>LogisticRegression(C=0.7000000000000002, fit_i...</td>\n",
       "    </tr>\n",
       "    <tr>\n",
       "      <th>6</th>\n",
       "      <td>Logistic Regression</td>\n",
       "      <td>upsampled</td>\n",
       "      <td>0.496416</td>\n",
       "      <td>0.766005</td>\n",
       "      <td>LogisticRegression(C=0.3, fit_intercept=False,...</td>\n",
       "    </tr>\n",
       "    <tr>\n",
       "      <th>3</th>\n",
       "      <td>Logistic Regression</td>\n",
       "      <td>balanced class weight</td>\n",
       "      <td>0.495971</td>\n",
       "      <td>0.766076</td>\n",
       "      <td>LogisticRegression(C=0.3, class_weight='balanc...</td>\n",
       "    </tr>\n",
       "    <tr>\n",
       "      <th>0</th>\n",
       "      <td>Logistic Regression</td>\n",
       "      <td>unbalanced</td>\n",
       "      <td>0.366718</td>\n",
       "      <td>0.739711</td>\n",
       "      <td>LogisticRegression(C=0.3, fit_intercept=False,...</td>\n",
       "    </tr>\n",
       "  </tbody>\n",
       "</table>\n",
       "</div>"
      ],
      "text/plain": [
       "             model_type                balance  f1_score  roc_auc_score  \\\n",
       "5         Random Forest  balanced class weight  0.635851       0.807257   \n",
       "8         Random Forest              upsampled  0.633018       0.807257   \n",
       "11        Random Forest            downsampled  0.612595       0.819990   \n",
       "2         Random Forest             unbalanced  0.599106       0.802904   \n",
       "10        Decision Tree            downsampled  0.574257       0.697641   \n",
       "4         Decision Tree  balanced class weight  0.569551       0.713099   \n",
       "7         Decision Tree              upsampled  0.569551       0.713099   \n",
       "1         Decision Tree             unbalanced  0.555387       0.723879   \n",
       "9   Logistic Regression            downsampled  0.497762       0.764053   \n",
       "6   Logistic Regression              upsampled  0.496416       0.766005   \n",
       "3   Logistic Regression  balanced class weight  0.495971       0.766076   \n",
       "0   Logistic Regression             unbalanced  0.366718       0.739711   \n",
       "\n",
       "                                                model  \n",
       "5   (DecisionTreeClassifier(criterion='entropy', m...  \n",
       "8   (DecisionTreeClassifier(criterion='entropy', m...  \n",
       "11  (DecisionTreeClassifier(max_depth=6, max_featu...  \n",
       "2   (DecisionTreeClassifier(max_depth=9, min_sampl...  \n",
       "10  DecisionTreeClassifier(max_depth=5, max_featur...  \n",
       "4   DecisionTreeClassifier(class_weight='balanced'...  \n",
       "7   DecisionTreeClassifier(max_depth=5, max_featur...  \n",
       "1   DecisionTreeClassifier(max_depth=5, max_featur...  \n",
       "9   LogisticRegression(C=0.7000000000000002, fit_i...  \n",
       "6   LogisticRegression(C=0.3, fit_intercept=False,...  \n",
       "3   LogisticRegression(C=0.3, class_weight='balanc...  \n",
       "0   LogisticRegression(C=0.3, fit_intercept=False,...  "
      ]
     },
     "execution_count": 51,
     "metadata": {},
     "output_type": "execute_result"
    }
   ],
   "source": [
    "best_models.sort_values(by='f1_score', ascending=False)"
   ]
  },
  {
   "cell_type": "markdown",
   "metadata": {},
   "source": [
    "По итогам исследования моделей с учетом дисбаланса классов, можно отметить, что во всех случаях наилучший результат показывает модель Случайного леса, как на сбалансированной выборке, так и на выборке с дисбалансом.\n",
    "Для тестирования на тестовой выборке, возьмем три лучших модели, и сравним их показатели."
   ]
  },
  {
   "cell_type": "markdown",
   "metadata": {},
   "source": [
    "## Тестирование модели"
   ]
  },
  {
   "cell_type": "code",
   "execution_count": 52,
   "metadata": {},
   "outputs": [
    {
     "name": "stdout",
     "output_type": "stream",
     "text": [
      "RandomForestClassifier(class_weight='balanced', criterion='entropy',\n",
      "                       max_depth=10, max_features='sqrt', min_samples_leaf=3,\n",
      "                       n_estimators=40, n_jobs=-1, random_state=12345)\n",
      "F1 = 0.6059225512528474\n",
      "ROC-AUC = 0.7544968976315864\n",
      "RandomForestClassifier(criterion='entropy', max_depth=10, max_features='sqrt',\n",
      "                       min_samples_leaf=4, n_estimators=10, n_jobs=-1,\n",
      "                       random_state=12345)\n",
      "F1 = 0.5890985324947589\n",
      "ROC-AUC = 0.7528868741108518\n",
      "RandomForestClassifier(max_depth=6, max_features='sqrt', n_estimators=10,\n",
      "                       n_jobs=-1, random_state=12345)\n",
      "F1 = 0.5738476011288806\n",
      "ROC-AUC = 0.7543057635544043\n"
     ]
    }
   ],
   "source": [
    "for i in [5,8, 11]:\n",
    "    model = best_models.loc[i]['model']\n",
    "    test_predictions = model.predict(feature_test)\n",
    "    print(model)\n",
    "    print(f'F1 = {f1_score(target_test, test_predictions)}')\n",
    "    print(f'ROC-AUC = {roc_auc_score(target_test, test_predictions)}')"
   ]
  },
  {
   "cell_type": "markdown",
   "metadata": {},
   "source": [
    "На тестовой выборке, лучшие результаты имеет модель, обученная на сбалансированной выборке. Ее метрика F1 превышает минимально необходимый порог, а метрика AUC-ROC гораздо больше достигает 0.75, что говорит о наилучшем качестве этой модели.\n",
    "Все остальные модели не превысили необходимый минимальный порог метрики F1."
   ]
  },
  {
   "cell_type": "markdown",
   "metadata": {},
   "source": [
    "## Выводы по проекту"
   ]
  },
  {
   "cell_type": "markdown",
   "metadata": {},
   "source": [
    "В ходе работы над проектом, были предобработаны данные - в столбце с данными о количестве лет, в течении которых пользователь является клиентом банка, были пропуски. После исследования распределения значений в данном столбце было принято решение заполнить недостающие значения случайным числом в пределах всех значений в этом столбце - так мы не получили дисбаланса, как в случае заполнения медианным значением.\n",
    "Далее, были удалены столбцы с фамилией клиента, порядковым номером строки и уникальным идентификатором клиента, поскольку такие признаки не дают возможности предсказания какого-либо результата.\n",
    "Качественные признаки (столбец География и Пол) были закодированы с помощью метода One-Hot-Encoding.\n",
    "Все количественные признаки были масштабированы для исключения придания дополнительного веса признакам с большими значениями.\n",
    "\n",
    "Анализ данных показал, что присутствует значительный дисбаланс классов - лишь один из 4 клиентов уходит из банка.\n",
    "Далее были изучены результаты прогноза различных моделей, обученных на несбалансированной выборке.\n",
    "Уже на таких данных модель случайного леса показала значение метрики F1 выше, чем минимально допустимое по проекту значение, но метрика ROC-AUC не показывает значений, чтобы назвать данную модель отличной.\n",
    "\n",
    "Далее были применены различные методы борьбы с дисбалансом:\n",
    "- придание веса редкому классу при обучении модели\n",
    "- увеличение выборки и доведение отношения классов до 1:1\n",
    "- уменьшение выборки и доведение отношения классов до 1:1\n",
    "\n",
    "Результаты исследований показали, что лучше всего использовать модели случайного леса, обученные на данных с сбалансированными классами всеми тремя способами.\n",
    "Они были проверены на тестовой выборке. По итогам тестирования этих моделей сделан вывод о том, что лучшей моделью является модель случайного леса, обученная на выборке с увеличенным весом редкого класса, остальные модели не смогли дать значение, превышающее необходимое по проекту. На тестовой выборке данная модель дала результаты с значениями метрики F1 = 0.6 и метрики AUC-ROC = 0.75."
   ]
  }
 ],
 "metadata": {
  "ExecuteTimeLog": [
   {
    "duration": 417,
    "start_time": "2023-06-01T11:01:46.838Z"
   },
   {
    "duration": 80,
    "start_time": "2023-06-01T11:02:02.711Z"
   },
   {
    "duration": 51,
    "start_time": "2023-06-01T11:02:08.251Z"
   },
   {
    "duration": 112,
    "start_time": "2023-06-01T11:02:25.699Z"
   },
   {
    "duration": 56,
    "start_time": "2023-06-01T11:02:31.438Z"
   },
   {
    "duration": 49,
    "start_time": "2023-06-01T11:02:46.099Z"
   },
   {
    "duration": 17,
    "start_time": "2023-06-01T11:02:59.691Z"
   },
   {
    "duration": 14,
    "start_time": "2023-06-01T11:03:20.960Z"
   },
   {
    "duration": 74,
    "start_time": "2023-06-01T12:31:27.053Z"
   },
   {
    "duration": 43,
    "start_time": "2023-06-01T12:37:04.033Z"
   },
   {
    "duration": 40,
    "start_time": "2023-06-01T12:37:15.250Z"
   },
   {
    "duration": 48,
    "start_time": "2023-06-01T12:37:22.636Z"
   },
   {
    "duration": 45,
    "start_time": "2023-06-01T12:37:30.774Z"
   },
   {
    "duration": 50,
    "start_time": "2023-06-01T12:37:33.384Z"
   },
   {
    "duration": 42,
    "start_time": "2023-06-01T12:37:35.248Z"
   },
   {
    "duration": 12,
    "start_time": "2023-06-01T12:38:04.103Z"
   },
   {
    "duration": 7,
    "start_time": "2023-06-01T12:39:57.079Z"
   },
   {
    "duration": 78,
    "start_time": "2023-06-05T08:09:01.845Z"
   },
   {
    "duration": 438,
    "start_time": "2023-06-05T08:09:06.549Z"
   },
   {
    "duration": 83,
    "start_time": "2023-06-05T08:09:06.989Z"
   },
   {
    "duration": 25,
    "start_time": "2023-06-05T08:09:07.074Z"
   },
   {
    "duration": 26,
    "start_time": "2023-06-05T08:09:07.101Z"
   },
   {
    "duration": 6,
    "start_time": "2023-06-05T08:09:09.474Z"
   },
   {
    "duration": 39,
    "start_time": "2023-06-05T08:10:13.006Z"
   },
   {
    "duration": 15,
    "start_time": "2023-06-05T08:12:19.593Z"
   },
   {
    "duration": 6,
    "start_time": "2023-06-05T08:12:28.432Z"
   },
   {
    "duration": 8,
    "start_time": "2023-06-05T08:12:42.895Z"
   },
   {
    "duration": 400,
    "start_time": "2023-06-05T08:13:00.672Z"
   },
   {
    "duration": 43,
    "start_time": "2023-06-05T08:13:01.075Z"
   },
   {
    "duration": 348,
    "start_time": "2023-06-05T08:13:01.120Z"
   },
   {
    "duration": 251,
    "start_time": "2023-06-05T08:13:01.470Z"
   },
   {
    "duration": 372,
    "start_time": "2023-06-05T08:13:01.723Z"
   },
   {
    "duration": 111,
    "start_time": "2023-06-05T08:13:02.097Z"
   },
   {
    "duration": 9,
    "start_time": "2023-06-05T08:13:43.327Z"
   },
   {
    "duration": 441,
    "start_time": "2023-06-05T08:13:55.713Z"
   },
   {
    "duration": 44,
    "start_time": "2023-06-05T08:13:56.833Z"
   },
   {
    "duration": 24,
    "start_time": "2023-06-05T08:13:57.504Z"
   },
   {
    "duration": 18,
    "start_time": "2023-06-05T08:13:59.755Z"
   },
   {
    "duration": 6,
    "start_time": "2023-06-05T08:14:00.913Z"
   },
   {
    "duration": 12,
    "start_time": "2023-06-05T08:14:03.754Z"
   },
   {
    "duration": 10,
    "start_time": "2023-06-05T08:15:36.473Z"
   },
   {
    "duration": 13,
    "start_time": "2023-06-05T08:15:50.514Z"
   },
   {
    "duration": 12,
    "start_time": "2023-06-05T08:16:06.357Z"
   },
   {
    "duration": 432,
    "start_time": "2023-06-05T08:17:28.741Z"
   },
   {
    "duration": 45,
    "start_time": "2023-06-05T08:17:30.462Z"
   },
   {
    "duration": 26,
    "start_time": "2023-06-05T08:17:31.056Z"
   },
   {
    "duration": 16,
    "start_time": "2023-06-05T08:17:32.934Z"
   },
   {
    "duration": 7,
    "start_time": "2023-06-05T08:17:34.713Z"
   },
   {
    "duration": 71,
    "start_time": "2023-06-05T08:17:41.965Z"
   },
   {
    "duration": 4,
    "start_time": "2023-06-05T08:18:16.963Z"
   },
   {
    "duration": 10,
    "start_time": "2023-06-05T08:18:20.150Z"
   },
   {
    "duration": 8,
    "start_time": "2023-06-05T08:18:26.259Z"
   },
   {
    "duration": 5,
    "start_time": "2023-06-05T08:18:41.954Z"
   },
   {
    "duration": 5,
    "start_time": "2023-06-05T08:18:50.112Z"
   },
   {
    "duration": 5,
    "start_time": "2023-06-05T08:21:06.780Z"
   },
   {
    "duration": 412,
    "start_time": "2023-06-05T08:21:18.970Z"
   },
   {
    "duration": 46,
    "start_time": "2023-06-05T08:21:19.384Z"
   },
   {
    "duration": 24,
    "start_time": "2023-06-05T08:21:19.432Z"
   },
   {
    "duration": 20,
    "start_time": "2023-06-05T08:21:19.458Z"
   },
   {
    "duration": 7,
    "start_time": "2023-06-05T08:21:19.480Z"
   },
   {
    "duration": 17,
    "start_time": "2023-06-05T08:21:19.490Z"
   },
   {
    "duration": 8,
    "start_time": "2023-06-05T08:21:19.509Z"
   },
   {
    "duration": 25,
    "start_time": "2023-06-05T08:21:19.519Z"
   },
   {
    "duration": 130,
    "start_time": "2023-06-05T08:21:19.547Z"
   },
   {
    "duration": 175,
    "start_time": "2023-06-05T08:22:10.894Z"
   },
   {
    "duration": 68,
    "start_time": "2023-06-05T08:22:53.610Z"
   },
   {
    "duration": 15,
    "start_time": "2023-06-05T08:23:10.894Z"
   },
   {
    "duration": 13,
    "start_time": "2023-06-05T08:24:05.041Z"
   },
   {
    "duration": 13,
    "start_time": "2023-06-05T08:24:17.557Z"
   },
   {
    "duration": 183,
    "start_time": "2023-06-05T08:24:30.781Z"
   },
   {
    "duration": 12,
    "start_time": "2023-06-05T08:25:14.165Z"
   },
   {
    "duration": 1381,
    "start_time": "2023-06-05T08:25:36.194Z"
   },
   {
    "duration": 9,
    "start_time": "2023-06-05T08:25:55.154Z"
   },
   {
    "duration": 12,
    "start_time": "2023-06-05T08:26:01.144Z"
   },
   {
    "duration": 50,
    "start_time": "2023-06-05T08:26:34.194Z"
   },
   {
    "duration": 423,
    "start_time": "2023-06-05T08:26:36.731Z"
   },
   {
    "duration": 42,
    "start_time": "2023-06-05T08:26:37.731Z"
   },
   {
    "duration": 28,
    "start_time": "2023-06-05T08:26:38.241Z"
   },
   {
    "duration": 13,
    "start_time": "2023-06-05T08:26:41.553Z"
   },
   {
    "duration": 8,
    "start_time": "2023-06-05T08:26:42.580Z"
   },
   {
    "duration": 5,
    "start_time": "2023-06-05T08:26:45.250Z"
   },
   {
    "duration": 6,
    "start_time": "2023-06-05T08:26:46.698Z"
   },
   {
    "duration": 7,
    "start_time": "2023-06-05T08:26:47.171Z"
   },
   {
    "duration": 498,
    "start_time": "2023-06-05T08:28:26.794Z"
   },
   {
    "duration": 11,
    "start_time": "2023-06-05T08:29:21.315Z"
   },
   {
    "duration": 9,
    "start_time": "2023-06-05T08:29:23.903Z"
   },
   {
    "duration": 396,
    "start_time": "2023-06-05T08:30:20.154Z"
   },
   {
    "duration": 43,
    "start_time": "2023-06-05T08:30:20.552Z"
   },
   {
    "duration": 23,
    "start_time": "2023-06-05T08:30:20.597Z"
   },
   {
    "duration": 12,
    "start_time": "2023-06-05T08:30:20.622Z"
   },
   {
    "duration": 15,
    "start_time": "2023-06-05T08:30:20.637Z"
   },
   {
    "duration": 541,
    "start_time": "2023-06-05T08:30:20.653Z"
   },
   {
    "duration": 7,
    "start_time": "2023-06-05T08:31:04.369Z"
   },
   {
    "duration": 440,
    "start_time": "2023-06-05T08:31:11.340Z"
   },
   {
    "duration": 41,
    "start_time": "2023-06-05T08:31:11.782Z"
   },
   {
    "duration": 21,
    "start_time": "2023-06-05T08:31:11.825Z"
   },
   {
    "duration": 18,
    "start_time": "2023-06-05T08:31:11.848Z"
   },
   {
    "duration": 9,
    "start_time": "2023-06-05T08:31:11.868Z"
   },
   {
    "duration": 532,
    "start_time": "2023-06-05T08:31:11.879Z"
   },
   {
    "duration": 8,
    "start_time": "2023-06-05T08:31:51.970Z"
   },
   {
    "duration": 194,
    "start_time": "2023-06-05T08:33:04.287Z"
   },
   {
    "duration": 50,
    "start_time": "2023-06-05T08:33:07.037Z"
   },
   {
    "duration": 46,
    "start_time": "2023-06-05T08:33:12.598Z"
   },
   {
    "duration": 14,
    "start_time": "2023-06-05T08:33:15.838Z"
   },
   {
    "duration": 12,
    "start_time": "2023-06-05T08:33:17.620Z"
   },
   {
    "duration": 8,
    "start_time": "2023-06-05T08:33:19.974Z"
   },
   {
    "duration": 548,
    "start_time": "2023-06-05T08:33:27.280Z"
   },
   {
    "duration": 9,
    "start_time": "2023-06-05T08:33:31.839Z"
   },
   {
    "duration": 13,
    "start_time": "2023-06-05T08:33:36.397Z"
   },
   {
    "duration": 14,
    "start_time": "2023-06-05T08:33:50.326Z"
   },
   {
    "duration": 15,
    "start_time": "2023-06-05T08:34:13.442Z"
   },
   {
    "duration": 124,
    "start_time": "2023-06-05T08:35:06.718Z"
   },
   {
    "duration": 64,
    "start_time": "2023-06-05T08:36:30.994Z"
   },
   {
    "duration": 6,
    "start_time": "2023-06-05T08:36:47.819Z"
   },
   {
    "duration": 83,
    "start_time": "2023-06-05T08:37:02.078Z"
   },
   {
    "duration": 12,
    "start_time": "2023-06-05T08:37:04.881Z"
   },
   {
    "duration": 8,
    "start_time": "2023-06-05T08:37:25.999Z"
   },
   {
    "duration": 7,
    "start_time": "2023-06-05T08:37:32.078Z"
   },
   {
    "duration": 747,
    "start_time": "2023-06-05T08:42:46.735Z"
   },
   {
    "duration": 60,
    "start_time": "2023-06-05T08:43:38.639Z"
   },
   {
    "duration": 1106,
    "start_time": "2023-06-05T08:44:18.802Z"
   },
   {
    "duration": 55,
    "start_time": "2023-06-05T08:44:19.911Z"
   },
   {
    "duration": 25,
    "start_time": "2023-06-05T08:44:19.968Z"
   },
   {
    "duration": 16,
    "start_time": "2023-06-05T08:44:19.995Z"
   },
   {
    "duration": 23,
    "start_time": "2023-06-05T08:44:20.013Z"
   },
   {
    "duration": 495,
    "start_time": "2023-06-05T08:44:20.038Z"
   },
   {
    "duration": 8,
    "start_time": "2023-06-05T08:44:20.535Z"
   },
   {
    "duration": 32,
    "start_time": "2023-06-05T08:44:20.545Z"
   },
   {
    "duration": 31,
    "start_time": "2023-06-05T08:44:20.579Z"
   },
   {
    "duration": 30,
    "start_time": "2023-06-05T08:44:20.613Z"
   },
   {
    "duration": 2037,
    "start_time": "2023-06-05T08:54:57.073Z"
   },
   {
    "duration": 1146,
    "start_time": "2023-06-05T08:55:10.775Z"
   },
   {
    "duration": 52,
    "start_time": "2023-06-05T08:55:11.924Z"
   },
   {
    "duration": 28,
    "start_time": "2023-06-05T08:55:11.977Z"
   },
   {
    "duration": 16,
    "start_time": "2023-06-05T08:55:12.008Z"
   },
   {
    "duration": 21,
    "start_time": "2023-06-05T08:55:12.026Z"
   },
   {
    "duration": 554,
    "start_time": "2023-06-05T08:55:12.050Z"
   },
   {
    "duration": 7,
    "start_time": "2023-06-05T08:55:12.606Z"
   },
   {
    "duration": 34,
    "start_time": "2023-06-05T08:55:12.615Z"
   },
   {
    "duration": 14,
    "start_time": "2023-06-05T08:55:12.651Z"
   },
   {
    "duration": 2926,
    "start_time": "2023-06-05T08:55:12.668Z"
   },
   {
    "duration": 38,
    "start_time": "2023-06-05T08:57:14.299Z"
   },
   {
    "duration": 12,
    "start_time": "2023-06-05T08:57:53.646Z"
   },
   {
    "duration": 21,
    "start_time": "2023-06-05T08:58:08.078Z"
   },
   {
    "duration": 15,
    "start_time": "2023-06-05T08:59:07.236Z"
   },
   {
    "duration": 13,
    "start_time": "2023-06-05T08:59:17.595Z"
   },
   {
    "duration": 19,
    "start_time": "2023-06-05T09:00:34.288Z"
   },
   {
    "duration": 6,
    "start_time": "2023-06-05T09:00:46.935Z"
   },
   {
    "duration": 33,
    "start_time": "2023-06-05T09:00:49.475Z"
   },
   {
    "duration": 3,
    "start_time": "2023-06-05T09:02:05.931Z"
   },
   {
    "duration": 7,
    "start_time": "2023-06-05T09:04:42.362Z"
   },
   {
    "duration": 15,
    "start_time": "2023-06-05T09:05:55.382Z"
   },
   {
    "duration": 1205,
    "start_time": "2023-06-05T09:06:13.293Z"
   },
   {
    "duration": 57,
    "start_time": "2023-06-05T09:06:14.501Z"
   },
   {
    "duration": 61,
    "start_time": "2023-06-05T09:06:14.561Z"
   },
   {
    "duration": 62,
    "start_time": "2023-06-05T09:06:14.626Z"
   },
   {
    "duration": 72,
    "start_time": "2023-06-05T09:06:14.691Z"
   },
   {
    "duration": 685,
    "start_time": "2023-06-05T09:06:14.766Z"
   },
   {
    "duration": 8,
    "start_time": "2023-06-05T09:06:15.453Z"
   },
   {
    "duration": 121,
    "start_time": "2023-06-05T09:06:15.463Z"
   },
   {
    "duration": 132,
    "start_time": "2023-06-05T09:06:15.586Z"
   },
   {
    "duration": 56,
    "start_time": "2023-06-05T09:06:15.722Z"
   },
   {
    "duration": 104,
    "start_time": "2023-06-05T09:06:15.781Z"
   },
   {
    "duration": 67,
    "start_time": "2023-06-05T09:06:15.887Z"
   },
   {
    "duration": 107,
    "start_time": "2023-06-05T09:06:15.956Z"
   },
   {
    "duration": 1061,
    "start_time": "2023-06-05T09:06:59.639Z"
   },
   {
    "duration": 52,
    "start_time": "2023-06-05T09:07:00.702Z"
   },
   {
    "duration": 22,
    "start_time": "2023-06-05T09:07:00.756Z"
   },
   {
    "duration": 46,
    "start_time": "2023-06-05T09:07:00.780Z"
   },
   {
    "duration": 31,
    "start_time": "2023-06-05T09:07:00.828Z"
   },
   {
    "duration": 537,
    "start_time": "2023-06-05T09:07:00.861Z"
   },
   {
    "duration": 6,
    "start_time": "2023-06-05T09:07:01.400Z"
   },
   {
    "duration": 50,
    "start_time": "2023-06-05T09:07:01.408Z"
   },
   {
    "duration": 114,
    "start_time": "2023-06-05T09:07:01.460Z"
   },
   {
    "duration": 63,
    "start_time": "2023-06-05T09:07:01.577Z"
   },
   {
    "duration": 65,
    "start_time": "2023-06-05T09:07:01.642Z"
   },
   {
    "duration": 30,
    "start_time": "2023-06-05T09:07:01.709Z"
   },
   {
    "duration": 42,
    "start_time": "2023-06-05T09:07:01.741Z"
   },
   {
    "duration": 11,
    "start_time": "2023-06-05T09:08:27.437Z"
   },
   {
    "duration": 1149,
    "start_time": "2023-06-05T09:16:24.254Z"
   },
   {
    "duration": 63,
    "start_time": "2023-06-05T09:16:26.594Z"
   },
   {
    "duration": 33,
    "start_time": "2023-06-05T09:16:27.162Z"
   },
   {
    "duration": 18,
    "start_time": "2023-06-05T09:16:28.887Z"
   },
   {
    "duration": 8,
    "start_time": "2023-06-05T09:16:29.794Z"
   },
   {
    "duration": 546,
    "start_time": "2023-06-05T09:16:30.444Z"
   },
   {
    "duration": 7,
    "start_time": "2023-06-05T09:16:32.893Z"
   },
   {
    "duration": 19,
    "start_time": "2023-06-05T09:16:33.433Z"
   },
   {
    "duration": 8,
    "start_time": "2023-06-05T09:16:36.026Z"
   },
   {
    "duration": 7,
    "start_time": "2023-06-05T09:16:38.417Z"
   },
   {
    "duration": 20,
    "start_time": "2023-06-05T09:16:39.723Z"
   },
   {
    "duration": 8,
    "start_time": "2023-06-05T09:16:41.521Z"
   },
   {
    "duration": 33,
    "start_time": "2023-06-05T09:16:42.248Z"
   },
   {
    "duration": 33,
    "start_time": "2023-06-05T09:17:17.553Z"
   },
   {
    "duration": 43,
    "start_time": "2023-06-05T11:52:54.034Z"
   },
   {
    "duration": 1100,
    "start_time": "2023-06-05T11:53:04.833Z"
   },
   {
    "duration": 102,
    "start_time": "2023-06-05T11:53:05.935Z"
   },
   {
    "duration": 19,
    "start_time": "2023-06-05T11:53:06.038Z"
   },
   {
    "duration": 10,
    "start_time": "2023-06-05T11:53:06.059Z"
   },
   {
    "duration": 19,
    "start_time": "2023-06-05T11:53:06.070Z"
   },
   {
    "duration": 374,
    "start_time": "2023-06-05T11:53:06.090Z"
   },
   {
    "duration": 4,
    "start_time": "2023-06-05T11:53:06.466Z"
   },
   {
    "duration": 16,
    "start_time": "2023-06-05T11:53:06.471Z"
   },
   {
    "duration": 42,
    "start_time": "2023-06-05T11:53:06.488Z"
   },
   {
    "duration": 23,
    "start_time": "2023-06-05T11:53:06.533Z"
   },
   {
    "duration": 34,
    "start_time": "2023-06-05T11:53:06.558Z"
   },
   {
    "duration": 4,
    "start_time": "2023-06-05T11:53:06.594Z"
   },
   {
    "duration": 75,
    "start_time": "2023-06-05T11:53:06.599Z"
   },
   {
    "duration": 4,
    "start_time": "2023-06-05T11:53:06.676Z"
   },
   {
    "duration": 108,
    "start_time": "2023-06-05T11:56:51.641Z"
   },
   {
    "duration": 16,
    "start_time": "2023-06-05T11:56:58.428Z"
   },
   {
    "duration": 18,
    "start_time": "2023-06-05T11:57:16.529Z"
   },
   {
    "duration": 40,
    "start_time": "2023-06-05T11:57:38.813Z"
   },
   {
    "duration": 14,
    "start_time": "2023-06-05T11:57:48.648Z"
   },
   {
    "duration": 10,
    "start_time": "2023-06-05T11:58:04.531Z"
   },
   {
    "duration": 10,
    "start_time": "2023-06-05T11:58:16.064Z"
   },
   {
    "duration": 11,
    "start_time": "2023-06-05T11:58:21.470Z"
   },
   {
    "duration": 2,
    "start_time": "2023-06-05T12:10:29.471Z"
   },
   {
    "duration": 8,
    "start_time": "2023-06-05T12:16:04.631Z"
   },
   {
    "duration": 8,
    "start_time": "2023-06-05T12:16:09.533Z"
   },
   {
    "duration": 5,
    "start_time": "2023-06-05T12:16:20.977Z"
   },
   {
    "duration": 58,
    "start_time": "2023-06-05T12:17:04.331Z"
   },
   {
    "duration": 4,
    "start_time": "2023-06-05T12:17:43.377Z"
   },
   {
    "duration": 8,
    "start_time": "2023-06-05T12:17:53.831Z"
   },
   {
    "duration": 725,
    "start_time": "2023-06-05T12:20:22.366Z"
   },
   {
    "duration": 13,
    "start_time": "2023-06-05T12:20:43.359Z"
   },
   {
    "duration": 12,
    "start_time": "2023-06-05T12:20:57.379Z"
   },
   {
    "duration": 12,
    "start_time": "2023-06-05T12:21:46.003Z"
   },
   {
    "duration": 41,
    "start_time": "2023-06-05T12:24:21.650Z"
   },
   {
    "duration": 2,
    "start_time": "2023-06-05T12:25:26.909Z"
   },
   {
    "duration": 116,
    "start_time": "2023-06-05T12:30:27.509Z"
   },
   {
    "duration": 4,
    "start_time": "2023-06-05T12:30:35.290Z"
   },
   {
    "duration": 27,
    "start_time": "2023-06-05T12:30:43.295Z"
   },
   {
    "duration": 41,
    "start_time": "2023-06-05T12:30:52.490Z"
   },
   {
    "duration": 49,
    "start_time": "2023-06-05T12:33:05.835Z"
   },
   {
    "duration": 2,
    "start_time": "2023-06-05T12:36:34.690Z"
   },
   {
    "duration": 29,
    "start_time": "2023-06-05T12:36:54.852Z"
   },
   {
    "duration": 36,
    "start_time": "2023-06-05T12:37:25.178Z"
   },
   {
    "duration": 55,
    "start_time": "2023-06-05T12:37:38.109Z"
   },
   {
    "duration": 42,
    "start_time": "2023-06-05T12:37:45.141Z"
   },
   {
    "duration": 39,
    "start_time": "2023-06-05T12:37:48.610Z"
   },
   {
    "duration": 28,
    "start_time": "2023-06-05T12:37:50.809Z"
   },
   {
    "duration": 29,
    "start_time": "2023-06-05T12:37:53.335Z"
   },
   {
    "duration": 46,
    "start_time": "2023-06-05T12:37:56.709Z"
   },
   {
    "duration": 98,
    "start_time": "2023-06-05T13:09:11.227Z"
   },
   {
    "duration": 38,
    "start_time": "2023-06-05T13:10:04.127Z"
   },
   {
    "duration": 10,
    "start_time": "2023-06-05T13:12:42.493Z"
   },
   {
    "duration": 11,
    "start_time": "2023-06-05T13:12:50.659Z"
   },
   {
    "duration": 2,
    "start_time": "2023-06-05T13:12:53.254Z"
   },
   {
    "duration": 83,
    "start_time": "2023-06-05T13:13:57.469Z"
   },
   {
    "duration": 35,
    "start_time": "2023-06-05T13:14:26.138Z"
   },
   {
    "duration": 84,
    "start_time": "2023-06-05T13:14:30.263Z"
   },
   {
    "duration": 1046,
    "start_time": "2023-06-09T08:51:06.097Z"
   },
   {
    "duration": 183,
    "start_time": "2023-06-09T08:51:07.144Z"
   },
   {
    "duration": 23,
    "start_time": "2023-06-09T08:51:07.328Z"
   },
   {
    "duration": 11,
    "start_time": "2023-06-09T08:51:07.353Z"
   },
   {
    "duration": 6,
    "start_time": "2023-06-09T08:51:07.366Z"
   },
   {
    "duration": 551,
    "start_time": "2023-06-09T08:51:07.374Z"
   },
   {
    "duration": 5,
    "start_time": "2023-06-09T08:51:07.926Z"
   },
   {
    "duration": 26,
    "start_time": "2023-06-09T08:51:07.932Z"
   },
   {
    "duration": 8,
    "start_time": "2023-06-09T08:51:07.960Z"
   },
   {
    "duration": 5,
    "start_time": "2023-06-09T08:51:07.970Z"
   },
   {
    "duration": 24,
    "start_time": "2023-06-09T08:51:07.976Z"
   },
   {
    "duration": 5,
    "start_time": "2023-06-09T08:51:08.001Z"
   },
   {
    "duration": 57,
    "start_time": "2023-06-09T08:51:08.008Z"
   },
   {
    "duration": 11,
    "start_time": "2023-06-09T08:51:08.067Z"
   },
   {
    "duration": 21,
    "start_time": "2023-06-09T08:51:08.080Z"
   },
   {
    "duration": 357,
    "start_time": "2023-06-09T08:51:08.103Z"
   },
   {
    "duration": 126,
    "start_time": "2023-06-09T08:51:08.461Z"
   },
   {
    "duration": 103,
    "start_time": "2023-06-09T08:51:08.588Z"
   },
   {
    "duration": 396,
    "start_time": "2023-06-09T08:52:29.963Z"
   },
   {
    "duration": 278,
    "start_time": "2023-06-09T08:53:29.790Z"
   },
   {
    "duration": 402,
    "start_time": "2023-06-09T08:53:31.858Z"
   },
   {
    "duration": 75,
    "start_time": "2023-06-09T08:58:18.938Z"
   },
   {
    "duration": 79,
    "start_time": "2023-06-09T10:28:24.307Z"
   },
   {
    "duration": 174,
    "start_time": "2023-06-09T10:39:12.540Z"
   },
   {
    "duration": 15,
    "start_time": "2023-06-09T10:49:32.378Z"
   },
   {
    "duration": 56,
    "start_time": "2023-06-09T15:12:29.840Z"
   },
   {
    "duration": 1053,
    "start_time": "2023-06-09T15:12:35.140Z"
   },
   {
    "duration": 92,
    "start_time": "2023-06-09T15:12:36.195Z"
   },
   {
    "duration": 19,
    "start_time": "2023-06-09T15:12:36.288Z"
   },
   {
    "duration": 10,
    "start_time": "2023-06-09T15:12:36.308Z"
   },
   {
    "duration": 28,
    "start_time": "2023-06-09T15:12:36.320Z"
   },
   {
    "duration": 386,
    "start_time": "2023-06-09T15:12:36.349Z"
   },
   {
    "duration": 5,
    "start_time": "2023-06-09T15:12:36.737Z"
   },
   {
    "duration": 18,
    "start_time": "2023-06-09T15:12:36.744Z"
   },
   {
    "duration": 22,
    "start_time": "2023-06-09T15:12:36.764Z"
   },
   {
    "duration": 5,
    "start_time": "2023-06-09T15:12:36.787Z"
   },
   {
    "duration": 21,
    "start_time": "2023-06-09T15:12:36.793Z"
   },
   {
    "duration": 5,
    "start_time": "2023-06-09T15:12:36.816Z"
   },
   {
    "duration": 47,
    "start_time": "2023-06-09T15:12:36.823Z"
   },
   {
    "duration": 8,
    "start_time": "2023-06-09T15:12:36.872Z"
   },
   {
    "duration": 16,
    "start_time": "2023-06-09T15:12:36.881Z"
   },
   {
    "duration": 218,
    "start_time": "2023-06-09T15:12:36.898Z"
   },
   {
    "duration": 157,
    "start_time": "2023-06-09T15:12:37.118Z"
   },
   {
    "duration": 174,
    "start_time": "2023-06-09T15:12:37.277Z"
   },
   {
    "duration": 11,
    "start_time": "2023-06-09T15:12:37.452Z"
   },
   {
    "duration": 11,
    "start_time": "2023-06-09T15:13:15.827Z"
   },
   {
    "duration": 1465,
    "start_time": "2023-06-10T08:42:14.188Z"
   },
   {
    "duration": 62,
    "start_time": "2023-06-10T08:42:15.654Z"
   },
   {
    "duration": 20,
    "start_time": "2023-06-10T08:42:15.718Z"
   },
   {
    "duration": 12,
    "start_time": "2023-06-10T08:42:15.739Z"
   },
   {
    "duration": 7,
    "start_time": "2023-06-10T08:42:15.753Z"
   },
   {
    "duration": 414,
    "start_time": "2023-06-10T08:42:15.762Z"
   },
   {
    "duration": 5,
    "start_time": "2023-06-10T08:42:16.178Z"
   },
   {
    "duration": 35,
    "start_time": "2023-06-10T08:42:16.185Z"
   },
   {
    "duration": 10,
    "start_time": "2023-06-10T08:42:16.222Z"
   },
   {
    "duration": 5,
    "start_time": "2023-06-10T08:42:16.234Z"
   },
   {
    "duration": 38,
    "start_time": "2023-06-10T08:42:16.241Z"
   },
   {
    "duration": 5,
    "start_time": "2023-06-10T08:42:16.281Z"
   },
   {
    "duration": 47,
    "start_time": "2023-06-10T08:42:16.288Z"
   },
   {
    "duration": 10,
    "start_time": "2023-06-10T08:42:16.337Z"
   },
   {
    "duration": 24,
    "start_time": "2023-06-10T08:42:16.348Z"
   },
   {
    "duration": 50,
    "start_time": "2023-06-10T08:42:16.373Z"
   },
   {
    "duration": 217,
    "start_time": "2023-06-10T08:42:16.425Z"
   },
   {
    "duration": 100,
    "start_time": "2023-06-10T08:42:16.644Z"
   },
   {
    "duration": 52,
    "start_time": "2023-06-12T08:24:40.250Z"
   },
   {
    "duration": 1245,
    "start_time": "2023-06-12T08:24:47.269Z"
   },
   {
    "duration": 184,
    "start_time": "2023-06-12T08:24:48.516Z"
   },
   {
    "duration": 24,
    "start_time": "2023-06-12T08:24:48.702Z"
   },
   {
    "duration": 12,
    "start_time": "2023-06-12T08:24:48.728Z"
   },
   {
    "duration": 19,
    "start_time": "2023-06-12T08:24:48.743Z"
   },
   {
    "duration": 561,
    "start_time": "2023-06-12T08:24:48.764Z"
   },
   {
    "duration": 7,
    "start_time": "2023-06-12T08:24:49.327Z"
   },
   {
    "duration": 22,
    "start_time": "2023-06-12T08:24:49.355Z"
   },
   {
    "duration": 7,
    "start_time": "2023-06-12T08:24:49.378Z"
   },
   {
    "duration": 8,
    "start_time": "2023-06-12T08:24:49.387Z"
   },
   {
    "duration": 26,
    "start_time": "2023-06-12T08:24:49.397Z"
   },
   {
    "duration": 33,
    "start_time": "2023-06-12T08:24:49.425Z"
   },
   {
    "duration": 35,
    "start_time": "2023-06-12T08:24:49.460Z"
   },
   {
    "duration": 15,
    "start_time": "2023-06-12T08:24:49.497Z"
   },
   {
    "duration": 39,
    "start_time": "2023-06-12T08:24:49.515Z"
   },
   {
    "duration": 97,
    "start_time": "2023-06-12T08:24:49.557Z"
   },
   {
    "duration": 126,
    "start_time": "2023-06-12T08:24:49.656Z"
   },
   {
    "duration": 113,
    "start_time": "2023-06-12T08:24:49.784Z"
   },
   {
    "duration": 44,
    "start_time": "2023-06-12T08:29:03.037Z"
   },
   {
    "duration": 11,
    "start_time": "2023-06-12T08:29:11.818Z"
   },
   {
    "duration": 3,
    "start_time": "2023-06-12T08:37:41.403Z"
   },
   {
    "duration": 1138,
    "start_time": "2023-06-12T08:51:41.737Z"
   },
   {
    "duration": 65,
    "start_time": "2023-06-12T08:51:44.012Z"
   },
   {
    "duration": 29,
    "start_time": "2023-06-12T08:51:44.484Z"
   },
   {
    "duration": 12,
    "start_time": "2023-06-12T08:51:45.524Z"
   },
   {
    "duration": 9,
    "start_time": "2023-06-12T08:51:46.082Z"
   },
   {
    "duration": 543,
    "start_time": "2023-06-12T08:51:46.675Z"
   },
   {
    "duration": 5,
    "start_time": "2023-06-12T08:51:48.964Z"
   },
   {
    "duration": 14,
    "start_time": "2023-06-12T08:51:49.616Z"
   },
   {
    "duration": 6,
    "start_time": "2023-06-12T08:51:50.568Z"
   },
   {
    "duration": 7,
    "start_time": "2023-06-12T08:51:51.848Z"
   },
   {
    "duration": 18,
    "start_time": "2023-06-12T08:51:52.567Z"
   },
   {
    "duration": 36,
    "start_time": "2023-06-12T08:51:54.107Z"
   },
   {
    "duration": 11,
    "start_time": "2023-06-12T08:51:55.638Z"
   },
   {
    "duration": 18,
    "start_time": "2023-06-12T08:51:58.268Z"
   },
   {
    "duration": 115,
    "start_time": "2023-06-12T08:52:01.216Z"
   },
   {
    "duration": 11,
    "start_time": "2023-06-12T08:53:04.604Z"
   },
   {
    "duration": 10,
    "start_time": "2023-06-12T08:54:06.561Z"
   },
   {
    "duration": 19,
    "start_time": "2023-06-12T08:54:14.448Z"
   },
   {
    "duration": 20,
    "start_time": "2023-06-12T08:54:28.378Z"
   },
   {
    "duration": 13,
    "start_time": "2023-06-12T08:58:23.578Z"
   },
   {
    "duration": 15,
    "start_time": "2023-06-12T08:58:39.330Z"
   },
   {
    "duration": 8,
    "start_time": "2023-06-12T08:58:50.896Z"
   },
   {
    "duration": 4,
    "start_time": "2023-06-12T08:59:06.295Z"
   },
   {
    "duration": 6,
    "start_time": "2023-06-12T08:59:12.423Z"
   },
   {
    "duration": 14,
    "start_time": "2023-06-12T08:59:37.460Z"
   },
   {
    "duration": 26646,
    "start_time": "2023-06-12T09:00:19.825Z"
   },
   {
    "duration": 23147,
    "start_time": "2023-06-12T09:01:01.134Z"
   },
   {
    "duration": 22788,
    "start_time": "2023-06-12T09:01:40.876Z"
   },
   {
    "duration": 23079,
    "start_time": "2023-06-12T09:02:08.792Z"
   },
   {
    "duration": 24645,
    "start_time": "2023-06-12T09:03:27.713Z"
   },
   {
    "duration": 8692,
    "start_time": "2023-06-12T09:04:42.660Z"
   },
   {
    "duration": 8184,
    "start_time": "2023-06-12T09:05:40.680Z"
   },
   {
    "duration": 8850,
    "start_time": "2023-06-12T09:06:55.209Z"
   },
   {
    "duration": 208,
    "start_time": "2023-06-12T09:07:34.342Z"
   },
   {
    "duration": 8629,
    "start_time": "2023-06-12T09:07:59.428Z"
   },
   {
    "duration": 12,
    "start_time": "2023-06-12T09:08:13.716Z"
   },
   {
    "duration": 358,
    "start_time": "2023-06-12T09:18:43.152Z"
   },
   {
    "duration": 376,
    "start_time": "2023-06-12T09:19:19.552Z"
   },
   {
    "duration": 623,
    "start_time": "2023-06-12T09:20:00.840Z"
   },
   {
    "duration": 630,
    "start_time": "2023-06-12T09:20:29.236Z"
   },
   {
    "duration": 13,
    "start_time": "2023-06-12T09:20:56.839Z"
   },
   {
    "duration": 665,
    "start_time": "2023-06-12T09:21:56.848Z"
   },
   {
    "duration": 559,
    "start_time": "2023-06-12T09:22:22.678Z"
   },
   {
    "duration": 679,
    "start_time": "2023-06-12T09:23:06.386Z"
   },
   {
    "duration": 1762,
    "start_time": "2023-06-12T09:23:47.961Z"
   },
   {
    "duration": 11,
    "start_time": "2023-06-12T09:24:00.296Z"
   },
   {
    "duration": 852,
    "start_time": "2023-06-12T09:29:38.340Z"
   },
   {
    "duration": 37,
    "start_time": "2023-06-12T09:30:09.475Z"
   },
   {
    "duration": 30,
    "start_time": "2023-06-12T09:31:14.280Z"
   },
   {
    "duration": 33,
    "start_time": "2023-06-12T09:31:32.772Z"
   },
   {
    "duration": 28,
    "start_time": "2023-06-12T09:31:35.896Z"
   },
   {
    "duration": 28,
    "start_time": "2023-06-12T09:32:10.016Z"
   },
   {
    "duration": 0,
    "start_time": "2023-06-12T09:40:39.884Z"
   },
   {
    "duration": 560937,
    "start_time": "2023-06-12T09:40:42.442Z"
   },
   {
    "duration": 66,
    "start_time": "2023-06-12T09:50:27.407Z"
   },
   {
    "duration": 841905,
    "start_time": "2023-06-12T09:50:43.376Z"
   },
   {
    "duration": 319,
    "start_time": "2023-06-12T13:13:14.161Z"
   },
   {
    "duration": 322,
    "start_time": "2023-06-12T13:14:01.854Z"
   },
   {
    "duration": 294,
    "start_time": "2023-06-12T13:14:06.266Z"
   },
   {
    "duration": 75,
    "start_time": "2023-06-12T13:18:52.681Z"
   },
   {
    "duration": 1444,
    "start_time": "2023-06-12T13:20:02.769Z"
   },
   {
    "duration": 72,
    "start_time": "2023-06-12T13:20:04.216Z"
   },
   {
    "duration": 33,
    "start_time": "2023-06-12T13:20:04.291Z"
   },
   {
    "duration": 29,
    "start_time": "2023-06-12T13:20:04.326Z"
   },
   {
    "duration": 12,
    "start_time": "2023-06-12T13:20:04.358Z"
   },
   {
    "duration": 789,
    "start_time": "2023-06-12T13:20:04.372Z"
   },
   {
    "duration": 7,
    "start_time": "2023-06-12T13:20:05.163Z"
   },
   {
    "duration": 48,
    "start_time": "2023-06-12T13:20:05.173Z"
   },
   {
    "duration": 8,
    "start_time": "2023-06-12T13:20:05.223Z"
   },
   {
    "duration": 7,
    "start_time": "2023-06-12T13:20:05.233Z"
   },
   {
    "duration": 28,
    "start_time": "2023-06-12T13:20:05.250Z"
   },
   {
    "duration": 34,
    "start_time": "2023-06-12T13:20:05.280Z"
   },
   {
    "duration": 41,
    "start_time": "2023-06-12T13:20:05.317Z"
   },
   {
    "duration": 20,
    "start_time": "2023-06-12T13:20:05.362Z"
   },
   {
    "duration": 7881,
    "start_time": "2023-06-12T13:20:05.384Z"
   },
   {
    "duration": 97,
    "start_time": "2023-06-12T13:20:13.270Z"
   },
   {
    "duration": 2549,
    "start_time": "2023-06-12T13:20:13.370Z"
   },
   {
    "duration": 13,
    "start_time": "2023-06-12T13:20:15.922Z"
   },
   {
    "duration": 840704,
    "start_time": "2023-06-12T13:20:15.952Z"
   },
   {
    "duration": 273,
    "start_time": "2023-06-12T13:34:16.657Z"
   },
   {
    "duration": 8640,
    "start_time": "2023-06-12T15:17:02.818Z"
   },
   {
    "duration": 9068,
    "start_time": "2023-06-12T15:17:17.384Z"
   },
   {
    "duration": 15,
    "start_time": "2023-06-12T15:18:06.665Z"
   },
   {
    "duration": 12,
    "start_time": "2023-06-12T15:18:38.083Z"
   },
   {
    "duration": 1623,
    "start_time": "2023-06-12T15:19:19.712Z"
   },
   {
    "duration": 11,
    "start_time": "2023-06-12T15:19:26.540Z"
   },
   {
    "duration": 1872,
    "start_time": "2023-06-12T15:20:27.464Z"
   },
   {
    "duration": 15,
    "start_time": "2023-06-12T15:20:34.048Z"
   },
   {
    "duration": 9,
    "start_time": "2023-06-12T15:20:59.049Z"
   },
   {
    "duration": 10,
    "start_time": "2023-06-12T15:21:04.647Z"
   },
   {
    "duration": 785513,
    "start_time": "2023-06-12T15:21:46.842Z"
   },
   {
    "duration": 713,
    "start_time": "2023-06-12T15:56:48.139Z"
   },
   {
    "duration": 675,
    "start_time": "2023-06-12T15:57:18.563Z"
   },
   {
    "duration": 266,
    "start_time": "2023-06-13T08:14:49.806Z"
   },
   {
    "duration": 1094,
    "start_time": "2023-06-13T08:18:44.399Z"
   },
   {
    "duration": 90,
    "start_time": "2023-06-13T08:18:45.495Z"
   },
   {
    "duration": 21,
    "start_time": "2023-06-13T08:18:45.587Z"
   },
   {
    "duration": 17,
    "start_time": "2023-06-13T08:18:45.611Z"
   },
   {
    "duration": 11,
    "start_time": "2023-06-13T08:18:45.629Z"
   },
   {
    "duration": 475,
    "start_time": "2023-06-13T08:18:45.642Z"
   },
   {
    "duration": 4,
    "start_time": "2023-06-13T08:18:46.118Z"
   },
   {
    "duration": 15,
    "start_time": "2023-06-13T08:18:46.124Z"
   },
   {
    "duration": 23,
    "start_time": "2023-06-13T08:18:46.140Z"
   },
   {
    "duration": 4,
    "start_time": "2023-06-13T08:18:46.165Z"
   },
   {
    "duration": 19,
    "start_time": "2023-06-13T08:18:46.170Z"
   },
   {
    "duration": 31,
    "start_time": "2023-06-13T08:18:46.190Z"
   },
   {
    "duration": 10,
    "start_time": "2023-06-13T08:18:46.223Z"
   },
   {
    "duration": 33,
    "start_time": "2023-06-13T08:18:46.234Z"
   },
   {
    "duration": 9598,
    "start_time": "2023-06-13T08:18:46.269Z"
   },
   {
    "duration": 11,
    "start_time": "2023-06-13T08:18:55.868Z"
   },
   {
    "duration": 1642,
    "start_time": "2023-06-13T08:18:55.881Z"
   },
   {
    "duration": 8,
    "start_time": "2023-06-13T08:18:57.525Z"
   },
   {
    "duration": 719410,
    "start_time": "2023-06-13T08:18:57.535Z"
   },
   {
    "duration": 236,
    "start_time": "2023-06-13T08:30:56.946Z"
   },
   {
    "duration": 9381,
    "start_time": "2023-06-13T08:30:57.183Z"
   },
   {
    "duration": 96,
    "start_time": "2023-06-13T08:31:06.566Z"
   },
   {
    "duration": 2038,
    "start_time": "2023-06-13T08:31:06.664Z"
   },
   {
    "duration": 12,
    "start_time": "2023-06-13T08:31:08.704Z"
   },
   {
    "duration": 730713,
    "start_time": "2023-06-13T08:31:08.718Z"
   },
   {
    "duration": 708,
    "start_time": "2023-06-13T08:43:19.433Z"
   },
   {
    "duration": 127,
    "start_time": "2023-06-13T08:43:20.143Z"
   },
   {
    "duration": 0,
    "start_time": "2023-06-13T08:43:20.272Z"
   },
   {
    "duration": 0,
    "start_time": "2023-06-13T08:43:20.274Z"
   },
   {
    "duration": 0,
    "start_time": "2023-06-13T08:43:20.275Z"
   },
   {
    "duration": 0,
    "start_time": "2023-06-13T08:43:20.277Z"
   },
   {
    "duration": 0,
    "start_time": "2023-06-13T08:43:20.279Z"
   },
   {
    "duration": 0,
    "start_time": "2023-06-13T08:43:20.280Z"
   },
   {
    "duration": 15,
    "start_time": "2023-06-13T08:46:39.468Z"
   },
   {
    "duration": 3,
    "start_time": "2023-06-13T08:47:10.270Z"
   },
   {
    "duration": 11,
    "start_time": "2023-06-13T08:47:15.348Z"
   },
   {
    "duration": 14,
    "start_time": "2023-06-13T08:47:22.943Z"
   },
   {
    "duration": 10912,
    "start_time": "2023-06-13T08:47:22.960Z"
   },
   {
    "duration": 10,
    "start_time": "2023-06-13T08:47:33.874Z"
   },
   {
    "duration": 1834,
    "start_time": "2023-06-13T08:47:33.886Z"
   },
   {
    "duration": 8,
    "start_time": "2023-06-13T08:47:35.722Z"
   },
   {
    "duration": 962953,
    "start_time": "2023-06-13T08:47:35.732Z"
   },
   {
    "duration": 246,
    "start_time": "2023-06-13T09:03:38.687Z"
   },
   {
    "duration": 16,
    "start_time": "2023-06-13T09:06:13.785Z"
   },
   {
    "duration": 10,
    "start_time": "2023-06-13T09:06:39.657Z"
   },
   {
    "duration": 532,
    "start_time": "2023-06-13T09:07:38.789Z"
   },
   {
    "duration": 115,
    "start_time": "2023-06-13T09:07:44.548Z"
   },
   {
    "duration": 1310,
    "start_time": "2023-06-13T09:08:37.429Z"
   },
   {
    "duration": 9,
    "start_time": "2023-06-13T09:09:00.370Z"
   },
   {
    "duration": 398418,
    "start_time": "2023-06-13T09:09:33.264Z"
   },
   {
    "duration": 443,
    "start_time": "2023-06-13T09:16:11.684Z"
   },
   {
    "duration": 6,
    "start_time": "2023-06-13T09:34:06.508Z"
   },
   {
    "duration": 5,
    "start_time": "2023-06-13T09:41:17.656Z"
   },
   {
    "duration": 7984,
    "start_time": "2023-06-13T09:43:17.401Z"
   },
   {
    "duration": 24,
    "start_time": "2023-06-13T09:43:28.045Z"
   },
   {
    "duration": 20,
    "start_time": "2023-06-13T09:44:04.150Z"
   },
   {
    "duration": 90,
    "start_time": "2023-06-13T09:44:39.471Z"
   },
   {
    "duration": 1484,
    "start_time": "2023-06-13T09:44:50.749Z"
   },
   {
    "duration": 54,
    "start_time": "2023-06-13T09:44:53.581Z"
   },
   {
    "duration": 22,
    "start_time": "2023-06-13T09:44:53.723Z"
   },
   {
    "duration": 12,
    "start_time": "2023-06-13T09:44:55.142Z"
   },
   {
    "duration": 8,
    "start_time": "2023-06-13T09:44:55.978Z"
   },
   {
    "duration": 494,
    "start_time": "2023-06-13T09:44:56.634Z"
   },
   {
    "duration": 5,
    "start_time": "2023-06-13T09:44:58.144Z"
   },
   {
    "duration": 13,
    "start_time": "2023-06-13T09:44:58.432Z"
   },
   {
    "duration": 6,
    "start_time": "2023-06-13T09:44:59.345Z"
   },
   {
    "duration": 4,
    "start_time": "2023-06-13T09:45:05.705Z"
   },
   {
    "duration": 77,
    "start_time": "2023-06-13T09:45:05.710Z"
   },
   {
    "duration": 14,
    "start_time": "2023-06-13T09:45:05.788Z"
   },
   {
    "duration": 29,
    "start_time": "2023-06-13T09:45:05.804Z"
   },
   {
    "duration": 36,
    "start_time": "2023-06-13T09:45:05.835Z"
   },
   {
    "duration": 475,
    "start_time": "2023-06-13T09:45:05.876Z"
   },
   {
    "duration": 5,
    "start_time": "2023-06-13T09:45:06.352Z"
   },
   {
    "duration": 32,
    "start_time": "2023-06-13T09:45:06.363Z"
   },
   {
    "duration": 9,
    "start_time": "2023-06-13T09:45:06.396Z"
   },
   {
    "duration": 6,
    "start_time": "2023-06-13T09:45:06.407Z"
   },
   {
    "duration": 16,
    "start_time": "2023-06-13T09:45:06.415Z"
   },
   {
    "duration": 26,
    "start_time": "2023-06-13T09:45:06.432Z"
   },
   {
    "duration": 14,
    "start_time": "2023-06-13T09:45:06.469Z"
   },
   {
    "duration": 18,
    "start_time": "2023-06-13T09:45:06.484Z"
   },
   {
    "duration": 4,
    "start_time": "2023-06-13T09:45:06.504Z"
   },
   {
    "duration": 100,
    "start_time": "2023-06-13T09:45:16.543Z"
   },
   {
    "duration": 8448,
    "start_time": "2023-06-13T09:45:27.027Z"
   },
   {
    "duration": 77,
    "start_time": "2023-06-13T09:45:38.496Z"
   },
   {
    "duration": 12,
    "start_time": "2023-06-13T09:46:39.312Z"
   },
   {
    "duration": 7336,
    "start_time": "2023-06-13T09:46:44.729Z"
   },
   {
    "duration": 19,
    "start_time": "2023-06-13T09:46:53.974Z"
   },
   {
    "duration": 21,
    "start_time": "2023-06-13T09:47:03.581Z"
   },
   {
    "duration": 1118,
    "start_time": "2023-06-13T09:47:36.138Z"
   },
   {
    "duration": 57,
    "start_time": "2023-06-13T09:47:37.258Z"
   },
   {
    "duration": 20,
    "start_time": "2023-06-13T09:47:37.316Z"
   },
   {
    "duration": 15,
    "start_time": "2023-06-13T09:47:37.337Z"
   },
   {
    "duration": 13,
    "start_time": "2023-06-13T09:47:37.354Z"
   },
   {
    "duration": 497,
    "start_time": "2023-06-13T09:47:37.369Z"
   },
   {
    "duration": 7,
    "start_time": "2023-06-13T09:47:37.871Z"
   },
   {
    "duration": 65,
    "start_time": "2023-06-13T09:47:37.880Z"
   },
   {
    "duration": 8,
    "start_time": "2023-06-13T09:47:37.946Z"
   },
   {
    "duration": 32,
    "start_time": "2023-06-13T09:47:37.955Z"
   },
   {
    "duration": 33,
    "start_time": "2023-06-13T09:47:37.988Z"
   },
   {
    "duration": 59,
    "start_time": "2023-06-13T09:47:38.023Z"
   },
   {
    "duration": 11,
    "start_time": "2023-06-13T09:47:38.084Z"
   },
   {
    "duration": 51,
    "start_time": "2023-06-13T09:47:38.097Z"
   },
   {
    "duration": 41,
    "start_time": "2023-06-13T09:47:38.149Z"
   },
   {
    "duration": 7939,
    "start_time": "2023-06-13T09:47:42.832Z"
   },
   {
    "duration": 18,
    "start_time": "2023-06-13T09:47:52.534Z"
   },
   {
    "duration": 6,
    "start_time": "2023-06-13T09:48:38.328Z"
   },
   {
    "duration": 8,
    "start_time": "2023-06-13T09:48:42.730Z"
   },
   {
    "duration": 5,
    "start_time": "2023-06-13T09:49:19.745Z"
   },
   {
    "duration": 5,
    "start_time": "2023-06-13T09:50:05.150Z"
   },
   {
    "duration": 246,
    "start_time": "2023-06-13T09:50:07.833Z"
   },
   {
    "duration": 1222,
    "start_time": "2023-06-13T09:50:22.370Z"
   },
   {
    "duration": 48,
    "start_time": "2023-06-13T09:50:23.594Z"
   },
   {
    "duration": 18,
    "start_time": "2023-06-13T09:50:23.644Z"
   },
   {
    "duration": 18,
    "start_time": "2023-06-13T09:50:23.664Z"
   },
   {
    "duration": 9,
    "start_time": "2023-06-13T09:50:23.685Z"
   },
   {
    "duration": 480,
    "start_time": "2023-06-13T09:50:23.695Z"
   },
   {
    "duration": 4,
    "start_time": "2023-06-13T09:50:24.178Z"
   },
   {
    "duration": 25,
    "start_time": "2023-06-13T09:50:24.184Z"
   },
   {
    "duration": 16,
    "start_time": "2023-06-13T09:50:24.210Z"
   },
   {
    "duration": 7,
    "start_time": "2023-06-13T09:50:24.228Z"
   },
   {
    "duration": 34,
    "start_time": "2023-06-13T09:50:24.236Z"
   },
   {
    "duration": 34,
    "start_time": "2023-06-13T09:50:24.272Z"
   },
   {
    "duration": 8,
    "start_time": "2023-06-13T09:50:24.308Z"
   },
   {
    "duration": 14,
    "start_time": "2023-06-13T09:50:24.318Z"
   },
   {
    "duration": 5,
    "start_time": "2023-06-13T09:50:24.334Z"
   },
   {
    "duration": 7535,
    "start_time": "2023-06-13T09:50:24.340Z"
   },
   {
    "duration": 257,
    "start_time": "2023-06-13T09:50:34.879Z"
   },
   {
    "duration": 8,
    "start_time": "2023-06-13T09:51:15.357Z"
   },
   {
    "duration": 35,
    "start_time": "2023-06-13T09:51:18.138Z"
   },
   {
    "duration": 113,
    "start_time": "2023-06-13T09:51:20.357Z"
   },
   {
    "duration": 5,
    "start_time": "2023-06-13T09:53:13.653Z"
   },
   {
    "duration": 15,
    "start_time": "2023-06-13T09:53:16.074Z"
   },
   {
    "duration": 1515,
    "start_time": "2023-06-13T09:53:26.766Z"
   },
   {
    "duration": 49,
    "start_time": "2023-06-13T09:53:28.283Z"
   },
   {
    "duration": 22,
    "start_time": "2023-06-13T09:53:28.334Z"
   },
   {
    "duration": 20,
    "start_time": "2023-06-13T09:53:28.358Z"
   },
   {
    "duration": 13,
    "start_time": "2023-06-13T09:53:28.381Z"
   },
   {
    "duration": 532,
    "start_time": "2023-06-13T09:53:28.395Z"
   },
   {
    "duration": 5,
    "start_time": "2023-06-13T09:53:28.929Z"
   },
   {
    "duration": 29,
    "start_time": "2023-06-13T09:53:28.936Z"
   },
   {
    "duration": 31,
    "start_time": "2023-06-13T09:53:28.966Z"
   },
   {
    "duration": 8,
    "start_time": "2023-06-13T09:53:28.999Z"
   },
   {
    "duration": 21,
    "start_time": "2023-06-13T09:53:29.008Z"
   },
   {
    "duration": 28,
    "start_time": "2023-06-13T09:53:29.030Z"
   },
   {
    "duration": 23,
    "start_time": "2023-06-13T09:53:29.060Z"
   },
   {
    "duration": 19,
    "start_time": "2023-06-13T09:53:29.086Z"
   },
   {
    "duration": 4,
    "start_time": "2023-06-13T09:53:29.107Z"
   },
   {
    "duration": 6866,
    "start_time": "2023-06-13T09:53:29.113Z"
   },
   {
    "duration": 292,
    "start_time": "2023-06-13T09:53:39.557Z"
   },
   {
    "duration": 7,
    "start_time": "2023-06-13T09:54:04.766Z"
   },
   {
    "duration": 19,
    "start_time": "2023-06-13T09:54:06.969Z"
   },
   {
    "duration": 133,
    "start_time": "2023-06-13T09:54:50.345Z"
   },
   {
    "duration": 14,
    "start_time": "2023-06-13T09:55:00.975Z"
   },
   {
    "duration": 17,
    "start_time": "2023-06-13T09:55:04.567Z"
   },
   {
    "duration": 1133,
    "start_time": "2023-06-13T09:55:30.032Z"
   },
   {
    "duration": 54,
    "start_time": "2023-06-13T09:55:31.167Z"
   },
   {
    "duration": 33,
    "start_time": "2023-06-13T09:55:31.223Z"
   },
   {
    "duration": 130,
    "start_time": "2023-06-13T09:55:31.259Z"
   },
   {
    "duration": 198,
    "start_time": "2023-06-13T09:55:31.391Z"
   },
   {
    "duration": 628,
    "start_time": "2023-06-13T09:55:31.592Z"
   },
   {
    "duration": 7,
    "start_time": "2023-06-13T09:55:32.222Z"
   },
   {
    "duration": 22,
    "start_time": "2023-06-13T09:55:32.231Z"
   },
   {
    "duration": 36,
    "start_time": "2023-06-13T09:55:32.263Z"
   },
   {
    "duration": 20,
    "start_time": "2023-06-13T09:55:32.301Z"
   },
   {
    "duration": 44,
    "start_time": "2023-06-13T09:55:32.323Z"
   },
   {
    "duration": 43,
    "start_time": "2023-06-13T09:55:32.369Z"
   },
   {
    "duration": 16,
    "start_time": "2023-06-13T09:55:32.414Z"
   },
   {
    "duration": 24,
    "start_time": "2023-06-13T09:55:32.432Z"
   },
   {
    "duration": 58,
    "start_time": "2023-06-13T09:55:32.458Z"
   },
   {
    "duration": 7376,
    "start_time": "2023-06-13T09:55:32.518Z"
   },
   {
    "duration": 231,
    "start_time": "2023-06-13T09:55:43.104Z"
   },
   {
    "duration": 6,
    "start_time": "2023-06-13T10:01:21.751Z"
   },
   {
    "duration": 7605,
    "start_time": "2023-06-13T10:01:25.470Z"
   },
   {
    "duration": 14,
    "start_time": "2023-06-13T10:01:33.082Z"
   },
   {
    "duration": 15,
    "start_time": "2023-06-13T10:01:41.119Z"
   },
   {
    "duration": 33,
    "start_time": "2023-06-13T10:01:46.244Z"
   },
   {
    "duration": 22,
    "start_time": "2023-06-13T10:01:53.418Z"
   },
   {
    "duration": 46,
    "start_time": "2023-06-13T10:02:36.323Z"
   },
   {
    "duration": 3,
    "start_time": "2023-06-13T10:02:42.731Z"
   },
   {
    "duration": 15,
    "start_time": "2023-06-13T10:02:58.422Z"
   },
   {
    "duration": 16,
    "start_time": "2023-06-13T10:03:10.528Z"
   },
   {
    "duration": 7,
    "start_time": "2023-06-13T10:04:27.926Z"
   },
   {
    "duration": 7,
    "start_time": "2023-06-13T10:04:30.419Z"
   },
   {
    "duration": 12,
    "start_time": "2023-06-13T10:04:40.896Z"
   },
   {
    "duration": 14,
    "start_time": "2023-06-13T10:05:01.528Z"
   },
   {
    "duration": 12,
    "start_time": "2023-06-13T10:05:03.648Z"
   },
   {
    "duration": 6,
    "start_time": "2023-06-13T10:05:33.110Z"
   },
   {
    "duration": 7,
    "start_time": "2023-06-13T10:06:01.744Z"
   },
   {
    "duration": 1342,
    "start_time": "2023-06-13T10:07:51.446Z"
   },
   {
    "duration": 52,
    "start_time": "2023-06-13T10:07:52.790Z"
   },
   {
    "duration": 27,
    "start_time": "2023-06-13T10:07:52.844Z"
   },
   {
    "duration": 20,
    "start_time": "2023-06-13T10:07:52.873Z"
   },
   {
    "duration": 9,
    "start_time": "2023-06-13T10:07:52.895Z"
   },
   {
    "duration": 517,
    "start_time": "2023-06-13T10:07:52.905Z"
   },
   {
    "duration": 5,
    "start_time": "2023-06-13T10:07:53.423Z"
   },
   {
    "duration": 38,
    "start_time": "2023-06-13T10:07:53.429Z"
   },
   {
    "duration": 15,
    "start_time": "2023-06-13T10:07:53.477Z"
   },
   {
    "duration": 22,
    "start_time": "2023-06-13T10:07:53.493Z"
   },
   {
    "duration": 31,
    "start_time": "2023-06-13T10:07:53.517Z"
   },
   {
    "duration": 35,
    "start_time": "2023-06-13T10:07:53.550Z"
   },
   {
    "duration": 16,
    "start_time": "2023-06-13T10:07:53.587Z"
   },
   {
    "duration": 49,
    "start_time": "2023-06-13T10:07:53.605Z"
   },
   {
    "duration": 30,
    "start_time": "2023-06-13T10:07:53.655Z"
   },
   {
    "duration": 7990,
    "start_time": "2023-06-13T10:07:53.687Z"
   },
   {
    "duration": 13,
    "start_time": "2023-06-13T10:08:01.679Z"
   },
   {
    "duration": 203,
    "start_time": "2023-06-13T10:08:01.694Z"
   },
   {
    "duration": 1624,
    "start_time": "2023-06-13T10:08:01.899Z"
   },
   {
    "duration": 117,
    "start_time": "2023-06-13T10:08:03.525Z"
   },
   {
    "duration": 11,
    "start_time": "2023-06-13T10:08:13.183Z"
   },
   {
    "duration": 10,
    "start_time": "2023-06-13T10:08:34.849Z"
   },
   {
    "duration": 1540,
    "start_time": "2023-06-13T10:08:38.659Z"
   },
   {
    "duration": 14,
    "start_time": "2023-06-13T10:08:40.209Z"
   },
   {
    "duration": 12,
    "start_time": "2023-06-13T10:08:45.784Z"
   },
   {
    "duration": 12,
    "start_time": "2023-06-13T10:08:57.382Z"
   },
   {
    "duration": 1212,
    "start_time": "2023-06-13T10:09:20.840Z"
   },
   {
    "duration": 61,
    "start_time": "2023-06-13T10:09:22.054Z"
   },
   {
    "duration": 23,
    "start_time": "2023-06-13T10:09:22.117Z"
   },
   {
    "duration": 14,
    "start_time": "2023-06-13T10:09:22.142Z"
   },
   {
    "duration": 22,
    "start_time": "2023-06-13T10:09:22.158Z"
   },
   {
    "duration": 572,
    "start_time": "2023-06-13T10:09:22.183Z"
   },
   {
    "duration": 19,
    "start_time": "2023-06-13T10:09:22.756Z"
   },
   {
    "duration": 23,
    "start_time": "2023-06-13T10:09:22.779Z"
   },
   {
    "duration": 14,
    "start_time": "2023-06-13T10:09:22.804Z"
   },
   {
    "duration": 6,
    "start_time": "2023-06-13T10:09:22.821Z"
   },
   {
    "duration": 22,
    "start_time": "2023-06-13T10:09:22.828Z"
   },
   {
    "duration": 59,
    "start_time": "2023-06-13T10:09:22.852Z"
   },
   {
    "duration": 13,
    "start_time": "2023-06-13T10:09:22.913Z"
   },
   {
    "duration": 16,
    "start_time": "2023-06-13T10:09:22.928Z"
   },
   {
    "duration": 7,
    "start_time": "2023-06-13T10:09:22.945Z"
   },
   {
    "duration": 8213,
    "start_time": "2023-06-13T10:09:22.954Z"
   },
   {
    "duration": 89,
    "start_time": "2023-06-13T10:09:31.179Z"
   },
   {
    "duration": 121,
    "start_time": "2023-06-13T10:09:31.270Z"
   },
   {
    "duration": 1658,
    "start_time": "2023-06-13T10:09:31.392Z"
   },
   {
    "duration": 117,
    "start_time": "2023-06-13T10:09:33.052Z"
   },
   {
    "duration": 17,
    "start_time": "2023-06-13T10:09:38.765Z"
   },
   {
    "duration": 12,
    "start_time": "2023-06-13T10:09:47.915Z"
   },
   {
    "duration": 11,
    "start_time": "2023-06-13T10:10:41.427Z"
   },
   {
    "duration": 1180,
    "start_time": "2023-06-13T10:11:03.180Z"
   },
   {
    "duration": 55,
    "start_time": "2023-06-13T10:11:04.362Z"
   },
   {
    "duration": 19,
    "start_time": "2023-06-13T10:11:04.419Z"
   },
   {
    "duration": 20,
    "start_time": "2023-06-13T10:11:04.440Z"
   },
   {
    "duration": 34,
    "start_time": "2023-06-13T10:11:04.462Z"
   },
   {
    "duration": 518,
    "start_time": "2023-06-13T10:11:04.497Z"
   },
   {
    "duration": 4,
    "start_time": "2023-06-13T10:11:05.017Z"
   },
   {
    "duration": 64,
    "start_time": "2023-06-13T10:11:05.023Z"
   },
   {
    "duration": 28,
    "start_time": "2023-06-13T10:11:05.089Z"
   },
   {
    "duration": 60,
    "start_time": "2023-06-13T10:11:05.119Z"
   },
   {
    "duration": 34,
    "start_time": "2023-06-13T10:11:05.181Z"
   },
   {
    "duration": 39,
    "start_time": "2023-06-13T10:11:05.216Z"
   },
   {
    "duration": 17,
    "start_time": "2023-06-13T10:11:05.256Z"
   },
   {
    "duration": 18,
    "start_time": "2023-06-13T10:11:05.280Z"
   },
   {
    "duration": 33,
    "start_time": "2023-06-13T10:11:05.299Z"
   },
   {
    "duration": 8645,
    "start_time": "2023-06-13T10:11:05.334Z"
   },
   {
    "duration": 103,
    "start_time": "2023-06-13T10:11:13.983Z"
   },
   {
    "duration": 92,
    "start_time": "2023-06-13T10:11:14.088Z"
   },
   {
    "duration": 1537,
    "start_time": "2023-06-13T10:11:14.263Z"
   },
   {
    "duration": 131,
    "start_time": "2023-06-13T10:11:15.802Z"
   },
   {
    "duration": 8,
    "start_time": "2023-06-13T10:11:39.126Z"
   },
   {
    "duration": 1539,
    "start_time": "2023-06-13T10:11:44.083Z"
   },
   {
    "duration": 11,
    "start_time": "2023-06-13T10:11:48.893Z"
   },
   {
    "duration": 1187,
    "start_time": "2023-06-13T10:13:01.490Z"
   },
   {
    "duration": 51,
    "start_time": "2023-06-13T10:13:02.679Z"
   },
   {
    "duration": 20,
    "start_time": "2023-06-13T10:13:02.732Z"
   },
   {
    "duration": 50,
    "start_time": "2023-06-13T10:13:02.754Z"
   },
   {
    "duration": 71,
    "start_time": "2023-06-13T10:13:02.807Z"
   },
   {
    "duration": 712,
    "start_time": "2023-06-13T10:13:02.880Z"
   },
   {
    "duration": 4,
    "start_time": "2023-06-13T10:13:03.594Z"
   },
   {
    "duration": 18,
    "start_time": "2023-06-13T10:13:03.600Z"
   },
   {
    "duration": 34,
    "start_time": "2023-06-13T10:13:03.619Z"
   },
   {
    "duration": 7,
    "start_time": "2023-06-13T10:13:03.654Z"
   },
   {
    "duration": 32,
    "start_time": "2023-06-13T10:13:03.664Z"
   },
   {
    "duration": 53,
    "start_time": "2023-06-13T10:13:03.697Z"
   },
   {
    "duration": 13,
    "start_time": "2023-06-13T10:13:03.752Z"
   },
   {
    "duration": 27,
    "start_time": "2023-06-13T10:13:03.768Z"
   },
   {
    "duration": 23,
    "start_time": "2023-06-13T10:13:03.797Z"
   },
   {
    "duration": 7648,
    "start_time": "2023-06-13T10:13:03.822Z"
   },
   {
    "duration": 100,
    "start_time": "2023-06-13T10:13:11.476Z"
   },
   {
    "duration": 108,
    "start_time": "2023-06-13T10:13:11.583Z"
   },
   {
    "duration": 1646,
    "start_time": "2023-06-13T10:13:18.557Z"
   },
   {
    "duration": 9,
    "start_time": "2023-06-13T10:13:23.799Z"
   },
   {
    "duration": 9,
    "start_time": "2023-06-13T10:13:39.035Z"
   },
   {
    "duration": 6,
    "start_time": "2023-06-13T10:13:49.979Z"
   },
   {
    "duration": 108,
    "start_time": "2023-06-13T10:14:03.039Z"
   },
   {
    "duration": 12,
    "start_time": "2023-06-13T10:14:07.896Z"
   },
   {
    "duration": 6,
    "start_time": "2023-06-13T10:14:38.851Z"
   },
   {
    "duration": 8056,
    "start_time": "2023-06-13T10:14:44.213Z"
   },
   {
    "duration": 91,
    "start_time": "2023-06-13T10:14:52.271Z"
   },
   {
    "duration": 8,
    "start_time": "2023-06-13T10:14:57.052Z"
   },
   {
    "duration": 1591,
    "start_time": "2023-06-13T10:14:59.614Z"
   },
   {
    "duration": 11,
    "start_time": "2023-06-13T10:15:04.772Z"
   },
   {
    "duration": 10,
    "start_time": "2023-06-13T10:15:06.811Z"
   },
   {
    "duration": 13,
    "start_time": "2023-06-13T10:15:07.818Z"
   },
   {
    "duration": 6,
    "start_time": "2023-06-13T10:16:11.183Z"
   },
   {
    "duration": 7,
    "start_time": "2023-06-13T10:16:26.252Z"
   },
   {
    "duration": 8188,
    "start_time": "2023-06-13T10:16:36.295Z"
   },
   {
    "duration": 87,
    "start_time": "2023-06-13T10:16:48.980Z"
   },
   {
    "duration": 7,
    "start_time": "2023-06-13T10:16:51.115Z"
   },
   {
    "duration": 11,
    "start_time": "2023-06-13T10:16:54.328Z"
   },
   {
    "duration": 51,
    "start_time": "2023-06-13T10:20:05.789Z"
   },
   {
    "duration": 1244,
    "start_time": "2023-06-13T10:20:24.128Z"
   },
   {
    "duration": 62,
    "start_time": "2023-06-13T10:20:25.380Z"
   },
   {
    "duration": 29,
    "start_time": "2023-06-13T10:20:25.444Z"
   },
   {
    "duration": 20,
    "start_time": "2023-06-13T10:20:25.481Z"
   },
   {
    "duration": 12,
    "start_time": "2023-06-13T10:20:25.504Z"
   },
   {
    "duration": 524,
    "start_time": "2023-06-13T10:20:25.518Z"
   },
   {
    "duration": 5,
    "start_time": "2023-06-13T10:20:26.043Z"
   },
   {
    "duration": 51,
    "start_time": "2023-06-13T10:20:26.049Z"
   },
   {
    "duration": 22,
    "start_time": "2023-06-13T10:20:26.102Z"
   },
   {
    "duration": 31,
    "start_time": "2023-06-13T10:20:26.125Z"
   },
   {
    "duration": 56,
    "start_time": "2023-06-13T10:20:26.158Z"
   },
   {
    "duration": 45,
    "start_time": "2023-06-13T10:20:26.216Z"
   },
   {
    "duration": 23,
    "start_time": "2023-06-13T10:20:26.262Z"
   },
   {
    "duration": 40,
    "start_time": "2023-06-13T10:20:26.287Z"
   },
   {
    "duration": 8,
    "start_time": "2023-06-13T10:20:39.850Z"
   },
   {
    "duration": 7410,
    "start_time": "2023-06-13T10:20:58.775Z"
   },
   {
    "duration": 7923,
    "start_time": "2023-06-13T10:21:12.073Z"
   },
   {
    "duration": 12,
    "start_time": "2023-06-13T10:21:25.775Z"
   },
   {
    "duration": 8,
    "start_time": "2023-06-13T10:21:31.215Z"
   },
   {
    "duration": 1557,
    "start_time": "2023-06-13T10:21:36.959Z"
   },
   {
    "duration": 1395,
    "start_time": "2023-06-13T10:22:22.081Z"
   },
   {
    "duration": 4,
    "start_time": "2023-06-13T10:22:26.125Z"
   },
   {
    "duration": 59,
    "start_time": "2023-06-13T10:22:27.121Z"
   },
   {
    "duration": 23,
    "start_time": "2023-06-13T10:22:27.679Z"
   },
   {
    "duration": 13,
    "start_time": "2023-06-13T10:22:29.682Z"
   },
   {
    "duration": 10,
    "start_time": "2023-06-13T10:22:30.949Z"
   },
   {
    "duration": 11,
    "start_time": "2023-06-13T10:22:42.249Z"
   },
   {
    "duration": 603,
    "start_time": "2023-06-13T10:22:43.573Z"
   },
   {
    "duration": 5,
    "start_time": "2023-06-13T10:23:45.111Z"
   },
   {
    "duration": 1255,
    "start_time": "2023-06-13T10:23:54.194Z"
   },
   {
    "duration": 57,
    "start_time": "2023-06-13T10:23:59.047Z"
   },
   {
    "duration": 22,
    "start_time": "2023-06-13T10:24:00.529Z"
   },
   {
    "duration": 17,
    "start_time": "2023-06-13T10:24:03.451Z"
   },
   {
    "duration": 9,
    "start_time": "2023-06-13T10:24:04.249Z"
   },
   {
    "duration": 605,
    "start_time": "2023-06-13T10:24:06.435Z"
   },
   {
    "duration": 9,
    "start_time": "2023-06-13T10:24:09.557Z"
   },
   {
    "duration": 15,
    "start_time": "2023-06-13T10:24:11.389Z"
   },
   {
    "duration": 7,
    "start_time": "2023-06-13T10:24:13.087Z"
   },
   {
    "duration": 6,
    "start_time": "2023-06-13T10:24:15.410Z"
   },
   {
    "duration": 23,
    "start_time": "2023-06-13T10:24:16.221Z"
   },
   {
    "duration": 48,
    "start_time": "2023-06-13T10:24:18.210Z"
   },
   {
    "duration": 15,
    "start_time": "2023-06-13T10:24:19.955Z"
   },
   {
    "duration": 24,
    "start_time": "2023-06-13T10:24:22.549Z"
   },
   {
    "duration": 6,
    "start_time": "2023-06-13T10:24:26.138Z"
   },
   {
    "duration": 7402,
    "start_time": "2023-06-13T10:24:28.162Z"
   },
   {
    "duration": 11,
    "start_time": "2023-06-13T10:24:37.280Z"
   },
   {
    "duration": 7,
    "start_time": "2023-06-13T10:24:39.690Z"
   },
   {
    "duration": 1694,
    "start_time": "2023-06-13T10:24:46.330Z"
   },
   {
    "duration": 11,
    "start_time": "2023-06-13T10:24:50.861Z"
   },
   {
    "duration": 9,
    "start_time": "2023-06-13T10:24:53.188Z"
   },
   {
    "duration": 14,
    "start_time": "2023-06-13T10:24:54.184Z"
   },
   {
    "duration": 789033,
    "start_time": "2023-06-13T10:25:55.810Z"
   },
   {
    "duration": 328,
    "start_time": "2023-06-13T10:44:08.468Z"
   },
   {
    "duration": 234,
    "start_time": "2023-06-13T10:44:20.747Z"
   },
   {
    "duration": 6,
    "start_time": "2023-06-13T10:44:23.669Z"
   },
   {
    "duration": 12,
    "start_time": "2023-06-13T10:44:52.099Z"
   },
   {
    "duration": 9,
    "start_time": "2023-06-13T10:45:07.635Z"
   },
   {
    "duration": 11,
    "start_time": "2023-06-13T10:45:37.794Z"
   },
   {
    "duration": 78,
    "start_time": "2023-06-13T10:45:52.743Z"
   },
   {
    "duration": 91,
    "start_time": "2023-06-13T10:46:14.014Z"
   },
   {
    "duration": 8384,
    "start_time": "2023-06-13T10:47:53.980Z"
   },
   {
    "duration": 24997,
    "start_time": "2023-06-13T10:48:04.067Z"
   },
   {
    "duration": 50,
    "start_time": "2023-06-13T10:48:32.021Z"
   },
   {
    "duration": 7,
    "start_time": "2023-06-13T10:48:34.707Z"
   },
   {
    "duration": 1928,
    "start_time": "2023-06-13T10:49:28.891Z"
   },
   {
    "duration": 28,
    "start_time": "2023-06-13T10:49:35.743Z"
   },
   {
    "duration": 10,
    "start_time": "2023-06-13T10:49:47.026Z"
   },
   {
    "duration": 8,
    "start_time": "2023-06-13T10:49:48.489Z"
   },
   {
    "duration": 816532,
    "start_time": "2023-06-13T10:50:49.262Z"
   },
   {
    "duration": 676,
    "start_time": "2023-06-13T11:06:40.766Z"
   },
   {
    "duration": 9,
    "start_time": "2023-06-13T11:06:44.387Z"
   },
   {
    "duration": 76,
    "start_time": "2023-06-13T11:06:47.182Z"
   },
   {
    "duration": 14,
    "start_time": "2023-06-13T11:07:00.756Z"
   },
   {
    "duration": 27121,
    "start_time": "2023-06-13T11:07:24.071Z"
   },
   {
    "duration": 17,
    "start_time": "2023-06-13T11:07:53.426Z"
   },
   {
    "duration": 9,
    "start_time": "2023-06-13T11:07:54.747Z"
   },
   {
    "duration": 1959,
    "start_time": "2023-06-13T11:07:59.718Z"
   },
   {
    "duration": 11,
    "start_time": "2023-06-13T11:08:01.741Z"
   },
   {
    "duration": 10,
    "start_time": "2023-06-13T11:08:03.925Z"
   },
   {
    "duration": 1070444,
    "start_time": "2023-06-13T11:08:08.829Z"
   },
   {
    "duration": 243,
    "start_time": "2023-06-13T11:25:59.275Z"
   },
   {
    "duration": 6,
    "start_time": "2023-06-13T11:25:59.520Z"
   },
   {
    "duration": 69,
    "start_time": "2023-06-13T11:25:59.528Z"
   },
   {
    "duration": 10,
    "start_time": "2023-06-13T11:28:02.135Z"
   },
   {
    "duration": 541,
    "start_time": "2023-06-13T11:28:03.469Z"
   },
   {
    "duration": 524,
    "start_time": "2023-06-13T11:28:10.933Z"
   },
   {
    "duration": 20,
    "start_time": "2023-06-13T11:28:12.485Z"
   },
   {
    "duration": 6,
    "start_time": "2023-06-13T11:28:13.615Z"
   },
   {
    "duration": 1230,
    "start_time": "2023-06-13T11:28:15.102Z"
   },
   {
    "duration": 1176,
    "start_time": "2023-06-13T11:28:18.745Z"
   },
   {
    "duration": 9,
    "start_time": "2023-06-13T11:28:21.208Z"
   },
   {
    "duration": 8,
    "start_time": "2023-06-13T11:28:23.362Z"
   },
   {
    "duration": 399104,
    "start_time": "2023-06-13T11:28:27.992Z"
   },
   {
    "duration": 432,
    "start_time": "2023-06-13T11:35:07.098Z"
   },
   {
    "duration": 6,
    "start_time": "2023-06-13T11:35:07.532Z"
   },
   {
    "duration": 84,
    "start_time": "2023-06-13T11:35:07.540Z"
   },
   {
    "duration": 210,
    "start_time": "2023-06-13T11:35:07.625Z"
   },
   {
    "duration": 68,
    "start_time": "2023-06-13T11:51:53.317Z"
   },
   {
    "duration": 17,
    "start_time": "2023-06-13T11:52:08.828Z"
   },
   {
    "duration": 38343,
    "start_time": "2023-06-13T11:52:14.626Z"
   },
   {
    "duration": 107,
    "start_time": "2023-06-13T11:56:00.747Z"
   },
   {
    "duration": 73,
    "start_time": "2023-06-13T11:56:13.851Z"
   },
   {
    "duration": 17553,
    "start_time": "2023-06-13T11:56:20.180Z"
   },
   {
    "duration": 12598,
    "start_time": "2023-06-13T12:00:12.015Z"
   },
   {
    "duration": 0,
    "start_time": "2023-06-13T12:26:54.164Z"
   },
   {
    "duration": 0,
    "start_time": "2023-06-13T12:26:54.164Z"
   },
   {
    "duration": 1147,
    "start_time": "2023-06-13T12:27:11.200Z"
   },
   {
    "duration": 67,
    "start_time": "2023-06-13T12:27:12.349Z"
   },
   {
    "duration": 21,
    "start_time": "2023-06-13T12:27:12.418Z"
   },
   {
    "duration": 13,
    "start_time": "2023-06-13T12:27:12.441Z"
   },
   {
    "duration": 13,
    "start_time": "2023-06-13T12:27:12.457Z"
   },
   {
    "duration": 542,
    "start_time": "2023-06-13T12:27:12.471Z"
   },
   {
    "duration": 6,
    "start_time": "2023-06-13T12:27:13.015Z"
   },
   {
    "duration": 21,
    "start_time": "2023-06-13T12:27:13.022Z"
   },
   {
    "duration": 25,
    "start_time": "2023-06-13T12:27:13.045Z"
   },
   {
    "duration": 25,
    "start_time": "2023-06-13T12:27:13.072Z"
   },
   {
    "duration": 19,
    "start_time": "2023-06-13T12:27:13.099Z"
   },
   {
    "duration": 30,
    "start_time": "2023-06-13T12:27:13.120Z"
   },
   {
    "duration": 20,
    "start_time": "2023-06-13T12:27:13.152Z"
   },
   {
    "duration": 34,
    "start_time": "2023-06-13T12:27:13.175Z"
   },
   {
    "duration": 13,
    "start_time": "2023-06-13T12:27:13.211Z"
   },
   {
    "duration": 7959,
    "start_time": "2023-06-13T12:27:13.225Z"
   },
   {
    "duration": 93,
    "start_time": "2023-06-13T12:27:21.191Z"
   },
   {
    "duration": 199,
    "start_time": "2023-06-13T12:27:21.286Z"
   },
   {
    "duration": 1563,
    "start_time": "2023-06-13T12:27:21.487Z"
   },
   {
    "duration": 20,
    "start_time": "2023-06-13T12:27:23.052Z"
   },
   {
    "duration": 34,
    "start_time": "2023-06-13T12:27:23.084Z"
   },
   {
    "duration": 2938,
    "start_time": "2023-06-13T12:27:23.120Z"
   },
   {
    "duration": 0,
    "start_time": "2023-06-13T12:27:26.065Z"
   },
   {
    "duration": 0,
    "start_time": "2023-06-13T12:27:26.073Z"
   },
   {
    "duration": 0,
    "start_time": "2023-06-13T12:27:26.074Z"
   },
   {
    "duration": 0,
    "start_time": "2023-06-13T12:27:26.075Z"
   },
   {
    "duration": 0,
    "start_time": "2023-06-13T12:27:26.075Z"
   },
   {
    "duration": 1361,
    "start_time": "2023-06-13T12:28:35.631Z"
   },
   {
    "duration": 61,
    "start_time": "2023-06-13T12:28:36.994Z"
   },
   {
    "duration": 25,
    "start_time": "2023-06-13T12:28:37.057Z"
   },
   {
    "duration": 21,
    "start_time": "2023-06-13T12:28:37.086Z"
   },
   {
    "duration": 28,
    "start_time": "2023-06-13T12:28:37.109Z"
   },
   {
    "duration": 539,
    "start_time": "2023-06-13T12:28:37.138Z"
   },
   {
    "duration": 4,
    "start_time": "2023-06-13T12:28:37.679Z"
   },
   {
    "duration": 56,
    "start_time": "2023-06-13T12:28:37.685Z"
   },
   {
    "duration": 26,
    "start_time": "2023-06-13T12:28:37.743Z"
   },
   {
    "duration": 23,
    "start_time": "2023-06-13T12:28:37.779Z"
   },
   {
    "duration": 37,
    "start_time": "2023-06-13T12:28:37.803Z"
   },
   {
    "duration": 39,
    "start_time": "2023-06-13T12:28:37.842Z"
   },
   {
    "duration": 12,
    "start_time": "2023-06-13T12:28:37.884Z"
   },
   {
    "duration": 47,
    "start_time": "2023-06-13T12:28:37.900Z"
   },
   {
    "duration": 15,
    "start_time": "2023-06-13T12:28:37.948Z"
   },
   {
    "duration": 8143,
    "start_time": "2023-06-13T12:28:37.970Z"
   },
   {
    "duration": 23,
    "start_time": "2023-06-13T12:28:46.165Z"
   },
   {
    "duration": 196,
    "start_time": "2023-06-13T12:28:46.192Z"
   },
   {
    "duration": 1734,
    "start_time": "2023-06-13T12:28:46.390Z"
   },
   {
    "duration": 7,
    "start_time": "2023-06-13T12:28:48.126Z"
   },
   {
    "duration": 34,
    "start_time": "2023-06-13T12:28:48.135Z"
   },
   {
    "duration": 782378,
    "start_time": "2023-06-13T12:28:48.179Z"
   },
   {
    "duration": 242,
    "start_time": "2023-06-13T12:41:50.562Z"
   },
   {
    "duration": 8,
    "start_time": "2023-06-13T12:41:50.806Z"
   },
   {
    "duration": 86,
    "start_time": "2023-06-13T12:41:50.816Z"
   },
   {
    "duration": 44092,
    "start_time": "2023-06-13T12:41:50.903Z"
   },
   {
    "duration": 26848,
    "start_time": "2023-06-13T12:42:35.065Z"
   },
   {
    "duration": 1255,
    "start_time": "2023-06-13T16:05:15.797Z"
   },
   {
    "duration": 77,
    "start_time": "2023-06-13T16:05:17.054Z"
   },
   {
    "duration": 23,
    "start_time": "2023-06-13T16:05:17.133Z"
   },
   {
    "duration": 31,
    "start_time": "2023-06-13T16:05:17.158Z"
   },
   {
    "duration": 12,
    "start_time": "2023-06-13T16:05:17.192Z"
   },
   {
    "duration": 626,
    "start_time": "2023-06-13T16:05:17.205Z"
   },
   {
    "duration": 5,
    "start_time": "2023-06-13T16:05:17.833Z"
   },
   {
    "duration": 33,
    "start_time": "2023-06-13T16:05:17.840Z"
   },
   {
    "duration": 23,
    "start_time": "2023-06-13T16:05:17.875Z"
   },
   {
    "duration": 12,
    "start_time": "2023-06-13T16:05:17.900Z"
   },
   {
    "duration": 26,
    "start_time": "2023-06-13T16:05:17.914Z"
   },
   {
    "duration": 37,
    "start_time": "2023-06-13T16:05:17.942Z"
   },
   {
    "duration": 15,
    "start_time": "2023-06-13T16:05:17.981Z"
   },
   {
    "duration": 20,
    "start_time": "2023-06-13T16:05:17.999Z"
   },
   {
    "duration": 9,
    "start_time": "2023-06-13T16:05:18.021Z"
   },
   {
    "duration": 966,
    "start_time": "2023-06-13T16:05:18.032Z"
   },
   {
    "duration": 0,
    "start_time": "2023-06-13T16:05:19.000Z"
   },
   {
    "duration": 0,
    "start_time": "2023-06-13T16:05:19.001Z"
   },
   {
    "duration": 0,
    "start_time": "2023-06-13T16:05:19.003Z"
   },
   {
    "duration": 0,
    "start_time": "2023-06-13T16:05:19.005Z"
   },
   {
    "duration": 0,
    "start_time": "2023-06-13T16:05:19.007Z"
   },
   {
    "duration": 0,
    "start_time": "2023-06-13T16:05:19.008Z"
   },
   {
    "duration": 0,
    "start_time": "2023-06-13T16:05:19.010Z"
   },
   {
    "duration": 0,
    "start_time": "2023-06-13T16:05:19.011Z"
   },
   {
    "duration": 0,
    "start_time": "2023-06-13T16:05:19.013Z"
   },
   {
    "duration": 0,
    "start_time": "2023-06-13T16:05:19.014Z"
   },
   {
    "duration": 0,
    "start_time": "2023-06-13T16:05:19.016Z"
   },
   {
    "duration": 0,
    "start_time": "2023-06-13T16:05:19.018Z"
   },
   {
    "duration": 1,
    "start_time": "2023-06-13T16:05:19.021Z"
   },
   {
    "duration": 0,
    "start_time": "2023-06-13T16:05:19.023Z"
   },
   {
    "duration": 0,
    "start_time": "2023-06-13T16:05:19.024Z"
   },
   {
    "duration": 0,
    "start_time": "2023-06-13T16:05:19.064Z"
   },
   {
    "duration": 0,
    "start_time": "2023-06-13T16:05:19.065Z"
   },
   {
    "duration": 0,
    "start_time": "2023-06-13T16:05:19.066Z"
   },
   {
    "duration": 0,
    "start_time": "2023-06-13T16:05:19.069Z"
   },
   {
    "duration": 0,
    "start_time": "2023-06-13T16:05:19.070Z"
   },
   {
    "duration": 0,
    "start_time": "2023-06-13T16:05:19.071Z"
   },
   {
    "duration": 0,
    "start_time": "2023-06-13T16:05:19.071Z"
   },
   {
    "duration": 0,
    "start_time": "2023-06-13T16:05:19.072Z"
   },
   {
    "duration": 0,
    "start_time": "2023-06-13T16:05:19.073Z"
   },
   {
    "duration": 1258,
    "start_time": "2023-06-13T16:05:51.290Z"
   },
   {
    "duration": 65,
    "start_time": "2023-06-13T16:05:52.550Z"
   },
   {
    "duration": 22,
    "start_time": "2023-06-13T16:05:52.617Z"
   },
   {
    "duration": 13,
    "start_time": "2023-06-13T16:05:52.640Z"
   },
   {
    "duration": 23,
    "start_time": "2023-06-13T16:05:52.656Z"
   },
   {
    "duration": 563,
    "start_time": "2023-06-13T16:05:52.681Z"
   },
   {
    "duration": 5,
    "start_time": "2023-06-13T16:05:53.246Z"
   },
   {
    "duration": 23,
    "start_time": "2023-06-13T16:05:53.263Z"
   },
   {
    "duration": 6,
    "start_time": "2023-06-13T16:05:53.288Z"
   },
   {
    "duration": 22,
    "start_time": "2023-06-13T16:05:53.296Z"
   },
   {
    "duration": 28,
    "start_time": "2023-06-13T16:05:53.320Z"
   },
   {
    "duration": 41,
    "start_time": "2023-06-13T16:05:53.350Z"
   },
   {
    "duration": 13,
    "start_time": "2023-06-13T16:05:53.393Z"
   },
   {
    "duration": 18,
    "start_time": "2023-06-13T16:05:53.410Z"
   },
   {
    "duration": 7,
    "start_time": "2023-06-13T16:05:53.430Z"
   },
   {
    "duration": 8625,
    "start_time": "2023-06-13T16:05:53.439Z"
   },
   {
    "duration": 16,
    "start_time": "2023-06-13T16:06:02.066Z"
   },
   {
    "duration": 200,
    "start_time": "2023-06-13T16:06:02.084Z"
   },
   {
    "duration": 1662,
    "start_time": "2023-06-13T16:06:02.286Z"
   },
   {
    "duration": 29,
    "start_time": "2023-06-13T16:06:03.950Z"
   },
   {
    "duration": 22,
    "start_time": "2023-06-13T16:06:03.981Z"
   },
   {
    "duration": 161956,
    "start_time": "2023-06-13T16:06:04.005Z"
   },
   {
    "duration": 0,
    "start_time": "2023-06-13T16:08:45.965Z"
   },
   {
    "duration": 0,
    "start_time": "2023-06-13T16:08:45.966Z"
   },
   {
    "duration": 0,
    "start_time": "2023-06-13T16:08:45.968Z"
   },
   {
    "duration": 0,
    "start_time": "2023-06-13T16:08:45.969Z"
   },
   {
    "duration": 0,
    "start_time": "2023-06-13T16:08:45.970Z"
   },
   {
    "duration": 0,
    "start_time": "2023-06-13T16:08:45.972Z"
   },
   {
    "duration": 0,
    "start_time": "2023-06-13T16:08:45.973Z"
   },
   {
    "duration": 0,
    "start_time": "2023-06-13T16:08:45.974Z"
   },
   {
    "duration": 0,
    "start_time": "2023-06-13T16:08:45.976Z"
   },
   {
    "duration": 0,
    "start_time": "2023-06-13T16:08:45.977Z"
   },
   {
    "duration": 0,
    "start_time": "2023-06-13T16:08:45.979Z"
   },
   {
    "duration": 0,
    "start_time": "2023-06-13T16:08:45.980Z"
   },
   {
    "duration": 0,
    "start_time": "2023-06-13T16:08:45.981Z"
   },
   {
    "duration": 0,
    "start_time": "2023-06-13T16:08:45.983Z"
   },
   {
    "duration": 0,
    "start_time": "2023-06-13T16:08:45.984Z"
   },
   {
    "duration": 0,
    "start_time": "2023-06-13T16:08:45.985Z"
   },
   {
    "duration": 0,
    "start_time": "2023-06-13T16:08:45.987Z"
   },
   {
    "duration": 0,
    "start_time": "2023-06-13T16:08:45.988Z"
   },
   {
    "duration": 1243,
    "start_time": "2023-06-13T16:09:09.242Z"
   },
   {
    "duration": 54,
    "start_time": "2023-06-13T16:09:10.488Z"
   },
   {
    "duration": 35,
    "start_time": "2023-06-13T16:09:10.544Z"
   },
   {
    "duration": 13,
    "start_time": "2023-06-13T16:09:10.584Z"
   },
   {
    "duration": 10,
    "start_time": "2023-06-13T16:09:10.599Z"
   },
   {
    "duration": 591,
    "start_time": "2023-06-13T16:09:10.611Z"
   },
   {
    "duration": 4,
    "start_time": "2023-06-13T16:09:11.203Z"
   },
   {
    "duration": 18,
    "start_time": "2023-06-13T16:09:11.209Z"
   },
   {
    "duration": 17,
    "start_time": "2023-06-13T16:09:11.229Z"
   },
   {
    "duration": 25,
    "start_time": "2023-06-13T16:09:11.249Z"
   },
   {
    "duration": 42,
    "start_time": "2023-06-13T16:09:11.280Z"
   },
   {
    "duration": 39,
    "start_time": "2023-06-13T16:09:11.324Z"
   },
   {
    "duration": 15,
    "start_time": "2023-06-13T16:09:11.365Z"
   },
   {
    "duration": 22,
    "start_time": "2023-06-13T16:09:11.382Z"
   },
   {
    "duration": 11,
    "start_time": "2023-06-13T16:09:11.406Z"
   },
   {
    "duration": 43544,
    "start_time": "2023-06-13T16:09:11.419Z"
   },
   {
    "duration": 17082,
    "start_time": "2023-06-13T16:09:54.970Z"
   },
   {
    "duration": 59,
    "start_time": "2023-06-13T17:37:45.510Z"
   },
   {
    "duration": 1142,
    "start_time": "2023-06-13T17:37:50.733Z"
   },
   {
    "duration": 195,
    "start_time": "2023-06-13T17:37:51.878Z"
   },
   {
    "duration": 24,
    "start_time": "2023-06-13T17:37:52.075Z"
   },
   {
    "duration": 28,
    "start_time": "2023-06-13T17:37:52.102Z"
   },
   {
    "duration": 39,
    "start_time": "2023-06-13T17:37:52.133Z"
   },
   {
    "duration": 552,
    "start_time": "2023-06-13T17:37:52.174Z"
   },
   {
    "duration": 5,
    "start_time": "2023-06-13T17:37:52.728Z"
   },
   {
    "duration": 35,
    "start_time": "2023-06-13T17:37:52.735Z"
   },
   {
    "duration": 37,
    "start_time": "2023-06-13T17:37:52.772Z"
   },
   {
    "duration": 20,
    "start_time": "2023-06-13T17:37:52.812Z"
   },
   {
    "duration": 47,
    "start_time": "2023-06-13T17:37:52.834Z"
   },
   {
    "duration": 51,
    "start_time": "2023-06-13T17:37:52.883Z"
   },
   {
    "duration": 10,
    "start_time": "2023-06-13T17:37:52.936Z"
   },
   {
    "duration": 31,
    "start_time": "2023-06-13T17:37:52.948Z"
   },
   {
    "duration": 17,
    "start_time": "2023-06-13T17:37:52.981Z"
   },
   {
    "duration": 50227,
    "start_time": "2023-06-13T17:37:52.999Z"
   },
   {
    "duration": 18382,
    "start_time": "2023-06-13T17:38:43.228Z"
   },
   {
    "duration": 794645,
    "start_time": "2023-06-13T17:39:01.612Z"
   },
   {
    "duration": 0,
    "start_time": "2023-06-13T17:52:16.259Z"
   },
   {
    "duration": 0,
    "start_time": "2023-06-13T17:52:16.261Z"
   },
   {
    "duration": 0,
    "start_time": "2023-06-13T17:52:16.263Z"
   },
   {
    "duration": 0,
    "start_time": "2023-06-13T17:52:16.265Z"
   },
   {
    "duration": 0,
    "start_time": "2023-06-13T17:52:16.266Z"
   },
   {
    "duration": 0,
    "start_time": "2023-06-13T17:52:16.267Z"
   },
   {
    "duration": 0,
    "start_time": "2023-06-13T17:52:16.268Z"
   },
   {
    "duration": 0,
    "start_time": "2023-06-13T17:52:16.269Z"
   },
   {
    "duration": 0,
    "start_time": "2023-06-13T17:52:16.270Z"
   },
   {
    "duration": 0,
    "start_time": "2023-06-13T17:52:16.271Z"
   },
   {
    "duration": 0,
    "start_time": "2023-06-13T17:52:16.272Z"
   },
   {
    "duration": 0,
    "start_time": "2023-06-13T17:52:16.274Z"
   },
   {
    "duration": 0,
    "start_time": "2023-06-13T17:52:16.275Z"
   },
   {
    "duration": 0,
    "start_time": "2023-06-13T17:52:16.276Z"
   },
   {
    "duration": 0,
    "start_time": "2023-06-13T17:52:16.277Z"
   },
   {
    "duration": 0,
    "start_time": "2023-06-13T17:52:16.278Z"
   },
   {
    "duration": 0,
    "start_time": "2023-06-13T18:28:57.679Z"
   },
   {
    "duration": 0,
    "start_time": "2023-06-13T18:28:57.681Z"
   },
   {
    "duration": 0,
    "start_time": "2023-06-13T18:28:57.683Z"
   },
   {
    "duration": 0,
    "start_time": "2023-06-13T18:28:57.685Z"
   },
   {
    "duration": 0,
    "start_time": "2023-06-13T18:28:57.687Z"
   },
   {
    "duration": 0,
    "start_time": "2023-06-13T18:28:57.689Z"
   },
   {
    "duration": 0,
    "start_time": "2023-06-13T18:28:57.691Z"
   },
   {
    "duration": 0,
    "start_time": "2023-06-13T18:28:57.694Z"
   },
   {
    "duration": 0,
    "start_time": "2023-06-13T18:28:57.696Z"
   },
   {
    "duration": 1,
    "start_time": "2023-06-13T18:28:57.697Z"
   },
   {
    "duration": 0,
    "start_time": "2023-06-13T18:28:57.700Z"
   },
   {
    "duration": 0,
    "start_time": "2023-06-13T18:28:57.702Z"
   },
   {
    "duration": 0,
    "start_time": "2023-06-13T18:28:57.704Z"
   },
   {
    "duration": 0,
    "start_time": "2023-06-13T18:28:57.706Z"
   },
   {
    "duration": 0,
    "start_time": "2023-06-13T18:28:57.708Z"
   },
   {
    "duration": 0,
    "start_time": "2023-06-13T18:28:57.709Z"
   },
   {
    "duration": 0,
    "start_time": "2023-06-13T18:28:57.711Z"
   },
   {
    "duration": 3132604,
    "start_time": "2023-06-13T18:28:59.425Z"
   },
   {
    "duration": 31,
    "start_time": "2023-06-13T19:24:08.094Z"
   },
   {
    "duration": 48207,
    "start_time": "2023-06-13T19:24:08.128Z"
   },
   {
    "duration": 26405,
    "start_time": "2023-06-13T19:24:56.342Z"
   },
   {
    "duration": 84619,
    "start_time": "2023-06-13T19:25:22.750Z"
   },
   {
    "duration": 0,
    "start_time": "2023-06-13T19:26:47.372Z"
   },
   {
    "duration": 0,
    "start_time": "2023-06-13T19:26:47.374Z"
   },
   {
    "duration": 0,
    "start_time": "2023-06-13T19:26:47.376Z"
   },
   {
    "duration": 0,
    "start_time": "2023-06-13T19:26:47.377Z"
   },
   {
    "duration": 0,
    "start_time": "2023-06-13T19:26:47.426Z"
   },
   {
    "duration": 0,
    "start_time": "2023-06-13T19:26:47.427Z"
   },
   {
    "duration": 0,
    "start_time": "2023-06-13T19:26:47.428Z"
   },
   {
    "duration": 0,
    "start_time": "2023-06-13T19:26:47.430Z"
   },
   {
    "duration": 0,
    "start_time": "2023-06-13T19:26:47.431Z"
   },
   {
    "duration": 0,
    "start_time": "2023-06-13T19:26:47.432Z"
   },
   {
    "duration": 0,
    "start_time": "2023-06-13T19:26:47.434Z"
   },
   {
    "duration": 0,
    "start_time": "2023-06-13T19:26:47.435Z"
   },
   {
    "duration": 3298912,
    "start_time": "2023-06-13T19:26:55.111Z"
   },
   {
    "duration": 55,
    "start_time": "2023-06-13T20:21:54.025Z"
   },
   {
    "duration": 12,
    "start_time": "2023-06-13T20:21:54.082Z"
   },
   {
    "duration": 38,
    "start_time": "2023-06-13T20:21:54.095Z"
   },
   {
    "duration": 0,
    "start_time": "2023-06-13T20:21:54.141Z"
   },
   {
    "duration": 0,
    "start_time": "2023-06-13T20:21:54.143Z"
   },
   {
    "duration": 0,
    "start_time": "2023-06-13T20:21:54.145Z"
   },
   {
    "duration": 0,
    "start_time": "2023-06-13T20:21:54.146Z"
   },
   {
    "duration": 0,
    "start_time": "2023-06-13T20:21:54.147Z"
   },
   {
    "duration": 0,
    "start_time": "2023-06-13T20:21:54.149Z"
   },
   {
    "duration": 0,
    "start_time": "2023-06-13T20:21:54.151Z"
   },
   {
    "duration": 0,
    "start_time": "2023-06-13T20:21:54.152Z"
   },
   {
    "duration": 0,
    "start_time": "2023-06-13T20:21:54.154Z"
   },
   {
    "duration": 1616,
    "start_time": "2023-06-14T07:23:14.806Z"
   },
   {
    "duration": 413,
    "start_time": "2023-06-14T07:23:16.435Z"
   },
   {
    "duration": 45,
    "start_time": "2023-06-14T07:23:16.853Z"
   },
   {
    "duration": 178,
    "start_time": "2023-06-14T07:23:16.904Z"
   },
   {
    "duration": 151,
    "start_time": "2023-06-14T07:23:17.095Z"
   },
   {
    "duration": 657,
    "start_time": "2023-06-14T07:23:17.251Z"
   },
   {
    "duration": 15,
    "start_time": "2023-06-14T07:23:17.913Z"
   },
   {
    "duration": 153,
    "start_time": "2023-06-14T07:23:17.933Z"
   },
   {
    "duration": 119,
    "start_time": "2023-06-14T07:23:18.095Z"
   },
   {
    "duration": 118,
    "start_time": "2023-06-14T07:23:18.224Z"
   },
   {
    "duration": 162,
    "start_time": "2023-06-14T07:23:18.352Z"
   },
   {
    "duration": 155,
    "start_time": "2023-06-14T07:23:18.523Z"
   },
   {
    "duration": 106,
    "start_time": "2023-06-14T07:23:18.684Z"
   },
   {
    "duration": 143,
    "start_time": "2023-06-14T07:23:18.795Z"
   },
   {
    "duration": 187,
    "start_time": "2023-06-14T07:23:18.947Z"
   },
   {
    "duration": 49814,
    "start_time": "2023-06-14T07:23:19.140Z"
   },
   {
    "duration": 24669,
    "start_time": "2023-06-14T07:24:08.969Z"
   },
   {
    "duration": 3540468,
    "start_time": "2023-06-14T07:24:33.640Z"
   },
   {
    "duration": 21,
    "start_time": "2023-06-14T08:23:34.109Z"
   },
   {
    "duration": 37075,
    "start_time": "2023-06-14T08:23:34.132Z"
   },
   {
    "duration": 21137,
    "start_time": "2023-06-14T08:24:11.209Z"
   },
   {
    "duration": 3530840,
    "start_time": "2023-06-14T08:24:32.347Z"
   },
   {
    "duration": 67,
    "start_time": "2023-06-14T09:23:23.188Z"
   },
   {
    "duration": 18,
    "start_time": "2023-06-14T09:23:23.260Z"
   },
   {
    "duration": 48414,
    "start_time": "2023-06-14T09:23:23.280Z"
   },
   {
    "duration": 25280,
    "start_time": "2023-06-14T09:24:11.703Z"
   },
   {
    "duration": 4798077,
    "start_time": "2023-06-14T09:24:37.000Z"
   },
   {
    "duration": 59,
    "start_time": "2023-06-14T10:44:35.094Z"
   },
   {
    "duration": 13,
    "start_time": "2023-06-14T10:44:35.156Z"
   },
   {
    "duration": 24886,
    "start_time": "2023-06-14T10:44:35.171Z"
   },
   {
    "duration": 17339,
    "start_time": "2023-06-14T10:45:00.059Z"
   },
   {
    "duration": 1900538,
    "start_time": "2023-06-14T10:45:17.408Z"
   },
   {
    "duration": 42,
    "start_time": "2023-06-14T11:16:57.952Z"
   },
   {
    "duration": 163,
    "start_time": "2023-06-14T11:16:57.995Z"
   },
   {
    "duration": 25,
    "start_time": "2023-06-14T11:19:30.215Z"
   },
   {
    "duration": 11,
    "start_time": "2023-06-14T11:19:49.636Z"
   },
   {
    "duration": 133,
    "start_time": "2023-06-14T11:20:27.506Z"
   },
   {
    "duration": 28,
    "start_time": "2023-06-14T11:28:48.282Z"
   },
   {
    "duration": 22,
    "start_time": "2023-06-14T11:28:51.680Z"
   },
   {
    "duration": 25,
    "start_time": "2023-06-14T11:29:30.929Z"
   },
   {
    "duration": 50,
    "start_time": "2023-06-14T11:29:44.277Z"
   },
   {
    "duration": 86,
    "start_time": "2023-06-14T11:31:48.276Z"
   },
   {
    "duration": 1141,
    "start_time": "2023-06-16T15:14:23.795Z"
   },
   {
    "duration": 163,
    "start_time": "2023-06-16T15:14:24.938Z"
   },
   {
    "duration": 20,
    "start_time": "2023-06-16T15:14:25.102Z"
   },
   {
    "duration": 11,
    "start_time": "2023-06-16T15:14:25.124Z"
   },
   {
    "duration": 8,
    "start_time": "2023-06-16T15:14:25.137Z"
   },
   {
    "duration": 462,
    "start_time": "2023-06-16T15:14:25.146Z"
   },
   {
    "duration": 4,
    "start_time": "2023-06-16T15:14:25.609Z"
   },
   {
    "duration": 26,
    "start_time": "2023-06-16T15:14:25.615Z"
   },
   {
    "duration": 7,
    "start_time": "2023-06-16T15:14:25.643Z"
   },
   {
    "duration": 5,
    "start_time": "2023-06-16T15:14:25.651Z"
   },
   {
    "duration": 24,
    "start_time": "2023-06-16T15:14:25.658Z"
   },
   {
    "duration": 28,
    "start_time": "2023-06-16T15:14:25.684Z"
   },
   {
    "duration": 10,
    "start_time": "2023-06-16T15:14:25.714Z"
   },
   {
    "duration": 12,
    "start_time": "2023-06-16T15:14:25.726Z"
   },
   {
    "duration": 26,
    "start_time": "2023-06-16T15:14:25.769Z"
   },
   {
    "duration": 50572,
    "start_time": "2023-06-16T15:14:25.797Z"
   },
   {
    "duration": 16284,
    "start_time": "2023-06-16T15:15:16.375Z"
   },
   {
    "duration": 2500459,
    "start_time": "2023-06-16T15:15:32.661Z"
   },
   {
    "duration": 17,
    "start_time": "2023-06-16T15:57:13.122Z"
   },
   {
    "duration": 53232,
    "start_time": "2023-06-16T15:57:13.140Z"
   },
   {
    "duration": 96,
    "start_time": "2023-06-16T15:58:06.373Z"
   },
   {
    "duration": 19750,
    "start_time": "2023-06-16T15:58:06.471Z"
   },
   {
    "duration": 10,
    "start_time": "2023-06-16T15:58:26.223Z"
   },
   {
    "duration": 2808443,
    "start_time": "2023-06-16T15:58:26.235Z"
   },
   {
    "duration": 42,
    "start_time": "2023-06-16T16:45:14.680Z"
   },
   {
    "duration": 50,
    "start_time": "2023-06-16T16:45:14.724Z"
   },
   {
    "duration": 11,
    "start_time": "2023-06-16T16:45:14.776Z"
   },
   {
    "duration": 51385,
    "start_time": "2023-06-16T16:45:14.789Z"
   },
   {
    "duration": 111,
    "start_time": "2023-06-16T16:46:06.178Z"
   },
   {
    "duration": 21124,
    "start_time": "2023-06-16T16:46:06.290Z"
   },
   {
    "duration": 11,
    "start_time": "2023-06-16T16:46:27.416Z"
   },
   {
    "duration": 3458305,
    "start_time": "2023-06-16T16:46:27.428Z"
   },
   {
    "duration": 74,
    "start_time": "2023-06-16T17:44:05.736Z"
   },
   {
    "duration": 41,
    "start_time": "2023-06-16T17:44:05.811Z"
   },
   {
    "duration": 18,
    "start_time": "2023-06-16T17:44:05.854Z"
   },
   {
    "duration": 35903,
    "start_time": "2023-06-16T17:44:05.874Z"
   },
   {
    "duration": 14,
    "start_time": "2023-06-16T17:44:41.868Z"
   },
   {
    "duration": 14236,
    "start_time": "2023-06-16T17:44:41.884Z"
   },
   {
    "duration": 12,
    "start_time": "2023-06-16T17:44:56.121Z"
   },
   {
    "duration": 1408414,
    "start_time": "2023-06-16T17:44:56.135Z"
   },
   {
    "duration": 90,
    "start_time": "2023-06-16T18:08:24.552Z"
   },
   {
    "duration": 47,
    "start_time": "2023-06-16T18:08:24.643Z"
   },
   {
    "duration": 101,
    "start_time": "2023-06-16T18:08:24.692Z"
   },
   {
    "duration": 78,
    "start_time": "2023-06-16T18:08:24.795Z"
   },
   {
    "duration": 1255,
    "start_time": "2023-06-21T04:48:02.309Z"
   },
   {
    "duration": 127,
    "start_time": "2023-06-21T05:30:24.347Z"
   },
   {
    "duration": 1489,
    "start_time": "2023-06-21T05:31:03.435Z"
   },
   {
    "duration": 233,
    "start_time": "2023-06-21T05:31:04.926Z"
   },
   {
    "duration": 34,
    "start_time": "2023-06-21T05:31:05.162Z"
   },
   {
    "duration": 24,
    "start_time": "2023-06-21T05:31:05.197Z"
   },
   {
    "duration": 14,
    "start_time": "2023-06-21T05:31:05.224Z"
   },
   {
    "duration": 724,
    "start_time": "2023-06-21T05:31:05.244Z"
   },
   {
    "duration": 8,
    "start_time": "2023-06-21T05:31:05.971Z"
   },
   {
    "duration": 52,
    "start_time": "2023-06-21T05:31:05.982Z"
   },
   {
    "duration": 21,
    "start_time": "2023-06-21T05:31:06.048Z"
   },
   {
    "duration": 202,
    "start_time": "2023-06-21T05:31:06.072Z"
   },
   {
    "duration": 0,
    "start_time": "2023-06-21T05:31:06.279Z"
   },
   {
    "duration": 0,
    "start_time": "2023-06-21T05:31:06.280Z"
   },
   {
    "duration": 0,
    "start_time": "2023-06-21T05:31:06.282Z"
   },
   {
    "duration": 0,
    "start_time": "2023-06-21T05:31:06.284Z"
   },
   {
    "duration": 0,
    "start_time": "2023-06-21T05:31:06.285Z"
   },
   {
    "duration": 0,
    "start_time": "2023-06-21T05:31:06.286Z"
   },
   {
    "duration": 0,
    "start_time": "2023-06-21T05:31:06.287Z"
   },
   {
    "duration": 0,
    "start_time": "2023-06-21T05:31:06.288Z"
   },
   {
    "duration": 0,
    "start_time": "2023-06-21T05:31:06.290Z"
   },
   {
    "duration": 0,
    "start_time": "2023-06-21T05:31:06.291Z"
   },
   {
    "duration": 0,
    "start_time": "2023-06-21T05:31:06.293Z"
   },
   {
    "duration": 0,
    "start_time": "2023-06-21T05:31:06.316Z"
   },
   {
    "duration": 0,
    "start_time": "2023-06-21T05:31:06.317Z"
   },
   {
    "duration": 0,
    "start_time": "2023-06-21T05:31:06.319Z"
   },
   {
    "duration": 0,
    "start_time": "2023-06-21T05:31:06.320Z"
   },
   {
    "duration": 0,
    "start_time": "2023-06-21T05:31:06.321Z"
   },
   {
    "duration": 0,
    "start_time": "2023-06-21T05:31:06.323Z"
   },
   {
    "duration": 0,
    "start_time": "2023-06-21T05:31:06.324Z"
   },
   {
    "duration": 0,
    "start_time": "2023-06-21T05:31:06.325Z"
   },
   {
    "duration": 0,
    "start_time": "2023-06-21T05:31:06.327Z"
   },
   {
    "duration": 0,
    "start_time": "2023-06-21T05:31:06.328Z"
   },
   {
    "duration": 0,
    "start_time": "2023-06-21T05:31:06.330Z"
   },
   {
    "duration": 0,
    "start_time": "2023-06-21T05:31:06.332Z"
   },
   {
    "duration": 0,
    "start_time": "2023-06-21T05:31:06.334Z"
   },
   {
    "duration": 0,
    "start_time": "2023-06-21T05:31:06.335Z"
   },
   {
    "duration": 0,
    "start_time": "2023-06-21T05:31:06.337Z"
   },
   {
    "duration": 0,
    "start_time": "2023-06-21T05:31:06.339Z"
   },
   {
    "duration": 0,
    "start_time": "2023-06-21T05:31:06.340Z"
   },
   {
    "duration": 0,
    "start_time": "2023-06-21T05:31:06.342Z"
   },
   {
    "duration": 0,
    "start_time": "2023-06-21T05:31:06.344Z"
   },
   {
    "duration": 0,
    "start_time": "2023-06-21T05:31:06.345Z"
   },
   {
    "duration": 0,
    "start_time": "2023-06-21T05:31:06.348Z"
   },
   {
    "duration": 0,
    "start_time": "2023-06-21T05:31:06.350Z"
   },
   {
    "duration": 0,
    "start_time": "2023-06-21T05:31:06.352Z"
   },
   {
    "duration": 0,
    "start_time": "2023-06-21T05:31:06.353Z"
   },
   {
    "duration": 0,
    "start_time": "2023-06-21T05:31:06.355Z"
   },
   {
    "duration": 0,
    "start_time": "2023-06-21T05:31:06.357Z"
   },
   {
    "duration": 0,
    "start_time": "2023-06-21T05:31:06.358Z"
   },
   {
    "duration": 0,
    "start_time": "2023-06-21T05:31:06.360Z"
   },
   {
    "duration": 24,
    "start_time": "2023-06-21T05:32:15.305Z"
   },
   {
    "duration": 42,
    "start_time": "2023-06-21T05:32:15.336Z"
   },
   {
    "duration": 108,
    "start_time": "2023-06-21T05:32:15.380Z"
   },
   {
    "duration": 0,
    "start_time": "2023-06-21T05:32:15.493Z"
   },
   {
    "duration": 0,
    "start_time": "2023-06-21T05:32:15.494Z"
   },
   {
    "duration": 0,
    "start_time": "2023-06-21T05:32:15.496Z"
   },
   {
    "duration": 0,
    "start_time": "2023-06-21T05:32:15.497Z"
   },
   {
    "duration": 0,
    "start_time": "2023-06-21T05:32:15.498Z"
   },
   {
    "duration": 0,
    "start_time": "2023-06-21T05:32:15.499Z"
   },
   {
    "duration": 0,
    "start_time": "2023-06-21T05:32:15.500Z"
   },
   {
    "duration": 1,
    "start_time": "2023-06-21T05:32:15.501Z"
   },
   {
    "duration": 0,
    "start_time": "2023-06-21T05:32:15.502Z"
   },
   {
    "duration": 0,
    "start_time": "2023-06-21T05:32:15.504Z"
   },
   {
    "duration": 0,
    "start_time": "2023-06-21T05:32:15.505Z"
   },
   {
    "duration": 0,
    "start_time": "2023-06-21T05:32:15.506Z"
   },
   {
    "duration": 0,
    "start_time": "2023-06-21T05:32:15.507Z"
   },
   {
    "duration": 0,
    "start_time": "2023-06-21T05:32:15.509Z"
   },
   {
    "duration": 0,
    "start_time": "2023-06-21T05:32:15.510Z"
   },
   {
    "duration": 1,
    "start_time": "2023-06-21T05:32:15.511Z"
   },
   {
    "duration": 1,
    "start_time": "2023-06-21T05:32:15.513Z"
   },
   {
    "duration": 0,
    "start_time": "2023-06-21T05:32:15.514Z"
   },
   {
    "duration": 0,
    "start_time": "2023-06-21T05:32:15.515Z"
   },
   {
    "duration": 0,
    "start_time": "2023-06-21T05:32:15.516Z"
   },
   {
    "duration": 0,
    "start_time": "2023-06-21T05:32:15.520Z"
   },
   {
    "duration": 0,
    "start_time": "2023-06-21T05:32:15.520Z"
   },
   {
    "duration": 0,
    "start_time": "2023-06-21T05:32:15.521Z"
   },
   {
    "duration": 0,
    "start_time": "2023-06-21T05:32:15.523Z"
   },
   {
    "duration": 0,
    "start_time": "2023-06-21T05:32:15.524Z"
   },
   {
    "duration": 0,
    "start_time": "2023-06-21T05:32:15.525Z"
   },
   {
    "duration": 0,
    "start_time": "2023-06-21T05:32:15.529Z"
   },
   {
    "duration": 0,
    "start_time": "2023-06-21T05:32:15.530Z"
   },
   {
    "duration": 1,
    "start_time": "2023-06-21T05:32:15.530Z"
   },
   {
    "duration": 0,
    "start_time": "2023-06-21T05:32:15.531Z"
   },
   {
    "duration": 0,
    "start_time": "2023-06-21T05:32:15.533Z"
   },
   {
    "duration": 0,
    "start_time": "2023-06-21T05:32:15.534Z"
   },
   {
    "duration": 0,
    "start_time": "2023-06-21T05:32:15.535Z"
   },
   {
    "duration": 0,
    "start_time": "2023-06-21T05:32:15.536Z"
   },
   {
    "duration": 0,
    "start_time": "2023-06-21T05:32:15.537Z"
   },
   {
    "duration": 0,
    "start_time": "2023-06-21T05:32:15.538Z"
   },
   {
    "duration": 0,
    "start_time": "2023-06-21T05:32:15.539Z"
   },
   {
    "duration": 16,
    "start_time": "2023-06-21T05:32:30.783Z"
   },
   {
    "duration": 0,
    "start_time": "2023-06-21T05:32:30.801Z"
   },
   {
    "duration": 0,
    "start_time": "2023-06-21T05:32:30.803Z"
   },
   {
    "duration": 0,
    "start_time": "2023-06-21T05:32:30.805Z"
   },
   {
    "duration": 1,
    "start_time": "2023-06-21T05:32:30.806Z"
   },
   {
    "duration": 0,
    "start_time": "2023-06-21T05:32:30.809Z"
   },
   {
    "duration": 0,
    "start_time": "2023-06-21T05:32:30.810Z"
   },
   {
    "duration": 0,
    "start_time": "2023-06-21T05:32:30.811Z"
   },
   {
    "duration": 0,
    "start_time": "2023-06-21T05:32:30.822Z"
   },
   {
    "duration": 0,
    "start_time": "2023-06-21T05:32:30.822Z"
   },
   {
    "duration": 239,
    "start_time": "2023-06-21T05:32:30.825Z"
   },
   {
    "duration": 0,
    "start_time": "2023-06-21T05:32:31.067Z"
   },
   {
    "duration": 0,
    "start_time": "2023-06-21T05:32:31.069Z"
   },
   {
    "duration": 0,
    "start_time": "2023-06-21T05:32:31.070Z"
   },
   {
    "duration": 0,
    "start_time": "2023-06-21T05:32:31.072Z"
   },
   {
    "duration": 0,
    "start_time": "2023-06-21T05:32:31.074Z"
   },
   {
    "duration": 0,
    "start_time": "2023-06-21T05:32:31.075Z"
   },
   {
    "duration": 0,
    "start_time": "2023-06-21T05:32:31.077Z"
   },
   {
    "duration": 0,
    "start_time": "2023-06-21T05:32:31.079Z"
   },
   {
    "duration": 0,
    "start_time": "2023-06-21T05:32:31.080Z"
   },
   {
    "duration": 0,
    "start_time": "2023-06-21T05:32:31.082Z"
   },
   {
    "duration": 0,
    "start_time": "2023-06-21T05:32:31.083Z"
   },
   {
    "duration": 0,
    "start_time": "2023-06-21T05:32:31.085Z"
   },
   {
    "duration": 0,
    "start_time": "2023-06-21T05:32:31.087Z"
   },
   {
    "duration": 0,
    "start_time": "2023-06-21T05:32:31.088Z"
   },
   {
    "duration": 0,
    "start_time": "2023-06-21T05:32:31.090Z"
   },
   {
    "duration": 0,
    "start_time": "2023-06-21T05:32:31.091Z"
   },
   {
    "duration": 0,
    "start_time": "2023-06-21T05:32:31.093Z"
   },
   {
    "duration": 0,
    "start_time": "2023-06-21T05:32:31.094Z"
   },
   {
    "duration": 0,
    "start_time": "2023-06-21T05:32:31.096Z"
   },
   {
    "duration": 0,
    "start_time": "2023-06-21T05:32:31.097Z"
   },
   {
    "duration": 1,
    "start_time": "2023-06-21T05:32:31.098Z"
   },
   {
    "duration": 0,
    "start_time": "2023-06-21T05:32:31.100Z"
   },
   {
    "duration": 0,
    "start_time": "2023-06-21T05:32:31.101Z"
   },
   {
    "duration": 0,
    "start_time": "2023-06-21T05:32:31.114Z"
   },
   {
    "duration": 0,
    "start_time": "2023-06-21T05:32:31.115Z"
   },
   {
    "duration": 0,
    "start_time": "2023-06-21T05:32:31.116Z"
   },
   {
    "duration": 0,
    "start_time": "2023-06-21T05:32:31.120Z"
   },
   {
    "duration": 49,
    "start_time": "2023-06-21T05:33:26.473Z"
   },
   {
    "duration": 1265,
    "start_time": "2023-06-21T05:33:36.302Z"
   },
   {
    "duration": 54,
    "start_time": "2023-06-21T05:33:37.569Z"
   },
   {
    "duration": 34,
    "start_time": "2023-06-21T05:33:37.624Z"
   },
   {
    "duration": 13,
    "start_time": "2023-06-21T05:33:37.661Z"
   },
   {
    "duration": 8,
    "start_time": "2023-06-21T05:33:37.676Z"
   },
   {
    "duration": 680,
    "start_time": "2023-06-21T05:33:37.686Z"
   },
   {
    "duration": 5,
    "start_time": "2023-06-21T05:33:38.368Z"
   },
   {
    "duration": 54,
    "start_time": "2023-06-21T05:33:38.375Z"
   },
   {
    "duration": 23,
    "start_time": "2023-06-21T05:33:38.431Z"
   },
   {
    "duration": 37,
    "start_time": "2023-06-21T05:33:38.458Z"
   },
   {
    "duration": 50,
    "start_time": "2023-06-21T05:33:38.498Z"
   },
   {
    "duration": 219,
    "start_time": "2023-06-21T05:33:38.550Z"
   },
   {
    "duration": 0,
    "start_time": "2023-06-21T05:33:38.772Z"
   },
   {
    "duration": 0,
    "start_time": "2023-06-21T05:33:38.774Z"
   },
   {
    "duration": 0,
    "start_time": "2023-06-21T05:33:38.775Z"
   },
   {
    "duration": 0,
    "start_time": "2023-06-21T05:33:38.776Z"
   },
   {
    "duration": 0,
    "start_time": "2023-06-21T05:33:38.777Z"
   },
   {
    "duration": 0,
    "start_time": "2023-06-21T05:33:38.778Z"
   },
   {
    "duration": 0,
    "start_time": "2023-06-21T05:33:38.779Z"
   },
   {
    "duration": 0,
    "start_time": "2023-06-21T05:33:38.780Z"
   },
   {
    "duration": 0,
    "start_time": "2023-06-21T05:33:38.781Z"
   },
   {
    "duration": 0,
    "start_time": "2023-06-21T05:33:38.782Z"
   },
   {
    "duration": 0,
    "start_time": "2023-06-21T05:33:38.783Z"
   },
   {
    "duration": 0,
    "start_time": "2023-06-21T05:33:38.784Z"
   },
   {
    "duration": 0,
    "start_time": "2023-06-21T05:33:38.785Z"
   },
   {
    "duration": 0,
    "start_time": "2023-06-21T05:33:38.786Z"
   },
   {
    "duration": 0,
    "start_time": "2023-06-21T05:33:38.813Z"
   },
   {
    "duration": 0,
    "start_time": "2023-06-21T05:33:38.814Z"
   },
   {
    "duration": 0,
    "start_time": "2023-06-21T05:33:38.814Z"
   },
   {
    "duration": 0,
    "start_time": "2023-06-21T05:33:38.816Z"
   },
   {
    "duration": 0,
    "start_time": "2023-06-21T05:33:38.817Z"
   },
   {
    "duration": 0,
    "start_time": "2023-06-21T05:33:38.818Z"
   },
   {
    "duration": 0,
    "start_time": "2023-06-21T05:33:38.818Z"
   },
   {
    "duration": 0,
    "start_time": "2023-06-21T05:33:38.822Z"
   },
   {
    "duration": 0,
    "start_time": "2023-06-21T05:33:38.823Z"
   },
   {
    "duration": 0,
    "start_time": "2023-06-21T05:33:38.824Z"
   },
   {
    "duration": 0,
    "start_time": "2023-06-21T05:33:38.825Z"
   },
   {
    "duration": 0,
    "start_time": "2023-06-21T05:33:38.826Z"
   },
   {
    "duration": 0,
    "start_time": "2023-06-21T05:33:38.827Z"
   },
   {
    "duration": 0,
    "start_time": "2023-06-21T05:33:38.828Z"
   },
   {
    "duration": 0,
    "start_time": "2023-06-21T05:33:38.829Z"
   },
   {
    "duration": 0,
    "start_time": "2023-06-21T05:33:38.830Z"
   },
   {
    "duration": 0,
    "start_time": "2023-06-21T05:33:38.831Z"
   },
   {
    "duration": 0,
    "start_time": "2023-06-21T05:33:38.832Z"
   },
   {
    "duration": 0,
    "start_time": "2023-06-21T05:33:38.833Z"
   },
   {
    "duration": 0,
    "start_time": "2023-06-21T05:33:38.834Z"
   },
   {
    "duration": 0,
    "start_time": "2023-06-21T05:33:38.835Z"
   },
   {
    "duration": 0,
    "start_time": "2023-06-21T05:33:38.836Z"
   },
   {
    "duration": 0,
    "start_time": "2023-06-21T05:33:38.837Z"
   },
   {
    "duration": 20,
    "start_time": "2023-06-21T05:34:01.101Z"
   },
   {
    "duration": 53,
    "start_time": "2023-06-21T05:35:31.848Z"
   },
   {
    "duration": 52,
    "start_time": "2023-06-21T05:35:54.839Z"
   },
   {
    "duration": 59,
    "start_time": "2023-06-21T05:36:07.776Z"
   },
   {
    "duration": 70,
    "start_time": "2023-06-21T05:36:20.443Z"
   },
   {
    "duration": 59,
    "start_time": "2023-06-21T05:36:33.449Z"
   },
   {
    "duration": 35,
    "start_time": "2023-06-21T05:38:11.058Z"
   },
   {
    "duration": 19,
    "start_time": "2023-06-21T05:38:19.295Z"
   },
   {
    "duration": 24,
    "start_time": "2023-06-21T05:38:33.039Z"
   },
   {
    "duration": 29,
    "start_time": "2023-06-21T05:38:39.911Z"
   },
   {
    "duration": 1373,
    "start_time": "2023-06-21T05:39:02.263Z"
   },
   {
    "duration": 79,
    "start_time": "2023-06-21T05:39:03.647Z"
   },
   {
    "duration": 43,
    "start_time": "2023-06-21T05:39:03.735Z"
   },
   {
    "duration": 11,
    "start_time": "2023-06-21T05:39:03.780Z"
   },
   {
    "duration": 22,
    "start_time": "2023-06-21T05:39:03.793Z"
   },
   {
    "duration": 683,
    "start_time": "2023-06-21T05:39:03.817Z"
   },
   {
    "duration": 5,
    "start_time": "2023-06-21T05:39:04.501Z"
   },
   {
    "duration": 33,
    "start_time": "2023-06-21T05:39:04.518Z"
   },
   {
    "duration": 10,
    "start_time": "2023-06-21T05:39:04.553Z"
   },
   {
    "duration": 31,
    "start_time": "2023-06-21T05:39:04.565Z"
   },
   {
    "duration": 5,
    "start_time": "2023-06-21T05:39:04.598Z"
   },
   {
    "duration": 180,
    "start_time": "2023-06-21T05:39:04.605Z"
   },
   {
    "duration": 0,
    "start_time": "2023-06-21T05:39:04.789Z"
   },
   {
    "duration": 0,
    "start_time": "2023-06-21T05:39:04.790Z"
   },
   {
    "duration": 0,
    "start_time": "2023-06-21T05:39:04.792Z"
   },
   {
    "duration": 0,
    "start_time": "2023-06-21T05:39:04.793Z"
   },
   {
    "duration": 0,
    "start_time": "2023-06-21T05:39:04.794Z"
   },
   {
    "duration": 0,
    "start_time": "2023-06-21T05:39:04.795Z"
   },
   {
    "duration": 0,
    "start_time": "2023-06-21T05:39:04.796Z"
   },
   {
    "duration": 0,
    "start_time": "2023-06-21T05:39:04.798Z"
   },
   {
    "duration": 0,
    "start_time": "2023-06-21T05:39:04.818Z"
   },
   {
    "duration": 0,
    "start_time": "2023-06-21T05:39:04.819Z"
   },
   {
    "duration": 0,
    "start_time": "2023-06-21T05:39:04.820Z"
   },
   {
    "duration": 0,
    "start_time": "2023-06-21T05:39:04.821Z"
   },
   {
    "duration": 0,
    "start_time": "2023-06-21T05:39:04.822Z"
   },
   {
    "duration": 0,
    "start_time": "2023-06-21T05:39:04.822Z"
   },
   {
    "duration": 0,
    "start_time": "2023-06-21T05:39:04.823Z"
   },
   {
    "duration": 0,
    "start_time": "2023-06-21T05:39:04.824Z"
   },
   {
    "duration": 0,
    "start_time": "2023-06-21T05:39:04.825Z"
   },
   {
    "duration": 0,
    "start_time": "2023-06-21T05:39:04.831Z"
   },
   {
    "duration": 0,
    "start_time": "2023-06-21T05:39:04.832Z"
   },
   {
    "duration": 0,
    "start_time": "2023-06-21T05:39:04.833Z"
   },
   {
    "duration": 0,
    "start_time": "2023-06-21T05:39:04.834Z"
   },
   {
    "duration": 0,
    "start_time": "2023-06-21T05:39:04.835Z"
   },
   {
    "duration": 0,
    "start_time": "2023-06-21T05:39:04.836Z"
   },
   {
    "duration": 0,
    "start_time": "2023-06-21T05:39:04.837Z"
   },
   {
    "duration": 0,
    "start_time": "2023-06-21T05:39:04.841Z"
   },
   {
    "duration": 0,
    "start_time": "2023-06-21T05:39:04.842Z"
   },
   {
    "duration": 0,
    "start_time": "2023-06-21T05:39:04.843Z"
   },
   {
    "duration": 0,
    "start_time": "2023-06-21T05:39:04.845Z"
   },
   {
    "duration": 0,
    "start_time": "2023-06-21T05:39:04.846Z"
   },
   {
    "duration": 0,
    "start_time": "2023-06-21T05:39:04.847Z"
   },
   {
    "duration": 0,
    "start_time": "2023-06-21T05:39:04.848Z"
   },
   {
    "duration": 0,
    "start_time": "2023-06-21T05:39:04.850Z"
   },
   {
    "duration": 0,
    "start_time": "2023-06-21T05:39:04.851Z"
   },
   {
    "duration": 0,
    "start_time": "2023-06-21T05:39:04.853Z"
   },
   {
    "duration": 0,
    "start_time": "2023-06-21T05:39:04.854Z"
   },
   {
    "duration": 0,
    "start_time": "2023-06-21T05:39:04.856Z"
   },
   {
    "duration": 0,
    "start_time": "2023-06-21T05:39:04.857Z"
   },
   {
    "duration": 19,
    "start_time": "2023-06-21T05:39:17.477Z"
   },
   {
    "duration": 33,
    "start_time": "2023-06-21T05:39:21.909Z"
   },
   {
    "duration": 90,
    "start_time": "2023-06-21T05:39:33.994Z"
   },
   {
    "duration": 8,
    "start_time": "2023-06-21T05:39:35.178Z"
   },
   {
    "duration": 1360,
    "start_time": "2023-06-21T05:39:50.951Z"
   },
   {
    "duration": 81,
    "start_time": "2023-06-21T05:39:52.315Z"
   },
   {
    "duration": 34,
    "start_time": "2023-06-21T05:39:52.398Z"
   },
   {
    "duration": 23,
    "start_time": "2023-06-21T05:39:52.435Z"
   },
   {
    "duration": 13,
    "start_time": "2023-06-21T05:39:52.461Z"
   },
   {
    "duration": 604,
    "start_time": "2023-06-21T05:39:52.476Z"
   },
   {
    "duration": 5,
    "start_time": "2023-06-21T05:39:53.082Z"
   },
   {
    "duration": 157,
    "start_time": "2023-06-21T05:39:53.091Z"
   },
   {
    "duration": 40,
    "start_time": "2023-06-21T05:39:53.250Z"
   },
   {
    "duration": 57,
    "start_time": "2023-06-21T05:39:53.294Z"
   },
   {
    "duration": 11,
    "start_time": "2023-06-21T05:39:53.354Z"
   },
   {
    "duration": 93,
    "start_time": "2023-06-21T05:39:53.370Z"
   },
   {
    "duration": 144,
    "start_time": "2023-06-21T05:39:53.466Z"
   },
   {
    "duration": 0,
    "start_time": "2023-06-21T05:39:53.612Z"
   },
   {
    "duration": 0,
    "start_time": "2023-06-21T05:39:53.616Z"
   },
   {
    "duration": 0,
    "start_time": "2023-06-21T05:39:53.617Z"
   },
   {
    "duration": 0,
    "start_time": "2023-06-21T05:39:53.618Z"
   },
   {
    "duration": 0,
    "start_time": "2023-06-21T05:39:53.620Z"
   },
   {
    "duration": 0,
    "start_time": "2023-06-21T05:39:53.621Z"
   },
   {
    "duration": 0,
    "start_time": "2023-06-21T05:39:53.622Z"
   },
   {
    "duration": 0,
    "start_time": "2023-06-21T05:39:53.623Z"
   },
   {
    "duration": 0,
    "start_time": "2023-06-21T05:39:53.624Z"
   },
   {
    "duration": 0,
    "start_time": "2023-06-21T05:39:53.626Z"
   },
   {
    "duration": 0,
    "start_time": "2023-06-21T05:39:53.627Z"
   },
   {
    "duration": 0,
    "start_time": "2023-06-21T05:39:53.628Z"
   },
   {
    "duration": 0,
    "start_time": "2023-06-21T05:39:53.629Z"
   },
   {
    "duration": 0,
    "start_time": "2023-06-21T05:39:53.631Z"
   },
   {
    "duration": 0,
    "start_time": "2023-06-21T05:39:53.632Z"
   },
   {
    "duration": 0,
    "start_time": "2023-06-21T05:39:53.633Z"
   },
   {
    "duration": 0,
    "start_time": "2023-06-21T05:39:53.634Z"
   },
   {
    "duration": 0,
    "start_time": "2023-06-21T05:39:53.635Z"
   },
   {
    "duration": 0,
    "start_time": "2023-06-21T05:39:53.636Z"
   },
   {
    "duration": 0,
    "start_time": "2023-06-21T05:39:53.638Z"
   },
   {
    "duration": 0,
    "start_time": "2023-06-21T05:39:53.640Z"
   },
   {
    "duration": 0,
    "start_time": "2023-06-21T05:39:53.645Z"
   },
   {
    "duration": 0,
    "start_time": "2023-06-21T05:39:53.647Z"
   },
   {
    "duration": 0,
    "start_time": "2023-06-21T05:39:53.649Z"
   },
   {
    "duration": 0,
    "start_time": "2023-06-21T05:39:53.651Z"
   },
   {
    "duration": 0,
    "start_time": "2023-06-21T05:39:53.653Z"
   },
   {
    "duration": 0,
    "start_time": "2023-06-21T05:39:53.657Z"
   },
   {
    "duration": 0,
    "start_time": "2023-06-21T05:39:53.659Z"
   },
   {
    "duration": 0,
    "start_time": "2023-06-21T05:39:53.662Z"
   },
   {
    "duration": 0,
    "start_time": "2023-06-21T05:39:53.663Z"
   },
   {
    "duration": 0,
    "start_time": "2023-06-21T05:39:53.664Z"
   },
   {
    "duration": 0,
    "start_time": "2023-06-21T05:39:53.668Z"
   },
   {
    "duration": 0,
    "start_time": "2023-06-21T05:39:53.670Z"
   },
   {
    "duration": 0,
    "start_time": "2023-06-21T05:39:53.672Z"
   },
   {
    "duration": 0,
    "start_time": "2023-06-21T05:39:53.674Z"
   },
   {
    "duration": 0,
    "start_time": "2023-06-21T05:39:53.676Z"
   },
   {
    "duration": 127,
    "start_time": "2023-06-21T05:40:11.060Z"
   },
   {
    "duration": 8,
    "start_time": "2023-06-21T05:40:14.797Z"
   },
   {
    "duration": 1349,
    "start_time": "2023-06-21T05:42:22.384Z"
   },
   {
    "duration": 71,
    "start_time": "2023-06-21T05:42:23.736Z"
   },
   {
    "duration": 62,
    "start_time": "2023-06-21T05:42:23.810Z"
   },
   {
    "duration": 16,
    "start_time": "2023-06-21T05:42:23.879Z"
   },
   {
    "duration": 31,
    "start_time": "2023-06-21T05:42:23.897Z"
   },
   {
    "duration": 709,
    "start_time": "2023-06-21T05:42:23.930Z"
   },
   {
    "duration": 10,
    "start_time": "2023-06-21T05:42:24.642Z"
   },
   {
    "duration": 247,
    "start_time": "2023-06-21T05:42:24.655Z"
   },
   {
    "duration": 89,
    "start_time": "2023-06-21T05:42:24.904Z"
   },
   {
    "duration": 58,
    "start_time": "2023-06-21T05:42:24.995Z"
   },
   {
    "duration": 102,
    "start_time": "2023-06-21T05:42:25.055Z"
   },
   {
    "duration": 227,
    "start_time": "2023-06-21T05:42:25.162Z"
   },
   {
    "duration": 0,
    "start_time": "2023-06-21T05:42:25.392Z"
   },
   {
    "duration": 0,
    "start_time": "2023-06-21T05:42:25.394Z"
   },
   {
    "duration": 0,
    "start_time": "2023-06-21T05:42:25.395Z"
   },
   {
    "duration": 0,
    "start_time": "2023-06-21T05:42:25.397Z"
   },
   {
    "duration": 0,
    "start_time": "2023-06-21T05:42:25.399Z"
   },
   {
    "duration": 0,
    "start_time": "2023-06-21T05:42:25.400Z"
   },
   {
    "duration": 0,
    "start_time": "2023-06-21T05:42:25.402Z"
   },
   {
    "duration": 0,
    "start_time": "2023-06-21T05:42:25.403Z"
   },
   {
    "duration": 0,
    "start_time": "2023-06-21T05:42:25.405Z"
   },
   {
    "duration": 0,
    "start_time": "2023-06-21T05:42:25.406Z"
   },
   {
    "duration": 0,
    "start_time": "2023-06-21T05:42:25.407Z"
   },
   {
    "duration": 0,
    "start_time": "2023-06-21T05:42:25.408Z"
   },
   {
    "duration": 0,
    "start_time": "2023-06-21T05:42:25.409Z"
   },
   {
    "duration": 0,
    "start_time": "2023-06-21T05:42:25.410Z"
   },
   {
    "duration": 0,
    "start_time": "2023-06-21T05:42:25.427Z"
   },
   {
    "duration": 0,
    "start_time": "2023-06-21T05:42:25.429Z"
   },
   {
    "duration": 0,
    "start_time": "2023-06-21T05:42:25.433Z"
   },
   {
    "duration": 0,
    "start_time": "2023-06-21T05:42:25.434Z"
   },
   {
    "duration": 0,
    "start_time": "2023-06-21T05:42:25.435Z"
   },
   {
    "duration": 0,
    "start_time": "2023-06-21T05:42:25.436Z"
   },
   {
    "duration": 0,
    "start_time": "2023-06-21T05:42:25.438Z"
   },
   {
    "duration": 0,
    "start_time": "2023-06-21T05:42:25.439Z"
   },
   {
    "duration": 0,
    "start_time": "2023-06-21T05:42:25.440Z"
   },
   {
    "duration": 0,
    "start_time": "2023-06-21T05:42:25.442Z"
   },
   {
    "duration": 0,
    "start_time": "2023-06-21T05:42:25.444Z"
   },
   {
    "duration": 0,
    "start_time": "2023-06-21T05:42:25.446Z"
   },
   {
    "duration": 0,
    "start_time": "2023-06-21T05:42:25.446Z"
   },
   {
    "duration": 0,
    "start_time": "2023-06-21T05:42:25.447Z"
   },
   {
    "duration": 0,
    "start_time": "2023-06-21T05:42:25.448Z"
   },
   {
    "duration": 0,
    "start_time": "2023-06-21T05:42:25.448Z"
   },
   {
    "duration": 0,
    "start_time": "2023-06-21T05:42:25.454Z"
   },
   {
    "duration": 0,
    "start_time": "2023-06-21T05:42:25.455Z"
   },
   {
    "duration": 0,
    "start_time": "2023-06-21T05:42:25.456Z"
   },
   {
    "duration": 1,
    "start_time": "2023-06-21T05:42:25.457Z"
   },
   {
    "duration": 0,
    "start_time": "2023-06-21T05:42:25.459Z"
   },
   {
    "duration": 0,
    "start_time": "2023-06-21T05:42:25.460Z"
   },
   {
    "duration": 0,
    "start_time": "2023-06-21T05:42:25.461Z"
   },
   {
    "duration": 0,
    "start_time": "2023-06-21T05:42:25.462Z"
   },
   {
    "duration": 284,
    "start_time": "2023-06-21T05:43:04.947Z"
   },
   {
    "duration": 264,
    "start_time": "2023-06-21T05:43:09.742Z"
   },
   {
    "duration": 5,
    "start_time": "2023-06-21T05:43:10.778Z"
   },
   {
    "duration": 9667,
    "start_time": "2023-06-21T05:53:23.237Z"
   },
   {
    "duration": 1325,
    "start_time": "2023-06-21T05:54:03.782Z"
   },
   {
    "duration": 73,
    "start_time": "2023-06-21T05:54:05.109Z"
   },
   {
    "duration": 38,
    "start_time": "2023-06-21T05:54:05.184Z"
   },
   {
    "duration": 25,
    "start_time": "2023-06-21T05:54:05.226Z"
   },
   {
    "duration": 17,
    "start_time": "2023-06-21T05:54:05.254Z"
   },
   {
    "duration": 611,
    "start_time": "2023-06-21T05:54:05.273Z"
   },
   {
    "duration": 5,
    "start_time": "2023-06-21T05:54:05.886Z"
   },
   {
    "duration": 71,
    "start_time": "2023-06-21T05:54:05.892Z"
   },
   {
    "duration": 8,
    "start_time": "2023-06-21T05:54:05.965Z"
   },
   {
    "duration": 131,
    "start_time": "2023-06-21T05:54:05.975Z"
   },
   {
    "duration": 75,
    "start_time": "2023-06-21T05:54:06.107Z"
   },
   {
    "duration": 165,
    "start_time": "2023-06-21T05:54:09.667Z"
   },
   {
    "duration": 9,
    "start_time": "2023-06-21T05:54:53.240Z"
   },
   {
    "duration": 29,
    "start_time": "2023-06-21T05:54:59.435Z"
   },
   {
    "duration": 134,
    "start_time": "2023-06-21T06:00:30.747Z"
   },
   {
    "duration": 30,
    "start_time": "2023-06-21T06:00:38.835Z"
   },
   {
    "duration": 21,
    "start_time": "2023-06-21T06:02:02.854Z"
   },
   {
    "duration": 20,
    "start_time": "2023-06-21T06:03:11.033Z"
   },
   {
    "duration": 22,
    "start_time": "2023-06-21T06:04:00.029Z"
   },
   {
    "duration": 22,
    "start_time": "2023-06-21T06:04:11.541Z"
   },
   {
    "duration": 32,
    "start_time": "2023-06-21T06:05:10.511Z"
   },
   {
    "duration": 26,
    "start_time": "2023-06-21T06:05:14.536Z"
   },
   {
    "duration": 16,
    "start_time": "2023-06-21T06:06:19.194Z"
   },
   {
    "duration": 21,
    "start_time": "2023-06-21T06:10:57.139Z"
   },
   {
    "duration": 22,
    "start_time": "2023-06-21T06:11:02.937Z"
   },
   {
    "duration": 13,
    "start_time": "2023-06-21T06:11:29.586Z"
   },
   {
    "duration": 15,
    "start_time": "2023-06-21T06:11:34.141Z"
   },
   {
    "duration": 25,
    "start_time": "2023-06-21T06:12:02.737Z"
   },
   {
    "duration": 19,
    "start_time": "2023-06-21T06:12:06.211Z"
   },
   {
    "duration": 25,
    "start_time": "2023-06-21T06:12:10.137Z"
   },
   {
    "duration": 45,
    "start_time": "2023-06-21T06:14:10.135Z"
   },
   {
    "duration": 30,
    "start_time": "2023-06-21T06:14:40.967Z"
   },
   {
    "duration": 32,
    "start_time": "2023-06-21T06:14:54.841Z"
   },
   {
    "duration": 37,
    "start_time": "2023-06-21T06:15:09.952Z"
   },
   {
    "duration": 26,
    "start_time": "2023-06-21T06:15:23.827Z"
   },
   {
    "duration": 37,
    "start_time": "2023-06-21T06:15:28.703Z"
   },
   {
    "duration": 19,
    "start_time": "2023-06-21T06:15:53.498Z"
   },
   {
    "duration": 35,
    "start_time": "2023-06-21T06:15:55.418Z"
   },
   {
    "duration": 1562,
    "start_time": "2023-06-21T06:16:13.241Z"
   },
   {
    "duration": 87,
    "start_time": "2023-06-21T06:16:14.806Z"
   },
   {
    "duration": 41,
    "start_time": "2023-06-21T06:16:14.896Z"
   },
   {
    "duration": 17,
    "start_time": "2023-06-21T06:16:14.939Z"
   },
   {
    "duration": 14,
    "start_time": "2023-06-21T06:16:14.958Z"
   },
   {
    "duration": 619,
    "start_time": "2023-06-21T06:16:14.974Z"
   },
   {
    "duration": 6,
    "start_time": "2023-06-21T06:16:15.595Z"
   },
   {
    "duration": 27,
    "start_time": "2023-06-21T06:16:15.621Z"
   },
   {
    "duration": 37,
    "start_time": "2023-06-21T06:16:15.653Z"
   },
   {
    "duration": 49,
    "start_time": "2023-06-21T06:16:15.692Z"
   },
   {
    "duration": 12,
    "start_time": "2023-06-21T06:16:15.750Z"
   },
   {
    "duration": 30,
    "start_time": "2023-06-21T06:16:20.228Z"
   },
   {
    "duration": 45,
    "start_time": "2023-06-21T06:16:21.002Z"
   },
   {
    "duration": 27,
    "start_time": "2023-06-21T06:17:00.992Z"
   },
   {
    "duration": 30,
    "start_time": "2023-06-21T06:17:02.289Z"
   },
   {
    "duration": 6,
    "start_time": "2023-06-21T06:17:15.164Z"
   },
   {
    "duration": 8,
    "start_time": "2023-06-21T06:17:21.886Z"
   },
   {
    "duration": 165,
    "start_time": "2023-06-21T06:17:23.203Z"
   },
   {
    "duration": 40,
    "start_time": "2023-06-21T06:17:26.539Z"
   },
   {
    "duration": 1500,
    "start_time": "2023-06-21T06:17:37.290Z"
   },
   {
    "duration": 87,
    "start_time": "2023-06-21T06:17:38.793Z"
   },
   {
    "duration": 36,
    "start_time": "2023-06-21T06:17:38.882Z"
   },
   {
    "duration": 38,
    "start_time": "2023-06-21T06:17:38.921Z"
   },
   {
    "duration": 18,
    "start_time": "2023-06-21T06:17:38.961Z"
   },
   {
    "duration": 612,
    "start_time": "2023-06-21T06:17:38.981Z"
   },
   {
    "duration": 6,
    "start_time": "2023-06-21T06:17:39.602Z"
   },
   {
    "duration": 41,
    "start_time": "2023-06-21T06:17:39.623Z"
   },
   {
    "duration": 64,
    "start_time": "2023-06-21T06:17:39.666Z"
   },
   {
    "duration": 29,
    "start_time": "2023-06-21T06:17:39.739Z"
   },
   {
    "duration": 10,
    "start_time": "2023-06-21T06:17:39.774Z"
   },
   {
    "duration": 36,
    "start_time": "2023-06-21T06:17:39.787Z"
   },
   {
    "duration": 149,
    "start_time": "2023-06-21T06:17:45.296Z"
   },
   {
    "duration": 28,
    "start_time": "2023-06-21T06:17:47.855Z"
   },
   {
    "duration": 9,
    "start_time": "2023-06-21T06:18:26.855Z"
   },
   {
    "duration": 48,
    "start_time": "2023-06-21T06:18:30.519Z"
   },
   {
    "duration": 1291,
    "start_time": "2023-06-21T06:19:14.753Z"
   },
   {
    "duration": 58,
    "start_time": "2023-06-21T06:19:16.051Z"
   },
   {
    "duration": 56,
    "start_time": "2023-06-21T06:19:16.112Z"
   },
   {
    "duration": 13,
    "start_time": "2023-06-21T06:19:16.171Z"
   },
   {
    "duration": 12,
    "start_time": "2023-06-21T06:19:16.188Z"
   },
   {
    "duration": 624,
    "start_time": "2023-06-21T06:19:16.202Z"
   },
   {
    "duration": 15,
    "start_time": "2023-06-21T06:19:16.830Z"
   },
   {
    "duration": 27,
    "start_time": "2023-06-21T06:19:16.847Z"
   },
   {
    "duration": 33,
    "start_time": "2023-06-21T06:19:16.876Z"
   },
   {
    "duration": 34,
    "start_time": "2023-06-21T06:19:16.911Z"
   },
   {
    "duration": 15,
    "start_time": "2023-06-21T06:19:16.947Z"
   },
   {
    "duration": 22,
    "start_time": "2023-06-21T06:19:16.964Z"
   },
   {
    "duration": 37,
    "start_time": "2023-06-21T06:19:20.990Z"
   },
   {
    "duration": 1281,
    "start_time": "2023-06-21T06:21:05.911Z"
   },
   {
    "duration": 71,
    "start_time": "2023-06-21T06:21:07.194Z"
   },
   {
    "duration": 33,
    "start_time": "2023-06-21T06:21:07.267Z"
   },
   {
    "duration": 67,
    "start_time": "2023-06-21T06:21:07.302Z"
   },
   {
    "duration": 62,
    "start_time": "2023-06-21T06:21:07.372Z"
   },
   {
    "duration": 628,
    "start_time": "2023-06-21T06:21:07.446Z"
   },
   {
    "duration": 8,
    "start_time": "2023-06-21T06:21:08.075Z"
   },
   {
    "duration": 162,
    "start_time": "2023-06-21T06:21:08.085Z"
   },
   {
    "duration": 12,
    "start_time": "2023-06-21T06:21:08.257Z"
   },
   {
    "duration": 24,
    "start_time": "2023-06-21T06:21:08.273Z"
   },
   {
    "duration": 19,
    "start_time": "2023-06-21T06:21:15.180Z"
   },
   {
    "duration": 40,
    "start_time": "2023-06-21T06:21:17.981Z"
   },
   {
    "duration": 199,
    "start_time": "2023-06-21T06:21:32.992Z"
   },
   {
    "duration": 1768,
    "start_time": "2023-06-21T06:21:41.342Z"
   },
   {
    "duration": 90,
    "start_time": "2023-06-21T06:21:43.117Z"
   },
   {
    "duration": 43,
    "start_time": "2023-06-21T06:21:43.209Z"
   },
   {
    "duration": 18,
    "start_time": "2023-06-21T06:21:43.254Z"
   },
   {
    "duration": 11,
    "start_time": "2023-06-21T06:21:43.274Z"
   },
   {
    "duration": 1088,
    "start_time": "2023-06-21T06:21:43.288Z"
   },
   {
    "duration": 7,
    "start_time": "2023-06-21T06:21:44.379Z"
   },
   {
    "duration": 60,
    "start_time": "2023-06-21T06:21:44.388Z"
   },
   {
    "duration": 15,
    "start_time": "2023-06-21T06:21:44.454Z"
   },
   {
    "duration": 26,
    "start_time": "2023-06-21T06:21:44.475Z"
   },
   {
    "duration": 45,
    "start_time": "2023-06-21T06:21:47.902Z"
   },
   {
    "duration": 43,
    "start_time": "2023-06-21T06:21:49.818Z"
   },
   {
    "duration": 38,
    "start_time": "2023-06-21T06:22:49.571Z"
   },
   {
    "duration": 17,
    "start_time": "2023-06-21T06:23:05.511Z"
   },
   {
    "duration": 60,
    "start_time": "2023-06-21T11:59:11.907Z"
   },
   {
    "duration": 1220,
    "start_time": "2023-06-21T11:59:16.919Z"
   },
   {
    "duration": 96,
    "start_time": "2023-06-21T11:59:18.142Z"
   },
   {
    "duration": 31,
    "start_time": "2023-06-21T11:59:18.240Z"
   },
   {
    "duration": 19,
    "start_time": "2023-06-21T11:59:18.273Z"
   },
   {
    "duration": 14,
    "start_time": "2023-06-21T11:59:18.295Z"
   },
   {
    "duration": 533,
    "start_time": "2023-06-21T11:59:18.311Z"
   },
   {
    "duration": 5,
    "start_time": "2023-06-21T11:59:18.846Z"
   },
   {
    "duration": 30,
    "start_time": "2023-06-21T11:59:18.852Z"
   },
   {
    "duration": 16,
    "start_time": "2023-06-21T11:59:18.883Z"
   },
   {
    "duration": 15,
    "start_time": "2023-06-21T11:59:18.901Z"
   },
   {
    "duration": 80,
    "start_time": "2023-06-21T11:59:21.771Z"
   },
   {
    "duration": 9,
    "start_time": "2023-06-21T12:01:12.514Z"
   },
   {
    "duration": 9,
    "start_time": "2023-06-21T12:04:59.311Z"
   },
   {
    "duration": 7,
    "start_time": "2023-06-21T12:06:20.817Z"
   },
   {
    "duration": 13,
    "start_time": "2023-06-21T12:07:03.117Z"
   },
   {
    "duration": 21,
    "start_time": "2023-06-21T12:07:59.121Z"
   },
   {
    "duration": 18,
    "start_time": "2023-06-21T12:08:46.097Z"
   },
   {
    "duration": 20,
    "start_time": "2023-06-21T12:08:54.242Z"
   },
   {
    "duration": 21,
    "start_time": "2023-06-21T12:09:30.501Z"
   },
   {
    "duration": 20,
    "start_time": "2023-06-21T12:09:37.317Z"
   },
   {
    "duration": 20,
    "start_time": "2023-06-21T12:09:44.844Z"
   },
   {
    "duration": 13,
    "start_time": "2023-06-21T12:09:54.964Z"
   },
   {
    "duration": 14,
    "start_time": "2023-06-21T12:09:57.359Z"
   },
   {
    "duration": 21,
    "start_time": "2023-06-21T12:10:29.745Z"
   },
   {
    "duration": 15,
    "start_time": "2023-06-21T12:10:36.011Z"
   },
   {
    "duration": 18,
    "start_time": "2023-06-21T12:10:54.312Z"
   },
   {
    "duration": 21,
    "start_time": "2023-06-21T12:11:20.047Z"
   },
   {
    "duration": 21,
    "start_time": "2023-06-21T12:12:40.416Z"
   },
   {
    "duration": 24,
    "start_time": "2023-06-21T12:12:45.423Z"
   },
   {
    "duration": 18,
    "start_time": "2023-06-21T12:13:10.366Z"
   },
   {
    "duration": 22,
    "start_time": "2023-06-21T12:13:16.144Z"
   },
   {
    "duration": 14,
    "start_time": "2023-06-21T12:13:25.743Z"
   },
   {
    "duration": 27,
    "start_time": "2023-06-21T12:13:28.843Z"
   },
   {
    "duration": 20,
    "start_time": "2023-06-21T12:14:44.546Z"
   },
   {
    "duration": 14,
    "start_time": "2023-06-21T12:14:46.501Z"
   },
   {
    "duration": 1192,
    "start_time": "2023-06-21T12:15:33.508Z"
   },
   {
    "duration": 54,
    "start_time": "2023-06-21T12:15:34.702Z"
   },
   {
    "duration": 24,
    "start_time": "2023-06-21T12:15:34.757Z"
   },
   {
    "duration": 15,
    "start_time": "2023-06-21T12:15:34.782Z"
   },
   {
    "duration": 14,
    "start_time": "2023-06-21T12:15:34.799Z"
   },
   {
    "duration": 533,
    "start_time": "2023-06-21T12:15:34.815Z"
   },
   {
    "duration": 5,
    "start_time": "2023-06-21T12:15:35.350Z"
   },
   {
    "duration": 34,
    "start_time": "2023-06-21T12:15:35.357Z"
   },
   {
    "duration": 42,
    "start_time": "2023-06-21T12:15:35.392Z"
   },
   {
    "duration": 18,
    "start_time": "2023-06-21T12:15:35.435Z"
   },
   {
    "duration": 44,
    "start_time": "2023-06-21T12:15:44.863Z"
   },
   {
    "duration": 108,
    "start_time": "2023-06-21T12:16:36.416Z"
   },
   {
    "duration": 1220,
    "start_time": "2023-06-21T12:16:49.964Z"
   },
   {
    "duration": 51,
    "start_time": "2023-06-21T12:16:51.186Z"
   },
   {
    "duration": 25,
    "start_time": "2023-06-21T12:16:51.240Z"
   },
   {
    "duration": 12,
    "start_time": "2023-06-21T12:16:51.267Z"
   },
   {
    "duration": 21,
    "start_time": "2023-06-21T12:16:51.282Z"
   },
   {
    "duration": 524,
    "start_time": "2023-06-21T12:16:51.305Z"
   },
   {
    "duration": 5,
    "start_time": "2023-06-21T12:16:51.832Z"
   },
   {
    "duration": 20,
    "start_time": "2023-06-21T12:16:51.839Z"
   },
   {
    "duration": 12,
    "start_time": "2023-06-21T12:16:51.861Z"
   },
   {
    "duration": 30,
    "start_time": "2023-06-21T12:16:51.874Z"
   },
   {
    "duration": 39,
    "start_time": "2023-06-21T12:16:54.802Z"
   },
   {
    "duration": 1080,
    "start_time": "2023-06-21T12:18:52.246Z"
   },
   {
    "duration": 51,
    "start_time": "2023-06-21T12:18:53.328Z"
   },
   {
    "duration": 22,
    "start_time": "2023-06-21T12:18:53.381Z"
   },
   {
    "duration": 17,
    "start_time": "2023-06-21T12:18:53.405Z"
   },
   {
    "duration": 13,
    "start_time": "2023-06-21T12:18:53.425Z"
   },
   {
    "duration": 514,
    "start_time": "2023-06-21T12:18:53.439Z"
   },
   {
    "duration": 6,
    "start_time": "2023-06-21T12:18:53.954Z"
   },
   {
    "duration": 25,
    "start_time": "2023-06-21T12:18:53.961Z"
   },
   {
    "duration": 17,
    "start_time": "2023-06-21T12:18:53.988Z"
   },
   {
    "duration": 21,
    "start_time": "2023-06-21T12:18:54.007Z"
   },
   {
    "duration": 113,
    "start_time": "2023-06-21T12:18:54.030Z"
   },
   {
    "duration": 15,
    "start_time": "2023-06-21T12:19:08.063Z"
   },
   {
    "duration": 24,
    "start_time": "2023-06-21T12:19:16.037Z"
   },
   {
    "duration": 11,
    "start_time": "2023-06-21T12:19:25.362Z"
   },
   {
    "duration": 5,
    "start_time": "2023-06-21T12:19:37.155Z"
   },
   {
    "duration": 18,
    "start_time": "2023-06-21T12:19:47.570Z"
   },
   {
    "duration": 43,
    "start_time": "2023-06-21T12:19:57.403Z"
   },
   {
    "duration": 1149,
    "start_time": "2023-06-21T12:20:55.802Z"
   },
   {
    "duration": 51,
    "start_time": "2023-06-21T12:20:56.953Z"
   },
   {
    "duration": 23,
    "start_time": "2023-06-21T12:20:57.006Z"
   },
   {
    "duration": 14,
    "start_time": "2023-06-21T12:20:57.032Z"
   },
   {
    "duration": 16,
    "start_time": "2023-06-21T12:20:57.049Z"
   },
   {
    "duration": 516,
    "start_time": "2023-06-21T12:20:57.067Z"
   },
   {
    "duration": 4,
    "start_time": "2023-06-21T12:20:57.585Z"
   },
   {
    "duration": 13,
    "start_time": "2023-06-21T12:20:57.602Z"
   },
   {
    "duration": 30,
    "start_time": "2023-06-21T12:20:57.617Z"
   },
   {
    "duration": 21,
    "start_time": "2023-06-21T12:20:57.650Z"
   },
   {
    "duration": 28,
    "start_time": "2023-06-21T12:20:57.673Z"
   },
   {
    "duration": 3,
    "start_time": "2023-06-21T12:20:57.703Z"
   },
   {
    "duration": 41,
    "start_time": "2023-06-21T12:20:57.708Z"
   },
   {
    "duration": 19,
    "start_time": "2023-06-21T12:21:05.866Z"
   },
   {
    "duration": 10,
    "start_time": "2023-06-21T12:21:49.204Z"
   },
   {
    "duration": 27,
    "start_time": "2023-06-21T12:21:54.308Z"
   },
   {
    "duration": 8,
    "start_time": "2023-06-21T12:25:38.263Z"
   },
   {
    "duration": 23,
    "start_time": "2023-06-21T12:25:40.207Z"
   },
   {
    "duration": 117,
    "start_time": "2023-06-21T12:28:20.815Z"
   },
   {
    "duration": 12,
    "start_time": "2023-06-21T12:32:06.000Z"
   },
   {
    "duration": 5,
    "start_time": "2023-06-21T12:32:11.849Z"
   },
   {
    "duration": 21,
    "start_time": "2023-06-21T12:32:12.428Z"
   },
   {
    "duration": 1176,
    "start_time": "2023-06-21T12:57:09.901Z"
   },
   {
    "duration": 52,
    "start_time": "2023-06-21T12:57:11.079Z"
   },
   {
    "duration": 23,
    "start_time": "2023-06-21T12:57:11.133Z"
   },
   {
    "duration": 18,
    "start_time": "2023-06-21T12:57:11.158Z"
   },
   {
    "duration": 22,
    "start_time": "2023-06-21T12:57:11.179Z"
   },
   {
    "duration": 509,
    "start_time": "2023-06-21T12:57:11.202Z"
   },
   {
    "duration": 5,
    "start_time": "2023-06-21T12:57:11.713Z"
   },
   {
    "duration": 40,
    "start_time": "2023-06-21T12:57:11.719Z"
   },
   {
    "duration": 25,
    "start_time": "2023-06-21T12:57:11.761Z"
   },
   {
    "duration": 25,
    "start_time": "2023-06-21T12:57:11.787Z"
   },
   {
    "duration": 21,
    "start_time": "2023-06-21T12:57:11.814Z"
   },
   {
    "duration": 25,
    "start_time": "2023-06-21T12:57:11.837Z"
   },
   {
    "duration": 37,
    "start_time": "2023-06-21T12:57:11.863Z"
   },
   {
    "duration": 105,
    "start_time": "2023-06-21T12:57:17.701Z"
   },
   {
    "duration": 8,
    "start_time": "2023-06-21T12:57:30.429Z"
   },
   {
    "duration": 18,
    "start_time": "2023-06-21T12:57:31.371Z"
   },
   {
    "duration": 7,
    "start_time": "2023-06-21T12:57:49.515Z"
   },
   {
    "duration": 10,
    "start_time": "2023-06-21T12:57:50.704Z"
   },
   {
    "duration": 1141,
    "start_time": "2023-06-21T12:58:25.249Z"
   },
   {
    "duration": 51,
    "start_time": "2023-06-21T12:58:26.391Z"
   },
   {
    "duration": 41,
    "start_time": "2023-06-21T12:58:26.444Z"
   },
   {
    "duration": 25,
    "start_time": "2023-06-21T12:58:26.486Z"
   },
   {
    "duration": 23,
    "start_time": "2023-06-21T12:58:26.514Z"
   },
   {
    "duration": 575,
    "start_time": "2023-06-21T12:58:26.538Z"
   },
   {
    "duration": 6,
    "start_time": "2023-06-21T12:58:27.114Z"
   },
   {
    "duration": 56,
    "start_time": "2023-06-21T12:58:27.122Z"
   },
   {
    "duration": 29,
    "start_time": "2023-06-21T12:58:27.180Z"
   },
   {
    "duration": 31,
    "start_time": "2023-06-21T12:58:27.210Z"
   },
   {
    "duration": 33,
    "start_time": "2023-06-21T12:58:27.243Z"
   },
   {
    "duration": 39,
    "start_time": "2023-06-21T12:58:27.278Z"
   },
   {
    "duration": 52,
    "start_time": "2023-06-21T12:58:27.319Z"
   },
   {
    "duration": 6,
    "start_time": "2023-06-21T12:58:31.748Z"
   },
   {
    "duration": 135,
    "start_time": "2023-06-21T12:58:34.001Z"
   },
   {
    "duration": 7,
    "start_time": "2023-06-21T12:59:15.554Z"
   },
   {
    "duration": 23,
    "start_time": "2023-06-21T12:59:18.856Z"
   },
   {
    "duration": 23,
    "start_time": "2023-06-21T12:59:21.420Z"
   },
   {
    "duration": 7,
    "start_time": "2023-06-21T12:59:30.539Z"
   },
   {
    "duration": 22,
    "start_time": "2023-06-21T12:59:32.896Z"
   },
   {
    "duration": 6,
    "start_time": "2023-06-21T13:00:30.233Z"
   },
   {
    "duration": 6,
    "start_time": "2023-06-21T13:00:55.526Z"
   },
   {
    "duration": 13,
    "start_time": "2023-06-21T13:00:57.205Z"
   },
   {
    "duration": 16,
    "start_time": "2023-06-21T13:01:03.724Z"
   },
   {
    "duration": 19,
    "start_time": "2023-06-21T13:01:11.368Z"
   },
   {
    "duration": 1130,
    "start_time": "2023-06-21T13:03:47.530Z"
   },
   {
    "duration": 51,
    "start_time": "2023-06-21T13:03:48.662Z"
   },
   {
    "duration": 21,
    "start_time": "2023-06-21T13:03:48.715Z"
   },
   {
    "duration": 11,
    "start_time": "2023-06-21T13:03:48.738Z"
   },
   {
    "duration": 8,
    "start_time": "2023-06-21T13:03:48.751Z"
   },
   {
    "duration": 550,
    "start_time": "2023-06-21T13:03:48.761Z"
   },
   {
    "duration": 4,
    "start_time": "2023-06-21T13:03:49.313Z"
   },
   {
    "duration": 17,
    "start_time": "2023-06-21T13:03:49.319Z"
   },
   {
    "duration": 9,
    "start_time": "2023-06-21T13:03:49.338Z"
   },
   {
    "duration": 14,
    "start_time": "2023-06-21T13:03:49.348Z"
   },
   {
    "duration": 43,
    "start_time": "2023-06-21T13:03:49.364Z"
   },
   {
    "duration": 22,
    "start_time": "2023-06-21T13:03:49.409Z"
   },
   {
    "duration": 35,
    "start_time": "2023-06-21T13:03:49.433Z"
   },
   {
    "duration": 11,
    "start_time": "2023-06-21T13:03:49.470Z"
   },
   {
    "duration": 25,
    "start_time": "2023-06-21T13:03:49.483Z"
   },
   {
    "duration": 28,
    "start_time": "2023-06-21T13:03:55.950Z"
   },
   {
    "duration": 13,
    "start_time": "2023-06-21T13:04:20.809Z"
   },
   {
    "duration": 6,
    "start_time": "2023-06-21T13:04:29.920Z"
   },
   {
    "duration": 6,
    "start_time": "2023-06-21T13:04:34.206Z"
   },
   {
    "duration": 141,
    "start_time": "2023-06-21T13:04:34.214Z"
   },
   {
    "duration": 0,
    "start_time": "2023-06-21T13:04:34.359Z"
   },
   {
    "duration": 0,
    "start_time": "2023-06-21T13:04:34.361Z"
   },
   {
    "duration": 0,
    "start_time": "2023-06-21T13:04:34.362Z"
   },
   {
    "duration": 0,
    "start_time": "2023-06-21T13:04:34.364Z"
   },
   {
    "duration": 0,
    "start_time": "2023-06-21T13:04:34.365Z"
   },
   {
    "duration": 0,
    "start_time": "2023-06-21T13:04:34.367Z"
   },
   {
    "duration": 0,
    "start_time": "2023-06-21T13:04:34.368Z"
   },
   {
    "duration": 0,
    "start_time": "2023-06-21T13:04:34.370Z"
   },
   {
    "duration": 0,
    "start_time": "2023-06-21T13:04:34.371Z"
   },
   {
    "duration": 0,
    "start_time": "2023-06-21T13:04:34.372Z"
   },
   {
    "duration": 0,
    "start_time": "2023-06-21T13:04:34.374Z"
   },
   {
    "duration": 0,
    "start_time": "2023-06-21T13:04:34.376Z"
   },
   {
    "duration": 0,
    "start_time": "2023-06-21T13:04:34.402Z"
   },
   {
    "duration": 0,
    "start_time": "2023-06-21T13:04:34.403Z"
   },
   {
    "duration": 0,
    "start_time": "2023-06-21T13:04:34.405Z"
   },
   {
    "duration": 0,
    "start_time": "2023-06-21T13:04:34.406Z"
   },
   {
    "duration": 0,
    "start_time": "2023-06-21T13:04:34.409Z"
   },
   {
    "duration": 0,
    "start_time": "2023-06-21T13:04:34.411Z"
   },
   {
    "duration": 0,
    "start_time": "2023-06-21T13:04:34.412Z"
   },
   {
    "duration": 0,
    "start_time": "2023-06-21T13:04:34.415Z"
   },
   {
    "duration": 0,
    "start_time": "2023-06-21T13:04:34.417Z"
   },
   {
    "duration": 0,
    "start_time": "2023-06-21T13:04:34.418Z"
   },
   {
    "duration": 0,
    "start_time": "2023-06-21T13:04:34.420Z"
   },
   {
    "duration": 0,
    "start_time": "2023-06-21T13:04:34.421Z"
   },
   {
    "duration": 0,
    "start_time": "2023-06-21T13:04:34.422Z"
   },
   {
    "duration": 0,
    "start_time": "2023-06-21T13:04:34.424Z"
   },
   {
    "duration": 0,
    "start_time": "2023-06-21T13:04:34.426Z"
   },
   {
    "duration": 0,
    "start_time": "2023-06-21T13:04:34.427Z"
   },
   {
    "duration": 0,
    "start_time": "2023-06-21T13:04:34.428Z"
   },
   {
    "duration": 0,
    "start_time": "2023-06-21T13:04:34.430Z"
   },
   {
    "duration": 0,
    "start_time": "2023-06-21T13:04:34.431Z"
   },
   {
    "duration": 0,
    "start_time": "2023-06-21T13:04:34.433Z"
   },
   {
    "duration": 1187,
    "start_time": "2023-06-21T13:06:14.768Z"
   },
   {
    "duration": 52,
    "start_time": "2023-06-21T13:06:15.958Z"
   },
   {
    "duration": 23,
    "start_time": "2023-06-21T13:06:16.012Z"
   },
   {
    "duration": 29,
    "start_time": "2023-06-21T13:06:16.037Z"
   },
   {
    "duration": 35,
    "start_time": "2023-06-21T13:06:16.068Z"
   },
   {
    "duration": 510,
    "start_time": "2023-06-21T13:06:16.105Z"
   },
   {
    "duration": 5,
    "start_time": "2023-06-21T13:06:16.616Z"
   },
   {
    "duration": 37,
    "start_time": "2023-06-21T13:06:16.623Z"
   },
   {
    "duration": 23,
    "start_time": "2023-06-21T13:06:16.662Z"
   },
   {
    "duration": 27,
    "start_time": "2023-06-21T13:06:16.688Z"
   },
   {
    "duration": 34,
    "start_time": "2023-06-21T13:06:16.717Z"
   },
   {
    "duration": 23,
    "start_time": "2023-06-21T13:06:16.752Z"
   },
   {
    "duration": 40,
    "start_time": "2023-06-21T13:06:16.776Z"
   },
   {
    "duration": 23,
    "start_time": "2023-06-21T13:06:16.818Z"
   },
   {
    "duration": 52,
    "start_time": "2023-06-21T13:06:16.843Z"
   },
   {
    "duration": 28,
    "start_time": "2023-06-21T13:06:16.896Z"
   },
   {
    "duration": 14,
    "start_time": "2023-06-21T13:06:16.926Z"
   },
   {
    "duration": 11,
    "start_time": "2023-06-21T13:06:16.942Z"
   },
   {
    "duration": 32,
    "start_time": "2023-06-21T13:06:16.955Z"
   },
   {
    "duration": 295,
    "start_time": "2023-06-21T13:06:16.988Z"
   },
   {
    "duration": 0,
    "start_time": "2023-06-21T13:06:17.285Z"
   },
   {
    "duration": 0,
    "start_time": "2023-06-21T13:06:17.286Z"
   },
   {
    "duration": 0,
    "start_time": "2023-06-21T13:06:17.288Z"
   },
   {
    "duration": 0,
    "start_time": "2023-06-21T13:06:17.302Z"
   },
   {
    "duration": 0,
    "start_time": "2023-06-21T13:06:17.303Z"
   },
   {
    "duration": 0,
    "start_time": "2023-06-21T13:06:17.305Z"
   },
   {
    "duration": 1,
    "start_time": "2023-06-21T13:06:17.306Z"
   },
   {
    "duration": 0,
    "start_time": "2023-06-21T13:06:17.308Z"
   },
   {
    "duration": 0,
    "start_time": "2023-06-21T13:06:17.309Z"
   },
   {
    "duration": 0,
    "start_time": "2023-06-21T13:06:17.310Z"
   },
   {
    "duration": 0,
    "start_time": "2023-06-21T13:06:17.311Z"
   },
   {
    "duration": 0,
    "start_time": "2023-06-21T13:06:17.312Z"
   },
   {
    "duration": 0,
    "start_time": "2023-06-21T13:06:17.313Z"
   },
   {
    "duration": 0,
    "start_time": "2023-06-21T13:06:17.314Z"
   },
   {
    "duration": 0,
    "start_time": "2023-06-21T13:06:17.315Z"
   },
   {
    "duration": 0,
    "start_time": "2023-06-21T13:06:17.318Z"
   },
   {
    "duration": 0,
    "start_time": "2023-06-21T13:06:17.319Z"
   },
   {
    "duration": 0,
    "start_time": "2023-06-21T13:06:17.320Z"
   },
   {
    "duration": 0,
    "start_time": "2023-06-21T13:06:17.321Z"
   },
   {
    "duration": 0,
    "start_time": "2023-06-21T13:06:17.322Z"
   },
   {
    "duration": 0,
    "start_time": "2023-06-21T13:06:17.324Z"
   },
   {
    "duration": 0,
    "start_time": "2023-06-21T13:06:17.325Z"
   },
   {
    "duration": 0,
    "start_time": "2023-06-21T13:06:17.327Z"
   },
   {
    "duration": 0,
    "start_time": "2023-06-21T13:06:17.328Z"
   },
   {
    "duration": 0,
    "start_time": "2023-06-21T13:06:17.329Z"
   },
   {
    "duration": 0,
    "start_time": "2023-06-21T13:06:17.330Z"
   },
   {
    "duration": 0,
    "start_time": "2023-06-21T13:06:17.331Z"
   },
   {
    "duration": 0,
    "start_time": "2023-06-21T13:06:17.332Z"
   },
   {
    "duration": 0,
    "start_time": "2023-06-21T13:06:17.333Z"
   },
   {
    "duration": 0,
    "start_time": "2023-06-21T13:06:17.334Z"
   },
   {
    "duration": 0,
    "start_time": "2023-06-21T13:06:17.335Z"
   },
   {
    "duration": 0,
    "start_time": "2023-06-21T13:06:17.336Z"
   },
   {
    "duration": 9,
    "start_time": "2023-06-21T13:07:24.546Z"
   },
   {
    "duration": 154,
    "start_time": "2023-06-21T13:07:24.557Z"
   },
   {
    "duration": 0,
    "start_time": "2023-06-21T13:07:24.714Z"
   },
   {
    "duration": 0,
    "start_time": "2023-06-21T13:07:24.715Z"
   },
   {
    "duration": 0,
    "start_time": "2023-06-21T13:07:24.802Z"
   },
   {
    "duration": 0,
    "start_time": "2023-06-21T13:07:24.805Z"
   },
   {
    "duration": 0,
    "start_time": "2023-06-21T13:07:24.806Z"
   },
   {
    "duration": 0,
    "start_time": "2023-06-21T13:07:24.808Z"
   },
   {
    "duration": 0,
    "start_time": "2023-06-21T13:07:24.809Z"
   },
   {
    "duration": 0,
    "start_time": "2023-06-21T13:07:24.811Z"
   },
   {
    "duration": 0,
    "start_time": "2023-06-21T13:07:24.812Z"
   },
   {
    "duration": 0,
    "start_time": "2023-06-21T13:07:24.813Z"
   },
   {
    "duration": 0,
    "start_time": "2023-06-21T13:07:24.814Z"
   },
   {
    "duration": 0,
    "start_time": "2023-06-21T13:07:24.816Z"
   },
   {
    "duration": 0,
    "start_time": "2023-06-21T13:07:24.817Z"
   },
   {
    "duration": 0,
    "start_time": "2023-06-21T13:07:24.818Z"
   },
   {
    "duration": 0,
    "start_time": "2023-06-21T13:07:24.820Z"
   },
   {
    "duration": 0,
    "start_time": "2023-06-21T13:07:24.821Z"
   },
   {
    "duration": 0,
    "start_time": "2023-06-21T13:07:24.822Z"
   },
   {
    "duration": 0,
    "start_time": "2023-06-21T13:07:24.823Z"
   },
   {
    "duration": 0,
    "start_time": "2023-06-21T13:07:24.824Z"
   },
   {
    "duration": 0,
    "start_time": "2023-06-21T13:07:24.825Z"
   },
   {
    "duration": 0,
    "start_time": "2023-06-21T13:07:24.827Z"
   },
   {
    "duration": 0,
    "start_time": "2023-06-21T13:07:24.828Z"
   },
   {
    "duration": 0,
    "start_time": "2023-06-21T13:07:24.829Z"
   },
   {
    "duration": 0,
    "start_time": "2023-06-21T13:07:24.830Z"
   },
   {
    "duration": 0,
    "start_time": "2023-06-21T13:07:24.831Z"
   },
   {
    "duration": 0,
    "start_time": "2023-06-21T13:07:24.833Z"
   },
   {
    "duration": 0,
    "start_time": "2023-06-21T13:07:24.834Z"
   },
   {
    "duration": 0,
    "start_time": "2023-06-21T13:07:24.835Z"
   },
   {
    "duration": 0,
    "start_time": "2023-06-21T13:07:24.836Z"
   },
   {
    "duration": 0,
    "start_time": "2023-06-21T13:07:24.837Z"
   },
   {
    "duration": 0,
    "start_time": "2023-06-21T13:07:24.838Z"
   },
   {
    "duration": 0,
    "start_time": "2023-06-21T13:07:24.839Z"
   },
   {
    "duration": 6,
    "start_time": "2023-06-21T13:07:45.713Z"
   },
   {
    "duration": 186,
    "start_time": "2023-06-21T13:07:45.721Z"
   },
   {
    "duration": 0,
    "start_time": "2023-06-21T13:07:45.910Z"
   },
   {
    "duration": 0,
    "start_time": "2023-06-21T13:07:45.911Z"
   },
   {
    "duration": 0,
    "start_time": "2023-06-21T13:07:45.913Z"
   },
   {
    "duration": 0,
    "start_time": "2023-06-21T13:07:45.914Z"
   },
   {
    "duration": 0,
    "start_time": "2023-06-21T13:07:45.915Z"
   },
   {
    "duration": 0,
    "start_time": "2023-06-21T13:07:45.916Z"
   },
   {
    "duration": 0,
    "start_time": "2023-06-21T13:07:45.917Z"
   },
   {
    "duration": 0,
    "start_time": "2023-06-21T13:07:45.919Z"
   },
   {
    "duration": 0,
    "start_time": "2023-06-21T13:07:45.920Z"
   },
   {
    "duration": 0,
    "start_time": "2023-06-21T13:07:45.921Z"
   },
   {
    "duration": 0,
    "start_time": "2023-06-21T13:07:45.922Z"
   },
   {
    "duration": 0,
    "start_time": "2023-06-21T13:07:45.924Z"
   },
   {
    "duration": 0,
    "start_time": "2023-06-21T13:07:45.925Z"
   },
   {
    "duration": 0,
    "start_time": "2023-06-21T13:07:45.926Z"
   },
   {
    "duration": 0,
    "start_time": "2023-06-21T13:07:45.927Z"
   },
   {
    "duration": 0,
    "start_time": "2023-06-21T13:07:45.929Z"
   },
   {
    "duration": 0,
    "start_time": "2023-06-21T13:07:45.930Z"
   },
   {
    "duration": 0,
    "start_time": "2023-06-21T13:07:45.931Z"
   },
   {
    "duration": 0,
    "start_time": "2023-06-21T13:07:45.932Z"
   },
   {
    "duration": 0,
    "start_time": "2023-06-21T13:07:45.934Z"
   },
   {
    "duration": 0,
    "start_time": "2023-06-21T13:07:45.936Z"
   },
   {
    "duration": 0,
    "start_time": "2023-06-21T13:07:45.937Z"
   },
   {
    "duration": 0,
    "start_time": "2023-06-21T13:07:45.938Z"
   },
   {
    "duration": 0,
    "start_time": "2023-06-21T13:07:45.939Z"
   },
   {
    "duration": 0,
    "start_time": "2023-06-21T13:07:45.940Z"
   },
   {
    "duration": 0,
    "start_time": "2023-06-21T13:07:45.942Z"
   },
   {
    "duration": 0,
    "start_time": "2023-06-21T13:07:45.943Z"
   },
   {
    "duration": 0,
    "start_time": "2023-06-21T13:07:45.944Z"
   },
   {
    "duration": 0,
    "start_time": "2023-06-21T13:07:46.002Z"
   },
   {
    "duration": 0,
    "start_time": "2023-06-21T13:07:46.003Z"
   },
   {
    "duration": 0,
    "start_time": "2023-06-21T13:07:46.004Z"
   },
   {
    "duration": 0,
    "start_time": "2023-06-21T13:07:46.006Z"
   },
   {
    "duration": 201,
    "start_time": "2023-06-21T13:10:46.915Z"
   },
   {
    "duration": 6,
    "start_time": "2023-06-21T13:11:09.617Z"
   },
   {
    "duration": 21002,
    "start_time": "2023-06-21T13:11:10.424Z"
   },
   {
    "duration": 1142,
    "start_time": "2023-06-21T13:11:38.025Z"
   },
   {
    "duration": 55,
    "start_time": "2023-06-21T13:11:39.169Z"
   },
   {
    "duration": 25,
    "start_time": "2023-06-21T13:11:39.226Z"
   },
   {
    "duration": 11,
    "start_time": "2023-06-21T13:11:39.253Z"
   },
   {
    "duration": 10,
    "start_time": "2023-06-21T13:11:39.266Z"
   },
   {
    "duration": 534,
    "start_time": "2023-06-21T13:11:39.301Z"
   },
   {
    "duration": 5,
    "start_time": "2023-06-21T13:11:39.837Z"
   },
   {
    "duration": 35,
    "start_time": "2023-06-21T13:11:39.843Z"
   },
   {
    "duration": 10,
    "start_time": "2023-06-21T13:11:39.880Z"
   },
   {
    "duration": 31,
    "start_time": "2023-06-21T13:11:39.892Z"
   },
   {
    "duration": 22,
    "start_time": "2023-06-21T13:11:39.925Z"
   },
   {
    "duration": 46,
    "start_time": "2023-06-21T13:11:39.948Z"
   },
   {
    "duration": 49,
    "start_time": "2023-06-21T13:11:39.996Z"
   },
   {
    "duration": 34,
    "start_time": "2023-06-21T13:11:40.047Z"
   },
   {
    "duration": 53,
    "start_time": "2023-06-21T13:11:40.082Z"
   },
   {
    "duration": 27,
    "start_time": "2023-06-21T13:11:40.137Z"
   },
   {
    "duration": 13,
    "start_time": "2023-06-21T13:11:40.166Z"
   },
   {
    "duration": 20,
    "start_time": "2023-06-21T13:11:40.181Z"
   },
   {
    "duration": 18,
    "start_time": "2023-06-21T13:11:40.203Z"
   },
   {
    "duration": 51794,
    "start_time": "2023-06-21T13:11:40.223Z"
   },
   {
    "duration": 89,
    "start_time": "2023-06-21T13:12:32.018Z"
   },
   {
    "duration": 245,
    "start_time": "2023-06-21T13:12:32.109Z"
   },
   {
    "duration": 0,
    "start_time": "2023-06-21T13:12:32.358Z"
   },
   {
    "duration": 0,
    "start_time": "2023-06-21T13:12:32.360Z"
   },
   {
    "duration": 0,
    "start_time": "2023-06-21T13:12:32.361Z"
   },
   {
    "duration": 0,
    "start_time": "2023-06-21T13:12:32.363Z"
   },
   {
    "duration": 0,
    "start_time": "2023-06-21T13:12:32.365Z"
   },
   {
    "duration": 0,
    "start_time": "2023-06-21T13:12:32.366Z"
   },
   {
    "duration": 0,
    "start_time": "2023-06-21T13:12:32.368Z"
   },
   {
    "duration": 0,
    "start_time": "2023-06-21T13:12:32.370Z"
   },
   {
    "duration": 0,
    "start_time": "2023-06-21T13:12:32.371Z"
   },
   {
    "duration": 0,
    "start_time": "2023-06-21T13:12:32.372Z"
   },
   {
    "duration": 0,
    "start_time": "2023-06-21T13:12:32.373Z"
   },
   {
    "duration": 0,
    "start_time": "2023-06-21T13:12:32.374Z"
   },
   {
    "duration": 0,
    "start_time": "2023-06-21T13:12:32.374Z"
   },
   {
    "duration": 0,
    "start_time": "2023-06-21T13:12:32.375Z"
   },
   {
    "duration": 0,
    "start_time": "2023-06-21T13:12:32.375Z"
   },
   {
    "duration": 0,
    "start_time": "2023-06-21T13:12:32.376Z"
   },
   {
    "duration": 0,
    "start_time": "2023-06-21T13:12:32.377Z"
   },
   {
    "duration": 0,
    "start_time": "2023-06-21T13:12:32.403Z"
   },
   {
    "duration": 0,
    "start_time": "2023-06-21T13:12:32.405Z"
   },
   {
    "duration": 0,
    "start_time": "2023-06-21T13:12:32.406Z"
   },
   {
    "duration": 0,
    "start_time": "2023-06-21T13:12:32.407Z"
   },
   {
    "duration": 0,
    "start_time": "2023-06-21T13:12:32.408Z"
   },
   {
    "duration": 0,
    "start_time": "2023-06-21T13:12:32.409Z"
   },
   {
    "duration": 0,
    "start_time": "2023-06-21T13:12:32.410Z"
   },
   {
    "duration": 0,
    "start_time": "2023-06-21T13:12:32.412Z"
   },
   {
    "duration": 0,
    "start_time": "2023-06-21T13:12:32.413Z"
   },
   {
    "duration": 0,
    "start_time": "2023-06-21T13:12:32.414Z"
   },
   {
    "duration": 0,
    "start_time": "2023-06-21T13:12:32.416Z"
   },
   {
    "duration": 0,
    "start_time": "2023-06-21T13:12:32.418Z"
   },
   {
    "duration": 0,
    "start_time": "2023-06-21T13:12:32.419Z"
   },
   {
    "duration": 6,
    "start_time": "2023-06-21T13:24:23.311Z"
   },
   {
    "duration": 37,
    "start_time": "2023-06-21T13:24:23.320Z"
   },
   {
    "duration": 0,
    "start_time": "2023-06-21T13:24:23.359Z"
   },
   {
    "duration": 1,
    "start_time": "2023-06-21T13:24:23.360Z"
   },
   {
    "duration": 0,
    "start_time": "2023-06-21T13:24:23.362Z"
   },
   {
    "duration": 0,
    "start_time": "2023-06-21T13:24:23.364Z"
   },
   {
    "duration": 0,
    "start_time": "2023-06-21T13:24:23.366Z"
   },
   {
    "duration": 56,
    "start_time": "2023-06-21T13:24:23.368Z"
   },
   {
    "duration": 0,
    "start_time": "2023-06-21T13:24:23.426Z"
   },
   {
    "duration": 0,
    "start_time": "2023-06-21T13:24:23.428Z"
   },
   {
    "duration": 0,
    "start_time": "2023-06-21T13:24:23.429Z"
   },
   {
    "duration": 0,
    "start_time": "2023-06-21T13:24:23.430Z"
   },
   {
    "duration": 0,
    "start_time": "2023-06-21T13:24:23.432Z"
   },
   {
    "duration": 0,
    "start_time": "2023-06-21T13:24:23.433Z"
   },
   {
    "duration": 0,
    "start_time": "2023-06-21T13:24:23.435Z"
   },
   {
    "duration": 0,
    "start_time": "2023-06-21T13:24:23.436Z"
   },
   {
    "duration": 0,
    "start_time": "2023-06-21T13:24:23.438Z"
   },
   {
    "duration": 0,
    "start_time": "2023-06-21T13:24:23.439Z"
   },
   {
    "duration": 0,
    "start_time": "2023-06-21T13:24:23.440Z"
   },
   {
    "duration": 0,
    "start_time": "2023-06-21T13:24:23.441Z"
   },
   {
    "duration": 0,
    "start_time": "2023-06-21T13:24:23.442Z"
   },
   {
    "duration": 0,
    "start_time": "2023-06-21T13:24:23.443Z"
   },
   {
    "duration": 0,
    "start_time": "2023-06-21T13:24:23.444Z"
   },
   {
    "duration": 0,
    "start_time": "2023-06-21T13:24:23.445Z"
   },
   {
    "duration": 0,
    "start_time": "2023-06-21T13:24:23.447Z"
   },
   {
    "duration": 0,
    "start_time": "2023-06-21T13:24:23.448Z"
   },
   {
    "duration": 0,
    "start_time": "2023-06-21T13:24:23.450Z"
   },
   {
    "duration": 0,
    "start_time": "2023-06-21T13:24:23.502Z"
   },
   {
    "duration": 0,
    "start_time": "2023-06-21T13:24:23.504Z"
   },
   {
    "duration": 0,
    "start_time": "2023-06-21T13:24:23.506Z"
   },
   {
    "duration": 0,
    "start_time": "2023-06-21T13:24:23.507Z"
   },
   {
    "duration": 27,
    "start_time": "2023-06-21T13:24:23.511Z"
   },
   {
    "duration": 6,
    "start_time": "2023-06-21T13:25:11.570Z"
   },
   {
    "duration": 21045,
    "start_time": "2023-06-21T13:25:11.578Z"
   },
   {
    "duration": 7,
    "start_time": "2023-06-21T13:25:32.625Z"
   },
   {
    "duration": 2781008,
    "start_time": "2023-06-21T13:25:32.634Z"
   },
   {
    "duration": 17,
    "start_time": "2023-06-21T14:11:53.645Z"
   },
   {
    "duration": 45840,
    "start_time": "2023-06-21T14:11:53.663Z"
   },
   {
    "duration": 98,
    "start_time": "2023-06-21T14:12:39.505Z"
   },
   {
    "duration": 26118,
    "start_time": "2023-06-21T14:12:39.606Z"
   },
   {
    "duration": 13,
    "start_time": "2023-06-21T14:13:05.726Z"
   },
   {
    "duration": 6328,
    "start_time": "2023-06-21T14:13:05.741Z"
   },
   {
    "duration": 0,
    "start_time": "2023-06-21T14:13:12.072Z"
   },
   {
    "duration": 0,
    "start_time": "2023-06-21T14:13:12.073Z"
   },
   {
    "duration": 0,
    "start_time": "2023-06-21T14:13:12.074Z"
   },
   {
    "duration": 0,
    "start_time": "2023-06-21T14:13:12.076Z"
   },
   {
    "duration": 0,
    "start_time": "2023-06-21T14:13:12.077Z"
   },
   {
    "duration": 0,
    "start_time": "2023-06-21T14:13:12.078Z"
   },
   {
    "duration": 0,
    "start_time": "2023-06-21T14:13:12.079Z"
   },
   {
    "duration": 0,
    "start_time": "2023-06-21T14:13:12.102Z"
   },
   {
    "duration": 0,
    "start_time": "2023-06-21T14:13:12.104Z"
   },
   {
    "duration": 0,
    "start_time": "2023-06-21T14:13:12.107Z"
   },
   {
    "duration": 0,
    "start_time": "2023-06-21T14:13:12.108Z"
   },
   {
    "duration": 0,
    "start_time": "2023-06-21T14:13:12.109Z"
   },
   {
    "duration": 0,
    "start_time": "2023-06-21T14:13:12.111Z"
   },
   {
    "duration": 0,
    "start_time": "2023-06-21T14:13:12.112Z"
   },
   {
    "duration": 0,
    "start_time": "2023-06-21T14:13:12.113Z"
   },
   {
    "duration": 0,
    "start_time": "2023-06-21T14:13:12.114Z"
   },
   {
    "duration": 0,
    "start_time": "2023-06-21T14:13:12.115Z"
   },
   {
    "duration": 0,
    "start_time": "2023-06-21T14:13:12.116Z"
   },
   {
    "duration": 0,
    "start_time": "2023-06-21T14:13:12.117Z"
   },
   {
    "duration": 0,
    "start_time": "2023-06-21T14:13:12.118Z"
   },
   {
    "duration": 0,
    "start_time": "2023-06-21T14:13:12.120Z"
   },
   {
    "duration": 0,
    "start_time": "2023-06-21T14:13:12.121Z"
   },
   {
    "duration": 72,
    "start_time": "2023-06-21T15:31:06.915Z"
   },
   {
    "duration": 14,
    "start_time": "2023-06-21T15:31:32.066Z"
   },
   {
    "duration": 1543,
    "start_time": "2023-06-21T15:31:52.606Z"
   },
   {
    "duration": 521,
    "start_time": "2023-06-21T15:31:54.153Z"
   },
   {
    "duration": 47,
    "start_time": "2023-06-21T15:31:54.677Z"
   },
   {
    "duration": 17,
    "start_time": "2023-06-21T15:31:54.726Z"
   },
   {
    "duration": 35,
    "start_time": "2023-06-21T15:31:54.747Z"
   },
   {
    "duration": 710,
    "start_time": "2023-06-21T15:31:54.796Z"
   },
   {
    "duration": 8,
    "start_time": "2023-06-21T15:31:55.508Z"
   },
   {
    "duration": 40,
    "start_time": "2023-06-21T15:31:55.519Z"
   },
   {
    "duration": 12,
    "start_time": "2023-06-21T15:31:55.562Z"
   },
   {
    "duration": 23,
    "start_time": "2023-06-21T15:31:55.577Z"
   },
   {
    "duration": 48,
    "start_time": "2023-06-21T15:31:55.603Z"
   },
   {
    "duration": 17,
    "start_time": "2023-06-21T15:31:55.653Z"
   },
   {
    "duration": 34,
    "start_time": "2023-06-21T15:31:55.672Z"
   },
   {
    "duration": 20,
    "start_time": "2023-06-21T15:31:55.709Z"
   },
   {
    "duration": 33,
    "start_time": "2023-06-21T15:31:55.731Z"
   },
   {
    "duration": 57,
    "start_time": "2023-06-21T15:31:55.766Z"
   },
   {
    "duration": 35,
    "start_time": "2023-06-21T15:31:58.889Z"
   },
   {
    "duration": 9,
    "start_time": "2023-06-21T15:32:01.713Z"
   },
   {
    "duration": 9,
    "start_time": "2023-06-21T15:32:03.745Z"
   },
   {
    "duration": 3382440,
    "start_time": "2023-06-21T15:32:14.161Z"
   },
   {
    "duration": 0,
    "start_time": "2023-06-21T16:28:36.609Z"
   },
   {
    "duration": 0,
    "start_time": "2023-06-21T16:28:36.612Z"
   },
   {
    "duration": 0,
    "start_time": "2023-06-21T16:28:36.614Z"
   },
   {
    "duration": 0,
    "start_time": "2023-06-21T16:28:36.615Z"
   },
   {
    "duration": 0,
    "start_time": "2023-06-21T16:28:36.617Z"
   },
   {
    "duration": 0,
    "start_time": "2023-06-21T16:28:36.619Z"
   },
   {
    "duration": 0,
    "start_time": "2023-06-21T16:28:36.621Z"
   },
   {
    "duration": 0,
    "start_time": "2023-06-21T16:28:36.623Z"
   },
   {
    "duration": 0,
    "start_time": "2023-06-21T16:28:36.625Z"
   },
   {
    "duration": 0,
    "start_time": "2023-06-21T16:28:36.626Z"
   },
   {
    "duration": 0,
    "start_time": "2023-06-21T16:28:36.627Z"
   },
   {
    "duration": 0,
    "start_time": "2023-06-21T16:28:36.628Z"
   },
   {
    "duration": 0,
    "start_time": "2023-06-21T16:28:36.629Z"
   },
   {
    "duration": 0,
    "start_time": "2023-06-21T16:28:36.630Z"
   },
   {
    "duration": 0,
    "start_time": "2023-06-21T16:28:36.631Z"
   },
   {
    "duration": 0,
    "start_time": "2023-06-21T16:28:36.674Z"
   },
   {
    "duration": 0,
    "start_time": "2023-06-21T16:28:36.677Z"
   },
   {
    "duration": 0,
    "start_time": "2023-06-21T16:28:36.678Z"
   },
   {
    "duration": 0,
    "start_time": "2023-06-21T16:28:36.683Z"
   },
   {
    "duration": 0,
    "start_time": "2023-06-21T16:28:36.685Z"
   },
   {
    "duration": 0,
    "start_time": "2023-06-21T16:28:36.686Z"
   },
   {
    "duration": 0,
    "start_time": "2023-06-21T16:28:36.687Z"
   },
   {
    "duration": 8,
    "start_time": "2023-06-21T17:28:33.859Z"
   },
   {
    "duration": 3171844,
    "start_time": "2023-06-21T17:28:37.673Z"
   },
   {
    "duration": 3240488,
    "start_time": "2023-06-21T19:16:51.210Z"
   },
   {
    "duration": 100,
    "start_time": "2023-06-21T20:10:51.701Z"
   },
   {
    "duration": 92,
    "start_time": "2023-06-21T20:10:51.803Z"
   },
   {
    "duration": 37,
    "start_time": "2023-06-21T20:10:51.897Z"
   },
   {
    "duration": 0,
    "start_time": "2023-06-21T20:10:51.936Z"
   },
   {
    "duration": 0,
    "start_time": "2023-06-21T20:10:51.938Z"
   },
   {
    "duration": 0,
    "start_time": "2023-06-21T20:10:51.939Z"
   },
   {
    "duration": 0,
    "start_time": "2023-06-21T20:10:51.940Z"
   },
   {
    "duration": 0,
    "start_time": "2023-06-21T20:10:51.941Z"
   },
   {
    "duration": 0,
    "start_time": "2023-06-21T20:10:51.942Z"
   },
   {
    "duration": 0,
    "start_time": "2023-06-21T20:10:51.943Z"
   },
   {
    "duration": 0,
    "start_time": "2023-06-21T20:10:51.944Z"
   },
   {
    "duration": 0,
    "start_time": "2023-06-21T20:10:51.945Z"
   },
   {
    "duration": 0,
    "start_time": "2023-06-21T20:10:51.946Z"
   },
   {
    "duration": 0,
    "start_time": "2023-06-21T20:10:51.947Z"
   },
   {
    "duration": 0,
    "start_time": "2023-06-21T20:10:51.968Z"
   },
   {
    "duration": 0,
    "start_time": "2023-06-21T20:10:51.973Z"
   },
   {
    "duration": 0,
    "start_time": "2023-06-21T20:10:51.974Z"
   },
   {
    "duration": 0,
    "start_time": "2023-06-21T20:10:51.975Z"
   },
   {
    "duration": 0,
    "start_time": "2023-06-21T20:10:51.977Z"
   },
   {
    "duration": 0,
    "start_time": "2023-06-21T20:10:51.977Z"
   },
   {
    "duration": 0,
    "start_time": "2023-06-21T20:10:51.979Z"
   },
   {
    "duration": 0,
    "start_time": "2023-06-21T20:10:51.980Z"
   },
   {
    "duration": 13,
    "start_time": "2023-06-22T03:02:21.860Z"
   },
   {
    "duration": 656,
    "start_time": "2023-06-22T03:02:21.875Z"
   },
   {
    "duration": 64336,
    "start_time": "2023-06-22T03:02:22.533Z"
   },
   {
    "duration": 102,
    "start_time": "2023-06-22T03:03:26.871Z"
   },
   {
    "duration": 23377,
    "start_time": "2023-06-22T03:03:26.974Z"
   },
   {
    "duration": 15,
    "start_time": "2023-06-22T03:03:50.353Z"
   },
   {
    "duration": 248362,
    "start_time": "2023-06-22T03:03:50.370Z"
   },
   {
    "duration": 0,
    "start_time": "2023-06-22T03:07:58.734Z"
   },
   {
    "duration": 0,
    "start_time": "2023-06-22T03:07:58.736Z"
   },
   {
    "duration": 0,
    "start_time": "2023-06-22T03:07:58.737Z"
   },
   {
    "duration": 0,
    "start_time": "2023-06-22T03:07:58.738Z"
   },
   {
    "duration": 0,
    "start_time": "2023-06-22T03:07:58.739Z"
   },
   {
    "duration": 0,
    "start_time": "2023-06-22T03:07:58.740Z"
   },
   {
    "duration": 0,
    "start_time": "2023-06-22T03:07:58.741Z"
   },
   {
    "duration": 0,
    "start_time": "2023-06-22T03:07:58.742Z"
   },
   {
    "duration": 0,
    "start_time": "2023-06-22T03:07:58.744Z"
   },
   {
    "duration": 0,
    "start_time": "2023-06-22T03:07:58.744Z"
   },
   {
    "duration": 0,
    "start_time": "2023-06-22T03:07:58.745Z"
   },
   {
    "duration": 0,
    "start_time": "2023-06-22T03:07:58.767Z"
   },
   {
    "duration": 0,
    "start_time": "2023-06-22T03:07:58.768Z"
   },
   {
    "duration": 1156,
    "start_time": "2023-06-22T04:43:47.804Z"
   },
   {
    "duration": 164,
    "start_time": "2023-06-22T04:43:48.962Z"
   },
   {
    "duration": 22,
    "start_time": "2023-06-22T04:43:49.127Z"
   },
   {
    "duration": 24,
    "start_time": "2023-06-22T04:43:49.151Z"
   },
   {
    "duration": 20,
    "start_time": "2023-06-22T04:43:49.176Z"
   },
   {
    "duration": 596,
    "start_time": "2023-06-22T04:43:49.197Z"
   },
   {
    "duration": 6,
    "start_time": "2023-06-22T04:43:49.796Z"
   },
   {
    "duration": 28,
    "start_time": "2023-06-22T04:43:49.814Z"
   },
   {
    "duration": 27,
    "start_time": "2023-06-22T04:43:49.845Z"
   },
   {
    "duration": 41,
    "start_time": "2023-06-22T04:43:49.876Z"
   },
   {
    "duration": 42,
    "start_time": "2023-06-22T04:43:49.919Z"
   },
   {
    "duration": 34,
    "start_time": "2023-06-22T04:43:49.963Z"
   },
   {
    "duration": 44,
    "start_time": "2023-06-22T04:43:49.999Z"
   },
   {
    "duration": 35,
    "start_time": "2023-06-22T04:43:50.044Z"
   },
   {
    "duration": 66,
    "start_time": "2023-06-22T04:43:50.081Z"
   },
   {
    "duration": 55,
    "start_time": "2023-06-22T04:43:50.149Z"
   },
   {
    "duration": 59,
    "start_time": "2023-06-22T04:43:50.206Z"
   },
   {
    "duration": 52,
    "start_time": "2023-06-22T04:43:50.267Z"
   },
   {
    "duration": 155,
    "start_time": "2023-06-22T04:43:50.321Z"
   },
   {
    "duration": 52639,
    "start_time": "2023-06-22T04:43:50.478Z"
   },
   {
    "duration": 9,
    "start_time": "2023-06-22T04:44:43.119Z"
   },
   {
    "duration": 23081,
    "start_time": "2023-06-22T04:44:43.214Z"
   },
   {
    "duration": 7,
    "start_time": "2023-06-22T04:45:06.297Z"
   },
   {
    "duration": 2999178,
    "start_time": "2023-06-22T04:45:06.313Z"
   },
   {
    "duration": 28,
    "start_time": "2023-06-22T05:35:05.493Z"
   },
   {
    "duration": 52991,
    "start_time": "2023-06-22T05:35:05.523Z"
   },
   {
    "duration": 102,
    "start_time": "2023-06-22T05:35:58.517Z"
   },
   {
    "duration": 27245,
    "start_time": "2023-06-22T05:35:58.623Z"
   },
   {
    "duration": 13,
    "start_time": "2023-06-22T05:36:25.871Z"
   },
   {
    "duration": 3139520,
    "start_time": "2023-06-22T05:36:25.886Z"
   },
   {
    "duration": 55,
    "start_time": "2023-06-22T06:28:45.408Z"
   },
   {
    "duration": 38,
    "start_time": "2023-06-22T06:28:45.464Z"
   },
   {
    "duration": 68,
    "start_time": "2023-06-22T06:28:45.504Z"
   },
   {
    "duration": 705,
    "start_time": "2023-06-22T06:28:45.575Z"
   },
   {
    "duration": 55455,
    "start_time": "2023-06-22T06:28:46.282Z"
   },
   {
    "duration": 93,
    "start_time": "2023-06-22T06:29:41.739Z"
   },
   {
    "duration": 24695,
    "start_time": "2023-06-22T06:29:41.834Z"
   },
   {
    "duration": 12,
    "start_time": "2023-06-22T06:30:06.531Z"
   },
   {
    "duration": 4074720,
    "start_time": "2023-06-22T06:30:06.545Z"
   },
   {
    "duration": 61,
    "start_time": "2023-06-22T07:38:01.267Z"
   },
   {
    "duration": 19,
    "start_time": "2023-06-22T07:38:01.330Z"
   },
   {
    "duration": 93,
    "start_time": "2023-06-22T07:38:01.350Z"
   },
   {
    "duration": 154,
    "start_time": "2023-06-22T07:38:01.445Z"
   },
   {
    "duration": 36432,
    "start_time": "2023-06-22T07:38:01.601Z"
   },
   {
    "duration": 93,
    "start_time": "2023-06-22T07:38:38.035Z"
   },
   {
    "duration": 20236,
    "start_time": "2023-06-22T07:38:38.133Z"
   },
   {
    "duration": 20,
    "start_time": "2023-06-22T07:38:58.371Z"
   },
   {
    "duration": 1698545,
    "start_time": "2023-06-22T07:38:58.393Z"
   },
   {
    "duration": 48,
    "start_time": "2023-06-22T08:07:16.940Z"
   },
   {
    "duration": 37,
    "start_time": "2023-06-22T08:07:16.990Z"
   },
   {
    "duration": 57,
    "start_time": "2023-06-22T08:07:17.030Z"
   },
   {
    "duration": 61,
    "start_time": "2023-06-22T08:07:17.089Z"
   }
  ],
  "kernelspec": {
   "display_name": "Python 3 (ipykernel)",
   "language": "python",
   "name": "python3"
  },
  "language_info": {
   "codemirror_mode": {
    "name": "ipython",
    "version": 3
   },
   "file_extension": ".py",
   "mimetype": "text/x-python",
   "name": "python",
   "nbconvert_exporter": "python",
   "pygments_lexer": "ipython3",
   "version": "3.9.16"
  },
  "toc": {
   "base_numbering": 1,
   "nav_menu": {},
   "number_sections": true,
   "sideBar": true,
   "skip_h1_title": true,
   "title_cell": "Содержание",
   "title_sidebar": "Contents",
   "toc_cell": true,
   "toc_position": {
    "height": "calc(100% - 180px)",
    "left": "10px",
    "top": "150px",
    "width": "165px"
   },
   "toc_section_display": true,
   "toc_window_display": true
  }
 },
 "nbformat": 4,
 "nbformat_minor": 2
}
