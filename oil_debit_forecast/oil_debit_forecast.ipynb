{
 "cells": [
  {
   "cell_type": "markdown",
   "metadata": {},
   "source": [
    "# Выбор локации для скважины"
   ]
  },
  {
   "cell_type": "markdown",
   "metadata": {},
   "source": [
    "## План работы"
   ]
  },
  {
   "cell_type": "markdown",
   "metadata": {},
   "source": [
    "Для успешного выполнения проекта необходимо выполнить следующее:\n",
    "1. Загрузить и изучить данные:\n",
    "   - проверить данные на наличие пропусков\n",
    "   - проверить данные на дубликаты\n",
    "   - оценить, необходимо ли изменять формат данных у каких-либо признаков\n",
    "2. Разделить их на тренировочную и валидационную выборки\n",
    "3. Закодировать признаки, в случае, если они представлены не в числовом формате\n",
    "4. Масштабировать численные признаки \n",
    "5. Обучить модель линейной регрессии для каждого региона и сохранить предсказания вместе с целевыми признаками\n",
    "6. Определить RMSE для каждого региона и средние запасы предсказанного сырья\n",
    "7. Рассчитать минимально допустимый объем сырья для отсутствия убытков\n",
    "8. Определить суммарный объем сырья в скважинах с наибольшими значениями предсказания\n",
    "9. Определить прибыль для данного объема сырья\n",
    "10. Найти распределение прибыли, среднюю прибыль, 95%-й доверительный интервал и риск отрицательной прибыли\n",
    "11. Предложить регион для строительства скважин и разработки месторождений"
   ]
  },
  {
   "cell_type": "markdown",
   "metadata": {},
   "source": [
    "## Загрузка и подготовка данных"
   ]
  },
  {
   "cell_type": "code",
   "execution_count": 1,
   "metadata": {},
   "outputs": [],
   "source": [
    "import pandas as pd\n",
    "\n",
    "import seaborn as sns\n",
    "import matplotlib.pyplot as plt\n",
    "\n",
    "from sklearn.model_selection import train_test_split\n",
    "from sklearn.preprocessing import StandardScaler\n",
    "\n",
    "from sklearn.linear_model import LinearRegression\n",
    "\n",
    "from sklearn.metrics import mean_squared_error\n",
    "\n",
    "from scipy import stats as st\n",
    "from numpy.random import RandomState"
   ]
  },
  {
   "cell_type": "markdown",
   "metadata": {},
   "source": [
    "###  Загрузка данных"
   ]
  },
  {
   "cell_type": "markdown",
   "metadata": {},
   "source": [
    "Загрузим данные и создадим список с названиями, для дальнейшей работы с ними с помощью функций."
   ]
  },
  {
   "cell_type": "code",
   "execution_count": 2,
   "metadata": {},
   "outputs": [],
   "source": [
    "geo_data_0 = pd.read_csv('geo_data_0.csv')\n",
    "geo_data_1 = pd.read_csv('geo_data_1.csv')\n",
    "geo_data_2 = pd.read_csv('geo_data_2.csv')\n",
    "\n",
    "all_geo_data = [geo_data_0, geo_data_1, geo_data_2]"
   ]
  },
  {
   "cell_type": "markdown",
   "metadata": {},
   "source": [
    "### Предобработка данных"
   ]
  },
  {
   "cell_type": "markdown",
   "metadata": {},
   "source": [
    "Рассмотрим первые пять строк каждой таблицы и общую информацию о данных "
   ]
  },
  {
   "cell_type": "code",
   "execution_count": 3,
   "metadata": {
    "scrolled": false
   },
   "outputs": [
    {
     "name": "stdout",
     "output_type": "stream",
     "text": [
      "--------------------------------------------------\n",
      "      id        f0        f1        f2     product\n",
      "0  txEyH  0.705745 -0.497823  1.221170  105.280062\n",
      "1  2acmU  1.334711 -0.340164  4.365080   73.037750\n",
      "2  409Wp  1.022732  0.151990  1.419926   85.265647\n",
      "3  iJLyR -0.032172  0.139033  2.978566  168.620776\n",
      "4  Xdl7t  1.988431  0.155413  4.751769  154.036647\n",
      "--------------------------------------------------\n",
      "<class 'pandas.core.frame.DataFrame'>\n",
      "RangeIndex: 100000 entries, 0 to 99999\n",
      "Data columns (total 5 columns):\n",
      " #   Column   Non-Null Count   Dtype  \n",
      "---  ------   --------------   -----  \n",
      " 0   id       100000 non-null  object \n",
      " 1   f0       100000 non-null  float64\n",
      " 2   f1       100000 non-null  float64\n",
      " 3   f2       100000 non-null  float64\n",
      " 4   product  100000 non-null  float64\n",
      "dtypes: float64(4), object(1)\n",
      "memory usage: 3.8+ MB\n",
      "--------------------------------------------------\n",
      "--------------------------------------------------\n",
      "      id         f0         f1        f2     product\n",
      "0  kBEdx -15.001348  -8.276000 -0.005876    3.179103\n",
      "1  62mP7  14.272088  -3.475083  0.999183   26.953261\n",
      "2  vyE1P   6.263187  -5.948386  5.001160  134.766305\n",
      "3  KcrkZ -13.081196 -11.506057  4.999415  137.945408\n",
      "4  AHL4O  12.702195  -8.147433  5.004363  134.766305\n",
      "--------------------------------------------------\n",
      "<class 'pandas.core.frame.DataFrame'>\n",
      "RangeIndex: 100000 entries, 0 to 99999\n",
      "Data columns (total 5 columns):\n",
      " #   Column   Non-Null Count   Dtype  \n",
      "---  ------   --------------   -----  \n",
      " 0   id       100000 non-null  object \n",
      " 1   f0       100000 non-null  float64\n",
      " 2   f1       100000 non-null  float64\n",
      " 3   f2       100000 non-null  float64\n",
      " 4   product  100000 non-null  float64\n",
      "dtypes: float64(4), object(1)\n",
      "memory usage: 3.8+ MB\n",
      "--------------------------------------------------\n",
      "--------------------------------------------------\n",
      "      id        f0        f1        f2     product\n",
      "0  fwXo0 -1.146987  0.963328 -0.828965   27.758673\n",
      "1  WJtFt  0.262778  0.269839 -2.530187   56.069697\n",
      "2  ovLUW  0.194587  0.289035 -5.586433   62.871910\n",
      "3  q6cA6  2.236060 -0.553760  0.930038  114.572842\n",
      "4  WPMUX -0.515993  1.716266  5.899011  149.600746\n",
      "--------------------------------------------------\n",
      "<class 'pandas.core.frame.DataFrame'>\n",
      "RangeIndex: 100000 entries, 0 to 99999\n",
      "Data columns (total 5 columns):\n",
      " #   Column   Non-Null Count   Dtype  \n",
      "---  ------   --------------   -----  \n",
      " 0   id       100000 non-null  object \n",
      " 1   f0       100000 non-null  float64\n",
      " 2   f1       100000 non-null  float64\n",
      " 3   f2       100000 non-null  float64\n",
      " 4   product  100000 non-null  float64\n",
      "dtypes: float64(4), object(1)\n",
      "memory usage: 3.8+ MB\n",
      "--------------------------------------------------\n"
     ]
    }
   ],
   "source": [
    "for data in all_geo_data:\n",
    "    print('-' * 50)\n",
    "    print(data.head())\n",
    "    print('-' * 50)\n",
    "    data.info()\n",
    "    print('-' * 50)"
   ]
  },
  {
   "cell_type": "markdown",
   "metadata": {},
   "source": [
    "Как мы видим, в данных отсутствуют какие-либо пропуски, а типы данных используются оптимально."
   ]
  },
  {
   "cell_type": "markdown",
   "metadata": {},
   "source": [
    "### Поиск дубликатов "
   ]
  },
  {
   "cell_type": "markdown",
   "metadata": {},
   "source": [
    "Проанализируем данные с точки зрения наличия дубликатов, как явных, так и по уникальному идентификатору скважины."
   ]
  },
  {
   "cell_type": "code",
   "execution_count": 4,
   "metadata": {
    "scrolled": true
   },
   "outputs": [
    {
     "name": "stdout",
     "output_type": "stream",
     "text": [
      "Количество явных дубликатов: 0\n",
      "Количество дубликатов в столбце \"id\": 10\n",
      "Количество явных дубликатов: 0\n",
      "Количество дубликатов в столбце \"id\": 4\n",
      "Количество явных дубликатов: 0\n",
      "Количество дубликатов в столбце \"id\": 4\n"
     ]
    }
   ],
   "source": [
    "for data in all_geo_data:\n",
    "    print(f'Количество явных дубликатов: {data.duplicated().sum()}')\n",
    "    print(f'Количество дубликатов в столбце \"id\": {data[\"id\"].duplicated().sum()}')"
   ]
  },
  {
   "cell_type": "markdown",
   "metadata": {},
   "source": [
    "Явные дубликаты в данных так же отсутствуют, но в столбце `id` присутствуют повторные уникальные идентификаторы.\n",
    "Рассмотрим их."
   ]
  },
  {
   "cell_type": "code",
   "execution_count": 5,
   "metadata": {},
   "outputs": [
    {
     "name": "stdout",
     "output_type": "stream",
     "text": [
      "          id        f0        f1         f2     product\n",
      "66136  74z30  1.084962 -0.312358   6.990771  127.643327\n",
      "64022  74z30  0.741456  0.459229   5.153109  140.771492\n",
      "51970  A5aEY -0.180335  0.935548  -2.094773   33.020205\n",
      "3389   A5aEY -0.039949  0.156872   0.209861   89.249364\n",
      "69163  AGS9W -0.933795  0.116194  -3.655896   19.230453\n",
      "42529  AGS9W  1.454747 -0.479651   0.683380  126.370504\n",
      "931    HZww2  0.755284  0.368511   1.863211   30.681774\n",
      "7530   HZww2  1.061194 -0.373969  10.430210  158.828695\n",
      "63593  QcMuo  0.635635 -0.473422   0.862670   64.578675\n",
      "1949   QcMuo  0.506563 -0.323775  -2.215583   75.496502\n",
      "75715  Tdehs  0.112079  0.430296   3.218993   60.964018\n",
      "21426  Tdehs  0.829407  0.298807  -0.049563   96.035308\n",
      "92341  TtcGQ  0.110711  1.022689   0.911381  101.318008\n",
      "60140  TtcGQ  0.569276 -0.104876   6.440215   85.350186\n",
      "89582  bsk9y  0.398908 -0.400253  10.122376  163.433078\n",
      "97785  bsk9y  0.378429  0.005837   0.160827  160.637302\n",
      "41724  bxg6G -0.823752  0.546319   3.630479   93.007798\n",
      "1364   bxg6G  0.411645  0.856830  -3.653440   73.604260\n",
      "16633  fiKDv  0.157341  1.028359   5.585586   95.817889\n",
      "90815  fiKDv  0.049883  0.841313   6.394613  137.346586\n",
      "          id         f0         f1        f2     product\n",
      "5849   5ltQ6  -3.435401 -12.296043  1.999796   57.085625\n",
      "84461  5ltQ6  18.213839   2.191999  3.993869  107.813044\n",
      "1305   LHZR0  11.170835  -1.945066  3.002872   80.859783\n",
      "41906  LHZR0  -8.989672  -4.286607  2.009139   57.085625\n",
      "2721   bfPNe  -9.494442  -5.463692  4.006042  110.992147\n",
      "82178  bfPNe  -6.202799  -4.820045  2.995107   84.038886\n",
      "47591  wt4Uk  -9.091098  -8.109279 -0.002314    3.179103\n",
      "82873  wt4Uk  10.259972  -9.376355  4.994297  134.766305\n",
      "          id        f0        f1        f2     product\n",
      "45404  KUPhW  0.231846 -1.698941  4.990775   11.716299\n",
      "55967  KUPhW  1.211150  3.176408  5.543540  132.831802\n",
      "11449  VF7Jo  2.122656 -0.858275  5.746001  181.716817\n",
      "49564  VF7Jo -0.883115  0.560537  0.723601  136.233420\n",
      "44378  Vcm5J -1.229484 -2.439204  1.222909  137.968290\n",
      "95090  Vcm5J  2.587702  1.986875  2.482245   92.327572\n",
      "28039  xCHr8  1.633027  0.368135 -2.378367    6.120525\n",
      "43233  xCHr8 -0.847066  2.101796  5.597130  184.388641\n"
     ]
    }
   ],
   "source": [
    "for data in all_geo_data:\n",
    "    print(data[data['id'].duplicated(keep=False)].sort_values(by='id'))"
   ]
  },
  {
   "cell_type": "markdown",
   "metadata": {},
   "source": [
    "Как мы видим, скважины с одинаковыми идентификаторами имеют аблосютно разные остальные характеристики.\n",
    "Замена их на какое-либо среднее не представляется логичным. Скорее, можно предположить об ошибке в присвоении идентификатора скважине; а поскольку данный столбец не будет использоваться в обучении модели, как не релевантный, то можно проигнорировать данные дубликаты."
   ]
  },
  {
   "cell_type": "markdown",
   "metadata": {},
   "source": [
    "### Разбиение на выборки"
   ]
  },
  {
   "cell_type": "markdown",
   "metadata": {},
   "source": [
    "Разделим данные на целевой признак и признаки, которые будут использоваться при обучении и предсказании.\n",
    "\n",
    "Целевым признаком является `product` - значение объёма запасов в скважине (тыс. баррелей).\n",
    "Из остальных признаков уберем столбец с идентификатором, поскольку это случайный набор символов."
   ]
  },
  {
   "cell_type": "code",
   "execution_count": 6,
   "metadata": {},
   "outputs": [],
   "source": [
    "target_0 = geo_data_0['product']\n",
    "features_0 = geo_data_0.drop(['product', 'id'], axis=1)\n",
    "\n",
    "target_1 = geo_data_1['product']\n",
    "features_1 = geo_data_1.drop(['product', 'id'], axis=1)\n",
    "\n",
    "target_2 = geo_data_2['product']\n",
    "features_2 = geo_data_2.drop(['product', 'id'], axis=1)"
   ]
  },
  {
   "cell_type": "markdown",
   "metadata": {},
   "source": [
    "Все данные разобъем на выборки в соотношении 3:1 - 75% для тренировочной и 25% для валидационной.\n",
    "Кроме того, сразу зададим `random_state`, чтобы в дальнейшем использовать уже записанную переменную."
   ]
  },
  {
   "cell_type": "code",
   "execution_count": 7,
   "metadata": {},
   "outputs": [],
   "source": [
    "random_state = 12345\n",
    "\n",
    "features_train_0,features_valid_0, target_train_0, target_valid_0 = train_test_split(\n",
    "    features_0, target_0, test_size=0.25, random_state=random_state\n",
    ")\n",
    "\n",
    "features_train_1, features_valid_1, target_train_1, target_valid_1 = train_test_split(\n",
    "    features_1, target_1, test_size=0.25, random_state=random_state\n",
    ")\n",
    "\n",
    "features_train_2, features_valid_2, target_train_2, target_valid_2 = train_test_split(\n",
    "    features_2, target_2, test_size=0.25, random_state=random_state\n",
    ")"
   ]
  },
  {
   "cell_type": "markdown",
   "metadata": {},
   "source": [
    "Проверим размеры выборок"
   ]
  },
  {
   "cell_type": "code",
   "execution_count": 8,
   "metadata": {},
   "outputs": [
    {
     "name": "stdout",
     "output_type": "stream",
     "text": [
      "Размер тренировочной выборки № 1: 75000\n",
      "Размер валидационной выборки № 1: 25000\n",
      "Размер тренировочной выборки № 2: 75000\n",
      "Размер валидационной выборки № 2: 25000\n",
      "Размер тренировочной выборки № 3: 75000\n",
      "Размер валидационной выборки № 3: 25000\n"
     ]
    }
   ],
   "source": [
    "print('Размер тренировочной выборки № 1:', len(features_train_0))\n",
    "print('Размер валидационной выборки № 1:', len(features_valid_0))\n",
    "\n",
    "print('Размер тренировочной выборки № 2:', len(features_train_1))\n",
    "print('Размер валидационной выборки № 2:', len(features_valid_1))\n",
    "\n",
    "print('Размер тренировочной выборки № 3:', len(features_train_2))\n",
    "print('Размер валидационной выборки № 3:', len(features_valid_2))"
   ]
  },
  {
   "cell_type": "markdown",
   "metadata": {},
   "source": [
    "Данные разбиты верно."
   ]
  },
  {
   "cell_type": "markdown",
   "metadata": {},
   "source": [
    "### Масштабирование признаков. "
   ]
  },
  {
   "cell_type": "markdown",
   "metadata": {},
   "source": [
    "Обучим `scaler` на тренировочных выборках, а затем смасштабируем все признаки."
   ]
  },
  {
   "cell_type": "code",
   "execution_count": 9,
   "metadata": {},
   "outputs": [],
   "source": [
    "def scale_features(features_train, features_valid):\n",
    "    scaler = StandardScaler()\n",
    "    scaler.fit(features_train)\n",
    "    \n",
    "    scaled_features_train = scaler.transform(features_train)\n",
    "    scaled_features_valid = scaler.transform(features_valid)\n",
    "    \n",
    "    return scaled_features_train, scaled_features_valid\n",
    "\n",
    "features_train_0, features_valid_0 = scale_features(features_train_0, features_valid_0)\n",
    "features_train_1, features_valid_1 = scale_features(features_train_1, features_valid_1)\n",
    "features_train_2, features_valid_2 = scale_features(features_train_2, features_valid_2)"
   ]
  },
  {
   "cell_type": "markdown",
   "metadata": {},
   "source": [
    "## Обучение и проверка модели"
   ]
  },
  {
   "cell_type": "markdown",
   "metadata": {},
   "source": [
    "В данном проекте будет использоваться модель линейной регрессии. Обучим модель на тренировочных данных для каждого региона и сохраним предсказания вместе с реальными значениями целевого признака в отдельной переменной."
   ]
  },
  {
   "cell_type": "code",
   "execution_count": 10,
   "metadata": {},
   "outputs": [],
   "source": [
    "def get_predicts(features_train, target_train, features_valid, target_valid):\n",
    "    model = LinearRegression()\n",
    "    model.fit(features_train, target_train)\n",
    "    predictions = pd.Series(model.predict(features_valid), index=target_valid.index)\n",
    "    \n",
    "    print(f'Средний запас сырья (предсказанный): {predictions.mean()}')\n",
    "    print(f'RMSE модели: {mean_squared_error(target_valid, predictions, squared=False)}')\n",
    "    \n",
    "    result = pd.concat([target_valid, predictions], axis=1)\n",
    "    result.columns = ['product_valid', 'product_predicted']\n",
    "    \n",
    "    return result"
   ]
  },
  {
   "cell_type": "code",
   "execution_count": 11,
   "metadata": {},
   "outputs": [
    {
     "name": "stdout",
     "output_type": "stream",
     "text": [
      "Средний запас сырья (предсказанный): 92.59256778438035\n",
      "RMSE модели: 37.5794217150813\n"
     ]
    }
   ],
   "source": [
    "prediction_0 = get_predicts(features_train_0, target_train_0, features_valid_0, target_valid_0)"
   ]
  },
  {
   "cell_type": "code",
   "execution_count": 12,
   "metadata": {},
   "outputs": [
    {
     "name": "stdout",
     "output_type": "stream",
     "text": [
      "Средний запас сырья (предсказанный): 68.728546895446\n",
      "RMSE модели: 0.893099286775617\n"
     ]
    }
   ],
   "source": [
    "prediction_1 = get_predicts(features_train_1, target_train_1, features_valid_1, target_valid_1)"
   ]
  },
  {
   "cell_type": "code",
   "execution_count": 13,
   "metadata": {},
   "outputs": [
    {
     "name": "stdout",
     "output_type": "stream",
     "text": [
      "Средний запас сырья (предсказанный): 94.96504596800489\n",
      "RMSE модели: 40.02970873393434\n"
     ]
    }
   ],
   "source": [
    "prediction_2 = get_predicts(features_train_2, target_train_2, features_valid_2, target_valid_2)"
   ]
  },
  {
   "cell_type": "markdown",
   "metadata": {},
   "source": [
    "### Вывод "
   ]
  },
  {
   "cell_type": "markdown",
   "metadata": {},
   "source": [
    "Как мы видим, лучшие результаты дала модель, обученная на данных по второму региону - значение RMSE в этом случае не превышает 0.9, при этом значение предсказанного среднего запаса сырья ниже, чем в других регионах.\n",
    "В остальных регионах средний предсказанный объем сырья достигает 92-94 тыс. баррелей, но значение RMSE моделей выше - 37.5-40."
   ]
  },
  {
   "cell_type": "markdown",
   "metadata": {},
   "source": [
    "## Подготовка к расчёту прибыли"
   ]
  },
  {
   "cell_type": "markdown",
   "metadata": {},
   "source": [
    "Для упрощения расчетов, добавим все необходимые значения в переменные:\n",
    "- Бюджет на разработку месторождения - 10 млрд рублей\n",
    "- Доход от 1 тыс. баррелей - 450 000 рублей\n",
    "- Количество скважин для исследования - 500\n",
    "- Количество скважин для разработки - 200"
   ]
  },
  {
   "cell_type": "code",
   "execution_count": 14,
   "metadata": {},
   "outputs": [],
   "source": [
    "EXPLORATION_BUDGET = 10_000_000_000\n",
    "PRODUCT_INCOME = 450_000\n",
    "EXPLORATION_WELL_COUNT = 500\n",
    "DEVELOPMENT_WELL_COUNT = 200"
   ]
  },
  {
   "cell_type": "markdown",
   "metadata": {},
   "source": [
    "Рассчитаем достаточный объем для безубыточности производства. Для этого, разделим бюджет на разработку месторождения на доход от 1 тыс. баррелей."
   ]
  },
  {
   "cell_type": "code",
   "execution_count": 15,
   "metadata": {},
   "outputs": [
    {
     "name": "stdout",
     "output_type": "stream",
     "text": [
      "Достаточный объем для безубыточности добычи: 22222.22\n",
      "Достаточный объем на одной скважине для безубыточности добычи: 111.11\n"
     ]
    }
   ],
   "source": [
    "breakeven_volume = EXPLORATION_BUDGET / PRODUCT_INCOME\n",
    "breakeven_volume_per_well = breakeven_volume / DEVELOPMENT_WELL_COUNT\n",
    "print(f'Достаточный объем для безубыточности добычи: {\"%.2f\" %breakeven_volume}')\n",
    "print(f'Достаточный объем на одной скважине для безубыточности добычи: {\"%.2f\" %breakeven_volume_per_well}')"
   ]
  },
  {
   "cell_type": "markdown",
   "metadata": {},
   "source": [
    "Для безубыточности производства, необходимо, чтобы на каждой из 200 скважин можно было добыть не меньше 111 тыс. баррелей нефти."
   ]
  },
  {
   "cell_type": "markdown",
   "metadata": {},
   "source": [
    "Рассмотрим средний объем нефти на скважинах в каждом регионе."
   ]
  },
  {
   "cell_type": "code",
   "execution_count": 16,
   "metadata": {},
   "outputs": [
    {
     "name": "stdout",
     "output_type": "stream",
     "text": [
      "Средний объем нефти на скважине в регионе № 1: 92.50\n",
      "Средний объем нефти на скважине в регионе № 2: 68.83\n",
      "Средний объем нефти на скважине в регионе № 3: 95.00\n"
     ]
    }
   ],
   "source": [
    "n = 1\n",
    "for data in all_geo_data:\n",
    "    print(f'Средний объем нефти на скважине в регионе № {n}: {\"%.2f\" %(data[\"product\"].mean())}')\n",
    "    n += 1"
   ]
  },
  {
   "cell_type": "markdown",
   "metadata": {},
   "source": [
    "Как видно из полученных данных, в среднем количество нефти, которую можно добыть из одной скважины, в каждом регионе ниже, чем необходимое значение для безубыточности производства.\n",
    "В связи с этим, необходимо взять только лучшие скважины для получения дохода."
   ]
  },
  {
   "cell_type": "markdown",
   "metadata": {},
   "source": [
    "## Расчёт прибыли и рисков "
   ]
  },
  {
   "cell_type": "markdown",
   "metadata": {},
   "source": [
    "Напишем функцию для расчета прибыли из 200 лучших скважин для дальнейшего расчета прибыли."
   ]
  },
  {
   "cell_type": "code",
   "execution_count": 17,
   "metadata": {},
   "outputs": [],
   "source": [
    "def region_income(prediction):\n",
    "    target_wells = prediction.sort_values(by='product_predicted', ascending=False).iloc[:DEVELOPMENT_WELL_COUNT]\n",
    "    total_product = target_wells['product_valid'].sum()\n",
    "    region_income = total_product * PRODUCT_INCOME  - EXPLORATION_BUDGET\n",
    "    return region_income"
   ]
  },
  {
   "cell_type": "markdown",
   "metadata": {},
   "source": [
    "Определим прибыль и риски для каждого региона. В ходе расчетов применим технологию `Bootstrap`."
   ]
  },
  {
   "cell_type": "code",
   "execution_count": 18,
   "metadata": {},
   "outputs": [
    {
     "data": {
      "image/png": "[encoded data removed]",
      "text/plain": [
       "<Figure size 432x288 with 1 Axes>"
      ]
     },
     "metadata": {
      "needs_background": "light"
     },
     "output_type": "display_data"
    },
    {
     "name": "stdout",
     "output_type": "stream",
     "text": [
      "Средняя прибыль: 396164984.80 \n",
      "Доверительный 95% интервал: -111215545.89 - 909766941.55 \n",
      "Риск отрицательной выручки: 6.90\n"
     ]
    },
    {
     "data": {
      "image/png": "[encoded data removed]",
      "text/plain": [
       "<Figure size 432x288 with 1 Axes>"
      ]
     },
     "metadata": {
      "needs_background": "light"
     },
     "output_type": "display_data"
    },
    {
     "name": "stdout",
     "output_type": "stream",
     "text": [
      "Средняя прибыль: 461155817.28 \n",
      "Доверительный 95% интервал: 78050810.75 - 862952060.26 \n",
      "Риск отрицательной выручки: 0.70\n"
     ]
    },
    {
     "data": {
      "image/png": "[encoded data removed]",
      "text/plain": [
       "<Figure size 432x288 with 1 Axes>"
      ]
     },
     "metadata": {
      "needs_background": "light"
     },
     "output_type": "display_data"
    },
    {
     "name": "stdout",
     "output_type": "stream",
     "text": [
      "Средняя прибыль: 392950475.17 \n",
      "Доверительный 95% интервал: -112227625.38 - 934562914.55 \n",
      "Риск отрицательной выручки: 6.50\n"
     ]
    }
   ],
   "source": [
    "predictions = [prediction_0, prediction_1, prediction_2]\n",
    "state = RandomState(random_state)\n",
    "region = 1\n",
    "for prediction in predictions:\n",
    "    region_name = f'Регион № {region}'\n",
    "    bootstrap_samples = 1000\n",
    "    \n",
    "    incomes = []\n",
    "    \n",
    "    for i in range(bootstrap_samples):\n",
    "        sample = prediction.sample(\n",
    "            n=EXPLORATION_WELL_COUNT, replace=True, random_state=state\n",
    "        )\n",
    "        \n",
    "        income = region_income(sample)\n",
    "        incomes.append(income)\n",
    "        \n",
    "    ax = sns.histplot(data=incomes, kde=True)\n",
    "    ax.set(xlabel='Прибыль', ylabel='Количество значений', title=region_name)\n",
    "    plt.show()\n",
    "    incomes = pd.Series(incomes)\n",
    "    mean_income = incomes.mean()\n",
    "    lower_bound = incomes.quantile(q=0.025)\n",
    "    upper_bound = incomes.quantile(q=0.975)\n",
    "    risk = (incomes < 0).mean() * 100\n",
    "    print(\n",
    "        f'Средняя прибыль: {\"%.2f\" %(mean_income)} \\nДоверительный 95% интервал: {\"%.2f\" %(lower_bound)} - {\"%.2f\" %(upper_bound)} \\nРиск отрицательной выручки: {\"%.2f\" %(risk)}')\n",
    "    region += 1"
   ]
  },
  {
   "cell_type": "markdown",
   "metadata": {},
   "source": [
    "По итогам проведенного анализа, можно сделать вывод, что **регион № 2 лучше всего подходит для разработки**:\n",
    "- для данного региона обученная модель дала результат с наименьшим значением RMSE\n",
    "- для данного региона средняя прибыль является наибольшей из трех регионов и составляет 461 155 817.28 рублей\n",
    "- доверительный интервал для данного региона единственный имеет положительную нижнюю границу (78 050 810.75 - 862 952 060.26)\n",
    "- риск отрицательной выручки наименьший среди всех регионов и составляет 0.9%"
   ]
  }
 ],
 "metadata": {
  "ExecuteTimeLog": [
   {
    "duration": 507,
    "start_time": "2023-06-27T17:43:32.627Z"
   },
   {
    "duration": 2929,
    "start_time": "2023-06-27T17:43:33.319Z"
   },
   {
    "duration": 74,
    "start_time": "2023-06-27T17:43:38.689Z"
   },
   {
    "duration": 65,
    "start_time": "2023-06-27T17:43:59.293Z"
   },
   {
    "duration": 69,
    "start_time": "2023-06-27T17:44:04.428Z"
   },
   {
    "duration": 63,
    "start_time": "2023-06-27T17:44:06.792Z"
   },
   {
    "duration": 97,
    "start_time": "2023-06-27T17:44:31.611Z"
   },
   {
    "duration": 64,
    "start_time": "2023-06-27T17:44:45.136Z"
   },
   {
    "duration": 93,
    "start_time": "2023-06-27T17:57:31.586Z"
   },
   {
    "duration": 12,
    "start_time": "2023-06-27T17:57:35.607Z"
   },
   {
    "duration": 179,
    "start_time": "2023-06-27T17:57:55.558Z"
   },
   {
    "duration": 215,
    "start_time": "2023-06-27T17:57:59.030Z"
   },
   {
    "duration": 114,
    "start_time": "2023-06-27T18:00:07.196Z"
   },
   {
    "duration": 103,
    "start_time": "2023-06-27T18:00:13.283Z"
   },
   {
    "duration": 246,
    "start_time": "2023-06-27T18:00:25.734Z"
   },
   {
    "duration": 77,
    "start_time": "2023-06-27T18:02:57.076Z"
   },
   {
    "duration": 102,
    "start_time": "2023-06-27T18:03:39.638Z"
   },
   {
    "duration": 63,
    "start_time": "2023-06-27T18:07:34.938Z"
   },
   {
    "duration": 37,
    "start_time": "2023-06-27T18:08:20.858Z"
   },
   {
    "duration": 47,
    "start_time": "2023-06-27T18:09:25.262Z"
   },
   {
    "duration": 722,
    "start_time": "2023-06-27T18:10:31.855Z"
   },
   {
    "duration": 115,
    "start_time": "2023-06-27T18:10:39.169Z"
   },
   {
    "duration": 37,
    "start_time": "2023-06-27T18:11:15.133Z"
   },
   {
    "duration": 31,
    "start_time": "2023-06-27T18:11:23.145Z"
   },
   {
    "duration": 105,
    "start_time": "2023-06-27T18:11:53.192Z"
   },
   {
    "duration": 34,
    "start_time": "2023-06-27T18:34:15.256Z"
   },
   {
    "duration": 13,
    "start_time": "2023-06-27T18:34:24.509Z"
   },
   {
    "duration": 27,
    "start_time": "2023-06-27T18:35:04.102Z"
   },
   {
    "duration": 906,
    "start_time": "2023-06-27T18:38:45.064Z"
   },
   {
    "duration": 70,
    "start_time": "2023-06-27T18:41:24.809Z"
   },
   {
    "duration": 55,
    "start_time": "2023-06-27T18:42:37.876Z"
   },
   {
    "duration": 4,
    "start_time": "2023-06-27T18:44:16.347Z"
   },
   {
    "duration": 7,
    "start_time": "2023-06-27T18:45:05.271Z"
   },
   {
    "duration": 40,
    "start_time": "2023-06-27T18:45:25.829Z"
   },
   {
    "duration": 6,
    "start_time": "2023-06-27T18:45:26.935Z"
   },
   {
    "duration": 35,
    "start_time": "2023-06-27T18:46:04.758Z"
   },
   {
    "duration": 7,
    "start_time": "2023-06-27T18:46:06.103Z"
   },
   {
    "duration": 3,
    "start_time": "2023-06-27T18:48:09.802Z"
   },
   {
    "duration": 47,
    "start_time": "2023-06-27T18:52:06.860Z"
   },
   {
    "duration": 1401,
    "start_time": "2023-06-28T05:17:50.250Z"
   },
   {
    "duration": 1035,
    "start_time": "2023-06-28T05:17:51.654Z"
   },
   {
    "duration": 83,
    "start_time": "2023-06-28T05:17:52.691Z"
   },
   {
    "duration": 0,
    "start_time": "2023-06-28T05:17:52.777Z"
   },
   {
    "duration": 0,
    "start_time": "2023-06-28T05:17:52.778Z"
   },
   {
    "duration": 0,
    "start_time": "2023-06-28T05:17:52.779Z"
   },
   {
    "duration": 0,
    "start_time": "2023-06-28T05:17:52.780Z"
   },
   {
    "duration": 0,
    "start_time": "2023-06-28T05:17:52.782Z"
   },
   {
    "duration": 51,
    "start_time": "2023-06-28T05:17:57.610Z"
   },
   {
    "duration": 211,
    "start_time": "2023-06-28T05:18:00.825Z"
   },
   {
    "duration": 93,
    "start_time": "2023-06-28T05:18:01.784Z"
   },
   {
    "duration": 14,
    "start_time": "2023-06-28T05:18:05.392Z"
   },
   {
    "duration": 39,
    "start_time": "2023-06-28T05:18:06.520Z"
   },
   {
    "duration": 6,
    "start_time": "2023-06-28T05:18:07.627Z"
   },
   {
    "duration": 34,
    "start_time": "2023-06-28T05:18:09.695Z"
   },
   {
    "duration": 132,
    "start_time": "2023-06-28T05:18:21.043Z"
   },
   {
    "duration": 13,
    "start_time": "2023-06-28T05:18:31.435Z"
   },
   {
    "duration": 13,
    "start_time": "2023-06-28T05:18:37.603Z"
   },
   {
    "duration": 12,
    "start_time": "2023-06-28T05:18:40.123Z"
   },
   {
    "duration": 7,
    "start_time": "2023-06-28T05:24:30.668Z"
   },
   {
    "duration": 1230,
    "start_time": "2023-06-28T06:10:14.304Z"
   },
   {
    "duration": 447,
    "start_time": "2023-06-28T06:10:15.536Z"
   },
   {
    "duration": 51,
    "start_time": "2023-06-28T06:10:15.985Z"
   },
   {
    "duration": 233,
    "start_time": "2023-06-28T06:10:16.039Z"
   },
   {
    "duration": 98,
    "start_time": "2023-06-28T06:10:16.273Z"
   },
   {
    "duration": 13,
    "start_time": "2023-06-28T06:10:16.373Z"
   },
   {
    "duration": 46,
    "start_time": "2023-06-28T06:10:16.388Z"
   },
   {
    "duration": 18,
    "start_time": "2023-06-28T06:10:16.436Z"
   },
   {
    "duration": 43,
    "start_time": "2023-06-28T06:10:16.456Z"
   },
   {
    "duration": 5,
    "start_time": "2023-06-28T06:10:16.502Z"
   },
   {
    "duration": 313,
    "start_time": "2023-06-28T06:10:16.509Z"
   },
   {
    "duration": 0,
    "start_time": "2023-06-28T06:10:16.825Z"
   },
   {
    "duration": 0,
    "start_time": "2023-06-28T06:10:16.826Z"
   },
   {
    "duration": 6,
    "start_time": "2023-06-28T06:10:45.894Z"
   },
   {
    "duration": 54,
    "start_time": "2023-06-28T06:10:46.715Z"
   },
   {
    "duration": 4,
    "start_time": "2023-06-28T06:11:11.333Z"
   },
   {
    "duration": 178,
    "start_time": "2023-06-28T06:11:12.483Z"
   },
   {
    "duration": 7,
    "start_time": "2023-06-28T06:11:27.357Z"
   },
   {
    "duration": 206,
    "start_time": "2023-06-28T06:11:28.349Z"
   },
   {
    "duration": 6,
    "start_time": "2023-06-28T06:12:09.207Z"
   },
   {
    "duration": 73,
    "start_time": "2023-06-28T06:12:10.086Z"
   },
   {
    "duration": 5,
    "start_time": "2023-06-28T06:12:30.372Z"
   },
   {
    "duration": 209,
    "start_time": "2023-06-28T06:12:31.145Z"
   },
   {
    "duration": 31,
    "start_time": "2023-06-28T06:12:32.829Z"
   },
   {
    "duration": 66,
    "start_time": "2023-06-28T06:12:34.000Z"
   },
   {
    "duration": 15,
    "start_time": "2023-06-28T06:19:02.710Z"
   },
   {
    "duration": 16,
    "start_time": "2023-06-28T06:19:10.530Z"
   },
   {
    "duration": 17,
    "start_time": "2023-06-28T06:19:13.822Z"
   },
   {
    "duration": 11,
    "start_time": "2023-06-28T06:19:30.850Z"
   },
   {
    "duration": 6,
    "start_time": "2023-06-28T06:20:52.809Z"
   },
   {
    "duration": 122,
    "start_time": "2023-06-28T06:20:54.330Z"
   },
   {
    "duration": 5,
    "start_time": "2023-06-28T06:21:02.293Z"
   },
   {
    "duration": 29,
    "start_time": "2023-06-28T06:21:03.093Z"
   },
   {
    "duration": 27,
    "start_time": "2023-06-28T06:21:04.430Z"
   },
   {
    "duration": 21,
    "start_time": "2023-06-28T06:21:06.142Z"
   },
   {
    "duration": 3,
    "start_time": "2023-06-28T08:12:44.722Z"
   },
   {
    "duration": 13,
    "start_time": "2023-06-28T08:15:15.349Z"
   },
   {
    "duration": 3,
    "start_time": "2023-06-28T08:15:18.713Z"
   },
   {
    "duration": 3,
    "start_time": "2023-06-28T08:15:19.641Z"
   },
   {
    "duration": 3,
    "start_time": "2023-06-28T08:15:57.456Z"
   },
   {
    "duration": 4,
    "start_time": "2023-06-28T08:17:05.668Z"
   },
   {
    "duration": 3,
    "start_time": "2023-06-28T08:17:11.688Z"
   },
   {
    "duration": 4,
    "start_time": "2023-06-28T08:18:14.401Z"
   },
   {
    "duration": 4,
    "start_time": "2023-06-28T08:18:33.209Z"
   },
   {
    "duration": 219,
    "start_time": "2023-06-28T08:22:13.919Z"
   },
   {
    "duration": 7,
    "start_time": "2023-06-28T08:22:31.710Z"
   },
   {
    "duration": 5,
    "start_time": "2023-06-28T08:22:40.164Z"
   },
   {
    "duration": 5,
    "start_time": "2023-06-28T08:22:43.114Z"
   },
   {
    "duration": 5,
    "start_time": "2023-06-28T08:22:58.863Z"
   },
   {
    "duration": 9,
    "start_time": "2023-06-28T08:23:08.224Z"
   },
   {
    "duration": 5,
    "start_time": "2023-06-28T08:23:57.546Z"
   },
   {
    "duration": 48,
    "start_time": "2023-06-28T08:23:58.310Z"
   },
   {
    "duration": 109,
    "start_time": "2023-06-28T08:24:04.748Z"
   },
   {
    "duration": 3,
    "start_time": "2023-06-28T08:24:16.347Z"
   },
   {
    "duration": 16,
    "start_time": "2023-06-28T08:24:16.918Z"
   },
   {
    "duration": 18,
    "start_time": "2023-06-28T08:24:17.502Z"
   },
   {
    "duration": 16,
    "start_time": "2023-06-28T08:24:17.931Z"
   },
   {
    "duration": 347,
    "start_time": "2023-06-28T08:30:41.665Z"
   },
   {
    "duration": 5,
    "start_time": "2023-06-28T08:30:45.222Z"
   },
   {
    "duration": 148,
    "start_time": "2023-06-28T08:30:46.306Z"
   },
   {
    "duration": 5,
    "start_time": "2023-06-28T08:31:02.609Z"
   },
   {
    "duration": 16,
    "start_time": "2023-06-28T08:31:03.406Z"
   },
   {
    "duration": 21,
    "start_time": "2023-06-28T08:31:10.629Z"
   },
   {
    "duration": 5,
    "start_time": "2023-06-28T08:31:45.355Z"
   },
   {
    "duration": 21,
    "start_time": "2023-06-28T08:31:46.343Z"
   },
   {
    "duration": 17,
    "start_time": "2023-06-28T08:31:50.258Z"
   },
   {
    "duration": 16,
    "start_time": "2023-06-28T08:31:52.825Z"
   },
   {
    "duration": 43,
    "start_time": "2023-06-28T08:32:38.811Z"
   },
   {
    "duration": 18,
    "start_time": "2023-06-28T08:32:49.940Z"
   },
   {
    "duration": 2,
    "start_time": "2023-06-28T08:32:59.844Z"
   },
   {
    "duration": 4,
    "start_time": "2023-06-28T08:34:48.421Z"
   },
   {
    "duration": 4,
    "start_time": "2023-06-28T08:47:27.960Z"
   },
   {
    "duration": 6,
    "start_time": "2023-06-28T08:48:16.289Z"
   },
   {
    "duration": 716,
    "start_time": "2023-06-28T09:01:49.241Z"
   },
   {
    "duration": 26,
    "start_time": "2023-06-28T09:05:36.741Z"
   },
   {
    "duration": 14,
    "start_time": "2023-06-28T09:05:53.314Z"
   },
   {
    "duration": 3,
    "start_time": "2023-06-28T09:06:02.014Z"
   },
   {
    "duration": 5,
    "start_time": "2023-06-28T09:06:03.362Z"
   },
   {
    "duration": 19,
    "start_time": "2023-06-28T09:06:07.366Z"
   },
   {
    "duration": 3,
    "start_time": "2023-06-28T09:06:28.627Z"
   },
   {
    "duration": 1392,
    "start_time": "2023-06-28T09:06:31.973Z"
   },
   {
    "duration": 3,
    "start_time": "2023-06-28T09:06:38.111Z"
   },
   {
    "duration": 1410,
    "start_time": "2023-06-28T09:06:43.813Z"
   },
   {
    "duration": 5,
    "start_time": "2023-06-28T09:07:14.142Z"
   },
   {
    "duration": 215,
    "start_time": "2023-06-28T09:07:14.844Z"
   },
   {
    "duration": 18,
    "start_time": "2023-06-28T09:07:15.611Z"
   },
   {
    "duration": 18,
    "start_time": "2023-06-28T09:07:16.114Z"
   },
   {
    "duration": 4290,
    "start_time": "2023-06-28T09:07:19.715Z"
   },
   {
    "duration": 4186,
    "start_time": "2023-06-28T09:07:31.472Z"
   },
   {
    "duration": 4447,
    "start_time": "2023-06-28T09:10:05.874Z"
   },
   {
    "duration": 4279,
    "start_time": "2023-06-28T09:10:20.906Z"
   },
   {
    "duration": 1416,
    "start_time": "2023-06-28T09:22:42.485Z"
   },
   {
    "duration": 4261,
    "start_time": "2023-06-28T09:23:02.529Z"
   },
   {
    "duration": 4181,
    "start_time": "2023-06-28T09:23:20.188Z"
   },
   {
    "duration": 4,
    "start_time": "2023-06-28T09:24:10.263Z"
   },
   {
    "duration": 3,
    "start_time": "2023-06-28T09:24:13.632Z"
   },
   {
    "duration": 4123,
    "start_time": "2023-06-28T09:24:15.729Z"
   },
   {
    "duration": 4440,
    "start_time": "2023-06-28T09:24:47.286Z"
   },
   {
    "duration": 4221,
    "start_time": "2023-06-28T09:25:00.396Z"
   },
   {
    "duration": 1506,
    "start_time": "2023-06-28T09:27:50.043Z"
   },
   {
    "duration": 4501,
    "start_time": "2023-06-28T09:27:59.770Z"
   },
   {
    "duration": 1460,
    "start_time": "2023-06-28T09:31:07.394Z"
   },
   {
    "duration": 1390,
    "start_time": "2023-06-28T09:31:19.410Z"
   },
   {
    "duration": 4249,
    "start_time": "2023-06-28T09:31:34.181Z"
   },
   {
    "duration": 4273,
    "start_time": "2023-06-28T09:31:47.721Z"
   },
   {
    "duration": 4213,
    "start_time": "2023-06-28T09:32:59.609Z"
   },
   {
    "duration": 4103,
    "start_time": "2023-06-28T09:35:53.010Z"
   },
   {
    "duration": 4318,
    "start_time": "2023-06-28T09:36:16.970Z"
   },
   {
    "duration": 4209,
    "start_time": "2023-06-28T09:37:06.991Z"
   },
   {
    "duration": 4,
    "start_time": "2023-06-28T09:37:42.708Z"
   },
   {
    "duration": 4282,
    "start_time": "2023-06-28T09:37:44.073Z"
   },
   {
    "duration": 4,
    "start_time": "2023-06-28T09:38:15.936Z"
   },
   {
    "duration": 4500,
    "start_time": "2023-06-28T09:38:17.370Z"
   },
   {
    "duration": 100,
    "start_time": "2023-06-28T13:26:58.404Z"
   },
   {
    "duration": 73,
    "start_time": "2023-06-28T13:27:06.627Z"
   },
   {
    "duration": 628,
    "start_time": "2023-06-28T13:28:09.316Z"
   },
   {
    "duration": 14,
    "start_time": "2023-06-28T13:28:13.887Z"
   },
   {
    "duration": 12,
    "start_time": "2023-06-28T13:31:16.181Z"
   },
   {
    "duration": 1712,
    "start_time": "2023-06-28T13:31:23.481Z"
   },
   {
    "duration": 1559,
    "start_time": "2023-06-28T13:33:39.052Z"
   },
   {
    "duration": 2418,
    "start_time": "2023-06-28T13:33:40.613Z"
   },
   {
    "duration": 64,
    "start_time": "2023-06-28T13:33:43.033Z"
   },
   {
    "duration": 202,
    "start_time": "2023-06-28T13:33:43.099Z"
   },
   {
    "duration": 86,
    "start_time": "2023-06-28T13:33:43.303Z"
   },
   {
    "duration": 30,
    "start_time": "2023-06-28T13:33:43.391Z"
   },
   {
    "duration": 64,
    "start_time": "2023-06-28T13:33:43.422Z"
   },
   {
    "duration": 9,
    "start_time": "2023-06-28T13:33:43.488Z"
   },
   {
    "duration": 44,
    "start_time": "2023-06-28T13:33:43.500Z"
   },
   {
    "duration": 5,
    "start_time": "2023-06-28T13:33:43.548Z"
   },
   {
    "duration": 96,
    "start_time": "2023-06-28T13:33:43.555Z"
   },
   {
    "duration": 65,
    "start_time": "2023-06-28T13:33:43.654Z"
   },
   {
    "duration": 94,
    "start_time": "2023-06-28T13:33:43.721Z"
   },
   {
    "duration": 3,
    "start_time": "2023-06-28T13:33:43.818Z"
   },
   {
    "duration": 91,
    "start_time": "2023-06-28T13:33:43.823Z"
   },
   {
    "duration": 19,
    "start_time": "2023-06-28T13:33:43.916Z"
   },
   {
    "duration": 8,
    "start_time": "2023-06-28T13:33:43.938Z"
   },
   {
    "duration": 3072,
    "start_time": "2023-06-28T13:33:43.950Z"
   }
  ],
  "kernelspec": {
   "display_name": "Python 3 (ipykernel)",
   "language": "python",
   "name": "python3"
  },
  "language_info": {
   "codemirror_mode": {
    "name": "ipython",
    "version": 3
   },
   "file_extension": ".py",
   "mimetype": "text/x-python",
   "name": "python",
   "nbconvert_exporter": "python",
   "pygments_lexer": "ipython3",
   "version": "3.9.16"
  },
  "toc": {
   "base_numbering": 1,
   "nav_menu": {},
   "number_sections": true,
   "sideBar": true,
   "skip_h1_title": true,
   "title_cell": "Table of Contents",
   "title_sidebar": "Contents",
   "toc_cell": false,
   "toc_position": {},
   "toc_section_display": true,
   "toc_window_display": false
  }
 },
 "nbformat": 4,
 "nbformat_minor": 2
}
