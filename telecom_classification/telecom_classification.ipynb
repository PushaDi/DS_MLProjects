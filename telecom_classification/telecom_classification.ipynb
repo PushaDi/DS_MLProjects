{
 "cells": [
  {
   "cell_type": "markdown",
   "metadata": {},
   "source": [
    "# Рекомендация тарифов"
   ]
  },
  {
   "cell_type": "markdown",
   "metadata": {},
   "source": [
    "# Введение"
   ]
  },
  {
   "cell_type": "markdown",
   "metadata": {},
   "source": [
    "Для выполнения этого задания, нам необходимо будет решить задачу классификации, поскольку в зависимости от признаков нам нужно определить наиболее подходящий из двух тарифов.\n",
    "\n",
    "Сначала изучим данные, затем разделим их на три выборки:\n",
    "- тренировочную\n",
    "- валидационную\n",
    "- тестовую\n",
    "\n",
    "После этого, исследуем три модели:\n",
    "- решающее дерево\n",
    "- случайный лес\n",
    "- логистическая регрессия\n",
    "\n",
    "Для первых двух моделей рассмотрим различные гиперпараметры, чтобы найти наилучший результат.\n",
    "После этого сравним результаты прогноза моделей с результатом константной модели, которая в любом случае проставит всем полученным данным результат тарифа ультра (1)."
   ]
  },
  {
   "cell_type": "markdown",
   "metadata": {},
   "source": [
    "## Откройте и изучите файл"
   ]
  },
  {
   "cell_type": "code",
   "execution_count": 1,
   "metadata": {},
   "outputs": [],
   "source": [
    "import pandas as pd\n",
    "import numpy as np\n",
    "from sklearn.model_selection import train_test_split\n",
    "from sklearn.metrics import accuracy_score\n",
    "from sklearn.model_selection import GridSearchCV\n",
    "from sklearn.tree import DecisionTreeClassifier\n",
    "from sklearn.ensemble import RandomForestClassifier\n",
    "from sklearn.linear_model import LogisticRegression\n",
    "from sklearn.dummy import DummyClassifier"
   ]
  },
  {
   "cell_type": "markdown",
   "metadata": {},
   "source": [
    "Загрузим данные и рассмотрим их. "
   ]
  },
  {
   "cell_type": "code",
   "execution_count": 2,
   "metadata": {},
   "outputs": [
    {
     "name": "stdout",
     "output_type": "stream",
     "text": [
      "<class 'pandas.core.frame.DataFrame'>\n",
      "RangeIndex: 3214 entries, 0 to 3213\n",
      "Data columns (total 5 columns):\n",
      " #   Column    Non-Null Count  Dtype  \n",
      "---  ------    --------------  -----  \n",
      " 0   calls     3214 non-null   float64\n",
      " 1   minutes   3214 non-null   float64\n",
      " 2   messages  3214 non-null   float64\n",
      " 3   mb_used   3214 non-null   float64\n",
      " 4   is_ultra  3214 non-null   int64  \n",
      "dtypes: float64(4), int64(1)\n",
      "memory usage: 125.7 KB\n",
      "None\n"
     ]
    },
    {
     "data": {
      "text/html": [
       "<div>\n",
       "<style scoped>\n",
       "    .dataframe tbody tr th:only-of-type {\n",
       "        vertical-align: middle;\n",
       "    }\n",
       "\n",
       "    .dataframe tbody tr th {\n",
       "        vertical-align: top;\n",
       "    }\n",
       "\n",
       "    .dataframe thead th {\n",
       "        text-align: right;\n",
       "    }\n",
       "</style>\n",
       "<table border=\"1\" class=\"dataframe\">\n",
       "  <thead>\n",
       "    <tr style=\"text-align: right;\">\n",
       "      <th></th>\n",
       "      <th>calls</th>\n",
       "      <th>minutes</th>\n",
       "      <th>messages</th>\n",
       "      <th>mb_used</th>\n",
       "      <th>is_ultra</th>\n",
       "    </tr>\n",
       "  </thead>\n",
       "  <tbody>\n",
       "    <tr>\n",
       "      <th>0</th>\n",
       "      <td>40.0</td>\n",
       "      <td>311.90</td>\n",
       "      <td>83.0</td>\n",
       "      <td>19915.42</td>\n",
       "      <td>0</td>\n",
       "    </tr>\n",
       "    <tr>\n",
       "      <th>1</th>\n",
       "      <td>85.0</td>\n",
       "      <td>516.75</td>\n",
       "      <td>56.0</td>\n",
       "      <td>22696.96</td>\n",
       "      <td>0</td>\n",
       "    </tr>\n",
       "    <tr>\n",
       "      <th>2</th>\n",
       "      <td>77.0</td>\n",
       "      <td>467.66</td>\n",
       "      <td>86.0</td>\n",
       "      <td>21060.45</td>\n",
       "      <td>0</td>\n",
       "    </tr>\n",
       "    <tr>\n",
       "      <th>3</th>\n",
       "      <td>106.0</td>\n",
       "      <td>745.53</td>\n",
       "      <td>81.0</td>\n",
       "      <td>8437.39</td>\n",
       "      <td>1</td>\n",
       "    </tr>\n",
       "    <tr>\n",
       "      <th>4</th>\n",
       "      <td>66.0</td>\n",
       "      <td>418.74</td>\n",
       "      <td>1.0</td>\n",
       "      <td>14502.75</td>\n",
       "      <td>0</td>\n",
       "    </tr>\n",
       "    <tr>\n",
       "      <th>5</th>\n",
       "      <td>58.0</td>\n",
       "      <td>344.56</td>\n",
       "      <td>21.0</td>\n",
       "      <td>15823.37</td>\n",
       "      <td>0</td>\n",
       "    </tr>\n",
       "    <tr>\n",
       "      <th>6</th>\n",
       "      <td>57.0</td>\n",
       "      <td>431.64</td>\n",
       "      <td>20.0</td>\n",
       "      <td>3738.90</td>\n",
       "      <td>1</td>\n",
       "    </tr>\n",
       "    <tr>\n",
       "      <th>7</th>\n",
       "      <td>15.0</td>\n",
       "      <td>132.40</td>\n",
       "      <td>6.0</td>\n",
       "      <td>21911.60</td>\n",
       "      <td>0</td>\n",
       "    </tr>\n",
       "    <tr>\n",
       "      <th>8</th>\n",
       "      <td>7.0</td>\n",
       "      <td>43.39</td>\n",
       "      <td>3.0</td>\n",
       "      <td>2538.67</td>\n",
       "      <td>1</td>\n",
       "    </tr>\n",
       "    <tr>\n",
       "      <th>9</th>\n",
       "      <td>90.0</td>\n",
       "      <td>665.41</td>\n",
       "      <td>38.0</td>\n",
       "      <td>17358.61</td>\n",
       "      <td>0</td>\n",
       "    </tr>\n",
       "  </tbody>\n",
       "</table>\n",
       "</div>"
      ],
      "text/plain": [
       "   calls  minutes  messages   mb_used  is_ultra\n",
       "0   40.0   311.90      83.0  19915.42         0\n",
       "1   85.0   516.75      56.0  22696.96         0\n",
       "2   77.0   467.66      86.0  21060.45         0\n",
       "3  106.0   745.53      81.0   8437.39         1\n",
       "4   66.0   418.74       1.0  14502.75         0\n",
       "5   58.0   344.56      21.0  15823.37         0\n",
       "6   57.0   431.64      20.0   3738.90         1\n",
       "7   15.0   132.40       6.0  21911.60         0\n",
       "8    7.0    43.39       3.0   2538.67         1\n",
       "9   90.0   665.41      38.0  17358.61         0"
      ]
     },
     "execution_count": 2,
     "metadata": {},
     "output_type": "execute_result"
    }
   ],
   "source": [
    "data = pd.read_csv('/datasets/users_behavior.csv')\n",
    "print(data.info())\n",
    "data.head(10)"
   ]
  },
  {
   "cell_type": "markdown",
   "metadata": {},
   "source": [
    "Пропусков в данных нет, кроме того, данные уже предобработаны, следовательно проверять их не нужно.\n",
    "В данных нам передано 3214 объектов, которые имеют 5 признаков:\n",
    "- количество звонков\n",
    "- количество использованных минут\n",
    "- количество сообщений\n",
    "- количество Мб интернета\n",
    "- вид тарифа (1 - ультра, 0 - смарт).\n",
    "\n",
    "За целевой признак примем вид тарифа, все остальные признаки будут использоваться для обучения."
   ]
  },
  {
   "cell_type": "markdown",
   "metadata": {},
   "source": [
    "## Разбейте данные на выборки"
   ]
  },
  {
   "cell_type": "markdown",
   "metadata": {},
   "source": [
    "Разобъем данные на три выборки.\n",
    "\n",
    "В первой выборке, которая составит 60%, будут данные для тренировки. Во второй (20%) - данные для валидации обученной модели. Третья выборка (тоже 20%) понадобится нам для финального тестирования лучшей модели."
   ]
  },
  {
   "cell_type": "code",
   "execution_count": 3,
   "metadata": {},
   "outputs": [
    {
     "name": "stdout",
     "output_type": "stream",
     "text": [
      "Размер тестовой выборки: (643, 4)\n",
      "Размер валидационной выборки: (643, 4)\n",
      "Размер тренировочной выборки: (1928, 4)\n"
     ]
    }
   ],
   "source": [
    "target = data['is_ultra']\n",
    "features = data.drop('is_ultra', axis=1)\n",
    "\n",
    "features_train, features_test, target_train, target_test = train_test_split(\n",
    "    features,\n",
    "    target,\n",
    "    test_size=0.2,\n",
    "    random_state=12345\n",
    ")\n",
    "\n",
    "print(f'Размер тестовой выборки: {features_test.shape}')\n",
    "\n",
    "features_train, features_valid, target_train, target_valid = train_test_split(\n",
    "    features_train,\n",
    "    target_train,\n",
    "    test_size=0.25,\n",
    "    random_state=12345\n",
    ")\n",
    "\n",
    "print(f'Размер валидационной выборки: {features_valid.shape}')\n",
    "print(f'Размер тренировочной выборки: {features_train.shape}')\n"
   ]
  },
  {
   "cell_type": "markdown",
   "metadata": {},
   "source": [
    "## Исследуйте модели"
   ]
  },
  {
   "cell_type": "markdown",
   "metadata": {},
   "source": [
    "Как было сказано ранее, для прогноза проверим три модели:\n",
    "- решающее дерево\n",
    "- случайный лес\n",
    "- логистическая регрессия\n",
    "\n",
    "Во всех случаях, пороговым значением доли правильных ответов является 0.75, как указано в целях проекта.\n",
    "\n",
    "Создадим словарь, куда впоследствии мы сохраним самые лучшие подобранные модели."
   ]
  },
  {
   "cell_type": "code",
   "execution_count": 4,
   "metadata": {},
   "outputs": [],
   "source": [
    "best_models={}"
   ]
  },
  {
   "cell_type": "markdown",
   "metadata": {},
   "source": [
    "Для перебора гиперпараметров моделей будем использовать GridSearchCV."
   ]
  },
  {
   "cell_type": "markdown",
   "metadata": {},
   "source": [
    "### Решающее дерево"
   ]
  },
  {
   "cell_type": "code",
   "execution_count": 5,
   "metadata": {},
   "outputs": [],
   "source": [
    "model_tree = DecisionTreeClassifier(random_state = 12345)"
   ]
  },
  {
   "cell_type": "markdown",
   "metadata": {},
   "source": [
    "Рассмотрим входящие в модель гиперпараметры."
   ]
  },
  {
   "cell_type": "code",
   "execution_count": 6,
   "metadata": {},
   "outputs": [
    {
     "data": {
      "text/plain": [
       "dict_keys(['ccp_alpha', 'class_weight', 'criterion', 'max_depth', 'max_features', 'max_leaf_nodes', 'min_impurity_decrease', 'min_impurity_split', 'min_samples_leaf', 'min_samples_split', 'min_weight_fraction_leaf', 'random_state', 'splitter'])"
      ]
     },
     "execution_count": 6,
     "metadata": {},
     "output_type": "execute_result"
    }
   ],
   "source": [
    "model_tree.get_params().keys()"
   ]
  },
  {
   "cell_type": "markdown",
   "metadata": {},
   "source": [
    "Выбирая наилучшую модель типа \"Решающее дерево\", будем изменять следующие гиперпараметры:\n",
    "- `max_depth` - максимальная глубина\n",
    "- `criterion` - функция для измерения качества разбиения \n",
    "- `min_samples_split` - минимальное количество экземпляров, которое может содержаться в узле для его дальнейшего разбиения\n",
    "- `min_samples_leaf` - минимальное количество экземпляров, которое может содержаться в листе"
   ]
  },
  {
   "cell_type": "code",
   "execution_count": 7,
   "metadata": {},
   "outputs": [
    {
     "name": "stdout",
     "output_type": "stream",
     "text": [
      "Наилучшие параметры для модели Решающего дерева:\n",
      "criterion : gini\n",
      "max_depth : 3\n",
      "min_samples_leaf : 2\n",
      "min_samples_split : 2\n",
      "Доля правильных ответов для данной модели: 0.8101723327664812\n"
     ]
    }
   ],
   "source": [
    "tree_parameters = {\n",
    "    'criterion' : ['gini', 'entropy'],\n",
    "    'max_depth' : range(1,11),\n",
    "    'min_samples_leaf' : range(2,11,2),\n",
    "    'min_samples_split' : range(2,11,2)\n",
    "}\n",
    "\n",
    "grid_tree = GridSearchCV(model_tree, tree_parameters, cv=3)\n",
    "\n",
    "grid_tree.fit(features_train, target_train)\n",
    "best_models['Решающее дерево'] = grid_tree.best_estimator_\n",
    "print('Наилучшие параметры для модели Решающего дерева:')\n",
    "for param_key in grid_tree.best_params_.keys():\n",
    "    print(f'{param_key} : {grid_tree.best_params_[param_key]}')\n",
    "print(f'Доля правильных ответов для данной модели: {grid_tree.best_score_}')"
   ]
  },
  {
   "cell_type": "markdown",
   "metadata": {},
   "source": [
    "Проверим данную модель на валидационной выборке."
   ]
  },
  {
   "cell_type": "code",
   "execution_count": 8,
   "metadata": {},
   "outputs": [
    {
     "name": "stdout",
     "output_type": "stream",
     "text": [
      "Доля правильных ответов для лучшей модели решающего дерева для валидационной выборки: 0.7651632970451011\n"
     ]
    }
   ],
   "source": [
    "predictions = grid_tree.best_estimator_.predict(features_valid)\n",
    "result = accuracy_score(target_valid, predictions)\n",
    "print(f'Доля правильных ответов для лучшей модели решающего дерева для валидационной выборки: {result}')"
   ]
  },
  {
   "cell_type": "markdown",
   "metadata": {},
   "source": [
    "В ходе исследования, лучшей моделью Решающего дерева оказалась модель со следующими параметрами:\n",
    "- `criterion`: критерий Джини\n",
    "- `max_depth`: 3\n",
    "- `min_samples_split`: 2\n",
    "- `min_samples_leaf` : 2\n",
    "\n",
    "В этом случае доля правильных ответов модели составляет на валидационной выборке составила 0.76."
   ]
  },
  {
   "cell_type": "markdown",
   "metadata": {},
   "source": [
    "### Случайный лес"
   ]
  },
  {
   "cell_type": "code",
   "execution_count": 9,
   "metadata": {},
   "outputs": [],
   "source": [
    "model_forest = RandomForestClassifier(random_state = 12345)"
   ]
  },
  {
   "cell_type": "markdown",
   "metadata": {},
   "source": [
    "Рассмотрим входящие в модель гиперпараметры."
   ]
  },
  {
   "cell_type": "code",
   "execution_count": 10,
   "metadata": {},
   "outputs": [
    {
     "data": {
      "text/plain": [
       "dict_keys(['bootstrap', 'ccp_alpha', 'class_weight', 'criterion', 'max_depth', 'max_features', 'max_leaf_nodes', 'max_samples', 'min_impurity_decrease', 'min_impurity_split', 'min_samples_leaf', 'min_samples_split', 'min_weight_fraction_leaf', 'n_estimators', 'n_jobs', 'oob_score', 'random_state', 'verbose', 'warm_start'])"
      ]
     },
     "execution_count": 10,
     "metadata": {},
     "output_type": "execute_result"
    }
   ],
   "source": [
    "model_forest.get_params().keys()"
   ]
  },
  {
   "cell_type": "markdown",
   "metadata": {},
   "source": [
    "В случае с моделью \"Случайный лес\", для выбора наилучшей модели будем помимо тех же параметров одного дерева будем перебирать `n_estimators` - количество деревьев в модели."
   ]
  },
  {
   "cell_type": "code",
   "execution_count": 11,
   "metadata": {
    "scrolled": true
   },
   "outputs": [
    {
     "name": "stdout",
     "output_type": "stream",
     "text": [
      "Наилучшие параметры для модели Решающего дерева:\n",
      "criterion : entropy\n",
      "max_depth : 9\n",
      "min_samples_leaf : 8\n",
      "min_samples_split : 2\n",
      "n_estimators : 30\n",
      "Доля правильных ответов для данной модели: 0.822624509656675\n"
     ]
    }
   ],
   "source": [
    "forest_parameters = {\n",
    "    'n_estimators' : range(10,51,10),\n",
    "    'criterion' : ['gini', 'entropy'],\n",
    "    'max_depth' : range(1,11),\n",
    "    'min_samples_leaf' : range(2,11,2),\n",
    "    'min_samples_split' : range(2,11,2)\n",
    "}\n",
    "\n",
    "grid_forest = GridSearchCV(model_forest, forest_parameters, cv=3)\n",
    "\n",
    "grid_forest.fit(features_train, target_train)\n",
    "best_models['Случайный лес'] = grid_forest.best_estimator_\n",
    "print('Наилучшие параметры для модели Решающего дерева:')\n",
    "for param_key in grid_forest.best_params_.keys():\n",
    "    print(f'{param_key} : {grid_forest.best_params_[param_key]}')\n",
    "print(f'Доля правильных ответов для данной модели: {grid_forest.best_score_}')"
   ]
  },
  {
   "cell_type": "markdown",
   "metadata": {},
   "source": [
    "Проверим данную модель на валидационной выборке."
   ]
  },
  {
   "cell_type": "code",
   "execution_count": 12,
   "metadata": {},
   "outputs": [
    {
     "name": "stdout",
     "output_type": "stream",
     "text": [
      "Доля правильных ответов для лучшей модели случайного леса для валидационной выборки: 0.7838258164852255\n"
     ]
    }
   ],
   "source": [
    "predictions = grid_forest.best_estimator_.predict(features_valid)\n",
    "result = accuracy_score(target_valid, predictions)\n",
    "print(f'Доля правильных ответов для лучшей модели случайного леса для валидационной выборки: {result}')"
   ]
  },
  {
   "cell_type": "markdown",
   "metadata": {},
   "source": [
    "***Вывод***:\n",
    "\n",
    "В ходе исследования, лучшей моделью Случайного леса оказалась модель со следующими параметрами:\n",
    "- `criterion`: энтропийный критерий\n",
    "- `max_depth`: 9\n",
    "- `min_samples_split`: 8\n",
    "- `min_samples_leaf` : 2\n",
    "- `n_estimators` : 30\n",
    "\n",
    "В этом случае доля правильных ответов модели составляет на валидационной выборке составила 0.78."
   ]
  },
  {
   "cell_type": "markdown",
   "metadata": {},
   "source": [
    "### Модель логистической регрессии"
   ]
  },
  {
   "cell_type": "code",
   "execution_count": 13,
   "metadata": {},
   "outputs": [],
   "source": [
    "model_logreg = LogisticRegression(random_state=12345, solver = 'liblinear')"
   ]
  },
  {
   "cell_type": "markdown",
   "metadata": {},
   "source": [
    "Рассмотрим входящие в модель гиперпараметры."
   ]
  },
  {
   "cell_type": "code",
   "execution_count": 14,
   "metadata": {},
   "outputs": [
    {
     "data": {
      "text/plain": [
       "dict_keys(['C', 'class_weight', 'dual', 'fit_intercept', 'intercept_scaling', 'l1_ratio', 'max_iter', 'multi_class', 'n_jobs', 'penalty', 'random_state', 'solver', 'tol', 'verbose', 'warm_start'])"
      ]
     },
     "execution_count": 14,
     "metadata": {},
     "output_type": "execute_result"
    }
   ],
   "source": [
    "model_logreg.get_params().keys()"
   ]
  },
  {
   "cell_type": "markdown",
   "metadata": {},
   "source": [
    "Выбирая наилучшую модель логистической регрессии , будем изменять следующие гиперпараметры:\n",
    "- `C` - степень регуляризации\n",
    "- `penalty` - тип регуляризации\n",
    "- `solver` - решатель"
   ]
  },
  {
   "cell_type": "code",
   "execution_count": 15,
   "metadata": {
    "scrolled": true
   },
   "outputs": [
    {
     "name": "stdout",
     "output_type": "stream",
     "text": [
      "Наилучшие параметры для модели Логистической регресии:\n",
      "C : 4.281332398719396\n",
      "penalty : l1\n",
      "Доля правильных ответов для данной модели: 0.7515572286578522\n"
     ]
    }
   ],
   "source": [
    "logreg_parameters = {\n",
    "    'C' : np.logspace(-4, 4, 20),\n",
    "    'penalty' : ['l1', 'l2']\n",
    "}\n",
    "\n",
    "grid_logreg = GridSearchCV(model_logreg, logreg_parameters, cv=3)\n",
    "\n",
    "grid_logreg.fit(features_train, target_train)\n",
    "best_models['Логистическая регрессия'] = grid_logreg.best_estimator_\n",
    "print('Наилучшие параметры для модели Логистической регресии:')\n",
    "for param_key in grid_logreg.best_params_.keys():\n",
    "    print(f'{param_key} : {grid_logreg.best_params_[param_key]}')\n",
    "print(f'Доля правильных ответов для данной модели: {grid_logreg.best_score_}')"
   ]
  },
  {
   "cell_type": "markdown",
   "metadata": {},
   "source": [
    "Проверим данную модель на валидационной выборке."
   ]
  },
  {
   "cell_type": "code",
   "execution_count": 16,
   "metadata": {},
   "outputs": [
    {
     "name": "stdout",
     "output_type": "stream",
     "text": [
      "Доля правильных ответов для лучшей модели логистической регрессии для валидационной выборки: 0.7278382581648523\n"
     ]
    }
   ],
   "source": [
    "predictions = grid_logreg.best_estimator_.predict(features_valid)\n",
    "result = accuracy_score(target_valid, predictions)\n",
    "print(f'Доля правильных ответов для лучшей модели логистической регрессии для валидационной выборки: {result}')"
   ]
  },
  {
   "cell_type": "markdown",
   "metadata": {},
   "source": [
    "***Вывод***:\n",
    "\n",
    "В ходе исследования, лучшей моделью Случайного леса оказалась модель со следующими параметрами:\n",
    "- `С`: 4.281332398719396\n",
    "- `penalty`: l1 (регрессия Лассо)\n",
    "\n",
    "В этом случае доля правильных ответов модели составляет на валидационной выборке составила 0.72."
   ]
  },
  {
   "cell_type": "markdown",
   "metadata": {},
   "source": [
    "### Выбор наилучшей модели."
   ]
  },
  {
   "cell_type": "markdown",
   "metadata": {},
   "source": [
    "На основе проведенных испытаний, лучше всего проявила себя модель типа \"Случайный лес\" со следующими параметрами:\n",
    "- `criterion`: энтропийный критерий\n",
    "- `max_depth`: 9\n",
    "- `min_samples_split`: 8\n",
    "- `min_samples_leaf` : 2\n",
    "- `n_estimators` : 30\n",
    "\n",
    "В этом случае доля правильных ответов модели составляет на валидационной выборке составила 0.78.\n",
    "\n",
    "Так же, пороговое значение преодолела модель решающего дерева со следующими параметрами:\n",
    "- `criterion`: критерий Джини\n",
    "- `max_depth`: 3\n",
    "- `min_samples_split`: 2\n",
    "- `min_samples_leaf` : 2\n",
    "\n",
    "В этом случае доля правильных ответов модели составляет на валидационной выборке составила 0.76."
   ]
  },
  {
   "cell_type": "markdown",
   "metadata": {},
   "source": [
    "## Проверьте модель на тестовой выборке"
   ]
  },
  {
   "cell_type": "markdown",
   "metadata": {},
   "source": [
    "Проверим все три модели на тестовой выборке."
   ]
  },
  {
   "cell_type": "code",
   "execution_count": 20,
   "metadata": {},
   "outputs": [
    {
     "name": "stdout",
     "output_type": "stream",
     "text": [
      "Для модели Решающее дерево на тестовой выборке доля правильных ответов составляет: 0.7869362363919129\n",
      "Для модели Случайный лес на тестовой выборке доля правильных ответов составляет: 0.7947122861586314\n",
      "Для модели Логистическая регрессия на тестовой выборке доля правильных ответов составляет: 0.7589424572317263\n"
     ]
    }
   ],
   "source": [
    "for model in best_models:\n",
    "    predictions = best_models[model].predict(features_test)\n",
    "    result = accuracy_score(target_test, predictions)\n",
    "    print(f'Для модели {model} на тестовой выборке доля правильных ответов составляет: {result}')"
   ]
  },
  {
   "cell_type": "markdown",
   "metadata": {},
   "source": [
    "***Вывод***:\n",
    "\n",
    "Как видно из результатов проверки, модель случайного леса дала лучший результат.\n",
    "Стоит отметить, что модель логистической регрессии на тестовой выборке дала результат, превышающий пороговое значение."
   ]
  },
  {
   "cell_type": "markdown",
   "metadata": {},
   "source": [
    "##  Проверка модели на адекватность"
   ]
  },
  {
   "cell_type": "markdown",
   "metadata": {},
   "source": [
    "Для проверки модель на адекватность, сравним ее результаты на тестовой выборке с результатами константной модели, которая для любых признаков предсказывает наиболее частый результат всей выборки."
   ]
  },
  {
   "cell_type": "code",
   "execution_count": 21,
   "metadata": {},
   "outputs": [
    {
     "name": "stdout",
     "output_type": "stream",
     "text": [
      "Для константной модели на тестовой выборке доля правильных ответов составляет: 0.6951788491446346\n"
     ]
    }
   ],
   "source": [
    "model_dummy = DummyClassifier(strategy='most_frequent')\n",
    "model_dummy.fit(features_train, target_train)\n",
    "predictions = model_dummy.predict(features_test)\n",
    "result = accuracy_score(target_test, predictions)\n",
    "print(f'Для константной модели на тестовой выборке доля правильных ответов составляет: {result}')"
   ]
  },
  {
   "cell_type": "markdown",
   "metadata": {},
   "source": [
    "***Вывод***:\n",
    "\n",
    "Как мы видим, константная модель имеет долю правильных ответов 0.69. Следовательно, все рассмотренные выше модели можно считать адекватными."
   ]
  }
 ],
 "metadata": {
  "ExecuteTimeLog": [
   {
    "duration": 389,
    "start_time": "2023-05-16T13:50:24.932Z"
   },
   {
    "duration": 113,
    "start_time": "2023-05-16T13:50:28.071Z"
   },
   {
    "duration": 41,
    "start_time": "2023-05-16T13:50:34.530Z"
   },
   {
    "duration": 50,
    "start_time": "2023-05-16T13:50:48.928Z"
   },
   {
    "duration": 71,
    "start_time": "2023-05-16T13:57:41.429Z"
   },
   {
    "duration": 719,
    "start_time": "2023-05-16T13:57:48.360Z"
   },
   {
    "duration": 9,
    "start_time": "2023-05-16T13:57:51.265Z"
   },
   {
    "duration": 78,
    "start_time": "2023-05-16T13:58:43.860Z"
   },
   {
    "duration": 1069,
    "start_time": "2023-05-16T13:58:59.501Z"
   },
   {
    "duration": 1068,
    "start_time": "2023-05-16T13:59:18.275Z"
   },
   {
    "duration": 52,
    "start_time": "2023-05-16T13:59:19.345Z"
   },
   {
    "duration": 24,
    "start_time": "2023-05-16T13:59:19.398Z"
   },
   {
    "duration": 53,
    "start_time": "2023-05-16T14:01:52.412Z"
   },
   {
    "duration": 118,
    "start_time": "2023-05-16T14:11:45.276Z"
   },
   {
    "duration": 3,
    "start_time": "2023-05-16T14:11:49.428Z"
   },
   {
    "duration": 75,
    "start_time": "2023-05-16T14:11:52.215Z"
   },
   {
    "duration": 221,
    "start_time": "2023-05-16T14:12:02.133Z"
   },
   {
    "duration": 35,
    "start_time": "2023-05-16T14:12:13.431Z"
   },
   {
    "duration": 53,
    "start_time": "2023-05-16T14:14:14.866Z"
   },
   {
    "duration": 32,
    "start_time": "2023-05-16T14:14:17.772Z"
   },
   {
    "duration": 1650,
    "start_time": "2023-05-16T14:19:51.672Z"
   },
   {
    "duration": 46,
    "start_time": "2023-05-16T14:22:54.131Z"
   },
   {
    "duration": 1224,
    "start_time": "2023-05-17T06:40:17.307Z"
   },
   {
    "duration": 131,
    "start_time": "2023-05-17T06:40:20.983Z"
   },
   {
    "duration": 24,
    "start_time": "2023-05-17T06:40:22.331Z"
   },
   {
    "duration": 30,
    "start_time": "2023-05-17T06:40:23.449Z"
   },
   {
    "duration": 175,
    "start_time": "2023-05-17T06:40:25.011Z"
   },
   {
    "duration": 2,
    "start_time": "2023-05-17T06:40:41.997Z"
   },
   {
    "duration": 34,
    "start_time": "2023-05-17T06:40:42.885Z"
   },
   {
    "duration": 53,
    "start_time": "2023-05-17T06:40:46.474Z"
   },
   {
    "duration": 61,
    "start_time": "2023-05-17T06:41:21.103Z"
   },
   {
    "duration": 62,
    "start_time": "2023-05-17T06:43:39.888Z"
   },
   {
    "duration": 1460,
    "start_time": "2023-05-17T06:44:52.316Z"
   },
   {
    "duration": 56,
    "start_time": "2023-05-17T06:45:17.300Z"
   },
   {
    "duration": 38,
    "start_time": "2023-05-17T06:46:26.463Z"
   },
   {
    "duration": 66,
    "start_time": "2023-05-17T06:50:01.067Z"
   },
   {
    "duration": 70,
    "start_time": "2023-05-17T06:51:01.976Z"
   },
   {
    "duration": 3,
    "start_time": "2023-05-17T06:51:43.847Z"
   },
   {
    "duration": 54,
    "start_time": "2023-05-17T06:51:45.326Z"
   },
   {
    "duration": 1450,
    "start_time": "2023-05-17T06:51:47.253Z"
   },
   {
    "duration": 39,
    "start_time": "2023-05-17T06:51:51.786Z"
   },
   {
    "duration": 3,
    "start_time": "2023-05-17T06:52:14.411Z"
   },
   {
    "duration": 8,
    "start_time": "2023-05-17T06:52:20.380Z"
   },
   {
    "duration": 5,
    "start_time": "2023-05-17T06:52:36.286Z"
   },
   {
    "duration": 4,
    "start_time": "2023-05-17T06:52:50.726Z"
   },
   {
    "duration": 77,
    "start_time": "2023-05-17T06:55:36.571Z"
   },
   {
    "duration": 62,
    "start_time": "2023-05-17T06:57:06.125Z"
   },
   {
    "duration": 11,
    "start_time": "2023-05-17T06:57:52.906Z"
   },
   {
    "duration": 27,
    "start_time": "2023-05-17T06:58:34.247Z"
   },
   {
    "duration": 18,
    "start_time": "2023-05-17T06:59:03.361Z"
   },
   {
    "duration": 1237,
    "start_time": "2023-05-17T06:59:16.319Z"
   },
   {
    "duration": 51,
    "start_time": "2023-05-17T06:59:17.558Z"
   },
   {
    "duration": 29,
    "start_time": "2023-05-17T06:59:17.611Z"
   },
   {
    "duration": 3,
    "start_time": "2023-05-17T06:59:17.644Z"
   },
   {
    "duration": 66,
    "start_time": "2023-05-17T06:59:17.649Z"
   },
   {
    "duration": 1694,
    "start_time": "2023-05-17T06:59:17.717Z"
   },
   {
    "duration": 66,
    "start_time": "2023-05-17T06:59:19.413Z"
   },
   {
    "duration": 18,
    "start_time": "2023-05-17T06:59:19.481Z"
   },
   {
    "duration": 1351,
    "start_time": "2023-05-17T07:02:36.551Z"
   },
   {
    "duration": 78,
    "start_time": "2023-05-17T07:02:37.906Z"
   },
   {
    "duration": 41,
    "start_time": "2023-05-17T07:02:37.986Z"
   },
   {
    "duration": 39,
    "start_time": "2023-05-17T07:02:38.030Z"
   },
   {
    "duration": 254,
    "start_time": "2023-05-17T07:02:38.072Z"
   },
   {
    "duration": 17674,
    "start_time": "2023-05-17T07:02:38.329Z"
   },
   {
    "duration": 60,
    "start_time": "2023-05-17T07:02:56.005Z"
   },
   {
    "duration": 23,
    "start_time": "2023-05-17T07:02:56.067Z"
   },
   {
    "duration": 224,
    "start_time": "2023-05-17T07:03:30.505Z"
   },
   {
    "duration": 11253,
    "start_time": "2023-05-17T07:03:35.355Z"
   },
   {
    "duration": 58,
    "start_time": "2023-05-17T07:06:23.282Z"
   },
   {
    "duration": 17,
    "start_time": "2023-05-17T07:06:26.822Z"
   },
   {
    "duration": 1186,
    "start_time": "2023-05-17T13:05:58.564Z"
   },
   {
    "duration": 92,
    "start_time": "2023-05-17T13:05:59.753Z"
   },
   {
    "duration": 29,
    "start_time": "2023-05-17T13:05:59.847Z"
   },
   {
    "duration": 3,
    "start_time": "2023-05-17T13:05:59.877Z"
   },
   {
    "duration": 225,
    "start_time": "2023-05-17T13:05:59.882Z"
   },
   {
    "duration": 11356,
    "start_time": "2023-05-17T13:06:00.110Z"
   },
   {
    "duration": 63,
    "start_time": "2023-05-17T13:06:11.468Z"
   },
   {
    "duration": 15,
    "start_time": "2023-05-17T13:06:11.533Z"
   },
   {
    "duration": 7,
    "start_time": "2023-05-17T13:08:57.110Z"
   },
   {
    "duration": 6,
    "start_time": "2023-05-17T13:09:02.628Z"
   },
   {
    "duration": 6,
    "start_time": "2023-05-17T13:09:04.533Z"
   },
   {
    "duration": 7,
    "start_time": "2023-05-17T13:09:23.034Z"
   },
   {
    "duration": 6,
    "start_time": "2023-05-17T13:09:28.931Z"
   },
   {
    "duration": 7,
    "start_time": "2023-05-17T13:09:33.425Z"
   },
   {
    "duration": 6,
    "start_time": "2023-05-17T13:09:34.834Z"
   },
   {
    "duration": 6,
    "start_time": "2023-05-17T13:09:36.134Z"
   },
   {
    "duration": 7,
    "start_time": "2023-05-17T13:09:37.334Z"
   },
   {
    "duration": 6,
    "start_time": "2023-05-17T13:09:38.555Z"
   },
   {
    "duration": 1292,
    "start_time": "2023-05-17T13:21:46.946Z"
   },
   {
    "duration": 1280,
    "start_time": "2023-05-17T13:21:56.068Z"
   },
   {
    "duration": 66,
    "start_time": "2023-05-17T13:21:57.350Z"
   },
   {
    "duration": 10,
    "start_time": "2023-05-17T13:21:57.418Z"
   },
   {
    "duration": 3,
    "start_time": "2023-05-17T13:21:57.430Z"
   },
   {
    "duration": 227,
    "start_time": "2023-05-17T13:21:57.436Z"
   },
   {
    "duration": 11519,
    "start_time": "2023-05-17T13:21:57.665Z"
   },
   {
    "duration": 54,
    "start_time": "2023-05-17T13:22:09.186Z"
   },
   {
    "duration": 19,
    "start_time": "2023-05-17T13:22:09.241Z"
   },
   {
    "duration": 29,
    "start_time": "2023-05-17T13:22:09.262Z"
   },
   {
    "duration": 197,
    "start_time": "2023-05-17T13:25:55.623Z"
   },
   {
    "duration": 208,
    "start_time": "2023-05-17T13:26:49.120Z"
   },
   {
    "duration": 86,
    "start_time": "2023-05-18T05:40:21.667Z"
   },
   {
    "duration": 1192,
    "start_time": "2023-05-18T05:40:33.306Z"
   },
   {
    "duration": 95,
    "start_time": "2023-05-18T05:40:34.500Z"
   },
   {
    "duration": 76,
    "start_time": "2023-05-18T05:40:34.597Z"
   },
   {
    "duration": 0,
    "start_time": "2023-05-18T05:40:34.675Z"
   },
   {
    "duration": 0,
    "start_time": "2023-05-18T05:40:34.676Z"
   },
   {
    "duration": 0,
    "start_time": "2023-05-18T05:40:34.678Z"
   },
   {
    "duration": 0,
    "start_time": "2023-05-18T05:40:34.679Z"
   },
   {
    "duration": 0,
    "start_time": "2023-05-18T05:40:34.680Z"
   },
   {
    "duration": 0,
    "start_time": "2023-05-18T05:40:34.680Z"
   },
   {
    "duration": 9,
    "start_time": "2023-05-18T05:40:56.848Z"
   },
   {
    "duration": 9,
    "start_time": "2023-05-18T05:41:10.781Z"
   },
   {
    "duration": 91,
    "start_time": "2023-05-18T05:41:21.901Z"
   },
   {
    "duration": 8,
    "start_time": "2023-05-18T05:41:27.350Z"
   },
   {
    "duration": 1347,
    "start_time": "2023-05-18T06:07:17.448Z"
   },
   {
    "duration": 1042,
    "start_time": "2023-05-18T06:07:26.816Z"
   },
   {
    "duration": 54,
    "start_time": "2023-05-18T06:07:27.860Z"
   },
   {
    "duration": 9,
    "start_time": "2023-05-18T06:07:27.916Z"
   },
   {
    "duration": 3,
    "start_time": "2023-05-18T06:07:27.927Z"
   },
   {
    "duration": 172,
    "start_time": "2023-05-18T06:07:27.931Z"
   },
   {
    "duration": 9549,
    "start_time": "2023-05-18T06:07:28.104Z"
   },
   {
    "duration": 45,
    "start_time": "2023-05-18T06:07:37.654Z"
   },
   {
    "duration": 15,
    "start_time": "2023-05-18T06:07:37.701Z"
   },
   {
    "duration": 6,
    "start_time": "2023-05-18T06:07:37.718Z"
   },
   {
    "duration": 3,
    "start_time": "2023-05-18T06:13:58.678Z"
   },
   {
    "duration": 5,
    "start_time": "2023-05-18T06:16:36.250Z"
   },
   {
    "duration": 3,
    "start_time": "2023-05-18T06:22:56.551Z"
   },
   {
    "duration": 3,
    "start_time": "2023-05-18T06:23:59.869Z"
   },
   {
    "duration": 4,
    "start_time": "2023-05-18T06:24:50.028Z"
   },
   {
    "duration": 6,
    "start_time": "2023-05-18T06:41:26.753Z"
   },
   {
    "duration": 4,
    "start_time": "2023-05-18T06:41:30.452Z"
   },
   {
    "duration": 71,
    "start_time": "2023-05-18T06:42:56.044Z"
   },
   {
    "duration": 3,
    "start_time": "2023-05-18T06:43:00.764Z"
   },
   {
    "duration": 109,
    "start_time": "2023-05-18T06:44:00.908Z"
   },
   {
    "duration": 0,
    "start_time": "2023-05-18T06:45:56.015Z"
   },
   {
    "duration": 66933,
    "start_time": "2023-05-18T06:45:59.318Z"
   },
   {
    "duration": 4,
    "start_time": "2023-05-18T06:48:43.370Z"
   },
   {
    "duration": 12,
    "start_time": "2023-05-18T06:54:16.462Z"
   },
   {
    "duration": 69069,
    "start_time": "2023-05-18T06:54:32.900Z"
   },
   {
    "duration": 12,
    "start_time": "2023-05-18T06:55:44.700Z"
   },
   {
    "duration": 5,
    "start_time": "2023-05-18T06:56:03.624Z"
   },
   {
    "duration": 6,
    "start_time": "2023-05-18T06:57:03.647Z"
   },
   {
    "duration": 43507,
    "start_time": "2023-05-18T06:58:02.573Z"
   },
   {
    "duration": 3,
    "start_time": "2023-05-18T06:59:39.652Z"
   },
   {
    "duration": 4,
    "start_time": "2023-05-18T06:59:41.382Z"
   },
   {
    "duration": 36305,
    "start_time": "2023-05-18T06:59:42.864Z"
   },
   {
    "duration": 4,
    "start_time": "2023-05-18T07:02:16.592Z"
   },
   {
    "duration": 8,
    "start_time": "2023-05-18T07:02:53.810Z"
   },
   {
    "duration": 7,
    "start_time": "2023-05-18T07:03:00.272Z"
   },
   {
    "duration": 5,
    "start_time": "2023-05-18T07:03:53.159Z"
   },
   {
    "duration": 6,
    "start_time": "2023-05-18T07:04:01.114Z"
   },
   {
    "duration": 5,
    "start_time": "2023-05-18T07:06:02.980Z"
   },
   {
    "duration": 3,
    "start_time": "2023-05-18T07:12:52.674Z"
   },
   {
    "duration": 4,
    "start_time": "2023-05-18T07:13:32.282Z"
   },
   {
    "duration": 1127,
    "start_time": "2023-05-18T07:22:10.181Z"
   },
   {
    "duration": 60,
    "start_time": "2023-05-18T07:22:12.649Z"
   },
   {
    "duration": 10,
    "start_time": "2023-05-18T07:22:15.372Z"
   },
   {
    "duration": 3,
    "start_time": "2023-05-18T07:22:18.574Z"
   },
   {
    "duration": 3,
    "start_time": "2023-05-18T07:22:21.506Z"
   },
   {
    "duration": 5,
    "start_time": "2023-05-18T07:22:23.798Z"
   },
   {
    "duration": 23349,
    "start_time": "2023-05-18T07:22:25.753Z"
   },
   {
    "duration": 0,
    "start_time": "2023-05-18T07:22:49.104Z"
   },
   {
    "duration": 37704,
    "start_time": "2023-05-18T07:22:55.599Z"
   },
   {
    "duration": 7,
    "start_time": "2023-05-18T07:23:45.887Z"
   },
   {
    "duration": 4,
    "start_time": "2023-05-18T07:24:07.995Z"
   },
   {
    "duration": 4,
    "start_time": "2023-05-18T07:24:09.320Z"
   },
   {
    "duration": 78,
    "start_time": "2023-05-18T07:24:12.374Z"
   },
   {
    "duration": 16,
    "start_time": "2023-05-18T07:24:18.969Z"
   },
   {
    "duration": 477734,
    "start_time": "2023-05-18T07:24:26.188Z"
   },
   {
    "duration": 506000,
    "start_time": "2023-05-18T07:32:25.999Z"
   },
   {
    "duration": 12,
    "start_time": "2023-05-18T07:42:23.262Z"
   },
   {
    "duration": 3,
    "start_time": "2023-05-18T07:47:24.423Z"
   },
   {
    "duration": 4,
    "start_time": "2023-05-18T07:47:52.472Z"
   },
   {
    "duration": 2130,
    "start_time": "2023-05-18T08:09:04.819Z"
   },
   {
    "duration": 1483,
    "start_time": "2023-05-18T08:10:19.462Z"
   },
   {
    "duration": 678,
    "start_time": "2023-05-18T08:10:33.509Z"
   },
   {
    "duration": 361,
    "start_time": "2023-05-18T08:10:48.190Z"
   },
   {
    "duration": 305,
    "start_time": "2023-05-18T08:10:56.216Z"
   },
   {
    "duration": 196,
    "start_time": "2023-05-18T08:11:02.179Z"
   },
   {
    "duration": 248,
    "start_time": "2023-05-18T08:11:20.674Z"
   },
   {
    "duration": 585,
    "start_time": "2023-05-18T08:12:51.830Z"
   },
   {
    "duration": 556,
    "start_time": "2023-05-18T08:12:59.773Z"
   },
   {
    "duration": 5003,
    "start_time": "2023-05-18T08:14:02.513Z"
   },
   {
    "duration": 56535,
    "start_time": "2023-05-18T08:14:17.165Z"
   },
   {
    "duration": 2,
    "start_time": "2023-05-18T08:19:12.010Z"
   },
   {
    "duration": 4,
    "start_time": "2023-05-18T08:19:13.362Z"
   },
   {
    "duration": 11,
    "start_time": "2023-05-18T08:19:16.665Z"
   },
   {
    "duration": 3,
    "start_time": "2023-05-18T08:19:27.508Z"
   },
   {
    "duration": 8448,
    "start_time": "2023-05-18T08:21:06.500Z"
   },
   {
    "duration": 1134,
    "start_time": "2023-05-18T08:23:43.082Z"
   },
   {
    "duration": 8,
    "start_time": "2023-05-18T08:24:44.928Z"
   },
   {
    "duration": 20,
    "start_time": "2023-05-18T08:28:06.083Z"
   },
   {
    "duration": 7,
    "start_time": "2023-05-18T08:28:55.455Z"
   },
   {
    "duration": 1129,
    "start_time": "2023-05-18T08:29:05.871Z"
   },
   {
    "duration": 51,
    "start_time": "2023-05-18T08:29:07.002Z"
   },
   {
    "duration": 11,
    "start_time": "2023-05-18T08:29:07.054Z"
   },
   {
    "duration": 12,
    "start_time": "2023-05-18T08:29:07.067Z"
   },
   {
    "duration": 8,
    "start_time": "2023-05-18T08:29:07.081Z"
   },
   {
    "duration": 26,
    "start_time": "2023-05-18T08:29:07.091Z"
   },
   {
    "duration": 9603,
    "start_time": "2023-05-18T08:29:07.118Z"
   },
   {
    "duration": 6,
    "start_time": "2023-05-18T08:29:16.723Z"
   },
   {
    "duration": 11,
    "start_time": "2023-05-18T08:29:16.730Z"
   },
   {
    "duration": 17,
    "start_time": "2023-05-18T08:29:16.742Z"
   },
   {
    "duration": 521477,
    "start_time": "2023-05-18T08:29:16.761Z"
   },
   {
    "duration": 17,
    "start_time": "2023-05-18T08:37:58.240Z"
   },
   {
    "duration": 3,
    "start_time": "2023-05-18T08:37:58.259Z"
   },
   {
    "duration": 9,
    "start_time": "2023-05-18T08:37:58.264Z"
   },
   {
    "duration": 922,
    "start_time": "2023-05-18T08:37:58.274Z"
   },
   {
    "duration": 5,
    "start_time": "2023-05-18T08:37:59.198Z"
   },
   {
    "duration": 27,
    "start_time": "2023-05-18T08:37:59.205Z"
   },
   {
    "duration": 7,
    "start_time": "2023-05-18T08:37:59.233Z"
   },
   {
    "duration": 6,
    "start_time": "2023-05-18T08:39:44.905Z"
   },
   {
    "duration": 17,
    "start_time": "2023-05-18T08:41:08.913Z"
   },
   {
    "duration": 6,
    "start_time": "2023-05-18T08:41:12.193Z"
   }
  ],
  "kernelspec": {
   "display_name": "Python 3 (ipykernel)",
   "language": "python",
   "name": "python3"
  },
  "language_info": {
   "codemirror_mode": {
    "name": "ipython",
    "version": 3
   },
   "file_extension": ".py",
   "mimetype": "text/x-python",
   "name": "python",
   "nbconvert_exporter": "python",
   "pygments_lexer": "ipython3",
   "version": "3.9.16"
  },
  "toc": {
   "base_numbering": 1,
   "nav_menu": {},
   "number_sections": true,
   "sideBar": true,
   "skip_h1_title": true,
   "title_cell": "Table of Contents",
   "title_sidebar": "Contents",
   "toc_cell": false,
   "toc_position": {},
   "toc_section_display": true,
   "toc_window_display": false
  }
 },
 "nbformat": 4,
 "nbformat_minor": 2
}
