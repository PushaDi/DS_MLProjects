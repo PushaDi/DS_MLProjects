{
 "cells": [
  {
   "cell_type": "markdown",
   "metadata": {},
   "source": [
    "## План работы"
   ]
  },
  {
   "cell_type": "markdown",
   "metadata": {},
   "source": [
    "Для успешного выполнения поставленной задачи необходимо:\n",
    "- загрузить и исследовать данные:\n",
    "  - проанализировать пропуски и обработать их (заполнить или удалить)\n",
    "  - исследовать выбросы и аномальные значения\n",
    "  - оценить релевантность присутствующих признаков, удалить признаки, которые не являются информативными\n",
    "- подготовить выборки для обучения и тестирования моделей\n",
    "- подобрать наилучшую модель машинного обучения:\n",
    "  - исследовать модели градиентного бустинга (LightGBM) с различными гиперпараметрами\n",
    "  - исследовать регрессионные модели (линейная регрессия, случаный лес) с различными гиперпараметрами\n",
    "- проанализировать время обучения рассмотренных моделей, время предсказания и их качество\n",
    "- протестировать лучшую модель на тестовой выборке"
   ]
  },
  {
   "cell_type": "code",
   "execution_count": 1,
   "metadata": {},
   "outputs": [],
   "source": [
    "!pip -q install pandas_profiling\n",
    "!pip -q install category_encoders"
   ]
  },
  {
   "cell_type": "code",
   "execution_count": 2,
   "metadata": {
    "scrolled": false
   },
   "outputs": [],
   "source": [
    "import os\n",
    "import math\n",
    "import pandas as pd\n",
    "import seaborn as sns\n",
    "import matplotlib.pyplot as plt\n",
    "import numpy as np\n",
    "\n",
    "from sklearn.model_selection import train_test_split\n",
    "from sklearn.preprocessing import OneHotEncoder\n",
    "from category_encoders.leave_one_out import LeaveOneOutEncoder\n",
    "from sklearn.metrics import mean_squared_error\n",
    "from sklearn.model_selection import RandomizedSearchCV\n",
    "\n",
    "from sklearn.ensemble import RandomForestRegressor\n",
    "import lightgbm as lgb"
   ]
  },
  {
   "cell_type": "markdown",
   "metadata": {},
   "source": [
    "## Подготовка данных"
   ]
  },
  {
   "cell_type": "markdown",
   "metadata": {},
   "source": [
    "Загрузим исходный датасет и исследуем его."
   ]
  },
  {
   "cell_type": "code",
   "execution_count": 3,
   "metadata": {},
   "outputs": [],
   "source": [
    "local_path = 'autos.csv'\n",
    "server_path = '/datasets/autos.csv'\n",
    "\n",
    "if os.path.exists(local_path):\n",
    "    data = pd.read_csv(local_path)\n",
    "else:\n",
    "    data = pd.read_csv(server_path)"
   ]
  },
  {
   "cell_type": "code",
   "execution_count": 4,
   "metadata": {},
   "outputs": [
    {
     "data": {
      "text/html": [
       "<div>\n",
       "<style scoped>\n",
       "    .dataframe tbody tr th:only-of-type {\n",
       "        vertical-align: middle;\n",
       "    }\n",
       "\n",
       "    .dataframe tbody tr th {\n",
       "        vertical-align: top;\n",
       "    }\n",
       "\n",
       "    .dataframe thead th {\n",
       "        text-align: right;\n",
       "    }\n",
       "</style>\n",
       "<table border=\"1\" class=\"dataframe\">\n",
       "  <thead>\n",
       "    <tr style=\"text-align: right;\">\n",
       "      <th></th>\n",
       "      <th>DateCrawled</th>\n",
       "      <th>Price</th>\n",
       "      <th>VehicleType</th>\n",
       "      <th>RegistrationYear</th>\n",
       "      <th>Gearbox</th>\n",
       "      <th>Power</th>\n",
       "      <th>Model</th>\n",
       "      <th>Kilometer</th>\n",
       "      <th>RegistrationMonth</th>\n",
       "      <th>FuelType</th>\n",
       "      <th>Brand</th>\n",
       "      <th>Repaired</th>\n",
       "      <th>DateCreated</th>\n",
       "      <th>NumberOfPictures</th>\n",
       "      <th>PostalCode</th>\n",
       "      <th>LastSeen</th>\n",
       "    </tr>\n",
       "  </thead>\n",
       "  <tbody>\n",
       "    <tr>\n",
       "      <th>0</th>\n",
       "      <td>2016-03-24 11:52:17</td>\n",
       "      <td>480</td>\n",
       "      <td>NaN</td>\n",
       "      <td>1993</td>\n",
       "      <td>manual</td>\n",
       "      <td>0</td>\n",
       "      <td>golf</td>\n",
       "      <td>150000</td>\n",
       "      <td>0</td>\n",
       "      <td>petrol</td>\n",
       "      <td>volkswagen</td>\n",
       "      <td>NaN</td>\n",
       "      <td>2016-03-24 00:00:00</td>\n",
       "      <td>0</td>\n",
       "      <td>70435</td>\n",
       "      <td>2016-04-07 03:16:57</td>\n",
       "    </tr>\n",
       "    <tr>\n",
       "      <th>1</th>\n",
       "      <td>2016-03-24 10:58:45</td>\n",
       "      <td>18300</td>\n",
       "      <td>coupe</td>\n",
       "      <td>2011</td>\n",
       "      <td>manual</td>\n",
       "      <td>190</td>\n",
       "      <td>NaN</td>\n",
       "      <td>125000</td>\n",
       "      <td>5</td>\n",
       "      <td>gasoline</td>\n",
       "      <td>audi</td>\n",
       "      <td>yes</td>\n",
       "      <td>2016-03-24 00:00:00</td>\n",
       "      <td>0</td>\n",
       "      <td>66954</td>\n",
       "      <td>2016-04-07 01:46:50</td>\n",
       "    </tr>\n",
       "    <tr>\n",
       "      <th>2</th>\n",
       "      <td>2016-03-14 12:52:21</td>\n",
       "      <td>9800</td>\n",
       "      <td>suv</td>\n",
       "      <td>2004</td>\n",
       "      <td>auto</td>\n",
       "      <td>163</td>\n",
       "      <td>grand</td>\n",
       "      <td>125000</td>\n",
       "      <td>8</td>\n",
       "      <td>gasoline</td>\n",
       "      <td>jeep</td>\n",
       "      <td>NaN</td>\n",
       "      <td>2016-03-14 00:00:00</td>\n",
       "      <td>0</td>\n",
       "      <td>90480</td>\n",
       "      <td>2016-04-05 12:47:46</td>\n",
       "    </tr>\n",
       "    <tr>\n",
       "      <th>3</th>\n",
       "      <td>2016-03-17 16:54:04</td>\n",
       "      <td>1500</td>\n",
       "      <td>small</td>\n",
       "      <td>2001</td>\n",
       "      <td>manual</td>\n",
       "      <td>75</td>\n",
       "      <td>golf</td>\n",
       "      <td>150000</td>\n",
       "      <td>6</td>\n",
       "      <td>petrol</td>\n",
       "      <td>volkswagen</td>\n",
       "      <td>no</td>\n",
       "      <td>2016-03-17 00:00:00</td>\n",
       "      <td>0</td>\n",
       "      <td>91074</td>\n",
       "      <td>2016-03-17 17:40:17</td>\n",
       "    </tr>\n",
       "    <tr>\n",
       "      <th>4</th>\n",
       "      <td>2016-03-31 17:25:20</td>\n",
       "      <td>3600</td>\n",
       "      <td>small</td>\n",
       "      <td>2008</td>\n",
       "      <td>manual</td>\n",
       "      <td>69</td>\n",
       "      <td>fabia</td>\n",
       "      <td>90000</td>\n",
       "      <td>7</td>\n",
       "      <td>gasoline</td>\n",
       "      <td>skoda</td>\n",
       "      <td>no</td>\n",
       "      <td>2016-03-31 00:00:00</td>\n",
       "      <td>0</td>\n",
       "      <td>60437</td>\n",
       "      <td>2016-04-06 10:17:21</td>\n",
       "    </tr>\n",
       "  </tbody>\n",
       "</table>\n",
       "</div>"
      ],
      "text/plain": [
       "           DateCrawled  Price VehicleType  RegistrationYear Gearbox  Power  \\\n",
       "0  2016-03-24 11:52:17    480         NaN              1993  manual      0   \n",
       "1  2016-03-24 10:58:45  18300       coupe              2011  manual    190   \n",
       "2  2016-03-14 12:52:21   9800         suv              2004    auto    163   \n",
       "3  2016-03-17 16:54:04   1500       small              2001  manual     75   \n",
       "4  2016-03-31 17:25:20   3600       small              2008  manual     69   \n",
       "\n",
       "   Model  Kilometer  RegistrationMonth  FuelType       Brand Repaired  \\\n",
       "0   golf     150000                  0    petrol  volkswagen      NaN   \n",
       "1    NaN     125000                  5  gasoline        audi      yes   \n",
       "2  grand     125000                  8  gasoline        jeep      NaN   \n",
       "3   golf     150000                  6    petrol  volkswagen       no   \n",
       "4  fabia      90000                  7  gasoline       skoda       no   \n",
       "\n",
       "           DateCreated  NumberOfPictures  PostalCode             LastSeen  \n",
       "0  2016-03-24 00:00:00                 0       70435  2016-04-07 03:16:57  \n",
       "1  2016-03-24 00:00:00                 0       66954  2016-04-07 01:46:50  \n",
       "2  2016-03-14 00:00:00                 0       90480  2016-04-05 12:47:46  \n",
       "3  2016-03-17 00:00:00                 0       91074  2016-03-17 17:40:17  \n",
       "4  2016-03-31 00:00:00                 0       60437  2016-04-06 10:17:21  "
      ]
     },
     "execution_count": 4,
     "metadata": {},
     "output_type": "execute_result"
    }
   ],
   "source": [
    "data.head()"
   ]
  },
  {
   "cell_type": "markdown",
   "metadata": {},
   "source": [
    "В представленном датасете имеется информация об автомобилях. Представлены следующие данные:\n",
    "- DateCrawled — дата скачивания анкеты из базы\n",
    "- VehicleType — тип автомобильного кузова\n",
    "- RegistrationYear — год регистрации автомобиля\n",
    "- Gearbox — тип коробки передач\n",
    "- Power — мощность (л. с.)\n",
    "- Model — модель автомобиля\n",
    "- Kilometer — пробег (км)\n",
    "- RegistrationMonth — месяц регистрации автомобиля\n",
    "- FuelType — тип топлива\n",
    "- Brand — марка автомобиля\n",
    "- Repaired — была машина в ремонте или нет\n",
    "- DateCreated — дата создания анкеты\n",
    "- NumberOfPictures — количество фотографий автомобиля\n",
    "- PostalCode — почтовый индекс владельца анкеты (пользователя)\n",
    "- LastSeen — дата последней активности пользователя\n",
    "- Price — цена (евро)"
   ]
  },
  {
   "cell_type": "markdown",
   "metadata": {},
   "source": [
    "Проанализируем данные на наличие пропусков, дубликатов и аномальных значений."
   ]
  },
  {
   "cell_type": "markdown",
   "metadata": {},
   "source": [
    "### Удаление дубликатов"
   ]
  },
  {
   "cell_type": "code",
   "execution_count": 5,
   "metadata": {},
   "outputs": [
    {
     "data": {
      "text/plain": [
       "4"
      ]
     },
     "execution_count": 5,
     "metadata": {},
     "output_type": "execute_result"
    }
   ],
   "source": [
    "data.duplicated().sum()"
   ]
  },
  {
   "cell_type": "markdown",
   "metadata": {},
   "source": [
    "В датасете присутствует 4 дубликата. Удалим их."
   ]
  },
  {
   "cell_type": "code",
   "execution_count": 6,
   "metadata": {},
   "outputs": [
    {
     "data": {
      "text/plain": [
       "0"
      ]
     },
     "execution_count": 6,
     "metadata": {},
     "output_type": "execute_result"
    }
   ],
   "source": [
    "data = data.drop_duplicates()\n",
    "data.duplicated().sum()"
   ]
  },
  {
   "cell_type": "markdown",
   "metadata": {},
   "source": [
    "### Обработка пропусков"
   ]
  },
  {
   "cell_type": "markdown",
   "metadata": {},
   "source": [
    "Рассмотрим наличие пропусков в столбцах."
   ]
  },
  {
   "cell_type": "code",
   "execution_count": 7,
   "metadata": {},
   "outputs": [
    {
     "data": {
      "text/plain": [
       "DateCrawled              0\n",
       "Price                    0\n",
       "VehicleType          37490\n",
       "RegistrationYear         0\n",
       "Gearbox              19833\n",
       "Power                    0\n",
       "Model                19705\n",
       "Kilometer                0\n",
       "RegistrationMonth        0\n",
       "FuelType             32895\n",
       "Brand                    0\n",
       "Repaired             71154\n",
       "DateCreated              0\n",
       "NumberOfPictures         0\n",
       "PostalCode               0\n",
       "LastSeen                 0\n",
       "dtype: int64"
      ]
     },
     "execution_count": 7,
     "metadata": {},
     "output_type": "execute_result"
    }
   ],
   "source": [
    "data.isna().sum()"
   ]
  },
  {
   "cell_type": "markdown",
   "metadata": {},
   "source": [
    "Пропуски присутствуют в следующих столбцах:\n",
    "- `Vehicle Type` (тип кузова)\n",
    "- `Gearbox` (тип коробки передач)\n",
    "- `Model` (модель автомобиля)\n",
    "- `Fuel Type` (тип топлива)\n",
    "- `Repaired` (наличие или отсутствие ремонта)\n",
    "\n",
    "Рассмотрим каждый столбец отдельно."
   ]
  },
  {
   "cell_type": "markdown",
   "metadata": {},
   "source": [
    "Тип кузова может быть не указан из-за отсутствия нужного выбора в анкете.\n",
    "Рассмотрим все имеющиеся значения данного признака."
   ]
  },
  {
   "cell_type": "code",
   "execution_count": 8,
   "metadata": {},
   "outputs": [
    {
     "data": {
      "text/plain": [
       "array([nan, 'coupe', 'suv', 'small', 'sedan', 'convertible', 'bus',\n",
       "       'wagon', 'other'], dtype=object)"
      ]
     },
     "execution_count": 8,
     "metadata": {},
     "output_type": "execute_result"
    }
   ],
   "source": [
    "data['VehicleType'].unique()"
   ]
  },
  {
   "cell_type": "markdown",
   "metadata": {},
   "source": [
    "Как мы видим, в датасете уже присутствуют значения `other`. В таком случае, заполним имеющиеся пропуски тем же значением."
   ]
  },
  {
   "cell_type": "code",
   "execution_count": 9,
   "metadata": {},
   "outputs": [
    {
     "data": {
      "text/plain": [
       "0"
      ]
     },
     "execution_count": 9,
     "metadata": {},
     "output_type": "execute_result"
    }
   ],
   "source": [
    "data['VehicleType'].fillna(value='other', inplace=True)\n",
    "data['VehicleType'].isna().sum()"
   ]
  },
  {
   "cell_type": "markdown",
   "metadata": {},
   "source": [
    "Рассмотрим столбец `Gearbox`, в котором приводится информация о типе коробки передач.\n",
    "Для начала, рассмотрим, какие значения присутствуют в датасете."
   ]
  },
  {
   "cell_type": "code",
   "execution_count": 10,
   "metadata": {},
   "outputs": [
    {
     "data": {
      "text/plain": [
       "array(['manual', 'auto', nan], dtype=object)"
      ]
     },
     "execution_count": 10,
     "metadata": {},
     "output_type": "execute_result"
    }
   ],
   "source": [
    "data['Gearbox'].unique()"
   ]
  },
  {
   "cell_type": "markdown",
   "metadata": {},
   "source": [
    "В данном случае, заполним отсутствующие значения модой значения той же модели."
   ]
  },
  {
   "cell_type": "code",
   "execution_count": 11,
   "metadata": {
    "scrolled": true
   },
   "outputs": [],
   "source": [
    "grouped_data = data.groupby(\n",
    "    by=['Brand', 'Model']\n",
    ")['Gearbox'].apply(lambda x: x.mode().iloc[0])\n",
    "\n",
    "merged_data = pd.merge(data, grouped_data, left_on=['Brand', 'Model'], right_index=True, how='left')\n",
    "\n",
    "merged_data['Gearbox_x'].fillna(merged_data['Gearbox_y'], inplace=True)\n",
    "\n",
    "merged_data.drop(columns=['Gearbox_y'], inplace=True)\n",
    "merged_data.rename(columns={'Gearbox_x': 'Gearbox'}, inplace=True)\n",
    "\n",
    "data = merged_data.copy()"
   ]
  },
  {
   "cell_type": "code",
   "execution_count": 12,
   "metadata": {},
   "outputs": [
    {
     "data": {
      "text/plain": [
       "0.01165747181578316"
      ]
     },
     "execution_count": 12,
     "metadata": {},
     "output_type": "execute_result"
    }
   ],
   "source": [
    "data['Gearbox'].isna().sum() / len(data)"
   ]
  },
  {
   "cell_type": "markdown",
   "metadata": {},
   "source": [
    "По итогам заполнения осталось незаполненными около 1% от всех данных. Удалим эти строки."
   ]
  },
  {
   "cell_type": "code",
   "execution_count": 13,
   "metadata": {},
   "outputs": [
    {
     "data": {
      "text/plain": [
       "0"
      ]
     },
     "execution_count": 13,
     "metadata": {},
     "output_type": "execute_result"
    }
   ],
   "source": [
    "data.dropna(subset=['Gearbox'], inplace=True)\n",
    "data['Gearbox'].isna().sum()"
   ]
  },
  {
   "cell_type": "markdown",
   "metadata": {},
   "source": [
    "Рассмотрим столбец `Model`, в котором приводится информация о модели автомобиля.\n",
    "Для начала, рассмотрим, какие значения присутствуют в датасете."
   ]
  },
  {
   "cell_type": "code",
   "execution_count": 14,
   "metadata": {},
   "outputs": [
    {
     "data": {
      "text/plain": [
       "array(['golf', nan, 'grand', 'fabia', '3er', '2_reihe', 'other', 'c_max',\n",
       "       '3_reihe', 'passat', 'navara', 'ka', 'polo', 'twingo', 'a_klasse',\n",
       "       'scirocco', '5er', 'meriva', 'arosa', 'c4', 'civic', 'transporter',\n",
       "       'punto', 'e_klasse', 'clio', 'kadett', 'kangoo', 'corsa', 'one',\n",
       "       'fortwo', '1er', 'b_klasse', 'signum', 'astra', 'a8', 'jetta',\n",
       "       'fiesta', 'c_klasse', 'micra', 'vito', 'sprinter', '156', 'escort',\n",
       "       'forester', 'xc_reihe', 'scenic', 'a4', 'a1', 'insignia', 'combo',\n",
       "       'focus', 'tt', 'a6', 'jazz', 'omega', 'slk', '7er', '80', '147',\n",
       "       '100', 'z_reihe', 'sportage', 'sorento', 'v40', 'ibiza', 'mustang',\n",
       "       'eos', 'touran', 'getz', 'a3', 'almera', 'megane', 'lupo', 'r19',\n",
       "       'zafira', 'caddy', 'mondeo', 'cordoba', 'colt', 'impreza',\n",
       "       'vectra', 'berlingo', 'tiguan', 'i_reihe', 'espace', 'sharan',\n",
       "       '6_reihe', 'panda', 'up', 'seicento', 'ceed', '5_reihe', 'yeti',\n",
       "       'octavia', 'mii', 'rx_reihe', '6er', 'modus', 'fox', 'matiz',\n",
       "       'beetle', 'c1', 'rio', 'touareg', 'logan', 'spider', 'cuore',\n",
       "       's_max', 'a2', 'galaxy', 'c3', 'viano', 's_klasse', '1_reihe',\n",
       "       'avensis', 'roomster', 'sl', 'kaefer', 'santa', 'cooper', 'leon',\n",
       "       '4_reihe', 'a5', '500', 'laguna', 'ptcruiser', 'clk', 'primera',\n",
       "       'x_reihe', 'exeo', '159', 'transit', 'juke', 'qashqai', 'carisma',\n",
       "       'accord', 'corolla', 'lanos', 'phaeton', 'verso', 'swift', 'rav',\n",
       "       'picanto', 'boxster', 'kalos', 'superb', 'stilo', 'alhambra',\n",
       "       'mx_reihe', 'roadster', 'ypsilon', 'cayenne', 'galant', 'justy',\n",
       "       '90', 'sirion', 'crossfire', 'agila', 'duster', 'cr_reihe', 'v50',\n",
       "       'c_reihe', 'v_klasse', 'm_klasse', 'yaris', 'c5', 'aygo', 'cc',\n",
       "       'carnival', 'fusion', '911', 'bora', 'forfour', 'm_reihe', 'cl',\n",
       "       'tigra', '300c', 'spark', 'v70', 'kuga', 'x_type', 'ducato',\n",
       "       's_type', 'x_trail', 'toledo', 'altea', 'voyager', 'calibra',\n",
       "       'bravo', 'antara', 'tucson', 'citigo', 'jimny', 'wrangler',\n",
       "       'lybra', 'q7', 'lancer', 'captiva', 'c2', 'discovery',\n",
       "       'freelander', 'sandero', 'note', '900', 'cherokee', 'clubman',\n",
       "       'samara', 'defender', '601', 'cx_reihe', 'legacy', 'pajero',\n",
       "       'auris', 'niva', 's60', 'nubira', 'vivaro', 'g_klasse', 'lodgy',\n",
       "       '850', 'range_rover', 'q3', 'serie_2', 'glk', 'charade', 'croma',\n",
       "       'outlander', 'doblo', 'musa', 'move', '9000', 'v60', '145', 'aveo',\n",
       "       '200', 'b_max', 'range_rover_sport', 'terios', 'rangerover', 'q5',\n",
       "       'range_rover_evoque', 'materia', 'delta', 'gl', 'kalina', 'amarok',\n",
       "       'elefantino', 'i3', 'kappa', 'serie_3', 'serie_1'], dtype=object)"
      ]
     },
     "execution_count": 14,
     "metadata": {},
     "output_type": "execute_result"
    }
   ],
   "source": [
    "data['Model'].unique()"
   ]
  },
  {
   "cell_type": "markdown",
   "metadata": {},
   "source": [
    "Как мы видим, в списке всех возможных моделей присутствует вариант `other`. В связи со сложностью заполнения данного столбца, заполним все пропуски данным вариантом."
   ]
  },
  {
   "cell_type": "code",
   "execution_count": 15,
   "metadata": {},
   "outputs": [
    {
     "data": {
      "text/plain": [
       "0"
      ]
     },
     "execution_count": 15,
     "metadata": {},
     "output_type": "execute_result"
    }
   ],
   "source": [
    "data['Model'].fillna(value='other', inplace=True)\n",
    "data['Model'].isna().sum()"
   ]
  },
  {
   "cell_type": "markdown",
   "metadata": {},
   "source": [
    "Рассмотрим значения признака `FuelType`, описывающего вид используемого топлива."
   ]
  },
  {
   "cell_type": "code",
   "execution_count": 16,
   "metadata": {
    "scrolled": true
   },
   "outputs": [
    {
     "data": {
      "text/plain": [
       "array(['petrol', 'gasoline', nan, 'lpg', 'other', 'hybrid', 'cng',\n",
       "       'electric'], dtype=object)"
      ]
     },
     "execution_count": 16,
     "metadata": {},
     "output_type": "execute_result"
    }
   ],
   "source": [
    "data['FuelType'].unique()"
   ]
  },
  {
   "cell_type": "markdown",
   "metadata": {},
   "source": [
    "По аналогии с предыдущим признаком, так же заполним его с помощью значения `other`."
   ]
  },
  {
   "cell_type": "code",
   "execution_count": 17,
   "metadata": {},
   "outputs": [
    {
     "data": {
      "text/plain": [
       "0"
      ]
     },
     "execution_count": 17,
     "metadata": {},
     "output_type": "execute_result"
    }
   ],
   "source": [
    "data['FuelType'].fillna(value='other', inplace=True)\n",
    "data['FuelType'].isna().sum()"
   ]
  },
  {
   "cell_type": "markdown",
   "metadata": {},
   "source": [
    "Обработаем пропуски в столбце `Repaired`."
   ]
  },
  {
   "cell_type": "code",
   "execution_count": 18,
   "metadata": {
    "scrolled": true
   },
   "outputs": [
    {
     "data": {
      "text/plain": [
       "array([nan, 'yes', 'no'], dtype=object)"
      ]
     },
     "execution_count": 18,
     "metadata": {},
     "output_type": "execute_result"
    }
   ],
   "source": [
    "data['Repaired'].unique()"
   ]
  },
  {
   "cell_type": "markdown",
   "metadata": {},
   "source": [
    "Скорее всего, наличие пропусков в данном столбце говорит об отсутствии ремонта у автомобиля, но возможно, что владелец скрывает информацию. Чтобы не смешивать эти автомобили вместе, заполним пропуски отдельной заглушкой."
   ]
  },
  {
   "cell_type": "code",
   "execution_count": 19,
   "metadata": {},
   "outputs": [
    {
     "data": {
      "text/plain": [
       "0"
      ]
     },
     "execution_count": 19,
     "metadata": {},
     "output_type": "execute_result"
    }
   ],
   "source": [
    "data['Repaired'].fillna(value='no_info', inplace=True)\n",
    "data['Repaired'].isna().sum()"
   ]
  },
  {
   "cell_type": "markdown",
   "metadata": {},
   "source": [
    "### Обработка аномальных значений"
   ]
  },
  {
   "cell_type": "markdown",
   "metadata": {},
   "source": [
    "Среди численных признаков, где возможны выбросы и аномальные значения имеются:\n",
    "- RegistrationYear — год регистрации автомобиля\n",
    "- Power — мощность (л. с.)\n",
    "- Kilometer — пробег (км)\n",
    "- RegistrationMonth — месяц регистрации автомобиля\n",
    "- NumberOfPictures — количество фотографий автомобиля\n",
    "- Price — цена (евро)"
   ]
  },
  {
   "cell_type": "markdown",
   "metadata": {},
   "source": [
    "Рассмотрим распределение значений перечисленных признаков."
   ]
  },
  {
   "cell_type": "code",
   "execution_count": 20,
   "metadata": {},
   "outputs": [
    {
     "name": "stdout",
     "output_type": "stream",
     "text": [
      "----------------------\n",
      "RegistrationYear\n",
      "----------------------\n",
      "count    350234.000000\n",
      "mean       2003.856188\n",
      "std          68.795645\n",
      "min        1000.000000\n",
      "25%        1999.000000\n",
      "50%        2003.000000\n",
      "75%        2008.000000\n",
      "max        9999.000000\n",
      "Name: RegistrationYear, dtype: float64\n",
      "----------------------\n",
      "Power\n",
      "----------------------\n",
      "count    350234.000000\n",
      "mean        111.046977\n",
      "std         189.820035\n",
      "min           0.000000\n",
      "25%          69.000000\n",
      "50%         105.000000\n",
      "75%         143.000000\n",
      "max       20000.000000\n",
      "Name: Power, dtype: float64\n",
      "----------------------\n",
      "Kilometer\n",
      "----------------------\n",
      "count    350234.000000\n",
      "mean     128511.395239\n",
      "std       37436.819078\n",
      "min        5000.000000\n",
      "25%      125000.000000\n",
      "50%      150000.000000\n",
      "75%      150000.000000\n",
      "max      150000.000000\n",
      "Name: Kilometer, dtype: float64\n",
      "----------------------\n",
      "RegistrationMonth\n",
      "----------------------\n",
      "count    350234.000000\n",
      "mean          5.762716\n",
      "std           3.705696\n",
      "min           0.000000\n",
      "25%           3.000000\n",
      "50%           6.000000\n",
      "75%           9.000000\n",
      "max          12.000000\n",
      "Name: RegistrationMonth, dtype: float64\n",
      "----------------------\n",
      "NumberOfPictures\n",
      "----------------------\n",
      "count    350234.0\n",
      "mean          0.0\n",
      "std           0.0\n",
      "min           0.0\n",
      "25%           0.0\n",
      "50%           0.0\n",
      "75%           0.0\n",
      "max           0.0\n",
      "Name: NumberOfPictures, dtype: float64\n",
      "----------------------\n",
      "Price\n",
      "----------------------\n",
      "count    350234.000000\n",
      "mean       4450.581326\n",
      "std        4519.107284\n",
      "min           0.000000\n",
      "25%        1100.000000\n",
      "50%        2777.000000\n",
      "75%        6490.000000\n",
      "max       20000.000000\n",
      "Name: Price, dtype: float64\n"
     ]
    }
   ],
   "source": [
    "numerical_features = [\n",
    "    'RegistrationYear', 'Power', 'Kilometer', 'RegistrationMonth', 'NumberOfPictures', 'Price'\n",
    "]\n",
    "\n",
    "for feature in numerical_features:\n",
    "    print('-' * 22)\n",
    "    print(feature)\n",
    "    print('-' * 22)\n",
    "    print(data[feature].describe())\n",
    "    "
   ]
  },
  {
   "cell_type": "markdown",
   "metadata": {},
   "source": [
    "В столбце с информацией о годе регистрации автомобиля имеются аномально высокие значения.\n",
    "Рассмотрим распределение значений в столбце `DateCreated`, чтобы оценить год выгрузки данных."
   ]
  },
  {
   "cell_type": "code",
   "execution_count": 21,
   "metadata": {
    "scrolled": true
   },
   "outputs": [
    {
     "data": {
      "text/plain": [
       "Timestamp('2016-04-07 00:00:00')"
      ]
     },
     "execution_count": 21,
     "metadata": {},
     "output_type": "execute_result"
    }
   ],
   "source": [
    "data['DateCreated'] = pd.to_datetime(data['DateCreated'], format='%Y-%m-%d %H:%M:%S')\n",
    "data['DateCreated'].max()"
   ]
  },
  {
   "cell_type": "markdown",
   "metadata": {},
   "source": [
    "Как мы видим, самый поздний год, представленный в колонке DateCreated - 2016. Ограничим датасет этим годом."
   ]
  },
  {
   "cell_type": "code",
   "execution_count": 22,
   "metadata": {
    "scrolled": false
   },
   "outputs": [],
   "source": [
    "data = data[data['RegistrationYear'] <= 2016]"
   ]
  },
  {
   "cell_type": "markdown",
   "metadata": {},
   "source": [
    "Теперь рассмотрим наименьший год регистрации.\n",
    "Самый старый автомобиль, когда-либо проданный, был выпущен в 1884 году. Рассмотрим распределение значений года регистрации, ограничив гистограмму этим значением."
   ]
  },
  {
   "cell_type": "code",
   "execution_count": 23,
   "metadata": {
    "scrolled": true
   },
   "outputs": [
    {
     "data": {
      "image/png": "[encoded data removed]",
      "text/plain": [
       "<Figure size 640x480 with 1 Axes>"
      ]
     },
     "metadata": {},
     "output_type": "display_data"
    }
   ],
   "source": [
    "plt.hist(data['RegistrationYear'], bins=100)\n",
    "plt.xlim(xmin=1884)\n",
    "plt.title('Год регистрации')\n",
    "plt.show()"
   ]
  },
  {
   "cell_type": "markdown",
   "metadata": {},
   "source": [
    "Как мы видим, лишь единичные значения попадают в диапазон менее 1960 года.\n",
    "Посмотрим на их количество."
   ]
  },
  {
   "cell_type": "code",
   "execution_count": 24,
   "metadata": {
    "scrolled": true
   },
   "outputs": [
    {
     "data": {
      "text/plain": [
       "313"
      ]
     },
     "execution_count": 24,
     "metadata": {},
     "output_type": "execute_result"
    }
   ],
   "source": [
    "data[data['RegistrationYear'] < 1960]['RegistrationYear'].count()"
   ]
  },
  {
   "cell_type": "markdown",
   "metadata": {},
   "source": [
    "Таких значений всего 313. Удалим их."
   ]
  },
  {
   "cell_type": "code",
   "execution_count": 25,
   "metadata": {},
   "outputs": [],
   "source": [
    "data=data[data['RegistrationYear'] >= 1960]"
   ]
  },
  {
   "cell_type": "markdown",
   "metadata": {},
   "source": [
    "В столбце с информацией о мощности двигателя так же имеется много выбросов. Присутствует много значений, близких к нулю, а так же превышающих максимально возможную мощность автомобиля.\n",
    "Согласно информации из интернета, самым мощным серийным автомобилем является автомобиль с 2012 л.с.\n",
    "Автомобиль с наименьшей мощностью - 4.2 л.с.\n",
    "\n",
    "Подсчитаем количество автомобилей с большей и меньшей мощностью."
   ]
  },
  {
   "cell_type": "code",
   "execution_count": 26,
   "metadata": {},
   "outputs": [
    {
     "data": {
      "text/plain": [
       "33641"
      ]
     },
     "execution_count": 26,
     "metadata": {},
     "output_type": "execute_result"
    }
   ],
   "source": [
    "data[(data['Power'] < 4.2) | (data['Power'] > 2012)]['Power'].count()"
   ]
  },
  {
   "cell_type": "markdown",
   "metadata": {},
   "source": [
    "Таких строк более 37 тысяч, что составляет 10% от общего количества строк.\n",
    "Скорее всего, данные значения появились из-за ошибки при вводе данных в анкете.\n",
    "Рассмотрим отношение стоимости автомобилей к их мощности."
   ]
  },
  {
   "cell_type": "code",
   "execution_count": 27,
   "metadata": {},
   "outputs": [
    {
     "data": {
      "image/png": "[encoded data removed]",
      "text/plain": [
       "<Figure size 640x480 with 1 Axes>"
      ]
     },
     "metadata": {},
     "output_type": "display_data"
    }
   ],
   "source": [
    "plt.plot(data['Power'], data['Price'], 'bo')\n",
    "plt.show()"
   ]
  },
  {
   "cell_type": "markdown",
   "metadata": {},
   "source": []
  },
  {
   "cell_type": "markdown",
   "metadata": {},
   "source": [
    "Как видно из графика, автомобили мощностью выше 1000 л.с. не имеют самую большую стоимость.\n",
    "В связи с этим, можно точно говорить об ошибке, а не о продаже самых мощных автомобилей.\n",
    "Поэтому, все значения в диапазоне от 1000 до 10000 следует разделить на 10, а от 10000 - на 100."
   ]
  },
  {
   "cell_type": "code",
   "execution_count": 28,
   "metadata": {},
   "outputs": [],
   "source": [
    "def power_correction(power):\n",
    "    if power < 1000:\n",
    "        return power\n",
    "    elif power > 1000 and power < 10000:\n",
    "        return power / 10\n",
    "    else:\n",
    "        return power / 100\n",
    "\n",
    "data['Power'] = data['Power'].apply(power_correction)"
   ]
  },
  {
   "cell_type": "markdown",
   "metadata": {},
   "source": [
    "Рассмотрим распределение значений данного столбца еще раз."
   ]
  },
  {
   "cell_type": "code",
   "execution_count": 29,
   "metadata": {
    "scrolled": true
   },
   "outputs": [
    {
     "data": {
      "text/plain": [
       "count    335808.000000\n",
       "mean        108.746860\n",
       "std          63.611217\n",
       "min           0.000000\n",
       "25%          71.000000\n",
       "50%         105.000000\n",
       "75%         143.000000\n",
       "max         999.000000\n",
       "Name: Power, dtype: float64"
      ]
     },
     "execution_count": 29,
     "metadata": {},
     "output_type": "execute_result"
    }
   ],
   "source": [
    "data['Power'].describe()"
   ]
  },
  {
   "cell_type": "markdown",
   "metadata": {},
   "source": [
    "В столбце остались значения равные нулю. Подсчитаем их количество."
   ]
  },
  {
   "cell_type": "code",
   "execution_count": 30,
   "metadata": {},
   "outputs": [
    {
     "data": {
      "text/plain": [
       "33464"
      ]
     },
     "execution_count": 30,
     "metadata": {},
     "output_type": "execute_result"
    }
   ],
   "source": [
    "data[data['Power'] == 0]['Power'].count()"
   ]
  },
  {
   "cell_type": "markdown",
   "metadata": {},
   "source": [
    "Таких значений более 10%. Рассмотрим распределение цены для этих значений."
   ]
  },
  {
   "cell_type": "code",
   "execution_count": 31,
   "metadata": {},
   "outputs": [
    {
     "data": {
      "image/png": "[encoded data removed]",
      "text/plain": [
       "<Figure size 640x480 with 1 Axes>"
      ]
     },
     "metadata": {},
     "output_type": "display_data"
    }
   ],
   "source": [
    "sns.histplot(data[data['Power'] == 0]['Price'], bins=30, stat='probability')\n",
    "sns.histplot(data[data['Power'] != 0]['Price'], bins=30, stat='probability')\n",
    "plt.show()"
   ]
  },
  {
   "cell_type": "markdown",
   "metadata": {},
   "source": [
    "Как мы видим, разброс значений в цене для автомобилей с указанной мощностью 0 л.с. слишком большой и схож с общим распределением цены. Значит, это не значения, близкие к нулю, а просто не указанная мощность.\n",
    "Поэтому, заполним данные строки значениями моды, как ранее в случае с категориальными признаками."
   ]
  },
  {
   "cell_type": "code",
   "execution_count": 32,
   "metadata": {},
   "outputs": [
    {
     "data": {
      "text/plain": [
       "0"
      ]
     },
     "execution_count": 32,
     "metadata": {},
     "output_type": "execute_result"
    }
   ],
   "source": [
    "data['Power'].isna().sum()"
   ]
  },
  {
   "cell_type": "code",
   "execution_count": 33,
   "metadata": {},
   "outputs": [],
   "source": [
    "grouped_data = data.groupby(\n",
    "    by=['Brand', 'Model']\n",
    ")['Power'].apply(lambda x: x.mode().iloc[0])\n",
    "\n",
    "merged_data = pd.merge(data, grouped_data, left_on=['Brand', 'Model'], right_index=True, how='left')\n",
    "\n",
    "merged_data['Power_x'] = merged_data.apply(lambda row: row['Power_y'] if row['Power_x'] == 0 else row['Power_x'], axis=1)\n",
    "\n",
    "merged_data.drop(columns=['Power_y'], inplace=True)\n",
    "merged_data.rename(columns={'Power_x': 'Power'}, inplace=True)\n",
    "\n",
    "data = merged_data.copy()     "
   ]
  },
  {
   "cell_type": "code",
   "execution_count": 34,
   "metadata": {},
   "outputs": [
    {
     "data": {
      "text/plain": [
       "0"
      ]
     },
     "execution_count": 34,
     "metadata": {},
     "output_type": "execute_result"
    }
   ],
   "source": [
    "data['Power'].isna().sum()"
   ]
  },
  {
   "cell_type": "code",
   "execution_count": 35,
   "metadata": {
    "scrolled": true
   },
   "outputs": [
    {
     "data": {
      "text/plain": [
       "0.0170752334667429"
      ]
     },
     "execution_count": 35,
     "metadata": {},
     "output_type": "execute_result"
    }
   ],
   "source": [
    "data[data['Power'] == 0]['Power'].count() / len(data)"
   ]
  },
  {
   "cell_type": "markdown",
   "metadata": {},
   "source": [
    "Около 2% значений осталось 0, для них не удалось подсчитать моду. Удалим эти данные"
   ]
  },
  {
   "cell_type": "code",
   "execution_count": 36,
   "metadata": {},
   "outputs": [],
   "source": [
    "data.drop(data[data['Power'] == 0].index, inplace=True)"
   ]
  },
  {
   "cell_type": "markdown",
   "metadata": {},
   "source": [
    "Месяц регистрации не является релевантным, поскольку при оценке автомобиля используется год выпуска, поэтому обрабатывать аномальные значения в этом столбце не нужно, он будет удален."
   ]
  },
  {
   "cell_type": "markdown",
   "metadata": {},
   "source": [
    "Рассмотрим распределение значений в столбце с ценами."
   ]
  },
  {
   "cell_type": "code",
   "execution_count": 37,
   "metadata": {},
   "outputs": [
    {
     "data": {
      "text/plain": [
       "count    330074.000000\n",
       "mean       4537.029275\n",
       "std        4555.460627\n",
       "min           0.000000\n",
       "25%        1150.000000\n",
       "50%        2850.000000\n",
       "75%        6500.000000\n",
       "max       20000.000000\n",
       "Name: Price, dtype: float64"
      ]
     },
     "execution_count": 37,
     "metadata": {},
     "output_type": "execute_result"
    }
   ],
   "source": [
    "data['Price'].describe()"
   ]
  },
  {
   "cell_type": "markdown",
   "metadata": {},
   "source": [
    "Максимальная цена выглядит правдоподобно, как и 1 и 3 квартили.\n",
    "рассмотрим гистограмму распределения значений от 0 до 1го квартиля."
   ]
  },
  {
   "cell_type": "code",
   "execution_count": 38,
   "metadata": {},
   "outputs": [
    {
     "data": {
      "image/png": "[encoded data removed]",
      "text/plain": [
       "<Figure size 640x480 with 1 Axes>"
      ]
     },
     "metadata": {},
     "output_type": "display_data"
    }
   ],
   "source": [
    "sns.histplot(data[(data['Price'] < 1100)]['Price'], bins=30)\n",
    "plt.show()"
   ]
  },
  {
   "cell_type": "markdown",
   "metadata": {},
   "source": [
    "Как мы видим, присутствует большое количество очень маленьких значений. Вряд ли в продаже есть автомобили стоимостью менее 100 евро."
   ]
  },
  {
   "cell_type": "code",
   "execution_count": 39,
   "metadata": {},
   "outputs": [
    {
     "data": {
      "text/plain": [
       "0.03139598999012343"
      ]
     },
     "execution_count": 39,
     "metadata": {},
     "output_type": "execute_result"
    }
   ],
   "source": [
    "data[data['Price'] < 100]['Price'].count() / len(data)"
   ]
  },
  {
   "cell_type": "markdown",
   "metadata": {},
   "source": [
    "Относительно общего количества строк, значение меньше 100 имеется в 3 процентах случаев. В связи с этим, выглядит разумным удалить эти строки."
   ]
  },
  {
   "cell_type": "code",
   "execution_count": 40,
   "metadata": {},
   "outputs": [],
   "source": [
    "data = data[data['Price'] >= 100]"
   ]
  },
  {
   "cell_type": "markdown",
   "metadata": {},
   "source": [
    "### Удаление нерелевантных признаков"
   ]
  },
  {
   "cell_type": "markdown",
   "metadata": {},
   "source": [
    "Как уже говорилось выше, месяц регистрации не является релевантным. Кроме того, нерелевантными признаками для предсказания цены являются:\n",
    "- DateCrawled — дата скачивания анкеты из базы\n",
    "- DateCreated — дата создания анкеты\n",
    "- PostalCode — почтовый индекс владельца анкеты (пользователя)\n",
    "- LastSeen — дата последней активности пользователя\n",
    "\n",
    "Так же, стоит отметить, что из-за того, что у всех объявлений отсутствуют фотографии, данный признак так же не является релевантным.\n",
    "Проверим, есть ли одинаковые названия моделей у разных брендов автомобилей."
   ]
  },
  {
   "cell_type": "code",
   "execution_count": 41,
   "metadata": {},
   "outputs": [
    {
     "name": "stdout",
     "output_type": "stream",
     "text": [
      "Brand\n",
      "True     240\n",
      "False      9\n",
      "Name: count, dtype: int64\n"
     ]
    }
   ],
   "source": [
    "result = data.groupby('Model')['Brand'].apply(lambda x: len(set(x)) == 1)\n",
    "\n",
    "models_with_same_brand = result[result].index.tolist()\n",
    "\n",
    "print(result.value_counts())"
   ]
  },
  {
   "cell_type": "markdown",
   "metadata": {},
   "source": [
    "В 9 случаях у одинаковых названий моделей разные бренды, поэтому названия брендов тоже войдут в используемые для обучения и предсказания признаки."
   ]
  },
  {
   "cell_type": "markdown",
   "metadata": {},
   "source": [
    "Так же, стоит отметить, что из-за того, что у всех объявлений отсутствуют фотографии, данный признак так же не является релевантным.\n",
    "Кроме того, можно удалить столбец с маркой автомобиля, поскольку название модели уже вмещает в себя марку.\n",
    "\n",
    "В связи этим, удалим эти столбцы из датасета."
   ]
  },
  {
   "cell_type": "code",
   "execution_count": 42,
   "metadata": {},
   "outputs": [],
   "source": [
    "data = data.drop(\n",
    "    ['RegistrationMonth', 'DateCrawled', 'DateCreated', 'PostalCode', 'LastSeen', 'NumberOfPictures'], \n",
    "    axis=1\n",
    ")"
   ]
  },
  {
   "cell_type": "markdown",
   "metadata": {},
   "source": [
    "Еще раз проверим данные на присутствие дубликатов."
   ]
  },
  {
   "cell_type": "code",
   "execution_count": 43,
   "metadata": {
    "scrolled": false
   },
   "outputs": [
    {
     "data": {
      "text/plain": [
       "44472"
      ]
     },
     "execution_count": 43,
     "metadata": {},
     "output_type": "execute_result"
    }
   ],
   "source": [
    "data.duplicated().sum()"
   ]
  },
  {
   "cell_type": "markdown",
   "metadata": {},
   "source": [
    "После предобработки датасета, в нем появились новые дубликаты. Удалим их."
   ]
  },
  {
   "cell_type": "code",
   "execution_count": 44,
   "metadata": {},
   "outputs": [],
   "source": [
    "data.drop_duplicates(inplace=True)"
   ]
  },
  {
   "cell_type": "markdown",
   "metadata": {},
   "source": [
    "## Обучение моделей"
   ]
  },
  {
   "cell_type": "markdown",
   "metadata": {},
   "source": [
    "### Подготовка выборок"
   ]
  },
  {
   "cell_type": "markdown",
   "metadata": {},
   "source": [
    "Для начала отделим целевой признак от остальных."
   ]
  },
  {
   "cell_type": "code",
   "execution_count": 45,
   "metadata": {},
   "outputs": [],
   "source": [
    "RANDOM_STATE = 12345"
   ]
  },
  {
   "cell_type": "code",
   "execution_count": 46,
   "metadata": {},
   "outputs": [],
   "source": [
    "target = data['Price']\n",
    "features = data.drop('Price', axis = 1)"
   ]
  },
  {
   "cell_type": "markdown",
   "metadata": {},
   "source": [
    "Разделим выборки на тренировочную и тестовую. Подбор гиперпараметров будет осуществялться методом кросс-валидации, поэтому валидационная выборка не понадобится."
   ]
  },
  {
   "cell_type": "code",
   "execution_count": 47,
   "metadata": {},
   "outputs": [],
   "source": [
    "features_train, features_test, target_train, target_test = train_test_split(\n",
    "    features, target, test_size=0.25, random_state=RANDOM_STATE\n",
    ")"
   ]
  },
  {
   "cell_type": "markdown",
   "metadata": {},
   "source": [
    "Для обучения классических моделей необходимо закодировать категориальные признаки.\n",
    "Для признака `Model` OHE  создаст большое количество новых столбцов, что сильно увеличит размер матрицы.\n",
    "В связи с этим, восопльзуемся методом Leave-one-out Encoder. Несмотря на то, что в данном методе кодирование осуществляется с помощью целевого признака, отбрасывание части выборки при обучении данного кодирования позволяет избежать утечки данных.\n",
    "Остальные признаки закодируем, воспользовавшись OHE."
   ]
  },
  {
   "cell_type": "code",
   "execution_count": 48,
   "metadata": {},
   "outputs": [
    {
     "data": {
      "text/plain": [
       "Index(['VehicleType', 'RegistrationYear', 'Gearbox', 'Power', 'Model',\n",
       "       'Kilometer', 'FuelType', 'Brand', 'Repaired'],\n",
       "      dtype='object')"
      ]
     },
     "execution_count": 48,
     "metadata": {},
     "output_type": "execute_result"
    }
   ],
   "source": [
    "features_train.columns"
   ]
  },
  {
   "cell_type": "code",
   "execution_count": 49,
   "metadata": {
    "scrolled": true
   },
   "outputs": [],
   "source": [
    "encoder = LeaveOneOutEncoder(\n",
    "    cols=[\n",
    "        'VehicleType', 'Gearbox', 'Model','FuelType', 'Brand', 'Repaired'\n",
    "    ]\n",
    ")\n",
    "encoder.fit(features_train, target_train)\n",
    "\n",
    "features_train_encoded = encoder.transform(features_train)\n",
    "features_test_encoded= encoder.transform(features_test)"
   ]
  },
  {
   "cell_type": "markdown",
   "metadata": {},
   "source": [
    "### Модель случайного леса"
   ]
  },
  {
   "cell_type": "markdown",
   "metadata": {},
   "source": [
    "Обучим модель случайного леса и методом кросс-валидации подберем оптимальные гиперпараметры."
   ]
  },
  {
   "cell_type": "code",
   "execution_count": 50,
   "metadata": {},
   "outputs": [],
   "source": [
    "random_forest_model = RandomForestRegressor(n_jobs=-1, random_state=RANDOM_STATE)\n",
    "\n",
    "random_forest_params = {\n",
    "    'n_estimators' : range(100, 201, 50),\n",
    "    'max_depth' : range(2, 10, 2),\n",
    "    'min_samples_split' : range(2, 10, 2),\n",
    "    'min_samples_leaf' : range(2, 100, 10)\n",
    "}\n",
    "\n",
    "search_forest_cv = RandomizedSearchCV(\n",
    "    random_forest_model,\n",
    "    random_forest_params,\n",
    "    n_iter=4, \n",
    "    verbose=2,\n",
    "    scoring='neg_root_mean_squared_error',\n",
    "    n_jobs=-1,\n",
    "    random_state=RANDOM_STATE,\n",
    ")"
   ]
  },
  {
   "cell_type": "code",
   "execution_count": 51,
   "metadata": {
    "scrolled": true
   },
   "outputs": [
    {
     "name": "stdout",
     "output_type": "stream",
     "text": [
      "Fitting 5 folds for each of 4 candidates, totalling 20 fits\n",
      "Лучший результат модели случайного леса: \n",
      "1990.4125950547327\n"
     ]
    }
   ],
   "source": [
    "random_forest_search = search_forest_cv.fit(\n",
    "    features_train_encoded,\n",
    "    target_train\n",
    ")\n",
    "\n",
    "print(f'Лучший результат модели случайного леса: \\n{(abs(random_forest_search.best_score_))}')"
   ]
  },
  {
   "cell_type": "markdown",
   "metadata": {},
   "source": [
    "Лучшая модель случайного леса, подобранная с помощью Randomized Search дала результат метрики RMSE ниже, чем пороговое значение."
   ]
  },
  {
   "cell_type": "code",
   "execution_count": 52,
   "metadata": {},
   "outputs": [],
   "source": [
    "random_forest_model = random_forest_search.best_estimator_"
   ]
  },
  {
   "cell_type": "markdown",
   "metadata": {},
   "source": [
    "### Модель Light GBM"
   ]
  },
  {
   "cell_type": "markdown",
   "metadata": {},
   "source": [
    "Для модели градиентного бустинга LightGBM кодирование категориальных признаков не нужно. Поэтому, в данном случае мы воспользуемся оригинальными значениями из датасета."
   ]
  },
  {
   "cell_type": "code",
   "execution_count": 53,
   "metadata": {},
   "outputs": [],
   "source": [
    "categorical_columns = ['VehicleType', 'Gearbox', 'Model', 'Brand', 'FuelType', 'Repaired']\n",
    "for col in categorical_columns:\n",
    "    features_train[col] = features_train[col].astype('category')\n",
    "    features_test[col] = features_test[col].astype('category')"
   ]
  },
  {
   "cell_type": "code",
   "execution_count": 54,
   "metadata": {},
   "outputs": [],
   "source": [
    "lgb_params = {\n",
    "    'num_leaves' : range(10,100,10),\n",
    "    'max_depth' : range(7,15,1),\n",
    "    'n_estimators' : range(100,1000,100),\n",
    "}\n",
    "\n",
    "lgb_model = lgb.LGBMRegressor(\n",
    "    objective='regression',\n",
    "    random_state=RANDOM_STATE\n",
    ")\n",
    "\n",
    "search_lgb_cv = RandomizedSearchCV(\n",
    "    lgb_model,\n",
    "    lgb_params,\n",
    "    n_iter=4,\n",
    "    scoring='neg_mean_squared_error',\n",
    "    n_jobs=-1,\n",
    "    random_state=RANDOM_STATE\n",
    ")"
   ]
  },
  {
   "cell_type": "code",
   "execution_count": 55,
   "metadata": {},
   "outputs": [
    {
     "name": "stdout",
     "output_type": "stream",
     "text": [
      "Лучший результат модели Light GBM: \n",
      "1579.9150703748717\n"
     ]
    }
   ],
   "source": [
    "search_lgb_cv.fit(features_train, target_train)\n",
    "\n",
    "print(f'Лучший результат модели Light GBM: \\n{math.sqrt(abs(search_lgb_cv.best_score_))}')"
   ]
  },
  {
   "cell_type": "markdown",
   "metadata": {},
   "source": [
    "Результат Light GBM гораздо лучше, чем у модели случайного леса."
   ]
  },
  {
   "cell_type": "code",
   "execution_count": 56,
   "metadata": {},
   "outputs": [],
   "source": [
    "lgb_model = search_lgb_cv.best_estimator_"
   ]
  },
  {
   "cell_type": "markdown",
   "metadata": {},
   "source": [
    "## Анализ моделей"
   ]
  },
  {
   "cell_type": "markdown",
   "metadata": {},
   "source": [
    "Сравним время обучения и предсказания двух моделей, а так же их результат на тестовой выборке."
   ]
  },
  {
   "cell_type": "code",
   "execution_count": 57,
   "metadata": {},
   "outputs": [
    {
     "name": "stdout",
     "output_type": "stream",
     "text": [
      "Время обучения для оптимальной модели случайного леса:\n",
      "21.103264379501343\n",
      "Время предсказания для оптимальной модели случайного леса:\n",
      "0.21228370666503907\n"
     ]
    }
   ],
   "source": [
    "random_forest_fit_time = random_forest_search.cv_results_['mean_fit_time'][random_forest_search.best_index_]\n",
    "random_forest_score_time = random_forest_search.cv_results_['mean_score_time'][random_forest_search.best_index_]\n",
    "\n",
    "print(f'Время обучения для оптимальной модели случайного леса:\\n{random_forest_fit_time}')\n",
    "print(f'Время предсказания для оптимальной модели случайного леса:\\n{random_forest_score_time}')"
   ]
  },
  {
   "cell_type": "code",
   "execution_count": 58,
   "metadata": {
    "scrolled": true
   },
   "outputs": [
    {
     "name": "stdout",
     "output_type": "stream",
     "text": [
      "Время обучения для оптимальной модели Light GBM:\n",
      "4.3881187915802\n",
      "Время предсказания для оптимальной модели Light GBM:\n",
      "2.2384827613830565\n"
     ]
    }
   ],
   "source": [
    "lgb_fit_time = search_lgb_cv.cv_results_['mean_fit_time'][search_lgb_cv.best_index_]\n",
    "lgb_score_time = search_lgb_cv.cv_results_['mean_score_time'][search_lgb_cv.best_index_]\n",
    "\n",
    "print(f'Время обучения для оптимальной модели Light GBM:\\n{lgb_fit_time}')\n",
    "print(f'Время предсказания для оптимальной модели Light GBM:\\n{lgb_score_time}')"
   ]
  },
  {
   "cell_type": "code",
   "execution_count": 59,
   "metadata": {},
   "outputs": [],
   "source": [
    "lgb_model_predictions = lgb_model.predict(features_test)"
   ]
  },
  {
   "cell_type": "code",
   "execution_count": 60,
   "metadata": {},
   "outputs": [
    {
     "name": "stdout",
     "output_type": "stream",
     "text": [
      "Результат модели light GBM на тестовой выборке: 1542.2508074189168\n"
     ]
    }
   ],
   "source": [
    "rmse_lgb = mean_squared_error(\n",
    "    target_test,\n",
    "    lgb_model_predictions,\n",
    "    squared=False\n",
    ")\n",
    "print(f'Результат модели light GBM на тестовой выборке: {rmse_lgb}')"
   ]
  },
  {
   "cell_type": "markdown",
   "metadata": {},
   "source": [
    "# Вывод "
   ]
  },
  {
   "cell_type": "markdown",
   "metadata": {},
   "source": [
    "Таким образом, несмотря на то, что модель Light GBM предсказывает на несколько секунду дольше, она дает гораздо более точный результат, а обучается быстрее. Кроме того, нет необходимости обрабатывать категориальные признаки, которых большое количество."
   ]
  }
 ],
 "metadata": {
  "ExecuteTimeLog": [
   {
    "duration": 344,
    "start_time": "2023-08-01T05:02:34.049Z"
   },
   {
    "duration": 1058,
    "start_time": "2023-08-01T05:03:03.166Z"
   },
   {
    "duration": 19,
    "start_time": "2023-08-01T05:04:27.529Z"
   },
   {
    "duration": 97,
    "start_time": "2023-08-01T05:04:39.349Z"
   },
   {
    "duration": 114,
    "start_time": "2023-08-01T05:04:44.465Z"
   },
   {
    "duration": 16676,
    "start_time": "2023-08-01T05:10:44.769Z"
   },
   {
    "duration": 1598,
    "start_time": "2023-08-01T05:11:19.468Z"
   },
   {
    "duration": 124,
    "start_time": "2023-08-01T05:11:32.211Z"
   },
   {
    "duration": 10,
    "start_time": "2023-08-01T05:11:54.747Z"
   },
   {
    "duration": 27612,
    "start_time": "2023-08-01T05:12:00.614Z"
   },
   {
    "duration": 3029,
    "start_time": "2023-08-01T05:15:19.935Z"
   },
   {
    "duration": 2919,
    "start_time": "2023-08-01T05:15:44.825Z"
   },
   {
    "duration": 2747,
    "start_time": "2023-08-01T05:16:02.587Z"
   },
   {
    "duration": 4611,
    "start_time": "2023-08-01T05:18:04.487Z"
   },
   {
    "duration": 3,
    "start_time": "2023-08-01T05:18:21.987Z"
   },
   {
    "duration": 18,
    "start_time": "2023-08-01T05:18:26.043Z"
   },
   {
    "duration": 36933,
    "start_time": "2023-08-01T05:18:27.287Z"
   },
   {
    "duration": 49537,
    "start_time": "2023-08-01T05:19:41.628Z"
   },
   {
    "duration": 433,
    "start_time": "2023-08-01T05:28:29.715Z"
   },
   {
    "duration": 50,
    "start_time": "2023-08-01T12:17:29.310Z"
   },
   {
    "duration": 495,
    "start_time": "2023-08-01T12:17:35.058Z"
   },
   {
    "duration": 0,
    "start_time": "2023-08-01T12:17:35.555Z"
   },
   {
    "duration": 0,
    "start_time": "2023-08-01T12:17:35.556Z"
   },
   {
    "duration": 0,
    "start_time": "2023-08-01T12:17:35.557Z"
   },
   {
    "duration": 0,
    "start_time": "2023-08-01T12:17:35.558Z"
   },
   {
    "duration": 0,
    "start_time": "2023-08-01T12:17:35.566Z"
   },
   {
    "duration": 17036,
    "start_time": "2023-08-01T12:17:56.904Z"
   },
   {
    "duration": 3872,
    "start_time": "2023-08-01T12:18:17.870Z"
   },
   {
    "duration": 4181,
    "start_time": "2023-08-01T12:18:26.430Z"
   },
   {
    "duration": 21,
    "start_time": "2023-08-01T12:18:30.613Z"
   },
   {
    "duration": 14,
    "start_time": "2023-08-01T12:18:33.982Z"
   },
   {
    "duration": 85871,
    "start_time": "2023-08-01T12:18:34.698Z"
   },
   {
    "duration": 1811,
    "start_time": "2023-08-01T12:22:01.055Z"
   },
   {
    "duration": 2027,
    "start_time": "2023-08-01T12:22:30.475Z"
   },
   {
    "duration": 1613,
    "start_time": "2023-08-01T12:28:53.355Z"
   },
   {
    "duration": 20,
    "start_time": "2023-08-01T12:29:02.569Z"
   },
   {
    "duration": 51,
    "start_time": "2023-08-01T12:29:11.949Z"
   },
   {
    "duration": 36,
    "start_time": "2023-08-01T12:30:51.229Z"
   },
   {
    "duration": 36,
    "start_time": "2023-08-01T12:31:28.178Z"
   },
   {
    "duration": 30,
    "start_time": "2023-08-01T12:31:47.949Z"
   },
   {
    "duration": 32,
    "start_time": "2023-08-01T12:57:28.631Z"
   },
   {
    "duration": 20,
    "start_time": "2023-08-01T13:05:54.691Z"
   },
   {
    "duration": 19,
    "start_time": "2023-08-01T13:06:05.323Z"
   },
   {
    "duration": 16859,
    "start_time": "2023-08-02T05:01:42.365Z"
   },
   {
    "duration": 2058,
    "start_time": "2023-08-02T05:01:59.227Z"
   },
   {
    "duration": 3036,
    "start_time": "2023-08-02T05:02:01.287Z"
   },
   {
    "duration": 10,
    "start_time": "2023-08-02T05:02:04.325Z"
   },
   {
    "duration": 76443,
    "start_time": "2023-08-02T05:02:04.338Z"
   },
   {
    "duration": 495,
    "start_time": "2023-08-02T05:03:20.783Z"
   },
   {
    "duration": 47,
    "start_time": "2023-08-02T05:03:21.280Z"
   },
   {
    "duration": 40,
    "start_time": "2023-08-02T05:03:21.330Z"
   },
   {
    "duration": 4,
    "start_time": "2023-08-02T05:03:33.363Z"
   },
   {
    "duration": 205,
    "start_time": "2023-08-02T05:07:46.656Z"
   },
   {
    "duration": 27,
    "start_time": "2023-08-02T05:07:53.695Z"
   },
   {
    "duration": 17,
    "start_time": "2023-08-02T05:08:44.776Z"
   },
   {
    "duration": 14,
    "start_time": "2023-08-02T05:14:41.861Z"
   },
   {
    "duration": 16,
    "start_time": "2023-08-02T05:16:01.542Z"
   },
   {
    "duration": 4147,
    "start_time": "2023-08-02T05:16:32.522Z"
   },
   {
    "duration": 2217,
    "start_time": "2023-08-02T05:22:54.296Z"
   },
   {
    "duration": 246,
    "start_time": "2023-08-02T05:25:11.430Z"
   },
   {
    "duration": 238,
    "start_time": "2023-08-02T05:26:17.636Z"
   },
   {
    "duration": 215,
    "start_time": "2023-08-02T05:27:32.735Z"
   },
   {
    "duration": 27,
    "start_time": "2023-08-02T05:27:41.230Z"
   },
   {
    "duration": 14,
    "start_time": "2023-08-02T05:28:48.235Z"
   },
   {
    "duration": 155,
    "start_time": "2023-08-02T05:28:56.761Z"
   },
   {
    "duration": 155,
    "start_time": "2023-08-02T05:29:02.491Z"
   },
   {
    "duration": 177,
    "start_time": "2023-08-02T05:29:07.206Z"
   },
   {
    "duration": 160,
    "start_time": "2023-08-02T05:29:10.743Z"
   },
   {
    "duration": 171,
    "start_time": "2023-08-02T05:30:13.436Z"
   },
   {
    "duration": 178,
    "start_time": "2023-08-02T05:30:26.636Z"
   },
   {
    "duration": 149,
    "start_time": "2023-08-02T05:30:47.502Z"
   },
   {
    "duration": 154,
    "start_time": "2023-08-02T05:30:51.742Z"
   },
   {
    "duration": 192,
    "start_time": "2023-08-02T05:30:54.411Z"
   },
   {
    "duration": 170,
    "start_time": "2023-08-02T05:31:25.984Z"
   },
   {
    "duration": 158,
    "start_time": "2023-08-02T05:31:38.135Z"
   },
   {
    "duration": 300,
    "start_time": "2023-08-02T05:32:03.367Z"
   },
   {
    "duration": 77,
    "start_time": "2023-08-02T05:32:54.376Z"
   },
   {
    "duration": 131,
    "start_time": "2023-08-02T05:33:04.350Z"
   },
   {
    "duration": 176,
    "start_time": "2023-08-02T05:33:11.242Z"
   },
   {
    "duration": 237,
    "start_time": "2023-08-02T05:33:16.094Z"
   },
   {
    "duration": 62,
    "start_time": "2023-08-02T05:33:27.809Z"
   },
   {
    "duration": 2285,
    "start_time": "2023-08-02T05:36:22.130Z"
   },
   {
    "duration": 1806,
    "start_time": "2023-08-02T05:36:24.418Z"
   },
   {
    "duration": 844,
    "start_time": "2023-08-02T05:36:26.226Z"
   },
   {
    "duration": 512,
    "start_time": "2023-08-02T05:36:27.073Z"
   },
   {
    "duration": 987,
    "start_time": "2023-08-02T05:36:27.587Z"
   },
   {
    "duration": 109,
    "start_time": "2023-08-02T05:36:28.576Z"
   },
   {
    "duration": 317,
    "start_time": "2023-08-02T05:36:28.687Z"
   },
   {
    "duration": 36,
    "start_time": "2023-08-02T05:36:29.006Z"
   },
   {
    "duration": 56,
    "start_time": "2023-08-02T05:36:29.058Z"
   },
   {
    "duration": 45,
    "start_time": "2023-08-02T05:36:29.116Z"
   },
   {
    "duration": 4,
    "start_time": "2023-08-02T05:36:29.163Z"
   },
   {
    "duration": 3,
    "start_time": "2023-08-02T05:36:30.676Z"
   },
   {
    "duration": 1810,
    "start_time": "2023-08-02T05:36:41.052Z"
   },
   {
    "duration": 844,
    "start_time": "2023-08-02T05:36:45.216Z"
   },
   {
    "duration": 840,
    "start_time": "2023-08-02T05:36:55.617Z"
   },
   {
    "duration": 601,
    "start_time": "2023-08-02T05:36:58.862Z"
   },
   {
    "duration": 1052,
    "start_time": "2023-08-02T05:37:02.183Z"
   },
   {
    "duration": 109,
    "start_time": "2023-08-02T05:37:21.077Z"
   },
   {
    "duration": 151,
    "start_time": "2023-08-02T05:40:02.955Z"
   },
   {
    "duration": 134,
    "start_time": "2023-08-02T05:40:10.876Z"
   },
   {
    "duration": 193,
    "start_time": "2023-08-02T05:40:18.977Z"
   },
   {
    "duration": 375,
    "start_time": "2023-08-02T05:41:09.477Z"
   },
   {
    "duration": 46,
    "start_time": "2023-08-02T07:40:10.603Z"
   },
   {
    "duration": 485,
    "start_time": "2023-08-02T07:40:23.800Z"
   },
   {
    "duration": 15515,
    "start_time": "2023-08-02T07:40:26.561Z"
   },
   {
    "duration": 1787,
    "start_time": "2023-08-02T07:40:46.440Z"
   },
   {
    "duration": 1016,
    "start_time": "2023-08-02T07:40:50.385Z"
   },
   {
    "duration": 356,
    "start_time": "2023-08-02T07:40:53.968Z"
   },
   {
    "duration": 771,
    "start_time": "2023-08-02T07:40:55.261Z"
   },
   {
    "duration": 94,
    "start_time": "2023-08-02T07:40:57.337Z"
   },
   {
    "duration": 425,
    "start_time": "2023-08-02T07:41:02.773Z"
   },
   {
    "duration": 365,
    "start_time": "2023-08-02T07:41:09.479Z"
   },
   {
    "duration": 355,
    "start_time": "2023-08-02T07:41:15.320Z"
   },
   {
    "duration": 340,
    "start_time": "2023-08-02T07:42:09.860Z"
   },
   {
    "duration": 345,
    "start_time": "2023-08-02T07:42:17.799Z"
   },
   {
    "duration": 10205,
    "start_time": "2023-08-02T07:42:22.741Z"
   },
   {
    "duration": 354,
    "start_time": "2023-08-02T07:43:03.198Z"
   },
   {
    "duration": 355,
    "start_time": "2023-08-02T07:43:36.097Z"
   },
   {
    "duration": 15901,
    "start_time": "2023-08-02T09:06:41.514Z"
   },
   {
    "duration": 2339,
    "start_time": "2023-08-02T09:07:05.223Z"
   },
   {
    "duration": 4726,
    "start_time": "2023-08-02T09:07:07.564Z"
   },
   {
    "duration": 1150,
    "start_time": "2023-08-02T09:07:16.086Z"
   },
   {
    "duration": 523,
    "start_time": "2023-08-02T09:07:19.323Z"
   },
   {
    "duration": 1061,
    "start_time": "2023-08-02T09:07:20.788Z"
   },
   {
    "duration": 109,
    "start_time": "2023-08-02T09:07:23.100Z"
   },
   {
    "duration": 417,
    "start_time": "2023-08-02T09:07:37.244Z"
   },
   {
    "duration": 159,
    "start_time": "2023-08-02T09:55:41.138Z"
   },
   {
    "duration": 173,
    "start_time": "2023-08-02T09:55:56.889Z"
   },
   {
    "duration": 286,
    "start_time": "2023-08-02T09:56:01.037Z"
   },
   {
    "duration": 261,
    "start_time": "2023-08-02T09:56:44.781Z"
   },
   {
    "duration": 185,
    "start_time": "2023-08-02T09:56:51.655Z"
   },
   {
    "duration": 206,
    "start_time": "2023-08-02T09:56:55.776Z"
   },
   {
    "duration": 269,
    "start_time": "2023-08-02T09:57:01.076Z"
   },
   {
    "duration": 393,
    "start_time": "2023-08-02T09:57:21.693Z"
   },
   {
    "duration": 203,
    "start_time": "2023-08-02T09:58:05.548Z"
   },
   {
    "duration": 390,
    "start_time": "2023-08-02T10:04:40.778Z"
   },
   {
    "duration": 150,
    "start_time": "2023-08-02T10:05:11.603Z"
   },
   {
    "duration": 148,
    "start_time": "2023-08-02T10:06:37.449Z"
   },
   {
    "duration": 13,
    "start_time": "2023-08-02T10:08:16.363Z"
   },
   {
    "duration": 14,
    "start_time": "2023-08-02T10:08:19.728Z"
   },
   {
    "duration": 309,
    "start_time": "2023-08-02T10:08:23.181Z"
   },
   {
    "duration": 18,
    "start_time": "2023-08-02T10:11:33.894Z"
   },
   {
    "duration": 97,
    "start_time": "2023-08-02T10:11:39.077Z"
   },
   {
    "duration": 134,
    "start_time": "2023-08-02T10:12:24.850Z"
   },
   {
    "duration": 102,
    "start_time": "2023-08-02T10:12:57.488Z"
   },
   {
    "duration": 5573,
    "start_time": "2023-08-02T10:13:03.191Z"
   },
   {
    "duration": 5956,
    "start_time": "2023-08-02T10:13:37.712Z"
   },
   {
    "duration": 39,
    "start_time": "2023-08-02T10:16:08.345Z"
   },
   {
    "duration": 134,
    "start_time": "2023-08-02T10:17:47.139Z"
   },
   {
    "duration": 2844,
    "start_time": "2023-08-02T10:36:53.619Z"
   },
   {
    "duration": 3,
    "start_time": "2023-08-02T10:36:57.976Z"
   },
   {
    "duration": 214,
    "start_time": "2023-08-02T10:37:03.870Z"
   },
   {
    "duration": 3554,
    "start_time": "2023-08-02T10:37:12.736Z"
   },
   {
    "duration": 3810,
    "start_time": "2023-08-02T10:41:21.986Z"
   },
   {
    "duration": 5,
    "start_time": "2023-08-02T10:42:31.389Z"
   },
   {
    "duration": 80,
    "start_time": "2023-08-02T10:42:37.793Z"
   },
   {
    "duration": 12,
    "start_time": "2023-08-02T10:42:57.125Z"
   },
   {
    "duration": 43,
    "start_time": "2023-08-02T10:43:22.192Z"
   },
   {
    "duration": 58,
    "start_time": "2023-08-02T10:43:26.372Z"
   },
   {
    "duration": 5,
    "start_time": "2023-08-02T10:44:03.586Z"
   },
   {
    "duration": 105,
    "start_time": "2023-08-02T10:44:07.938Z"
   },
   {
    "duration": 113,
    "start_time": "2023-08-02T10:44:24.131Z"
   },
   {
    "duration": 19,
    "start_time": "2023-08-02T10:44:33.320Z"
   },
   {
    "duration": 4,
    "start_time": "2023-08-02T10:47:28.239Z"
   },
   {
    "duration": 17,
    "start_time": "2023-08-02T10:50:09.825Z"
   },
   {
    "duration": 22,
    "start_time": "2023-08-02T10:50:14.109Z"
   },
   {
    "duration": 1946,
    "start_time": "2023-08-02T10:50:18.211Z"
   },
   {
    "duration": 904,
    "start_time": "2023-08-02T10:50:32.843Z"
   },
   {
    "duration": 1424,
    "start_time": "2023-08-02T10:50:49.971Z"
   },
   {
    "duration": 1543,
    "start_time": "2023-08-02T10:51:02.856Z"
   },
   {
    "duration": 2376,
    "start_time": "2023-08-02T10:51:13.741Z"
   },
   {
    "duration": 2223,
    "start_time": "2023-08-02T10:51:22.342Z"
   },
   {
    "duration": 2300,
    "start_time": "2023-08-02T10:51:31.394Z"
   },
   {
    "duration": 1129,
    "start_time": "2023-08-02T10:51:41.738Z"
   },
   {
    "duration": 1460,
    "start_time": "2023-08-02T10:51:50.451Z"
   },
   {
    "duration": 358,
    "start_time": "2023-08-02T10:51:56.986Z"
   },
   {
    "duration": 1819,
    "start_time": "2023-08-02T10:52:04.685Z"
   },
   {
    "duration": 1185,
    "start_time": "2023-08-02T10:52:14.560Z"
   },
   {
    "duration": 401,
    "start_time": "2023-08-02T10:52:20.196Z"
   },
   {
    "duration": 483,
    "start_time": "2023-08-02T10:52:23.355Z"
   },
   {
    "duration": 1245,
    "start_time": "2023-08-02T10:52:27.370Z"
   },
   {
    "duration": 1472,
    "start_time": "2023-08-02T10:52:33.638Z"
   },
   {
    "duration": 2066,
    "start_time": "2023-08-02T10:52:48.274Z"
   },
   {
    "duration": 35,
    "start_time": "2023-08-02T10:57:29.476Z"
   },
   {
    "duration": 33,
    "start_time": "2023-08-02T10:57:36.150Z"
   },
   {
    "duration": 17,
    "start_time": "2023-08-02T10:59:06.244Z"
   },
   {
    "duration": 17,
    "start_time": "2023-08-02T10:59:14.370Z"
   },
   {
    "duration": 18,
    "start_time": "2023-08-02T10:59:52.169Z"
   },
   {
    "duration": 5240,
    "start_time": "2023-08-02T11:00:11.683Z"
   },
   {
    "duration": 0,
    "start_time": "2023-08-02T11:00:24.606Z"
   },
   {
    "duration": 58,
    "start_time": "2023-08-02T11:00:29.073Z"
   },
   {
    "duration": 38,
    "start_time": "2023-08-02T11:02:20.598Z"
   },
   {
    "duration": 35,
    "start_time": "2023-08-02T11:04:13.390Z"
   },
   {
    "duration": 3306,
    "start_time": "2023-08-02T11:10:43.522Z"
   },
   {
    "duration": 2461,
    "start_time": "2023-08-02T11:11:21.337Z"
   },
   {
    "duration": 3316,
    "start_time": "2023-08-02T11:11:35.079Z"
   },
   {
    "duration": 144138,
    "start_time": "2023-08-02T11:14:02.026Z"
   },
   {
    "duration": 102434,
    "start_time": "2023-08-02T11:16:29.074Z"
   },
   {
    "duration": 178,
    "start_time": "2023-08-02T11:18:16.058Z"
   },
   {
    "duration": 146,
    "start_time": "2023-08-02T11:18:24.491Z"
   },
   {
    "duration": 169,
    "start_time": "2023-08-02T11:18:43.983Z"
   },
   {
    "duration": 162,
    "start_time": "2023-08-02T11:18:49.678Z"
   },
   {
    "duration": 5,
    "start_time": "2023-08-02T11:18:52.879Z"
   },
   {
    "duration": 5,
    "start_time": "2023-08-02T11:18:56.891Z"
   },
   {
    "duration": 190,
    "start_time": "2023-08-02T11:19:02.411Z"
   },
   {
    "duration": 180,
    "start_time": "2023-08-02T11:19:09.391Z"
   },
   {
    "duration": 3019,
    "start_time": "2023-08-02T11:19:54.988Z"
   },
   {
    "duration": 2919,
    "start_time": "2023-08-02T11:20:52.152Z"
   },
   {
    "duration": 1922,
    "start_time": "2023-08-02T11:21:20.757Z"
   },
   {
    "duration": 218,
    "start_time": "2023-08-02T11:21:40.775Z"
   },
   {
    "duration": 1598,
    "start_time": "2023-08-02T11:22:01.641Z"
   },
   {
    "duration": 9437,
    "start_time": "2023-08-02T11:22:52.234Z"
   },
   {
    "duration": 567946,
    "start_time": "2023-08-02T11:23:14.046Z"
   },
   {
    "duration": 2627,
    "start_time": "2023-08-02T12:01:17.974Z"
   },
   {
    "duration": 4915,
    "start_time": "2023-08-02T12:01:20.604Z"
   },
   {
    "duration": 1235,
    "start_time": "2023-08-02T12:01:25.521Z"
   },
   {
    "duration": 535,
    "start_time": "2023-08-02T12:01:26.759Z"
   },
   {
    "duration": 1075,
    "start_time": "2023-08-02T12:01:27.296Z"
   },
   {
    "duration": 119,
    "start_time": "2023-08-02T12:01:28.372Z"
   },
   {
    "duration": 29,
    "start_time": "2023-08-02T12:01:28.493Z"
   },
   {
    "duration": 62,
    "start_time": "2023-08-02T12:01:28.524Z"
   },
   {
    "duration": 48,
    "start_time": "2023-08-02T12:01:28.587Z"
   },
   {
    "duration": 699550,
    "start_time": "2023-08-02T12:01:28.637Z"
   },
   {
    "duration": 46,
    "start_time": "2023-08-02T12:19:09.424Z"
   },
   {
    "duration": 21674,
    "start_time": "2023-08-02T12:19:52.745Z"
   },
   {
    "duration": 27,
    "start_time": "2023-08-02T12:20:20.983Z"
   },
   {
    "duration": 17,
    "start_time": "2023-08-02T12:20:30.705Z"
   },
   {
    "duration": 32,
    "start_time": "2023-08-02T12:21:16.499Z"
   },
   {
    "duration": 54,
    "start_time": "2023-08-02T12:21:31.504Z"
   },
   {
    "duration": 61,
    "start_time": "2023-08-02T12:21:44.709Z"
   },
   {
    "duration": 27,
    "start_time": "2023-08-02T12:22:50.200Z"
   },
   {
    "duration": 29,
    "start_time": "2023-08-02T12:22:56.464Z"
   },
   {
    "duration": 72,
    "start_time": "2023-08-02T12:24:11.844Z"
   },
   {
    "duration": 94,
    "start_time": "2023-08-02T12:24:18.967Z"
   },
   {
    "duration": 21,
    "start_time": "2023-08-02T12:25:08.705Z"
   },
   {
    "duration": 29,
    "start_time": "2023-08-02T12:25:20.445Z"
   },
   {
    "duration": 30,
    "start_time": "2023-08-02T12:25:26.604Z"
   },
   {
    "duration": 21,
    "start_time": "2023-08-02T12:25:32.185Z"
   },
   {
    "duration": 14,
    "start_time": "2023-08-02T12:25:46.507Z"
   },
   {
    "duration": 31,
    "start_time": "2023-08-02T12:25:52.185Z"
   },
   {
    "duration": 37,
    "start_time": "2023-08-02T12:26:00.261Z"
   },
   {
    "duration": 43,
    "start_time": "2023-08-02T12:27:37.329Z"
   },
   {
    "duration": 20,
    "start_time": "2023-08-02T12:28:42.760Z"
   },
   {
    "duration": 27,
    "start_time": "2023-08-02T12:29:27.415Z"
   },
   {
    "duration": 19,
    "start_time": "2023-08-02T12:30:57.362Z"
   },
   {
    "duration": 54,
    "start_time": "2023-08-02T12:32:05.666Z"
   },
   {
    "duration": 14,
    "start_time": "2023-08-02T12:38:08.242Z"
   },
   {
    "duration": 2,
    "start_time": "2023-08-02T12:38:28.609Z"
   },
   {
    "duration": 26754,
    "start_time": "2023-08-02T12:38:33.024Z"
   },
   {
    "duration": 0,
    "start_time": "2023-08-02T12:38:59.783Z"
   },
   {
    "duration": 3,
    "start_time": "2023-08-02T12:39:01.685Z"
   },
   {
    "duration": 86739,
    "start_time": "2023-08-02T12:39:04.995Z"
   },
   {
    "duration": 2073,
    "start_time": "2023-08-02T12:42:30.043Z"
   },
   {
    "duration": 1758,
    "start_time": "2023-08-02T12:42:41.572Z"
   },
   {
    "duration": 285,
    "start_time": "2023-08-02T13:16:05.620Z"
   },
   {
    "duration": 1914,
    "start_time": "2023-08-02T13:16:44.756Z"
   },
   {
    "duration": 6756,
    "start_time": "2023-08-02T13:16:51.326Z"
   },
   {
    "duration": 1739,
    "start_time": "2023-08-02T13:23:14.078Z"
   },
   {
    "duration": 2103,
    "start_time": "2023-08-02T13:24:45.008Z"
   },
   {
    "duration": 1638,
    "start_time": "2023-08-02T13:24:56.269Z"
   },
   {
    "duration": 2207,
    "start_time": "2023-08-02T13:25:01.001Z"
   },
   {
    "duration": 14,
    "start_time": "2023-08-02T13:27:43.176Z"
   },
   {
    "duration": 1313,
    "start_time": "2023-08-02T13:27:48.258Z"
   },
   {
    "duration": 16781,
    "start_time": "2023-08-03T07:09:16.144Z"
   },
   {
    "duration": 1920,
    "start_time": "2023-08-03T07:15:19.045Z"
   },
   {
    "duration": 2883,
    "start_time": "2023-08-03T07:15:22.649Z"
   },
   {
    "duration": 468,
    "start_time": "2023-08-03T07:15:25.534Z"
   },
   {
    "duration": 1033,
    "start_time": "2023-08-03T07:15:26.003Z"
   },
   {
    "duration": 116,
    "start_time": "2023-08-03T07:15:27.038Z"
   },
   {
    "duration": 19,
    "start_time": "2023-08-03T07:15:27.159Z"
   },
   {
    "duration": 64,
    "start_time": "2023-08-03T07:15:27.179Z"
   },
   {
    "duration": 20,
    "start_time": "2023-08-03T07:15:27.244Z"
   },
   {
    "duration": 660617,
    "start_time": "2023-08-03T07:15:27.995Z"
   },
   {
    "duration": 135,
    "start_time": "2023-08-03T07:26:28.614Z"
   },
   {
    "duration": 20,
    "start_time": "2023-08-03T07:26:28.750Z"
   },
   {
    "duration": 26,
    "start_time": "2023-08-03T07:26:28.772Z"
   },
   {
    "duration": 20,
    "start_time": "2023-08-03T07:26:28.800Z"
   },
   {
    "duration": 47,
    "start_time": "2023-08-03T07:26:28.822Z"
   },
   {
    "duration": 18,
    "start_time": "2023-08-03T07:26:28.871Z"
   },
   {
    "duration": 29,
    "start_time": "2023-08-03T07:26:28.891Z"
   },
   {
    "duration": 92,
    "start_time": "2023-08-03T07:26:28.922Z"
   },
   {
    "duration": 72,
    "start_time": "2023-08-03T07:34:11.845Z"
   },
   {
    "duration": 85,
    "start_time": "2023-08-03T07:34:23.045Z"
   },
   {
    "duration": 72,
    "start_time": "2023-08-03T07:34:26.863Z"
   },
   {
    "duration": 71,
    "start_time": "2023-08-03T07:34:32.710Z"
   },
   {
    "duration": 72,
    "start_time": "2023-08-03T07:34:46.588Z"
   },
   {
    "duration": 7,
    "start_time": "2023-08-03T07:38:53.750Z"
   },
   {
    "duration": 1461,
    "start_time": "2023-08-03T07:39:08.662Z"
   },
   {
    "duration": 6,
    "start_time": "2023-08-03T07:39:15.419Z"
   },
   {
    "duration": 7,
    "start_time": "2023-08-03T07:39:39.970Z"
   },
   {
    "duration": 8,
    "start_time": "2023-08-03T07:40:01.548Z"
   },
   {
    "duration": 7,
    "start_time": "2023-08-03T07:40:13.760Z"
   },
   {
    "duration": 13,
    "start_time": "2023-08-03T07:40:25.006Z"
   },
   {
    "duration": 8,
    "start_time": "2023-08-03T07:40:31.056Z"
   },
   {
    "duration": 14,
    "start_time": "2023-08-03T07:40:43.051Z"
   },
   {
    "duration": 17,
    "start_time": "2023-08-03T07:40:47.239Z"
   },
   {
    "duration": 13,
    "start_time": "2023-08-03T07:40:52.455Z"
   },
   {
    "duration": 9,
    "start_time": "2023-08-03T07:40:55.771Z"
   },
   {
    "duration": 16,
    "start_time": "2023-08-03T07:40:59.746Z"
   },
   {
    "duration": 7,
    "start_time": "2023-08-03T07:41:02.200Z"
   },
   {
    "duration": 7,
    "start_time": "2023-08-03T07:41:13.265Z"
   },
   {
    "duration": 6,
    "start_time": "2023-08-03T07:46:33.183Z"
   },
   {
    "duration": 7,
    "start_time": "2023-08-03T07:46:38.186Z"
   },
   {
    "duration": 8,
    "start_time": "2023-08-03T07:46:48.390Z"
   },
   {
    "duration": 8,
    "start_time": "2023-08-03T07:47:06.611Z"
   },
   {
    "duration": 7,
    "start_time": "2023-08-03T07:47:10.351Z"
   },
   {
    "duration": 7,
    "start_time": "2023-08-03T07:47:34.651Z"
   },
   {
    "duration": 6,
    "start_time": "2023-08-03T07:47:36.322Z"
   },
   {
    "duration": 58,
    "start_time": "2023-08-03T07:51:28.513Z"
   },
   {
    "duration": 142,
    "start_time": "2023-08-03T07:54:07.603Z"
   },
   {
    "duration": 152,
    "start_time": "2023-08-03T07:54:23.231Z"
   },
   {
    "duration": 162,
    "start_time": "2023-08-03T07:54:27.730Z"
   },
   {
    "duration": 188,
    "start_time": "2023-08-03T07:54:34.910Z"
   },
   {
    "duration": 354,
    "start_time": "2023-08-03T07:54:40.150Z"
   },
   {
    "duration": 169,
    "start_time": "2023-08-03T07:54:50.150Z"
   },
   {
    "duration": 181,
    "start_time": "2023-08-03T07:55:16.398Z"
   },
   {
    "duration": 184,
    "start_time": "2023-08-03T07:57:24.435Z"
   },
   {
    "duration": 5,
    "start_time": "2023-08-03T07:57:34.082Z"
   },
   {
    "duration": 170,
    "start_time": "2023-08-03T07:57:36.669Z"
   },
   {
    "duration": 192,
    "start_time": "2023-08-03T07:58:01.250Z"
   },
   {
    "duration": 250,
    "start_time": "2023-08-03T07:58:06.038Z"
   },
   {
    "duration": 1371,
    "start_time": "2023-08-03T07:59:42.010Z"
   },
   {
    "duration": 8,
    "start_time": "2023-08-03T07:59:52.215Z"
   },
   {
    "duration": 7,
    "start_time": "2023-08-03T08:00:24.397Z"
   },
   {
    "duration": 50,
    "start_time": "2023-08-03T08:00:42.817Z"
   },
   {
    "duration": 21,
    "start_time": "2023-08-03T08:03:05.211Z"
   },
   {
    "duration": 21,
    "start_time": "2023-08-03T08:10:30.750Z"
   },
   {
    "duration": 130,
    "start_time": "2023-08-03T08:15:28.630Z"
   },
   {
    "duration": 6237,
    "start_time": "2023-08-03T08:16:06.678Z"
   },
   {
    "duration": 654,
    "start_time": "2023-08-03T08:16:40.693Z"
   },
   {
    "duration": 97,
    "start_time": "2023-08-03T08:22:58.389Z"
   },
   {
    "duration": 30,
    "start_time": "2023-08-03T08:23:25.047Z"
   },
   {
    "duration": 19,
    "start_time": "2023-08-03T08:24:26.931Z"
   },
   {
    "duration": 178,
    "start_time": "2023-08-03T08:26:34.672Z"
   },
   {
    "duration": 174,
    "start_time": "2023-08-03T08:26:43.107Z"
   },
   {
    "duration": 12,
    "start_time": "2023-08-03T08:31:03.236Z"
   },
   {
    "duration": 144,
    "start_time": "2023-08-03T08:31:17.235Z"
   },
   {
    "duration": 417,
    "start_time": "2023-08-03T08:31:54.917Z"
   },
   {
    "duration": 507,
    "start_time": "2023-08-03T08:32:04.052Z"
   },
   {
    "duration": 447,
    "start_time": "2023-08-03T08:33:08.652Z"
   },
   {
    "duration": 393,
    "start_time": "2023-08-03T08:33:24.637Z"
   },
   {
    "duration": 632,
    "start_time": "2023-08-03T08:34:03.985Z"
   },
   {
    "duration": 288,
    "start_time": "2023-08-03T08:39:05.451Z"
   },
   {
    "duration": 65,
    "start_time": "2023-08-03T08:41:16.591Z"
   },
   {
    "duration": 3,
    "start_time": "2023-08-03T08:41:32.271Z"
   },
   {
    "duration": 776,
    "start_time": "2023-08-03T08:41:39.043Z"
   },
   {
    "duration": 801,
    "start_time": "2023-08-03T08:43:13.263Z"
   },
   {
    "duration": 1305,
    "start_time": "2023-08-03T08:44:04.837Z"
   },
   {
    "duration": 1326,
    "start_time": "2023-08-03T08:44:33.141Z"
   },
   {
    "duration": 1254,
    "start_time": "2023-08-03T08:44:42.173Z"
   },
   {
    "duration": 975,
    "start_time": "2023-08-03T08:45:08.588Z"
   },
   {
    "duration": 2160,
    "start_time": "2023-08-03T08:47:47.241Z"
   },
   {
    "duration": 1768,
    "start_time": "2023-08-03T08:47:49.404Z"
   },
   {
    "duration": 812,
    "start_time": "2023-08-03T08:47:51.174Z"
   },
   {
    "duration": 494,
    "start_time": "2023-08-03T08:47:51.987Z"
   },
   {
    "duration": 1021,
    "start_time": "2023-08-03T08:47:52.483Z"
   },
   {
    "duration": 116,
    "start_time": "2023-08-03T08:47:53.506Z"
   },
   {
    "duration": 22,
    "start_time": "2023-08-03T08:47:53.624Z"
   },
   {
    "duration": 29,
    "start_time": "2023-08-03T08:47:53.660Z"
   },
   {
    "duration": 19,
    "start_time": "2023-08-03T08:47:53.691Z"
   },
   {
    "duration": 661637,
    "start_time": "2023-08-03T08:47:53.711Z"
   },
   {
    "duration": 112,
    "start_time": "2023-08-03T08:58:55.350Z"
   },
   {
    "duration": 21,
    "start_time": "2023-08-03T08:58:55.464Z"
   },
   {
    "duration": 58,
    "start_time": "2023-08-03T08:58:55.487Z"
   },
   {
    "duration": 30,
    "start_time": "2023-08-03T08:58:55.548Z"
   },
   {
    "duration": 28,
    "start_time": "2023-08-03T08:58:55.580Z"
   },
   {
    "duration": 18,
    "start_time": "2023-08-03T08:58:55.610Z"
   },
   {
    "duration": 44,
    "start_time": "2023-08-03T08:58:55.630Z"
   },
   {
    "duration": 87,
    "start_time": "2023-08-03T08:58:55.676Z"
   },
   {
    "duration": 5,
    "start_time": "2023-08-03T08:58:55.765Z"
   },
   {
    "duration": 19,
    "start_time": "2023-08-03T08:58:55.772Z"
   },
   {
    "duration": 61,
    "start_time": "2023-08-03T08:58:55.793Z"
   },
   {
    "duration": 263,
    "start_time": "2023-08-03T08:58:55.858Z"
   },
   {
    "duration": 7,
    "start_time": "2023-08-03T08:58:56.123Z"
   },
   {
    "duration": 72,
    "start_time": "2023-08-03T08:58:56.131Z"
   },
   {
    "duration": 19,
    "start_time": "2023-08-03T08:58:56.205Z"
   },
   {
    "duration": 639,
    "start_time": "2023-08-03T08:58:56.226Z"
   },
   {
    "duration": 80,
    "start_time": "2023-08-03T08:58:56.866Z"
   },
   {
    "duration": 34,
    "start_time": "2023-08-03T08:58:56.948Z"
   },
   {
    "duration": 18,
    "start_time": "2023-08-03T08:58:56.984Z"
   },
   {
    "duration": 429,
    "start_time": "2023-08-03T08:58:57.004Z"
   },
   {
    "duration": 2275,
    "start_time": "2023-08-03T09:01:09.717Z"
   },
   {
    "duration": 4,
    "start_time": "2023-08-03T09:01:11.995Z"
   },
   {
    "duration": 840,
    "start_time": "2023-08-03T09:01:12.001Z"
   },
   {
    "duration": 426,
    "start_time": "2023-08-03T09:01:12.843Z"
   },
   {
    "duration": 909,
    "start_time": "2023-08-03T09:01:13.271Z"
   },
   {
    "duration": 156,
    "start_time": "2023-08-03T09:01:14.182Z"
   },
   {
    "duration": 30,
    "start_time": "2023-08-03T09:01:14.340Z"
   },
   {
    "duration": 47,
    "start_time": "2023-08-03T09:01:14.372Z"
   },
   {
    "duration": 19,
    "start_time": "2023-08-03T09:01:14.421Z"
   },
   {
    "duration": 386187,
    "start_time": "2023-08-03T09:01:14.442Z"
   },
   {
    "duration": 0,
    "start_time": "2023-08-03T09:07:40.631Z"
   },
   {
    "duration": 0,
    "start_time": "2023-08-03T09:07:40.632Z"
   },
   {
    "duration": 0,
    "start_time": "2023-08-03T09:07:40.634Z"
   },
   {
    "duration": 0,
    "start_time": "2023-08-03T09:07:40.635Z"
   },
   {
    "duration": 0,
    "start_time": "2023-08-03T09:07:40.637Z"
   },
   {
    "duration": 0,
    "start_time": "2023-08-03T09:07:40.638Z"
   },
   {
    "duration": 0,
    "start_time": "2023-08-03T09:07:40.660Z"
   },
   {
    "duration": 0,
    "start_time": "2023-08-03T09:07:40.661Z"
   },
   {
    "duration": 0,
    "start_time": "2023-08-03T09:07:40.662Z"
   },
   {
    "duration": 0,
    "start_time": "2023-08-03T09:07:40.663Z"
   },
   {
    "duration": 0,
    "start_time": "2023-08-03T09:07:40.664Z"
   },
   {
    "duration": 0,
    "start_time": "2023-08-03T09:07:40.665Z"
   },
   {
    "duration": 0,
    "start_time": "2023-08-03T09:07:40.666Z"
   },
   {
    "duration": 0,
    "start_time": "2023-08-03T09:07:40.667Z"
   },
   {
    "duration": 0,
    "start_time": "2023-08-03T09:07:40.668Z"
   },
   {
    "duration": 0,
    "start_time": "2023-08-03T09:07:40.669Z"
   },
   {
    "duration": 0,
    "start_time": "2023-08-03T09:07:40.670Z"
   },
   {
    "duration": 0,
    "start_time": "2023-08-03T09:07:40.670Z"
   },
   {
    "duration": 0,
    "start_time": "2023-08-03T09:07:40.672Z"
   },
   {
    "duration": 0,
    "start_time": "2023-08-03T09:07:40.673Z"
   },
   {
    "duration": 0,
    "start_time": "2023-08-03T09:07:40.674Z"
   },
   {
    "duration": 14,
    "start_time": "2023-08-03T09:07:42.058Z"
   },
   {
    "duration": 90384,
    "start_time": "2023-08-03T09:07:48.696Z"
   },
   {
    "duration": 0,
    "start_time": "2023-08-03T09:09:19.082Z"
   },
   {
    "duration": 271158,
    "start_time": "2023-08-03T09:10:51.402Z"
   },
   {
    "duration": 59,
    "start_time": "2023-08-03T09:15:22.562Z"
   },
   {
    "duration": 37,
    "start_time": "2023-08-03T09:15:22.623Z"
   },
   {
    "duration": 27,
    "start_time": "2023-08-03T09:15:22.663Z"
   },
   {
    "duration": 19,
    "start_time": "2023-08-03T09:15:22.692Z"
   },
   {
    "duration": 47,
    "start_time": "2023-08-03T09:15:22.713Z"
   },
   {
    "duration": 20,
    "start_time": "2023-08-03T09:15:22.762Z"
   },
   {
    "duration": 40,
    "start_time": "2023-08-03T09:15:22.784Z"
   },
   {
    "duration": 85,
    "start_time": "2023-08-03T09:15:22.826Z"
   },
   {
    "duration": 7,
    "start_time": "2023-08-03T09:15:22.914Z"
   },
   {
    "duration": 8,
    "start_time": "2023-08-03T09:15:22.923Z"
   },
   {
    "duration": 71,
    "start_time": "2023-08-03T09:15:22.933Z"
   },
   {
    "duration": 269,
    "start_time": "2023-08-03T09:15:23.006Z"
   },
   {
    "duration": 7,
    "start_time": "2023-08-03T09:15:23.277Z"
   },
   {
    "duration": 56,
    "start_time": "2023-08-03T09:15:23.286Z"
   },
   {
    "duration": 26,
    "start_time": "2023-08-03T09:15:23.344Z"
   },
   {
    "duration": 761,
    "start_time": "2023-08-03T09:15:23.371Z"
   },
   {
    "duration": 132,
    "start_time": "2023-08-03T09:15:24.135Z"
   },
   {
    "duration": 30,
    "start_time": "2023-08-03T09:15:24.270Z"
   },
   {
    "duration": 24,
    "start_time": "2023-08-03T09:15:24.302Z"
   },
   {
    "duration": 424,
    "start_time": "2023-08-03T09:15:24.328Z"
   },
   {
    "duration": 0,
    "start_time": "2023-08-03T09:34:22.908Z"
   },
   {
    "duration": 2187,
    "start_time": "2023-08-03T09:34:39.312Z"
   },
   {
    "duration": 1794,
    "start_time": "2023-08-03T09:34:41.502Z"
   },
   {
    "duration": 854,
    "start_time": "2023-08-03T09:34:43.298Z"
   },
   {
    "duration": 491,
    "start_time": "2023-08-03T09:34:44.159Z"
   },
   {
    "duration": 1015,
    "start_time": "2023-08-03T09:34:44.652Z"
   },
   {
    "duration": 113,
    "start_time": "2023-08-03T09:34:45.669Z"
   },
   {
    "duration": 28,
    "start_time": "2023-08-03T09:34:45.784Z"
   },
   {
    "duration": 56,
    "start_time": "2023-08-03T09:34:45.813Z"
   },
   {
    "duration": 26,
    "start_time": "2023-08-03T09:34:45.871Z"
   },
   {
    "duration": 1379580,
    "start_time": "2023-08-03T09:45:38.887Z"
   },
   {
    "duration": 2238,
    "start_time": "2023-08-03T10:21:27.818Z"
   },
   {
    "duration": 3,
    "start_time": "2023-08-03T10:21:30.059Z"
   },
   {
    "duration": 872,
    "start_time": "2023-08-03T10:21:30.063Z"
   },
   {
    "duration": 456,
    "start_time": "2023-08-03T10:21:30.937Z"
   },
   {
    "duration": 906,
    "start_time": "2023-08-03T10:21:31.394Z"
   },
   {
    "duration": 130,
    "start_time": "2023-08-03T10:21:32.302Z"
   },
   {
    "duration": 39,
    "start_time": "2023-08-03T10:21:32.434Z"
   },
   {
    "duration": 59,
    "start_time": "2023-08-03T10:21:32.475Z"
   },
   {
    "duration": 46,
    "start_time": "2023-08-03T10:21:32.535Z"
   },
   {
    "duration": 673106,
    "start_time": "2023-08-03T10:21:32.584Z"
   },
   {
    "duration": 77,
    "start_time": "2023-08-03T10:32:45.691Z"
   },
   {
    "duration": 21,
    "start_time": "2023-08-03T10:32:45.769Z"
   },
   {
    "duration": 32,
    "start_time": "2023-08-03T10:32:45.791Z"
   },
   {
    "duration": 36,
    "start_time": "2023-08-03T10:32:45.824Z"
   },
   {
    "duration": 30,
    "start_time": "2023-08-03T10:32:45.862Z"
   },
   {
    "duration": 20,
    "start_time": "2023-08-03T10:32:45.893Z"
   },
   {
    "duration": 51,
    "start_time": "2023-08-03T10:32:45.914Z"
   },
   {
    "duration": 92,
    "start_time": "2023-08-03T10:32:45.967Z"
   },
   {
    "duration": 8,
    "start_time": "2023-08-03T10:32:46.061Z"
   },
   {
    "duration": 12,
    "start_time": "2023-08-03T10:32:46.071Z"
   },
   {
    "duration": 50,
    "start_time": "2023-08-03T10:32:46.085Z"
   },
   {
    "duration": 274,
    "start_time": "2023-08-03T10:32:46.137Z"
   },
   {
    "duration": 6,
    "start_time": "2023-08-03T10:32:46.413Z"
   },
   {
    "duration": 63,
    "start_time": "2023-08-03T10:32:46.421Z"
   },
   {
    "duration": 19,
    "start_time": "2023-08-03T10:32:46.486Z"
   },
   {
    "duration": 799,
    "start_time": "2023-08-03T10:32:46.507Z"
   },
   {
    "duration": 88,
    "start_time": "2023-08-03T10:32:47.308Z"
   },
   {
    "duration": 24,
    "start_time": "2023-08-03T10:32:47.399Z"
   },
   {
    "duration": 33,
    "start_time": "2023-08-03T10:32:47.425Z"
   },
   {
    "duration": 405,
    "start_time": "2023-08-03T10:32:47.460Z"
   },
   {
    "duration": 1383692,
    "start_time": "2023-08-03T10:32:47.867Z"
   },
   {
    "duration": 20,
    "start_time": "2023-08-03T11:37:26.256Z"
   },
   {
    "duration": 1303,
    "start_time": "2023-08-03T12:06:00.981Z"
   },
   {
    "duration": 201,
    "start_time": "2023-08-03T12:06:13.783Z"
   },
   {
    "duration": 15,
    "start_time": "2023-08-03T12:07:27.502Z"
   },
   {
    "duration": 14,
    "start_time": "2023-08-03T12:07:46.373Z"
   },
   {
    "duration": 48,
    "start_time": "2023-08-03T12:08:47.247Z"
   },
   {
    "duration": 204,
    "start_time": "2023-08-03T12:09:40.247Z"
   },
   {
    "duration": 1270,
    "start_time": "2023-08-03T12:09:46.902Z"
   },
   {
    "duration": 2913,
    "start_time": "2023-08-03T12:10:22.619Z"
   },
   {
    "duration": 516,
    "start_time": "2023-08-03T12:10:31.247Z"
   },
   {
    "duration": 184,
    "start_time": "2023-08-03T12:15:12.334Z"
   },
   {
    "duration": 33,
    "start_time": "2023-08-03T12:15:29.118Z"
   },
   {
    "duration": 22,
    "start_time": "2023-08-03T12:15:34.131Z"
   },
   {
    "duration": 17,
    "start_time": "2023-08-03T12:45:28.194Z"
   },
   {
    "duration": 524,
    "start_time": "2023-08-03T12:50:19.377Z"
   },
   {
    "duration": 125,
    "start_time": "2023-08-03T12:51:30.511Z"
   },
   {
    "duration": 13,
    "start_time": "2023-08-03T12:52:13.224Z"
   },
   {
    "duration": 12,
    "start_time": "2023-08-03T12:52:23.585Z"
   },
   {
    "duration": 5,
    "start_time": "2023-08-03T12:52:29.862Z"
   },
   {
    "duration": 23,
    "start_time": "2023-08-03T12:53:33.777Z"
   },
   {
    "duration": 18,
    "start_time": "2023-08-03T12:53:50.205Z"
   },
   {
    "duration": 5,
    "start_time": "2023-08-03T12:53:51.856Z"
   },
   {
    "duration": 157,
    "start_time": "2023-08-03T12:54:12.004Z"
   },
   {
    "duration": 34,
    "start_time": "2023-08-03T12:56:31.110Z"
   },
   {
    "duration": 89,
    "start_time": "2023-08-03T12:59:05.492Z"
   },
   {
    "duration": 31,
    "start_time": "2023-08-03T12:59:07.545Z"
   },
   {
    "duration": 16,
    "start_time": "2023-08-03T13:58:51.166Z"
   },
   {
    "duration": 460,
    "start_time": "2023-08-07T08:08:43.912Z"
   },
   {
    "duration": 17855,
    "start_time": "2023-08-07T08:08:53.570Z"
   },
   {
    "duration": 2618,
    "start_time": "2023-08-07T08:09:11.428Z"
   },
   {
    "duration": 0,
    "start_time": "2023-08-07T08:09:14.049Z"
   },
   {
    "duration": 0,
    "start_time": "2023-08-07T08:09:14.050Z"
   },
   {
    "duration": 0,
    "start_time": "2023-08-07T08:09:14.051Z"
   },
   {
    "duration": 0,
    "start_time": "2023-08-07T08:09:14.052Z"
   },
   {
    "duration": 0,
    "start_time": "2023-08-07T08:09:14.056Z"
   },
   {
    "duration": 0,
    "start_time": "2023-08-07T08:09:14.057Z"
   },
   {
    "duration": 0,
    "start_time": "2023-08-07T08:09:14.060Z"
   },
   {
    "duration": 0,
    "start_time": "2023-08-07T08:09:14.062Z"
   },
   {
    "duration": 0,
    "start_time": "2023-08-07T08:09:14.063Z"
   },
   {
    "duration": 0,
    "start_time": "2023-08-07T08:09:14.064Z"
   },
   {
    "duration": 0,
    "start_time": "2023-08-07T08:09:14.065Z"
   },
   {
    "duration": 0,
    "start_time": "2023-08-07T08:09:14.066Z"
   },
   {
    "duration": 0,
    "start_time": "2023-08-07T08:09:14.067Z"
   },
   {
    "duration": 0,
    "start_time": "2023-08-07T08:09:14.068Z"
   },
   {
    "duration": 0,
    "start_time": "2023-08-07T08:09:14.071Z"
   },
   {
    "duration": 0,
    "start_time": "2023-08-07T08:09:14.073Z"
   },
   {
    "duration": 0,
    "start_time": "2023-08-07T08:09:14.074Z"
   },
   {
    "duration": 0,
    "start_time": "2023-08-07T08:09:14.076Z"
   },
   {
    "duration": 0,
    "start_time": "2023-08-07T08:09:14.077Z"
   },
   {
    "duration": 0,
    "start_time": "2023-08-07T08:09:14.078Z"
   },
   {
    "duration": 0,
    "start_time": "2023-08-07T08:09:14.079Z"
   },
   {
    "duration": 0,
    "start_time": "2023-08-07T08:09:14.080Z"
   },
   {
    "duration": 0,
    "start_time": "2023-08-07T08:09:14.081Z"
   },
   {
    "duration": 0,
    "start_time": "2023-08-07T08:09:14.083Z"
   },
   {
    "duration": 0,
    "start_time": "2023-08-07T08:09:14.085Z"
   },
   {
    "duration": 0,
    "start_time": "2023-08-07T08:09:14.087Z"
   },
   {
    "duration": 0,
    "start_time": "2023-08-07T08:09:14.089Z"
   },
   {
    "duration": 0,
    "start_time": "2023-08-07T08:09:14.091Z"
   },
   {
    "duration": 0,
    "start_time": "2023-08-07T08:09:14.092Z"
   },
   {
    "duration": 0,
    "start_time": "2023-08-07T08:09:14.094Z"
   },
   {
    "duration": 0,
    "start_time": "2023-08-07T08:09:14.096Z"
   },
   {
    "duration": 0,
    "start_time": "2023-08-07T08:09:14.097Z"
   },
   {
    "duration": 0,
    "start_time": "2023-08-07T08:09:14.099Z"
   },
   {
    "duration": 1,
    "start_time": "2023-08-07T08:09:14.100Z"
   },
   {
    "duration": 0,
    "start_time": "2023-08-07T08:09:14.158Z"
   },
   {
    "duration": 0,
    "start_time": "2023-08-07T08:09:14.159Z"
   },
   {
    "duration": 15,
    "start_time": "2023-08-07T08:11:19.506Z"
   },
   {
    "duration": 5229,
    "start_time": "2023-08-07T08:11:49.325Z"
   },
   {
    "duration": 22,
    "start_time": "2023-08-07T08:11:59.965Z"
   },
   {
    "duration": 59,
    "start_time": "2023-08-07T08:12:04.619Z"
   },
   {
    "duration": 101,
    "start_time": "2023-08-07T08:12:14.769Z"
   },
   {
    "duration": 4,
    "start_time": "2023-08-07T08:12:24.070Z"
   },
   {
    "duration": 3673,
    "start_time": "2023-08-07T08:12:28.360Z"
   },
   {
    "duration": 543,
    "start_time": "2023-08-07T08:12:32.035Z"
   },
   {
    "duration": 1026,
    "start_time": "2023-08-07T08:12:32.580Z"
   },
   {
    "duration": 116,
    "start_time": "2023-08-07T08:12:33.608Z"
   },
   {
    "duration": 45,
    "start_time": "2023-08-07T08:12:33.726Z"
   },
   {
    "duration": 37,
    "start_time": "2023-08-07T08:12:33.773Z"
   },
   {
    "duration": 20,
    "start_time": "2023-08-07T08:12:33.813Z"
   },
   {
    "duration": 727753,
    "start_time": "2023-08-07T08:12:33.834Z"
   },
   {
    "duration": 106,
    "start_time": "2023-08-07T08:24:41.589Z"
   },
   {
    "duration": 21,
    "start_time": "2023-08-07T08:24:41.696Z"
   },
   {
    "duration": 55,
    "start_time": "2023-08-07T08:24:41.719Z"
   },
   {
    "duration": 19,
    "start_time": "2023-08-07T08:24:41.776Z"
   },
   {
    "duration": 41,
    "start_time": "2023-08-07T08:24:41.796Z"
   },
   {
    "duration": 35,
    "start_time": "2023-08-07T08:24:41.840Z"
   },
   {
    "duration": 49,
    "start_time": "2023-08-07T08:24:41.877Z"
   },
   {
    "duration": 92,
    "start_time": "2023-08-07T08:24:41.928Z"
   },
   {
    "duration": 6,
    "start_time": "2023-08-07T08:24:42.022Z"
   },
   {
    "duration": 16,
    "start_time": "2023-08-07T08:24:42.029Z"
   },
   {
    "duration": 64,
    "start_time": "2023-08-07T08:24:42.046Z"
   },
   {
    "duration": 408,
    "start_time": "2023-08-07T08:24:42.112Z"
   },
   {
    "duration": 8,
    "start_time": "2023-08-07T08:24:42.521Z"
   },
   {
    "duration": 77,
    "start_time": "2023-08-07T08:24:42.530Z"
   },
   {
    "duration": 22,
    "start_time": "2023-08-07T08:24:42.609Z"
   },
   {
    "duration": 695,
    "start_time": "2023-08-07T08:24:42.633Z"
   },
   {
    "duration": 102,
    "start_time": "2023-08-07T08:24:43.330Z"
   },
   {
    "duration": 38,
    "start_time": "2023-08-07T08:24:43.434Z"
   },
   {
    "duration": 18,
    "start_time": "2023-08-07T08:24:43.474Z"
   },
   {
    "duration": 456,
    "start_time": "2023-08-07T08:24:43.494Z"
   },
   {
    "duration": 1667853,
    "start_time": "2023-08-07T08:24:43.952Z"
   },
   {
    "duration": 24,
    "start_time": "2023-08-07T08:52:31.807Z"
   },
   {
    "duration": 309,
    "start_time": "2023-08-07T08:52:31.834Z"
   },
   {
    "duration": 35,
    "start_time": "2023-08-07T08:52:32.145Z"
   },
   {
    "duration": 59,
    "start_time": "2023-08-07T08:52:32.182Z"
   },
   {
    "duration": 41,
    "start_time": "2023-08-07T08:52:32.243Z"
   },
   {
    "duration": 29,
    "start_time": "2023-08-07T08:52:32.286Z"
   },
   {
    "duration": 211,
    "start_time": "2023-08-07T08:52:32.318Z"
   },
   {
    "duration": 18,
    "start_time": "2023-08-07T09:02:06.996Z"
   },
   {
    "duration": 96,
    "start_time": "2023-08-07T09:02:13.264Z"
   },
   {
    "duration": 79,
    "start_time": "2023-08-07T09:02:19.932Z"
   },
   {
    "duration": 6,
    "start_time": "2023-08-07T09:02:36.967Z"
   },
   {
    "duration": 35,
    "start_time": "2023-08-07T09:03:35.459Z"
   },
   {
    "duration": 35,
    "start_time": "2023-08-07T09:04:14.954Z"
   },
   {
    "duration": 28,
    "start_time": "2023-08-07T09:04:19.031Z"
   },
   {
    "duration": 5,
    "start_time": "2023-08-07T09:04:25.716Z"
   },
   {
    "duration": 195,
    "start_time": "2023-08-07T09:05:33.593Z"
   },
   {
    "duration": 30,
    "start_time": "2023-08-07T09:05:54.221Z"
   },
   {
    "duration": 43,
    "start_time": "2023-08-07T09:06:28.450Z"
   },
   {
    "duration": 243,
    "start_time": "2023-08-07T09:07:52.506Z"
   },
   {
    "duration": 4,
    "start_time": "2023-08-07T09:09:03.730Z"
   },
   {
    "duration": 17,
    "start_time": "2023-08-07T09:13:21.068Z"
   },
   {
    "duration": 14,
    "start_time": "2023-08-07T09:17:32.999Z"
   },
   {
    "duration": 16,
    "start_time": "2023-08-07T09:17:55.405Z"
   },
   {
    "duration": 223,
    "start_time": "2023-08-07T09:20:38.075Z"
   },
   {
    "duration": 313,
    "start_time": "2023-08-07T09:21:29.077Z"
   },
   {
    "duration": 22,
    "start_time": "2023-08-07T09:22:21.576Z"
   },
   {
    "duration": 75,
    "start_time": "2023-08-07T09:22:26.653Z"
   },
   {
    "duration": 219,
    "start_time": "2023-08-07T09:22:40.524Z"
   },
   {
    "duration": 625,
    "start_time": "2023-08-07T09:23:25.090Z"
   },
   {
    "duration": 5134,
    "start_time": "2023-08-07T09:24:09.985Z"
   },
   {
    "duration": 2419,
    "start_time": "2023-08-07T09:24:15.122Z"
   },
   {
    "duration": 975,
    "start_time": "2023-08-07T09:24:17.543Z"
   },
   {
    "duration": 582,
    "start_time": "2023-08-07T09:24:18.520Z"
   },
   {
    "duration": 1162,
    "start_time": "2023-08-07T09:24:19.104Z"
   },
   {
    "duration": 144,
    "start_time": "2023-08-07T09:24:20.268Z"
   },
   {
    "duration": 20,
    "start_time": "2023-08-07T09:24:20.414Z"
   },
   {
    "duration": 57,
    "start_time": "2023-08-07T09:24:20.436Z"
   },
   {
    "duration": 34,
    "start_time": "2023-08-07T09:24:20.497Z"
   },
   {
    "duration": 733916,
    "start_time": "2023-08-07T09:24:20.535Z"
   },
   {
    "duration": 115,
    "start_time": "2023-08-07T09:36:34.457Z"
   },
   {
    "duration": 23,
    "start_time": "2023-08-07T09:36:34.574Z"
   },
   {
    "duration": 42,
    "start_time": "2023-08-07T09:36:34.599Z"
   },
   {
    "duration": 24,
    "start_time": "2023-08-07T09:36:34.643Z"
   },
   {
    "duration": 29,
    "start_time": "2023-08-07T09:36:34.670Z"
   },
   {
    "duration": 26,
    "start_time": "2023-08-07T09:36:34.701Z"
   },
   {
    "duration": 50,
    "start_time": "2023-08-07T09:36:34.729Z"
   },
   {
    "duration": 98,
    "start_time": "2023-08-07T09:36:34.781Z"
   },
   {
    "duration": 6,
    "start_time": "2023-08-07T09:36:34.881Z"
   },
   {
    "duration": 9,
    "start_time": "2023-08-07T09:36:34.888Z"
   },
   {
    "duration": 79,
    "start_time": "2023-08-07T09:36:34.899Z"
   },
   {
    "duration": 396,
    "start_time": "2023-08-07T09:36:34.980Z"
   },
   {
    "duration": 7,
    "start_time": "2023-08-07T09:36:35.378Z"
   },
   {
    "duration": 94,
    "start_time": "2023-08-07T09:36:35.387Z"
   },
   {
    "duration": 20,
    "start_time": "2023-08-07T09:36:35.483Z"
   },
   {
    "duration": 666,
    "start_time": "2023-08-07T09:36:35.504Z"
   },
   {
    "duration": 90,
    "start_time": "2023-08-07T09:36:36.176Z"
   },
   {
    "duration": 27,
    "start_time": "2023-08-07T09:36:36.271Z"
   },
   {
    "duration": 19,
    "start_time": "2023-08-07T09:36:36.299Z"
   },
   {
    "duration": 460,
    "start_time": "2023-08-07T09:36:36.320Z"
   },
   {
    "duration": 1514559,
    "start_time": "2023-08-07T09:36:36.782Z"
   },
   {
    "duration": 31,
    "start_time": "2023-08-07T10:01:51.344Z"
   },
   {
    "duration": 232,
    "start_time": "2023-08-07T10:01:51.376Z"
   },
   {
    "duration": 18,
    "start_time": "2023-08-07T10:01:51.610Z"
   },
   {
    "duration": 71,
    "start_time": "2023-08-07T10:01:51.630Z"
   },
   {
    "duration": 26,
    "start_time": "2023-08-07T10:01:51.704Z"
   },
   {
    "duration": 24,
    "start_time": "2023-08-07T10:01:51.732Z"
   },
   {
    "duration": 22940,
    "start_time": "2023-08-10T15:07:16.573Z"
   },
   {
    "duration": 2483,
    "start_time": "2023-08-10T15:07:46.503Z"
   },
   {
    "duration": 1133,
    "start_time": "2023-08-10T15:08:44.870Z"
   },
   {
    "duration": 18,
    "start_time": "2023-08-10T15:09:11.883Z"
   },
   {
    "duration": 478,
    "start_time": "2023-08-10T15:09:14.206Z"
   },
   {
    "duration": 1048,
    "start_time": "2023-08-10T15:09:14.795Z"
   },
   {
    "duration": 113,
    "start_time": "2023-08-10T15:09:54.678Z"
   },
   {
    "duration": 19,
    "start_time": "2023-08-10T15:10:01.574Z"
   },
   {
    "duration": 39,
    "start_time": "2023-08-10T15:10:02.381Z"
   },
   {
    "duration": 20,
    "start_time": "2023-08-10T15:10:21.141Z"
   },
   {
    "duration": 423608,
    "start_time": "2023-08-10T15:10:24.615Z"
   },
   {
    "duration": 23,
    "start_time": "2023-08-10T15:25:32.170Z"
   },
   {
    "duration": 92,
    "start_time": "2023-08-10T15:25:33.173Z"
   },
   {
    "duration": 20,
    "start_time": "2023-08-10T15:25:34.657Z"
   },
   {
    "duration": 29,
    "start_time": "2023-08-10T15:25:37.671Z"
   },
   {
    "duration": 22,
    "start_time": "2023-08-10T15:25:38.414Z"
   },
   {
    "duration": 28,
    "start_time": "2023-08-10T15:25:38.969Z"
   },
   {
    "duration": 18,
    "start_time": "2023-08-10T15:25:40.002Z"
   },
   {
    "duration": 31,
    "start_time": "2023-08-10T15:25:41.569Z"
   },
   {
    "duration": 82,
    "start_time": "2023-08-10T15:25:45.861Z"
   },
   {
    "duration": 7,
    "start_time": "2023-08-10T15:25:51.248Z"
   },
   {
    "duration": 7,
    "start_time": "2023-08-10T15:25:51.418Z"
   },
   {
    "duration": 64,
    "start_time": "2023-08-10T15:25:54.860Z"
   },
   {
    "duration": 277,
    "start_time": "2023-08-10T15:26:11.937Z"
   },
   {
    "duration": 8,
    "start_time": "2023-08-10T15:26:15.707Z"
   },
   {
    "duration": 53,
    "start_time": "2023-08-10T15:26:16.379Z"
   },
   {
    "duration": 291,
    "start_time": "2023-08-10T15:36:48.370Z"
   },
   {
    "duration": 7,
    "start_time": "2023-08-10T15:37:34.858Z"
   },
   {
    "duration": 86,
    "start_time": "2023-08-10T15:37:35.009Z"
   },
   {
    "duration": 7,
    "start_time": "2023-08-10T15:37:35.195Z"
   },
   {
    "duration": 19,
    "start_time": "2023-08-10T15:37:38.700Z"
   },
   {
    "duration": 114,
    "start_time": "2023-08-10T23:10:01.483Z"
   },
   {
    "duration": 25258,
    "start_time": "2023-08-10T23:10:08.391Z"
   },
   {
    "duration": 2933,
    "start_time": "2023-08-10T23:10:33.651Z"
   },
   {
    "duration": 2161,
    "start_time": "2023-08-10T23:10:36.586Z"
   },
   {
    "duration": 18,
    "start_time": "2023-08-10T23:10:38.750Z"
   },
   {
    "duration": 608,
    "start_time": "2023-08-10T23:10:38.769Z"
   },
   {
    "duration": 1063,
    "start_time": "2023-08-10T23:10:39.380Z"
   },
   {
    "duration": 142,
    "start_time": "2023-08-10T23:10:40.445Z"
   },
   {
    "duration": 65,
    "start_time": "2023-08-10T23:10:40.589Z"
   },
   {
    "duration": 38,
    "start_time": "2023-08-10T23:10:40.664Z"
   },
   {
    "duration": 165,
    "start_time": "2023-08-10T23:10:40.706Z"
   },
   {
    "duration": 477556,
    "start_time": "2023-08-10T23:10:40.872Z"
   },
   {
    "duration": 23,
    "start_time": "2023-08-10T23:18:38.446Z"
   },
   {
    "duration": 97,
    "start_time": "2023-08-10T23:18:38.471Z"
   },
   {
    "duration": 21,
    "start_time": "2023-08-10T23:18:38.570Z"
   },
   {
    "duration": 54,
    "start_time": "2023-08-10T23:18:38.599Z"
   },
   {
    "duration": 22,
    "start_time": "2023-08-10T23:18:38.655Z"
   },
   {
    "duration": 67,
    "start_time": "2023-08-10T23:18:38.678Z"
   },
   {
    "duration": 18,
    "start_time": "2023-08-10T23:18:38.754Z"
   },
   {
    "duration": 69,
    "start_time": "2023-08-10T23:18:38.774Z"
   },
   {
    "duration": 93,
    "start_time": "2023-08-10T23:18:38.844Z"
   },
   {
    "duration": 6,
    "start_time": "2023-08-10T23:18:38.938Z"
   },
   {
    "duration": 6,
    "start_time": "2023-08-10T23:18:38.945Z"
   },
   {
    "duration": 76,
    "start_time": "2023-08-10T23:18:38.953Z"
   },
   {
    "duration": 350,
    "start_time": "2023-08-10T23:18:39.033Z"
   },
   {
    "duration": 5,
    "start_time": "2023-08-10T23:18:39.385Z"
   },
   {
    "duration": 74,
    "start_time": "2023-08-10T23:18:39.391Z"
   },
   {
    "duration": 15,
    "start_time": "2023-08-10T23:18:39.466Z"
   },
   {
    "duration": 801,
    "start_time": "2023-08-10T23:18:39.484Z"
   },
   {
    "duration": 4,
    "start_time": "2023-08-10T23:18:40.286Z"
   },
   {
    "duration": 161,
    "start_time": "2023-08-10T23:18:40.299Z"
   },
   {
    "duration": 5,
    "start_time": "2023-08-10T23:18:40.462Z"
   },
   {
    "duration": 22,
    "start_time": "2023-08-10T23:18:40.468Z"
   },
   {
    "duration": 50,
    "start_time": "2023-08-10T23:18:40.491Z"
   },
   {
    "duration": 435,
    "start_time": "2023-08-10T23:18:40.542Z"
   },
   {
    "duration": 4,
    "start_time": "2023-08-10T23:18:40.979Z"
   },
   {
    "duration": 1079857,
    "start_time": "2023-08-10T23:18:40.984Z"
   },
   {
    "duration": 12,
    "start_time": "2023-08-10T23:36:40.843Z"
   },
   {
    "duration": 18,
    "start_time": "2023-08-10T23:36:40.856Z"
   },
   {
    "duration": 91,
    "start_time": "2023-08-10T23:36:40.876Z"
   },
   {
    "duration": 21,
    "start_time": "2023-08-10T23:36:40.969Z"
   },
   {
    "duration": 250,
    "start_time": "2023-08-10T23:36:40.992Z"
   },
   {
    "duration": 12,
    "start_time": "2023-08-10T23:36:41.244Z"
   },
   {
    "duration": 119,
    "start_time": "2023-08-10T23:36:41.258Z"
   },
   {
    "duration": 25,
    "start_time": "2023-08-10T23:36:41.379Z"
   },
   {
    "duration": 23,
    "start_time": "2023-08-10T23:36:41.406Z"
   },
   {
    "duration": 105,
    "start_time": "2023-08-10T23:36:41.432Z"
   },
   {
    "duration": 248,
    "start_time": "2023-08-10T23:36:41.543Z"
   },
   {
    "duration": 332,
    "start_time": "2023-08-10T23:36:41.793Z"
   },
   {
    "duration": 198,
    "start_time": "2023-08-10T23:36:42.127Z"
   },
   {
    "duration": 10,
    "start_time": "2023-08-10T23:36:42.327Z"
   },
   {
    "duration": 1499799,
    "start_time": "2023-08-10T23:36:42.338Z"
   },
   {
    "duration": 0,
    "start_time": "2023-08-11T00:01:42.153Z"
   },
   {
    "duration": 0,
    "start_time": "2023-08-11T00:01:42.154Z"
   },
   {
    "duration": 0,
    "start_time": "2023-08-11T00:01:42.157Z"
   },
   {
    "duration": 0,
    "start_time": "2023-08-11T00:01:42.165Z"
   },
   {
    "duration": 0,
    "start_time": "2023-08-11T00:01:42.167Z"
   },
   {
    "duration": 0,
    "start_time": "2023-08-11T00:01:42.169Z"
   },
   {
    "duration": 0,
    "start_time": "2023-08-11T00:01:42.171Z"
   },
   {
    "duration": 0,
    "start_time": "2023-08-11T00:01:42.172Z"
   },
   {
    "duration": 0,
    "start_time": "2023-08-11T00:01:42.173Z"
   },
   {
    "duration": 0,
    "start_time": "2023-08-11T00:01:42.174Z"
   },
   {
    "duration": 0,
    "start_time": "2023-08-11T00:01:42.175Z"
   },
   {
    "duration": 111,
    "start_time": "2023-08-11T00:02:14.534Z"
   },
   {
    "duration": 199,
    "start_time": "2023-08-11T00:02:27.888Z"
   },
   {
    "duration": 14,
    "start_time": "2023-08-11T00:04:10.650Z"
   },
   {
    "duration": 45889,
    "start_time": "2023-08-11T00:04:12.639Z"
   },
   {
    "duration": 5,
    "start_time": "2023-08-11T00:05:19.571Z"
   },
   {
    "duration": 165526,
    "start_time": "2023-08-11T00:05:20.432Z"
   },
   {
    "duration": 22,
    "start_time": "2023-08-11T00:08:12.122Z"
   },
   {
    "duration": 317216,
    "start_time": "2023-08-11T00:08:13.671Z"
   },
   {
    "duration": 4,
    "start_time": "2023-08-11T00:13:40.081Z"
   },
   {
    "duration": 282482,
    "start_time": "2023-08-11T00:13:43.067Z"
   },
   {
    "duration": 21,
    "start_time": "2023-08-11T00:18:28.974Z"
   },
   {
    "duration": 64,
    "start_time": "2023-08-11T00:18:45.229Z"
   },
   {
    "duration": 2052,
    "start_time": "2023-08-11T00:18:50.675Z"
   },
   {
    "duration": 9,
    "start_time": "2023-08-11T00:20:11.275Z"
   },
   {
    "duration": 20,
    "start_time": "2023-08-11T00:21:34.929Z"
   },
   {
    "duration": 9209,
    "start_time": "2023-08-11T00:21:36.681Z"
   },
   {
    "duration": 14,
    "start_time": "2023-08-11T00:21:47.898Z"
   },
   {
    "duration": 461211,
    "start_time": "2023-08-11T00:21:49.262Z"
   },
   {
    "duration": 4,
    "start_time": "2023-08-11T00:29:30.478Z"
   },
   {
    "duration": 276,
    "start_time": "2023-08-11T00:29:30.483Z"
   },
   {
    "duration": 7,
    "start_time": "2023-08-11T00:29:30.768Z"
   },
   {
    "duration": 22652,
    "start_time": "2023-08-11T06:09:29.920Z"
   },
   {
    "duration": 47,
    "start_time": "2023-08-12T06:42:32.604Z"
   },
   {
    "duration": 16976,
    "start_time": "2023-08-12T06:43:16.797Z"
   },
   {
    "duration": 2124,
    "start_time": "2023-08-12T06:43:33.775Z"
   },
   {
    "duration": 985,
    "start_time": "2023-08-12T06:43:35.901Z"
   },
   {
    "duration": 16,
    "start_time": "2023-08-12T06:43:36.887Z"
   },
   {
    "duration": 354,
    "start_time": "2023-08-12T06:43:36.905Z"
   },
   {
    "duration": 729,
    "start_time": "2023-08-12T06:43:37.261Z"
   },
   {
    "duration": 103,
    "start_time": "2023-08-12T06:43:37.991Z"
   },
   {
    "duration": 22,
    "start_time": "2023-08-12T06:43:38.096Z"
   },
   {
    "duration": 46,
    "start_time": "2023-08-12T06:43:38.119Z"
   },
   {
    "duration": 21,
    "start_time": "2023-08-12T06:43:38.166Z"
   },
   {
    "duration": 460,
    "start_time": "2023-08-12T06:43:38.188Z"
   },
   {
    "duration": 14,
    "start_time": "2023-08-12T06:43:38.650Z"
   },
   {
    "duration": 90,
    "start_time": "2023-08-12T06:43:38.665Z"
   },
   {
    "duration": 18,
    "start_time": "2023-08-12T06:43:38.757Z"
   },
   {
    "duration": 27,
    "start_time": "2023-08-12T06:43:38.776Z"
   },
   {
    "duration": 18,
    "start_time": "2023-08-12T06:43:38.804Z"
   },
   {
    "duration": 36,
    "start_time": "2023-08-12T06:43:38.823Z"
   },
   {
    "duration": 16,
    "start_time": "2023-08-12T06:43:38.861Z"
   },
   {
    "duration": 33,
    "start_time": "2023-08-12T06:43:38.879Z"
   },
   {
    "duration": 72,
    "start_time": "2023-08-12T06:43:38.913Z"
   },
   {
    "duration": 32,
    "start_time": "2023-08-12T06:43:38.987Z"
   },
   {
    "duration": 18,
    "start_time": "2023-08-12T06:43:39.021Z"
   },
   {
    "duration": 36,
    "start_time": "2023-08-12T06:43:39.040Z"
   },
   {
    "duration": 314,
    "start_time": "2023-08-12T06:43:39.077Z"
   },
   {
    "duration": 5,
    "start_time": "2023-08-12T06:43:39.392Z"
   },
   {
    "duration": 48,
    "start_time": "2023-08-12T06:43:39.398Z"
   },
   {
    "duration": 15,
    "start_time": "2023-08-12T06:43:39.448Z"
   },
   {
    "duration": 638,
    "start_time": "2023-08-12T06:43:39.464Z"
   },
   {
    "duration": 86,
    "start_time": "2023-08-12T06:43:40.104Z"
   },
   {
    "duration": 18,
    "start_time": "2023-08-12T06:43:40.192Z"
   },
   {
    "duration": 27,
    "start_time": "2023-08-12T06:43:40.211Z"
   },
   {
    "duration": 366,
    "start_time": "2023-08-12T06:43:40.240Z"
   },
   {
    "duration": 5,
    "start_time": "2023-08-12T06:43:40.607Z"
   },
   {
    "duration": 3618,
    "start_time": "2023-08-12T06:43:40.613Z"
   },
   {
    "duration": 6,
    "start_time": "2023-08-12T06:43:44.233Z"
   },
   {
    "duration": 34,
    "start_time": "2023-08-12T06:43:44.241Z"
   },
   {
    "duration": 60,
    "start_time": "2023-08-12T06:43:44.277Z"
   },
   {
    "duration": 16,
    "start_time": "2023-08-12T06:43:44.339Z"
   },
   {
    "duration": 240,
    "start_time": "2023-08-12T06:43:44.357Z"
   },
   {
    "duration": 12,
    "start_time": "2023-08-12T06:43:44.598Z"
   },
   {
    "duration": 50,
    "start_time": "2023-08-12T06:43:44.615Z"
   },
   {
    "duration": 75,
    "start_time": "2023-08-12T06:43:44.667Z"
   },
   {
    "duration": 24,
    "start_time": "2023-08-12T06:43:44.743Z"
   },
   {
    "duration": 156,
    "start_time": "2023-08-12T06:43:44.768Z"
   },
   {
    "duration": 171,
    "start_time": "2023-08-12T06:43:44.926Z"
   },
   {
    "duration": 3,
    "start_time": "2023-08-12T06:43:45.098Z"
   },
   {
    "duration": 47,
    "start_time": "2023-08-12T06:43:45.102Z"
   },
   {
    "duration": 43,
    "start_time": "2023-08-12T06:43:45.151Z"
   },
   {
    "duration": 3,
    "start_time": "2023-08-12T06:43:45.196Z"
   },
   {
    "duration": 778,
    "start_time": "2023-08-12T06:43:45.201Z"
   },
   {
    "duration": 1351,
    "start_time": "2023-08-12T06:43:45.981Z"
   },
   {
    "duration": 4,
    "start_time": "2023-08-12T06:43:47.338Z"
   },
   {
    "duration": 410565,
    "start_time": "2023-08-12T06:43:47.343Z"
   },
   {
    "duration": 2,
    "start_time": "2023-08-12T06:50:37.910Z"
   },
   {
    "duration": 132,
    "start_time": "2023-08-12T06:50:37.913Z"
   },
   {
    "duration": 214040,
    "start_time": "2023-08-12T06:50:38.051Z"
   },
   {
    "duration": 0,
    "start_time": "2023-08-12T06:54:12.092Z"
   },
   {
    "duration": 0,
    "start_time": "2023-08-12T06:54:12.093Z"
   },
   {
    "duration": 1,
    "start_time": "2023-08-12T06:54:12.094Z"
   },
   {
    "duration": 0,
    "start_time": "2023-08-12T06:54:12.095Z"
   },
   {
    "duration": 0,
    "start_time": "2023-08-12T06:54:12.096Z"
   },
   {
    "duration": 0,
    "start_time": "2023-08-12T06:54:12.097Z"
   },
   {
    "duration": 737,
    "start_time": "2023-08-12T06:54:19.847Z"
   },
   {
    "duration": 99,
    "start_time": "2023-08-12T06:55:22.066Z"
   },
   {
    "duration": 4,
    "start_time": "2023-08-12T06:55:24.530Z"
   },
   {
    "duration": 15,
    "start_time": "2023-08-12T06:55:27.167Z"
   },
   {
    "duration": 7,
    "start_time": "2023-08-12T06:55:33.154Z"
   },
   {
    "duration": 4,
    "start_time": "2023-08-12T06:55:34.315Z"
   },
   {
    "duration": 14,
    "start_time": "2023-08-12T06:55:36.809Z"
   },
   {
    "duration": 16,
    "start_time": "2023-08-12T06:55:59.762Z"
   },
   {
    "duration": 45,
    "start_time": "2023-08-12T06:56:01.105Z"
   },
   {
    "duration": 131,
    "start_time": "2023-08-12T06:56:05.722Z"
   },
   {
    "duration": 4,
    "start_time": "2023-08-12T06:56:08.110Z"
   },
   {
    "duration": 1701215,
    "start_time": "2023-08-12T06:56:10.528Z"
   },
   {
    "duration": 3,
    "start_time": "2023-08-12T08:05:35.315Z"
   },
   {
    "duration": 4,
    "start_time": "2023-08-12T08:05:40.281Z"
   },
   {
    "duration": 25,
    "start_time": "2023-08-12T08:05:40.287Z"
   },
   {
    "duration": 8274,
    "start_time": "2023-08-12T08:05:40.313Z"
   },
   {
    "duration": 52,
    "start_time": "2023-08-12T08:05:48.588Z"
   }
  ],
  "kernelspec": {
   "display_name": "Python 3 (ipykernel)",
   "language": "python",
   "name": "python3"
  },
  "language_info": {
   "codemirror_mode": {
    "name": "ipython",
    "version": 3
   },
   "file_extension": ".py",
   "mimetype": "text/x-python",
   "name": "python",
   "nbconvert_exporter": "python",
   "pygments_lexer": "ipython3",
   "version": "3.9.16"
  },
  "toc": {
   "base_numbering": 1,
   "nav_menu": {},
   "number_sections": true,
   "sideBar": true,
   "skip_h1_title": true,
   "title_cell": "Table of Contents",
   "title_sidebar": "Contents",
   "toc_cell": false,
   "toc_position": {},
   "toc_section_display": true,
   "toc_window_display": false
  }
 },
 "nbformat": 4,
 "nbformat_minor": 2
}
